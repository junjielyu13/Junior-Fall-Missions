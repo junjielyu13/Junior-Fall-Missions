{
 "cells": [
  {
   "cell_type": "markdown",
   "metadata": {},
   "source": [
    "# AI Practicals\n",
    "\n",
    "---\n",
    "\n",
    "# Practical 2: Adversarial Games\n",
    "\n",
    "## Author : Junjie Li, Manuel Liu Wang"
   ]
  },
  {
   "cell_type": "code",
   "execution_count": null,
   "metadata": {},
   "outputs": [],
   "source": [
    "import numpy as np\n",
    "from tqdm import tqdm\n",
    "import matplotlib.pyplot as plt\n",
    "import copy\n",
    "import itertools\n",
    "\n",
    "import chess as ch\n",
    "import aichess\n",
    "import lib"
   ]
  },
  {
   "cell_type": "code",
   "execution_count": null,
   "metadata": {},
   "outputs": [],
   "source": [
    "lib.initLogging()\n",
    "\n",
    "TA = np.zeros((8, 8))\n",
    "\n",
    "# white pieces\n",
    "TA[7][5] = 6        # white king\n",
    "TA[7][0] = 2        # white rook\n",
    "\n",
    "# black pieces\n",
    "TA[0][5] = 12       # black king\n",
    "TA[0][0] = 8        # black rook\n",
    "\n",
    "# initialize board\n",
    "chess = ch.Chess(TA)\n",
    "chess.board.print_board()\n"
   ]
  },
  {
   "cell_type": "code",
   "execution_count": null,
   "metadata": {},
   "outputs": [],
   "source": [
    "WhitePlayerAichess = aichess.Aichess(TA, True, True)\n",
    "BlackPlayerAichess = aichess.Aichess(TA, False, True)"
   ]
  },
  {
   "cell_type": "markdown",
   "metadata": {},
   "source": [
    "# WARNING! ! \n",
    "## Because our heuristica is not perfect, it may fall into an infinite loop"
   ]
  },
  {
   "cell_type": "markdown",
   "metadata": {},
   "source": [
    "\n",
    "1. Whites\tstart\tmoving.\tImplement\tthe\tdynamics\tof\ta\tgame in\twhich\tboth,\twhites\tand\tblacks,\t\n",
    "follow\tthe\tsame\tMinimax\talgorithm\tto\ttry\tto\tcheck-mate\teach\tother. Assume\tthat\tboth\t\n",
    "implement\tminimax\twith\ta\tdepth\tof\t4\tmoves\t(2p)\n",
    "\n",
    "> 1. Once\timplemented,\trun\tthe\tsame\tgame\t20\ttimes.\tHow\tmany\ttimes\tdo\twhites\twin?\t"
   ]
  },
  {
   "cell_type": "code",
   "execution_count": null,
   "metadata": {},
   "outputs": [],
   "source": [
    "WhitePlayerMinimax = copy.deepcopy(WhitePlayerAichess)\n",
    "BlackPlayerMinimax = copy.deepcopy(BlackPlayerAichess)\n",
    "\n",
    "winnerTable ={'White' : 0,\n",
    "              'Black' : 0}\n",
    "\n",
    "depth = 4\n",
    "\n",
    "for game in tqdm(range(20)):\n",
    "\n",
    "    while True:\n",
    "\n",
    "        # ----------------White Player -------------------------------- #\n",
    "        WhitePlayerCurrentState = copy.deepcopy(chess.board.currentStateW)\n",
    "        WhitePlayerMinimax.chess = copy.deepcopy(chess)\n",
    "        WhitePlayerMinimax.chessStack = [copy.deepcopy(WhitePlayerMinimax.chess)]\n",
    "\n",
    "        WhitePlayerMinimax.currentStateW = copy.deepcopy(chess.board.currentStateW)\n",
    "        WhitePlayerMinimax.currentStateB = copy.deepcopy(chess.board.currentStateB)\n",
    "        WhitePlayerMinimax.innitialStateW = copy.deepcopy(chess.board.currentStateW)\n",
    "        WhitePlayerMinimax.innitialStateB = copy.deepcopy(chess.board.currentStateB)\n",
    "        WhitePlayerNextState = WhitePlayerMinimax.Minimax(depth)\n",
    "        ch.movePiece(chess, WhitePlayerCurrentState, WhitePlayerNextState)\n",
    "\n",
    "        if ch.GameOver(chess.board.board):\n",
    "            winnerTable['White'] += winnerTable['White'] + 1\n",
    "            break\n",
    "        \n",
    "            \n",
    "        # ----------------Black Player -------------------------------- #\n",
    "        BlackPlayerCurrentState = copy.deepcopy(chess.board.currentStateB)\n",
    "        WhitePlayerMinimax.chess = copy.deepcopy(chess)\n",
    "        WhitePlayerMinimax.chessStack = [copy.deepcopy(WhitePlayerMinimax.chess)]\n",
    "\n",
    "        WhitePlayerMinimax.currentStateW = copy.deepcopy(chess.board.currentStateW)\n",
    "        WhitePlayerMinimax.currentStateB = copy.deepcopy(chess.board.currentStateB)\n",
    "        WhitePlayerMinimax.innitialStateW = copy.deepcopy(chess.board.currentStateW)\n",
    "        WhitePlayerMinimax.innitialStateB = copy.deepcopy(chess.board.currentStateB)\n",
    "        BlackPlayerNextState = BlackPlayerMinimax.Minimax(depth)\n",
    "        ch.movePiece(chess, BlackPlayerCurrentState, BlackPlayerNextState)\n",
    "\n",
    "        if ch.GameOver(chess.board.board):\n",
    "            winnerTable['Black'] += winnerTable['Black'] + 1 \n",
    "            break\n"
   ]
  },
  {
   "cell_type": "code",
   "execution_count": null,
   "metadata": {},
   "outputs": [],
   "source": [
    "\n",
    "winnerPercent = np.array([winnerTable['White'], winnerTable['Black']])\n",
    "\n",
    "plt.figure(figsize=(10,10))\n",
    "plt.style.use('seaborn-ticks')\n",
    "patches, l_text, p_text = plt.pie(winnerPercent,\n",
    "                                labels=['White Win','Black Win'], \n",
    "                                colors=[\"#d5695d\", \"#5d8ca8\"], \n",
    "                                autopct='%.2f%%', \n",
    "                        )\n",
    "for p, t in zip(p_text,l_text):\n",
    "    t.set_size(20)\n",
    "    p.set_size(20)\n",
    "\n",
    "\n",
    "plt.title(\"Winning percentage\", fontsize=20)\n",
    "plt.legend(fontsize=20)\n",
    "plt.show()"
   ]
  },
  {
   "cell_type": "markdown",
   "metadata": {},
   "source": [
    "> b. Why\tis\tthat?\n",
    "\n",
    "    With our heuristic and the position of the pieces, since the white goes first, at the start of the game the white rook eats the black rook and from the initial black king black rook versus white king white rook it goes to a black king versus white king white rook, 2vs2 to 1vs2, so eventually, the white pieces will kill the black king.\n",
    "\n"
   ]
  },
  {
   "cell_type": "markdown",
   "metadata": {},
   "source": [
    "2. Now\trun\tthe\tsame\tsimulations,\tbut\tvarying\tthe\tdepth\tof\tthe\tminimax\talgorithm\tfrom\t1\tto\t\n",
    "5\tmoves both\tfor\twhites\tand\tblacks.\tRun\teach\tpossible\tcombination\tof\tdepths\t10\ttimes\t\n",
    "(2p)\n",
    "\n",
    "> a. Plot\tthe\tpercentage\tof\twhite\twins\tover\tthe\ttotal\tfor\teach\tdepth\tvalue"
   ]
  },
  {
   "cell_type": "code",
   "execution_count": null,
   "metadata": {},
   "outputs": [],
   "source": [
    "WhitePlayerMinimax = copy.deepcopy(WhitePlayerAichess)\n",
    "BlackPlayerMinimax = copy.deepcopy(BlackPlayerAichess)\n",
    "\n",
    "\n",
    "winnerTable = dict()\n",
    "\n",
    "ite = itertools.product(range(1,6), repeat=2)\n",
    "\n",
    "\n",
    "\n",
    "\n",
    "for depthW, depthB in tqdm(list(ite)):\n",
    "    winnerTable[(depthW, depthB)] = [0,0]\n",
    "    for game in tqdm(range(10)):\n",
    "        while True:\n",
    "\n",
    "            # ----------------White Player -------------------------------- #\n",
    "            WhitePlayerCurrentState = copy.deepcopy(chess.board.currentStateW)\n",
    "            WhitePlayerMinimax.chess = copy.deepcopy(chess)\n",
    "            WhitePlayerMinimax.chessStack = [copy.deepcopy(WhitePlayerMinimax.chess)]\n",
    "\n",
    "            WhitePlayerMinimax.currentStateW = copy.deepcopy(chess.board.currentStateW)\n",
    "            WhitePlayerMinimax.currentStateB = copy.deepcopy(chess.board.currentStateB)\n",
    "            WhitePlayerMinimax.innitialStateW = copy.deepcopy(chess.board.currentStateW)\n",
    "            WhitePlayerMinimax.innitialStateB = copy.deepcopy(chess.board.currentStateB)\n",
    "            WhitePlayerNextState = WhitePlayerMinimax.Minimax(depthW)\n",
    "            ch.movePiece(chess, WhitePlayerCurrentState, WhitePlayerNextState)\n",
    "\n",
    "            if ch.GameOver(chess.board.board):\n",
    "                winnerTable[(depthW, depthB)][0] = winnerTable[(depthW, depthB)][0] + 1\n",
    "                break\n",
    "            \n",
    "                \n",
    "            # ----------------Black Player -------------------------------- #\n",
    "            BlackPlayerCurrentState = copy.deepcopy(chess.board.currentStateB)\n",
    "            BlackPlayerMinimax.chess = copy.deepcopy(chess)\n",
    "            BlackPlayerMinimax.chessStack = [copy.deepcopy(BlackPlayerMinimax.chess)]\n",
    "\n",
    "            BlackPlayerMinimax.currentStateW = copy.deepcopy(chess.board.currentStateW)\n",
    "            BlackPlayerMinimax.currentStateB = copy.deepcopy(chess.board.currentStateB)\n",
    "            BlackPlayerMinimax.innitialStateW = copy.deepcopy(chess.board.currentStateW)\n",
    "            BlackPlayerMinimax.innitialStateB = copy.deepcopy(chess.board.currentStateB)\n",
    "            BlackPlayerNextState = BlackPlayerMinimax.Minimax(depthB)\n",
    "            ch.movePiece(chess, BlackPlayerCurrentState, BlackPlayerNextState)\n",
    "\n",
    "            if ch.GameOver(chess.board.board):\n",
    "                winnerTable[(depthW, depthB)][1] = winnerTable[(depthW, depthB)][1] + 1\n",
    "            break"
   ]
  },
  {
   "cell_type": "code",
   "execution_count": null,
   "metadata": {},
   "outputs": [],
   "source": [
    "labels = []\n",
    "for key in winnerTable.keys():\n",
    "    labels.append(str(key))\n",
    "\n",
    "\n",
    "whitewins = []  \n",
    "blackwins = []\n",
    "for value in winnerTable.values():\n",
    "    whitewins.append(value[0])\n",
    "    blackwins.append(value[1])\n",
    "\n",
    "\n",
    "plt.figure(figsize=(10,10))\n",
    "plt.style.use('seaborn-ticks')\n",
    "plt.bar(labels, whitewins, label= \"White win\")\n",
    "plt.bar(labels, blackwins,  bottom=whitewins, label= \"Black win\")\n",
    "\n",
    "plt.title(\"Winning for each depth\", fontsize=20)\n",
    "plt.ylim(0,13)\n",
    "plt.ylabel(\"Wins\", fontsize = 20)\n",
    "plt.xlabel(\"depth\", fontsize = 20)\n",
    "plt.legend(fontsize = 20)\n",
    "plt.show()"
   ]
  },
  {
   "cell_type": "markdown",
   "metadata": {},
   "source": [
    ">> b. Is\tthe\tresult\tsymmetric.\tWhy\tis\tthat?\n",
    "\n",
    "    No, the result isn't symmetric, it's an all white wins."
   ]
  },
  {
   "cell_type": "markdown",
   "metadata": {},
   "source": [
    "3. Implement\tthe\talfa-beta\tpruning\tfor\tthe\tblacks\tonly, whites\tstill\tplay\twith\tminimax\t(2p)\n",
    "\n",
    "> a. Using\tan\tequal\tdepth\tof\t4,\trun\t10\tsimulations.\tWho\twins\tthe\tmost?\n",
    "\n",
    "        With depth 4, the whites will still win all 10 simulations."
   ]
  },
  {
   "cell_type": "code",
   "execution_count": null,
   "metadata": {},
   "outputs": [],
   "source": [
    "WhitePlayerMinimax = copy.deepcopy(WhitePlayerAichess)\n",
    "BlackPlayerAlphaBeta = copy.deepcopy(BlackPlayerAichess)\n",
    "\n",
    "\n",
    "winnerTable ={'White' : 0,\n",
    "              'Black' : 0}\n",
    "\n",
    "depht = 4\n",
    "\n",
    "for game in tqdm(range(10)):\n",
    "    while True:\n",
    "\n",
    "        # ----------------White Player -------------------------------- #\n",
    "        WhitePlayerCurrentState = copy.deepcopy(chess.board.currentStateW)\n",
    "        WhitePlayerMinimax.chess = copy.deepcopy(chess)\n",
    "        WhitePlayerMinimax.chessStack = [copy.deepcopy(WhitePlayerMinimax.chess)]\n",
    "\n",
    "        WhitePlayerMinimax.currentStateW = copy.deepcopy(chess.board.currentStateW)\n",
    "        WhitePlayerMinimax.currentStateB = copy.deepcopy(chess.board.currentStateB)\n",
    "        WhitePlayerMinimax.innitialStateW = copy.deepcopy(chess.board.currentStateW)\n",
    "        WhitePlayerMinimax.innitialStateB = copy.deepcopy(chess.board.currentStateB)\n",
    "        WhitePlayerNextState = WhitePlayerMinimax.AlphaBeta(depht)\n",
    "        ch.movePiece(chess, WhitePlayerCurrentState, WhitePlayerNextState)\n",
    "\n",
    "        if ch.GameOver(chess.board.board):\n",
    "            winnerTable['White'] += winnerTable['White'] + 1\n",
    "            break\n",
    "        \n",
    "            \n",
    "        # ----------------Black Player -------------------------------- #\n",
    "        BlackPlayerCurrentState = copy.deepcopy(chess.board.currentStateB)\n",
    "        BlackPlayerAlphaBeta.chess = copy.deepcopy(chess)\n",
    "        BlackPlayerAlphaBeta.chessStack = [copy.deepcopy(BlackPlayerAlphaBeta.chess)]\n",
    "\n",
    "        BlackPlayerAlphaBeta.currentStateW = copy.deepcopy(chess.board.currentStateW)\n",
    "        BlackPlayerAlphaBeta.currentStateB = copy.deepcopy(chess.board.currentStateB)\n",
    "        BlackPlayerAlphaBeta.innitialStateW = copy.deepcopy(chess.board.currentStateW)\n",
    "        BlackPlayerAlphaBeta.innitialStateB = copy.deepcopy(chess.board.currentStateB)\n",
    "        BlackPlayerNextState = BlackPlayerMinimax.AlphaBeta(depht)\n",
    "        ch.movePiece(chess, BlackPlayerCurrentState, BlackPlayerNextState)\n",
    "\n",
    "        if ch.GameOver(chess.board.board):\n",
    "            winnerTable['Black'] += winnerTable['Black'] + 1\n",
    "        break\n",
    "    "
   ]
  },
  {
   "cell_type": "code",
   "execution_count": null,
   "metadata": {},
   "outputs": [],
   "source": [
    "winnerPercent = np.array([winnerTable['White'], winnerTable['Black']])\n",
    "\n",
    "plt.figure(figsize=(10,10))\n",
    "plt.style.use('seaborn-ticks')\n",
    "patches, l_text, p_text = plt.pie(winnerPercent,\n",
    "                                labels=['White Win','Black Win'], \n",
    "                                colors=[\"#d5695d\", \"#5d8ca8\"], \n",
    "                                autopct='%.2f%%', \n",
    "                        )\n",
    "for p, t in zip(p_text,l_text):\n",
    "    t.set_size(20)\n",
    "    p.set_size(20)\n",
    "\n",
    "\n",
    "plt.title(\"Winning percentage\", fontsize=20)\n",
    "plt.legend(fontsize=20)\n",
    "plt.show()"
   ]
  },
  {
   "cell_type": "markdown",
   "metadata": {},
   "source": [
    ">> b. Justify\tyour\tresult.\n",
    "\n",
    "    Because with our heuristic, at the start, the white rook will still eat the black rook, and from 2vs2 it will go to 1vs2, black king vs white king white rook, and eventually the white pieces will kill the black king."
   ]
  },
  {
   "cell_type": "markdown",
   "metadata": {},
   "source": [
    "4. Both\twhites\tand\tblacks\tuse\tthe\tsame\talfa-beta\tpruning.\tRun\tten\tsimulations\teach\twhile\t\n",
    "varying\tthe\tdepth\twith\twhich\teach\tteam\tplays\t(1-5)\t(2p)\n",
    "\n",
    "> a. Plot\tthe\tproportion\tof\twins\tfor\twhites\ta"
   ]
  },
  {
   "cell_type": "code",
   "execution_count": null,
   "metadata": {},
   "outputs": [],
   "source": [
    "WhitePlayerAlphaBeta = copy.deepcopy(WhitePlayerAichess)\n",
    "BlackPlayerAlphaBeta = copy.deepcopy(BlackPlayerAichess)\n",
    "\n",
    "\n",
    "winnerTable = dict()\n",
    "\n",
    "ite = itertools.product(range(1,6), repeat=2)\n",
    "\n",
    "\n",
    "\n",
    "for depthW, depthB in tqdm(list(ite)):\n",
    "    winnerTable[(depthW, depthB)] = [0,0]\n",
    "    for game in tqdm(range(10)):\n",
    "        while True:\n",
    "\n",
    "            # ----------------White Player -------------------------------- #\n",
    "            WhitePlayerCurrentState = copy.deepcopy(chess.board.currentStateW)\n",
    "            WhitePlayerAlphaBeta.chess = copy.deepcopy(chess)\n",
    "            WhitePlayerAlphaBeta.chessStack = [copy.deepcopy(WhitePlayerAlphaBeta.chess)]\n",
    "\n",
    "            WhitePlayerAlphaBeta.currentStateW = copy.deepcopy(chess.board.currentStateW)\n",
    "            WhitePlayerAlphaBeta.currentStateB = copy.deepcopy(chess.board.currentStateB)\n",
    "            WhitePlayerAlphaBeta.innitialStateW = copy.deepcopy(chess.board.currentStateW)\n",
    "            WhitePlayerAlphaBeta.innitialStateB = copy.deepcopy(chess.board.currentStateB)\n",
    "\n",
    "            WhitePlayerNextState = WhitePlayerAlphaBeta.AlphaBeta(depthW)\n",
    "            ch.movePiece(chess, WhitePlayerCurrentState, WhitePlayerNextState)\n",
    "\n",
    "            if ch.GameOver(chess.board.board):\n",
    "                winnerTable[(depthW, depthB)][0] = winnerTable[(depthW, depthB)][0] + 1\n",
    "                break\n",
    "            \n",
    "                \n",
    "            # ----------------Black Player -------------------------------- #\n",
    "            BlackPlayerCurrentState = copy.deepcopy(chess.board.currentStateB)\n",
    "            BlackPlayerAlphaBeta.chess = copy.deepcopy(chess)\n",
    "            BlackPlayerAlphaBeta.chessStack = [copy.deepcopy(BlackPlayerAlphaBeta.chess)]\n",
    "\n",
    "            BlackPlayerAlphaBeta.currentStateW = copy.deepcopy(chess.board.currentStateW)\n",
    "            BlackPlayerAlphaBeta.currentStateB = copy.deepcopy(chess.board.currentStateB)\n",
    "            BlackPlayerAlphaBeta.innitialStateW = copy.deepcopy(chess.board.currentStateW)\n",
    "            BlackPlayerAlphaBeta.innitialStateB = copy.deepcopy(chess.board.currentStateB)\n",
    "\n",
    "            BlackPlayerNextState = BlackPlayerAlphaBeta.AlphaBeta(depthB)\n",
    "            ch.movePiece(chess, BlackPlayerCurrentState, BlackPlayerNextState)\n",
    "\n",
    "            if ch.GameOver(chess.board.board):\n",
    "                winnerTable[(depthW, depthB)][1] = winnerTable[(depthW, depthB)][1] + 1\n",
    "            break"
   ]
  },
  {
   "cell_type": "code",
   "execution_count": null,
   "metadata": {},
   "outputs": [],
   "source": [
    "labels = []\n",
    "for key in winnerTable.keys():\n",
    "    labels.append(str(key))\n",
    "\n",
    "\n",
    "whitewins = []  \n",
    "blackwins = []\n",
    "for value in winnerTable.values():\n",
    "    whitewins.append(value[0])\n",
    "    blackwins.append(value[1])\n",
    "\n",
    "\n",
    "plt.figure(figsize=(10,10))\n",
    "plt.style.use('seaborn-ticks')\n",
    "plt.bar(labels, whitewins, label= \"White win\")\n",
    "plt.bar(labels, blackwins,  bottom=whitewins, label= \"Black win\")\n",
    "\n",
    "plt.title(\"Winning for each depth\", fontsize=20)\n",
    "plt.ylim(0,13)\n",
    "plt.ylabel(\"Wins\", fontsize = 20)\n",
    "plt.xlabel(\"depth\", fontsize = 20)\n",
    "plt.legend(fontsize = 20)\n",
    "plt.show()"
   ]
  },
  {
   "cell_type": "markdown",
   "metadata": {},
   "source": [
    ">> b. Comment\ton\tthe\tresult.\n",
    "\n",
    "    White wins all. The result is the same as the second question. Minimax-alphabeta and minimax are essentially the \n",
    "    same algorithm, but in special cases, alphabeta will be faster."
   ]
  },
  {
   "cell_type": "markdown",
   "metadata": {},
   "source": [
    "5. Implement\tthe\texpectimax\talgorithm\tfor\twhites\tand\tblacks. (2p)"
   ]
  },
  {
   "cell_type": "markdown",
   "metadata": {},
   "source": [
    "> a. Whites\tplay\texpectimax,\tblacks\talfa-beta\tpruning"
   ]
  },
  {
   "cell_type": "markdown",
   "metadata": {},
   "source": [
    "> > i. Run\t10\tsimulations\teach\tand\tplot\tthe\tproportion\tof\twins\tfor\twhites/blacks"
   ]
  },
  {
   "cell_type": "code",
   "execution_count": null,
   "metadata": {},
   "outputs": [],
   "source": [
    "WhitePlayerExpectMax = copy.deepcopy(WhitePlayerAichess)\n",
    "BlackPlayerAlphaBeta = copy.deepcopy(BlackPlayerAichess)\n",
    "\n",
    "\n",
    "winnerTable ={'White' : 0,\n",
    "              'Black' : 0}\n",
    "\n",
    "for game in tqdm(range(10)):\n",
    "    while True:\n",
    "\n",
    "        # ----------------White Player -------------------------------- #\n",
    "        BlackPlayerCurrentState = copy.deepcopy(chess.board.currentStateB)\n",
    "        WhitePlayerExpectMax.chess = copy.deepcopy(chess)\n",
    "        WhitePlayerExpectMax.chessStack = [copy.deepcopy(WhitePlayerExpectMax.chess)]\n",
    "\n",
    "        WhitePlayerExpectMax.currentStateW = copy.deepcopy(chess.board.currentStateW)\n",
    "        WhitePlayerExpectMax.currentStateB = copy.deepcopy(chess.board.currentStateB)\n",
    "        WhitePlayerExpectMax.innitialStateW = copy.deepcopy(chess.board.currentStateW)\n",
    "        WhitePlayerExpectMax.innitialStateB = copy.deepcopy(chess.board.currentStateB)\n",
    "        WhitePlayerNextState = WhitePlayerExpectMax.ExpectiMax()\n",
    "        ch.movePiece(chess, WhitePlayerCurrentState, WhitePlayerNextState)\n",
    "\n",
    "        if ch.GameOver(chess.board.board):\n",
    "            winnerTable['White'] += winnerTable['White'] + 1\n",
    "            break\n",
    "        \n",
    "            \n",
    "        # ----------------Black Player -------------------------------- #\n",
    "        BlackPlayerCurrentState = copy.deepcopy(chess.board.currentStateB)\n",
    "        BlackPlayerAlphaBeta.chess = copy.deepcopy(chess)\n",
    "        BlackPlayerAlphaBeta.chessStack = [copy.deepcopy(BlackPlayerAlphaBeta.chess)]\n",
    "\n",
    "        BlackPlayerAlphaBeta.currentStateW = copy.deepcopy(chess.board.currentStateW)\n",
    "        BlackPlayerAlphaBeta.currentStateB = copy.deepcopy(chess.board.currentStateB)\n",
    "        BlackPlayerAlphaBeta.innitialStateW = copy.deepcopy(chess.board.currentStateW)\n",
    "        BlackPlayerAlphaBeta.innitialStateB = copy.deepcopy(chess.board.currentStateB)\n",
    "\n",
    "        BlackPlayerNextState = BlackPlayerAlphaBeta.AlphaBeta(4)\n",
    "        ch.movePiece(chess, BlackPlayerCurrentState, BlackPlayerNextState)\n",
    "\n",
    "        if ch.GameOver(chess.board.board):\n",
    "            winnerTable['Black'] += winnerTable['Black'] + 1\n",
    "        break"
   ]
  },
  {
   "cell_type": "code",
   "execution_count": null,
   "metadata": {},
   "outputs": [],
   "source": [
    "winnerPercent = np.array([winnerTable['White'], winnerTable['Black']])\n",
    "\n",
    "plt.figure(figsize=(10,10))\n",
    "plt.style.use('seaborn-ticks')\n",
    "patches, l_text, p_text = plt.pie(winnerPercent,\n",
    "                                labels=['White Win','Black Win'], \n",
    "                                colors=[\"#d5695d\", \"#5d8ca8\"], \n",
    "                                autopct='%.2f%%', \n",
    "                        )\n",
    "for p, t in zip(p_text,l_text):\n",
    "    t.set_size(20)\n",
    "    p.set_size(20)\n",
    "\n",
    "\n",
    "plt.title(\"Winning percentage\", fontsize=20)\n",
    "plt.legend(fontsize=20)\n",
    "plt.show()"
   ]
  },
  {
   "cell_type": "markdown",
   "metadata": {},
   "source": [
    "> > ii. Who\twins\tthe\tmost.\tWhy\tis\tthat?\n",
    "\n",
    "    White wins all, because white goes first, it will always be a 2v1 situation."
   ]
  },
  {
   "cell_type": "markdown",
   "metadata": {},
   "source": [
    "> b. Now\twhites\tplay\talfa-beta\tpruning,\tblacks\texpectimax."
   ]
  },
  {
   "cell_type": "markdown",
   "metadata": {},
   "source": [
    "> > i. Run\t again\t 10\t simulations\t each\t and\t plot\t the\t proportion\t of\t wins\t for\t\n",
    "whites/blacks."
   ]
  },
  {
   "cell_type": "code",
   "execution_count": null,
   "metadata": {},
   "outputs": [],
   "source": [
    "WhitePlayerAlphaBeta = copy.deepcopy(WhitePlayerAichess)\n",
    "BlackPlayerExpectMax = copy.deepcopy(BlackPlayerAichess)\n",
    "\n",
    "\n",
    "winnerTable ={'White' : 0,\n",
    "              'Black' : 0}\n",
    "\n",
    "for game in tqdm(range(10)):\n",
    "    while True:\n",
    "\n",
    "        # ----------------White Player -------------------------------- #\n",
    "        WhitePlayerCurrentState = copy.deepcopy(chess.board.currentStateW)\n",
    "        WhitePlayerAlphaBeta.chess = copy.deepcopy(chess)\n",
    "        WhitePlayerAlphaBeta.chessStack = [copy.deepcopy(WhitePlayerAlphaBeta.chess)]\n",
    "\n",
    "        WhitePlayerAlphaBeta.currentStateW = copy.deepcopy(chess.board.currentStateW)\n",
    "        WhitePlayerAlphaBeta.currentStateB = copy.deepcopy(chess.board.currentStateB)\n",
    "        WhitePlayerAlphaBeta.innitialStateW = copy.deepcopy(chess.board.currentStateW)\n",
    "        WhitePlayerAlphaBeta.innitialStateB = copy.deepcopy(chess.board.currentStateB)\n",
    "\n",
    "        WhitePlayerNextState = WhitePlayerAlphaBeta.AlfaBeta(4)\n",
    "        ch.movePiece(chess, WhitePlayerCurrentState, WhitePlayerNextState)\n",
    "\n",
    "        if ch.GameOver(chess.board.board):\n",
    "            winnerTable['White'] += winnerTable['White'] + 1\n",
    "            break\n",
    "        \n",
    "            \n",
    "        # ----------------Black Player -------------------------------- #\n",
    "        BlackPlayerCurrentState = copy.deepcopy(chess.board.currentStateB)\n",
    "        BlackPlayerExpectMax.chess = copy.deepcopy(chess)\n",
    "        BlackPlayerExpectMax.chessStack = [copy.deepcopy(BlackPlayerExpectMax.chess)]\n",
    "\n",
    "        BlackPlayerExpectMax.currentStateW = copy.deepcopy(chess.board.currentStateW)\n",
    "        BlackPlayerExpectMax.currentStateB = copy.deepcopy(chess.board.currentStateB)\n",
    "        BlackPlayerExpectMax.innitialStateW = copy.deepcopy(chess.board.currentStateW)\n",
    "        BlackPlayerExpectMax.innitialStateB = copy.deepcopy(chess.board.currentStateB)\n",
    "\n",
    "        BlackPlayerNextState = BlackPlayerExpectMax.ExpectiMax()\n",
    "        ch.movePiece(chess, BlackPlayerCurrentState, BlackPlayerNextState)\n",
    "\n",
    "        if ch.GameOver(chess.board.board):\n",
    "            winnerTable['Black'] += winnerTable['Black'] + 1\n",
    "        break"
   ]
  },
  {
   "cell_type": "code",
   "execution_count": null,
   "metadata": {},
   "outputs": [],
   "source": [
    "winnerPercent = np.array([winnerTable['White'], winnerTable['Black']])\n",
    "\n",
    "plt.figure(figsize=(10,10))\n",
    "plt.style.use('seaborn-ticks')\n",
    "patches, l_text, p_text = plt.pie(winnerPercent,\n",
    "                                labels=['White Win','Black Win'], \n",
    "                                colors=[\"#d5695d\", \"#5d8ca8\"], \n",
    "                                autopct='%.2f%%', \n",
    "                        )\n",
    "for p, t in zip(p_text,l_text):\n",
    "    t.set_size(20)\n",
    "    p.set_size(20)\n",
    "\n",
    "\n",
    "plt.title(\"Winning percentage\", fontsize=20)\n",
    "plt.legend(fontsize=20)\n",
    "plt.show()"
   ]
  },
  {
   "cell_type": "markdown",
   "metadata": {},
   "source": [
    ">> ii. Who\twins\tthe\tmost.\tWhy\tis\tthat?\n",
    "\n",
    "    The whites still wins all, because of the position of each pieces, it will be a 1vs2 situation."
   ]
  },
  {
   "cell_type": "markdown",
   "metadata": {},
   "source": [
    "> c. If\tthere\tare\tdifferences\tbetween\ta.\tand\tb.,\tplease,\tdo\tcomment\twhy.\n",
    "\n",
    "    There is no big difference. Although expectimax is not the optimal solution algorithm, it will always form a 2v1\n",
    "    situation in this specific situation, so the first player can’t lose at all."
   ]
  },
  {
   "cell_type": "markdown",
   "metadata": {},
   "source": [
    "6. The\tsituation\tgenerated\tby\tconfronting\ta\twhite\tking\tand\ta\tblack king\tplus\ta\trook\teach\tmay\t\n",
    "be\tconsidered\teven\t(3p)\n",
    "\n"
   ]
  },
  {
   "cell_type": "markdown",
   "metadata": {},
   "source": [
    "> a. Is\tit\treally\tthe\tcase? Justify\tyour\tanswer.\n",
    "\n",
    "\n",
    "    It depends on the initial position of the pieces, in this scenario, that we have each rook in the same column,\n",
    "    the whites will always be in the advantatge since they start first and their first move is an offensive one,\n",
    "    eat the black rook, so the match it will be a 1vs2 with the white ones having the advantatge and the black king \n",
    "    will need to take a deffensive stance, on the other way, if the initial position are placed fairly, it will win \n",
    "    the best algorithm/heuristic, if boths algorithms/heuristics are equally good then the result will be a draw. \n",
    "    In our optimal solution algorithm and in this scenario case, the first to move will always win since it will always be a\n",
    "    1vs2."
   ]
  },
  {
   "cell_type": "markdown",
   "metadata": {},
   "source": [
    "> b. In\tyour\topinion,\twhat\tmakes\t this\tsituation of\tparticular\tinterest\t for the\tstudy\tof\tadversarial\tgames?\n",
    "\n",
    "\n",
    "    This situation is interesting because the initial position are infair for the black ones, but if the black pieces uses a\n",
    "    better algorithm/heuristic than the white one, it can get a draw from the match, on the other hand, the white ones will\n",
    "    never lose, they will always win or draw, the only way for the white to lose is to have an algorithm/heuristic that \n",
    "    doesn't eat the black rook in his first move, having a 2vs2 scenario, in this case the winner will be the winner\n",
    "    will be the best algorithm/heuristic between the one that the white uses and the one that the black uses."
   ]
  }
 ],
 "metadata": {
  "kernelspec": {
   "display_name": "Python 3.9.12 ('base')",
   "language": "python",
   "name": "python3"
  },
  "language_info": {
   "codemirror_mode": {
    "name": "ipython",
    "version": 3
   },
   "file_extension": ".py",
   "mimetype": "text/x-python",
   "name": "python",
   "nbconvert_exporter": "python",
   "pygments_lexer": "ipython3",
   "version": "3.9.12"
  },
  "orig_nbformat": 4,
  "vscode": {
   "interpreter": {
    "hash": "90fed515b7734aabf0d0d60c56e1b4ca7689adec66ddda4b20199f9e4ac409df"
   }
  }
 },
 "nbformat": 4,
 "nbformat_minor": 2
}
