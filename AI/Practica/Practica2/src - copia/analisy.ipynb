{
 "cells": [
  {
   "cell_type": "code",
   "execution_count": 44,
   "metadata": {},
   "outputs": [],
   "source": [
    "import numpy as np\n",
    "from tqdm import tqdm\n",
    "import matplotlib.pyplot as plt\n",
    "import copy\n",
    "import itertools\n",
    "\n",
    "import chess\n",
    "import aichess\n"
   ]
  },
  {
   "cell_type": "code",
   "execution_count": 45,
   "metadata": {},
   "outputs": [
    {
     "name": "stdout",
     "output_type": "stream",
     "text": [
      "[0] *********************************\n",
      "8 0 | \u001b[94mR\u001b[0m |   |   |   |   | \u001b[94mK\u001b[0m |   |   |\n",
      "7 1 |   |   |   |   |   |   |   |   |\n",
      "6 2 |   |   |   |   |   |   |   |   |\n",
      "5 3 |   |   |   |   |   |   |   |   |\n",
      "4 4 |   |   |   |   |   |   |   |   |\n",
      "3 5 |   |   |   |   |   |   |   |   |\n",
      "2 6 |   |   |   |   |   |   |   |   |\n",
      "1 7 | R |   |   |   |   | K |   |   |\n",
      "    *********************************\n",
      "      0   1   2   3   4   5   6   7   [1]\n",
      "      A   B   C   D   E   F   G   H\n"
     ]
    }
   ],
   "source": [
    "TA = np.zeros((8, 8))\n",
    "\n",
    "# white pieces\n",
    "TA[7][5] = 6        # white king\n",
    "TA[7][0] = 2        # white rook\n",
    "\n",
    "# black pieces\n",
    "TA[0][5] = 12       # black king\n",
    "TA[0][0] = 8        # black rook\n",
    "\n",
    "# initialize board\n",
    "chess = chess.Chess(TA)\n",
    "chess.board.print_board()\n"
   ]
  },
  {
   "cell_type": "code",
   "execution_count": 46,
   "metadata": {},
   "outputs": [],
   "source": [
    "WhitePlayerAichess = aichess.Aichess(TA, True, True)\n",
    "BlackPlayerAichess = aichess.Aichess(TA, False, True)"
   ]
  },
  {
   "cell_type": "markdown",
   "metadata": {},
   "source": [
    "\n",
    "1. Whites\tstart\tmoving.\tImplement\tthe\tdynamics\tof\ta\tgame in\twhich\tboth,\twhites\tand\tblacks,\t\n",
    "follow\tthe\tsame\tMinimax\talgorithm\tto\ttry\tto\tcheck-mate\teach\tother. Assume\tthat\tboth\t\n",
    "implement\tminimax\twith\ta\tdepth\tof\t4\tmoves\t(2p)\n",
    "\n",
    "> 1. Once\timplemented,\trun\tthe\tsame\tgame\t20\ttimes.\tHow\tmany\ttimes\tdo\twhites\twin?\t"
   ]
  },
  {
   "cell_type": "code",
   "execution_count": 47,
   "metadata": {},
   "outputs": [
    {
     "name": "stderr",
     "output_type": "stream",
     "text": [
      "100%|██████████| 20/20 [00:00<00:00, 15987.44it/s]\n"
     ]
    }
   ],
   "source": [
    "WhitePlayerMinimax = copy.deepcopy(WhitePlayerAichess)\n",
    "BlackPlayerMinimax = copy.deepcopy(BlackPlayerAichess)\n",
    "\n",
    "winnerTable ={'White' : 10,\n",
    "              'Black' : 10}\n",
    "\n",
    "for game in tqdm(range(20)):\n",
    "\n",
    "    while True:\n",
    "\n",
    "        # ----------------White Player -------------------------------- #\n",
    "        WhitePlayerCurrentState = chess.board.currentStateW\n",
    "        WhitePlayerMinimax.chess.boardSim = chess.board\n",
    "        WhitePlayerMinimax.currentStateW = chess.board.currentStateW\n",
    "        WhitePlayerMinimax.currentStateB = chess.board.currentStateB\n",
    "        WhitePlayerNextState = WhitePlayerMinimax.Minimax(2)\n",
    "        chess.movePiece(chess, WhitePlayerCurrentState, WhitePlayerNextState)\n",
    "\n",
    "        if chess.GameOver(chess.board.board):\n",
    "            winnerTable['White'] += winnerTable['White'] + 1\n",
    "            break\n",
    "        \n",
    "            \n",
    "        # ----------------Black Player -------------------------------- #\n",
    "        BlackPlayerCurrentState = chess.board.currentStateB\n",
    "        BlackPlayerMinimax.chess.boardSim = chess.board\n",
    "        BlackPlayerMinimax.currentStateW = chess.board.currentStateW\n",
    "        BlackPlayerMinimax.currentStateB = chess.board.currentStateB\n",
    "        BlackPlayerNextState = BlackPlayerMinimax.Minimax(2)\n",
    "        chess.movePiece(chess, BlackPlayerCurrentState, BlackPlayerNextState)\n",
    "\n",
    "        if chess.GameOver(chess.board.board):\n",
    "            winnerTable['Black'] += winnerTable['Black'] + 1 \n",
    "            break\n"
   ]
  },
  {
   "cell_type": "code",
   "execution_count": 65,
   "metadata": {},
   "outputs": [
    {
     "data": {
      "image/png": "[encoded data removed]",
      "text/plain": [
       "<Figure size 720x720 with 1 Axes>"
      ]
     },
     "metadata": {},
     "output_type": "display_data"
    }
   ],
   "source": [
    "\n",
    "winnerPercent = np.array([winnerTable['White'], winnerTable['Black']])\n",
    "\n",
    "plt.figure(figsize=(10,10))\n",
    "plt.style.use('seaborn-ticks')\n",
    "plt.pie(winnerPercent,\n",
    "        labels=['White Win','Black Win'], \n",
    "        colors=[\"#d5695d\", \"#5d8ca8\"], \n",
    "        autopct='%.2f%%', \n",
    "       )\n",
    "plt.title(\"Winning percentage\")\n",
    "plt.show()"
   ]
  },
  {
   "cell_type": "markdown",
   "metadata": {},
   "source": [
    "2. Now\trun\tthe\tsame\tsimulations,\tbut\tvarying\tthe\tdepth\tof\tthe\tminimax\talgorithm\tfrom\t1\tto\t\n",
    "5\tmoves both\tfor\twhites\tand\tblacks.\tRun\teach\tpossible\tcombination\tof\tdepths\t10\ttimes\t\n",
    "(2p)\n",
    "\n",
    "> a. Plot\tthe\tpercentage\tof\twhite\twins\tover\tthe\ttotal\tfor\teach\tdepth\tvalue"
   ]
  },
  {
   "cell_type": "code",
   "execution_count": 59,
   "metadata": {},
   "outputs": [
    {
     "name": "stderr",
     "output_type": "stream",
     "text": [
      "  0%|          | 0/25 [00:00<?, ?it/s]"
     ]
    },
    {
     "name": "stdout",
     "output_type": "stream",
     "text": [
      "1:1\n"
     ]
    },
    {
     "name": "stderr",
     "output_type": "stream",
     "text": [
      "100%|██████████| 10/10 [00:00<?, ?it/s]\n"
     ]
    },
    {
     "name": "stdout",
     "output_type": "stream",
     "text": [
      "1:2\n"
     ]
    },
    {
     "name": "stderr",
     "output_type": "stream",
     "text": [
      "100%|██████████| 10/10 [00:00<?, ?it/s]\n"
     ]
    },
    {
     "name": "stdout",
     "output_type": "stream",
     "text": [
      "1:3\n"
     ]
    },
    {
     "name": "stderr",
     "output_type": "stream",
     "text": [
      "100%|██████████| 10/10 [00:00<?, ?it/s]\n"
     ]
    },
    {
     "name": "stdout",
     "output_type": "stream",
     "text": [
      "1:4\n"
     ]
    },
    {
     "name": "stderr",
     "output_type": "stream",
     "text": [
      "100%|██████████| 10/10 [00:00<?, ?it/s]\n"
     ]
    },
    {
     "name": "stdout",
     "output_type": "stream",
     "text": [
      "1:5\n"
     ]
    },
    {
     "name": "stderr",
     "output_type": "stream",
     "text": [
      "100%|██████████| 10/10 [00:00<?, ?it/s]\n"
     ]
    },
    {
     "name": "stdout",
     "output_type": "stream",
     "text": [
      "2:1\n"
     ]
    },
    {
     "name": "stderr",
     "output_type": "stream",
     "text": [
      "100%|██████████| 10/10 [00:00<?, ?it/s]\n"
     ]
    },
    {
     "name": "stdout",
     "output_type": "stream",
     "text": [
      "2:2\n"
     ]
    },
    {
     "name": "stderr",
     "output_type": "stream",
     "text": [
      "100%|██████████| 10/10 [00:00<?, ?it/s]\n"
     ]
    },
    {
     "name": "stdout",
     "output_type": "stream",
     "text": [
      "2:3\n"
     ]
    },
    {
     "name": "stderr",
     "output_type": "stream",
     "text": [
      "100%|██████████| 10/10 [00:00<?, ?it/s]\n"
     ]
    },
    {
     "name": "stdout",
     "output_type": "stream",
     "text": [
      "2:4\n"
     ]
    },
    {
     "name": "stderr",
     "output_type": "stream",
     "text": [
      "100%|██████████| 10/10 [00:00<?, ?it/s]\n"
     ]
    },
    {
     "name": "stdout",
     "output_type": "stream",
     "text": [
      "2:5\n"
     ]
    },
    {
     "name": "stderr",
     "output_type": "stream",
     "text": [
      "100%|██████████| 10/10 [00:00<00:00, 16933.00it/s]\n"
     ]
    },
    {
     "name": "stdout",
     "output_type": "stream",
     "text": [
      "3:1\n"
     ]
    },
    {
     "name": "stderr",
     "output_type": "stream",
     "text": [
      "100%|██████████| 10/10 [00:00<?, ?it/s]\n"
     ]
    },
    {
     "name": "stdout",
     "output_type": "stream",
     "text": [
      "3:2\n"
     ]
    },
    {
     "name": "stderr",
     "output_type": "stream",
     "text": [
      "100%|██████████| 10/10 [00:00<?, ?it/s]\n"
     ]
    },
    {
     "name": "stdout",
     "output_type": "stream",
     "text": [
      "3:3\n"
     ]
    },
    {
     "name": "stderr",
     "output_type": "stream",
     "text": [
      "100%|██████████| 10/10 [00:00<?, ?it/s]\n"
     ]
    },
    {
     "name": "stdout",
     "output_type": "stream",
     "text": [
      "3:4\n"
     ]
    },
    {
     "name": "stderr",
     "output_type": "stream",
     "text": [
      "100%|██████████| 10/10 [00:00<?, ?it/s]\n"
     ]
    },
    {
     "name": "stdout",
     "output_type": "stream",
     "text": [
      "3:5\n"
     ]
    },
    {
     "name": "stderr",
     "output_type": "stream",
     "text": [
      "100%|██████████| 10/10 [00:00<?, ?it/s]\n"
     ]
    },
    {
     "name": "stdout",
     "output_type": "stream",
     "text": [
      "4:1\n"
     ]
    },
    {
     "name": "stderr",
     "output_type": "stream",
     "text": [
      "100%|██████████| 10/10 [00:00<?, ?it/s]\n"
     ]
    },
    {
     "name": "stdout",
     "output_type": "stream",
     "text": [
      "4:2\n"
     ]
    },
    {
     "name": "stderr",
     "output_type": "stream",
     "text": [
      "100%|██████████| 10/10 [00:00<?, ?it/s]\n",
      " 68%|██████▊   | 17/25 [00:00<00:00, 160.54it/s]"
     ]
    },
    {
     "name": "stdout",
     "output_type": "stream",
     "text": [
      "4:3\n"
     ]
    },
    {
     "name": "stderr",
     "output_type": "stream",
     "text": [
      "100%|██████████| 10/10 [00:00<?, ?it/s]\n"
     ]
    },
    {
     "name": "stdout",
     "output_type": "stream",
     "text": [
      "4:4\n"
     ]
    },
    {
     "name": "stderr",
     "output_type": "stream",
     "text": [
      "100%|██████████| 10/10 [00:00<?, ?it/s]\n"
     ]
    },
    {
     "name": "stdout",
     "output_type": "stream",
     "text": [
      "4:5\n"
     ]
    },
    {
     "name": "stderr",
     "output_type": "stream",
     "text": [
      "100%|██████████| 10/10 [00:00<?, ?it/s]\n"
     ]
    },
    {
     "name": "stdout",
     "output_type": "stream",
     "text": [
      "5:1\n"
     ]
    },
    {
     "name": "stderr",
     "output_type": "stream",
     "text": [
      "100%|██████████| 10/10 [00:00<00:00, 9993.58it/s]\n"
     ]
    },
    {
     "name": "stdout",
     "output_type": "stream",
     "text": [
      "5:2\n"
     ]
    },
    {
     "name": "stderr",
     "output_type": "stream",
     "text": [
      "100%|██████████| 10/10 [00:00<?, ?it/s]\n"
     ]
    },
    {
     "name": "stdout",
     "output_type": "stream",
     "text": [
      "5:3\n"
     ]
    },
    {
     "name": "stderr",
     "output_type": "stream",
     "text": [
      "100%|██████████| 10/10 [00:00<?, ?it/s]\n"
     ]
    },
    {
     "name": "stdout",
     "output_type": "stream",
     "text": [
      "5:4\n"
     ]
    },
    {
     "name": "stderr",
     "output_type": "stream",
     "text": [
      "100%|██████████| 10/10 [00:00<?, ?it/s]\n"
     ]
    },
    {
     "name": "stdout",
     "output_type": "stream",
     "text": [
      "5:5\n"
     ]
    },
    {
     "name": "stderr",
     "output_type": "stream",
     "text": [
      "100%|██████████| 10/10 [00:00<?, ?it/s]\n",
      "100%|██████████| 25/25 [00:00<00:00, 143.03it/s]\n"
     ]
    }
   ],
   "source": [
    "WhitePlayerMinimax = copy.deepcopy(WhitePlayerAichess)\n",
    "BlackPlayerMinimax = copy.deepcopy(BlackPlayerAichess)\n",
    "\n",
    "\n",
    "winnerTable = dict()\n",
    "\n",
    "ite = itertools.product(range(1,6), repeat=2)\n",
    "\n",
    "#print(list(ite))\n",
    "\n",
    "\n",
    "for depthW, depthB in tqdm(list(ite)):\n",
    "    print(f\"{depthW}:{depthB}\")\n",
    "    for game in tqdm(range(10)):\n",
    "        pass"
   ]
  },
  {
   "cell_type": "code",
   "execution_count": 60,
   "metadata": {},
   "outputs": [],
   "source": [
    "\n",
    "# winnerPercent = np.array([winnerTable['White'], winnerTable['Black']])\n",
    "\n",
    "# plt.style.use('seaborn-ticks')\n",
    "# plt.pie(winnerPercent,\n",
    "#         labels=['White Win','Black Win'], # 设置饼图标签\n",
    "#         colors=[\"#d5695d\", \"#5d8ca8\"], # 设置饼图颜色\n",
    "#         autopct='%.2f%%', # 格式化输出百分比\n",
    "#        )\n",
    "# plt.title(\"Winning percentage\") # 设置标题\n",
    "# plt.figure(figsize=(30,30))\n",
    "# plt.show()"
   ]
  },
  {
   "cell_type": "markdown",
   "metadata": {},
   "source": [
    "3. Implement\tthe\talfa-beta\tpruning\tfor\tthe\tblacks\tonly, whites\tstill\tplay\twith\tminimax\t(2p)\n",
    "\n",
    "> a. Using\tan\tequal\tdepth\tof\t4,\trun\t10\tsimulations.\tWho\twins\tthe\tmost?"
   ]
  },
  {
   "cell_type": "code",
   "execution_count": 61,
   "metadata": {},
   "outputs": [
    {
     "name": "stderr",
     "output_type": "stream",
     "text": [
      "100%|██████████| 10/10 [00:00<00:00, 25954.85it/s]\n"
     ]
    }
   ],
   "source": [
    "WhitePlayerAlphaBeta = copy.deepcopy(WhitePlayerAichess)\n",
    "BlackPlayerMinimax = copy.deepcopy(BlackPlayerAichess)\n",
    "\n",
    "\n",
    "winnerTable ={'White' : 5,\n",
    "              'Black' : 5}\n",
    "\n",
    "for game in tqdm(range(10)):\n",
    "    pass"
   ]
  },
  {
   "cell_type": "code",
   "execution_count": 62,
   "metadata": {},
   "outputs": [
    {
     "data": {
      "image/png": "[encoded data removed]",
      "text/plain": [
       "<Figure size 432x288 with 1 Axes>"
      ]
     },
     "metadata": {},
     "output_type": "display_data"
    },
    {
     "data": {
      "text/plain": [
       "<Figure size 2160x2160 with 0 Axes>"
      ]
     },
     "metadata": {},
     "output_type": "display_data"
    }
   ],
   "source": [
    "winnerPercent = np.array([winnerTable['White'], winnerTable['Black']])\n",
    "\n",
    "plt.style.use('seaborn-ticks')\n",
    "plt.pie(winnerPercent,\n",
    "        labels=['White Win','Black Win'], # 设置饼图标签\n",
    "        colors=[\"#d5695d\", \"#5d8ca8\"], # 设置饼图颜色\n",
    "        autopct='%.2f%%', # 格式化输出百分比\n",
    "       )\n",
    "plt.title(\"Winning percentage\") # 设置标题\n",
    "plt.figure(figsize=(30,30))\n",
    "plt.show()"
   ]
  },
  {
   "cell_type": "markdown",
   "metadata": {},
   "source": [
    "4. Both\twhites\tand\tblacks\tuse\tthe\tsame\talfa-beta\tpruning.\tRun\tten\tsimulations\teach\twhile\t\n",
    "varying\tthe\tdepth\twith\twhich\teach\tteam\tplays\t(1-5)\t(2p)\n",
    "\n",
    "> a. Plot\tthe\tproportion\tof\twins\tfor\twhites\ta"
   ]
  },
  {
   "cell_type": "code",
   "execution_count": null,
   "metadata": {},
   "outputs": [],
   "source": [
    "WhitePlayerAlphaBeta = copy.deepcopy(WhitePlayerAichess)\n",
    "BlackPlayerAlphaBeta = copy.deepcopy(BlackPlayerAichess)\n",
    "\n",
    "\n",
    "winnerTable = dict()\n",
    "\n",
    "ite = itertools.product(range(1,6), repeat=2)\n",
    "\n",
    "#print(list(ite))\n",
    "\n",
    "\n",
    "for depthW, depthB in tqdm(list(ite)):\n",
    "    print(f\"{depthW}:{depthB}\")\n",
    "    for game in tqdm(range(10)):\n",
    "        pass"
   ]
  },
  {
   "cell_type": "code",
   "execution_count": null,
   "metadata": {},
   "outputs": [],
   "source": [
    "# winnerPercent = np.array([winnerTable['White'], winnerTable['Black']])\n",
    "\n",
    "# plt.style.use('seaborn-ticks')\n",
    "# plt.pie(winnerPercent,\n",
    "#         labels=['White Win','Black Win'], # 设置饼图标签\n",
    "#         colors=[\"#d5695d\", \"#5d8ca8\"], # 设置饼图颜色\n",
    "#         autopct='%.2f%%', # 格式化输出百分比\n",
    "#        )\n",
    "# plt.title(\"Winning percentage\") # 设置标题\n",
    "# plt.figure(figsize=(30,30))\n",
    "# plt.show()"
   ]
  },
  {
   "cell_type": "markdown",
   "metadata": {},
   "source": [
    "5. Implement\tthe\texpectimax\talgorithm\tfor\twhites\tand\tblacks. (2p)"
   ]
  },
  {
   "cell_type": "markdown",
   "metadata": {},
   "source": [
    "> a. Whites\tplay\texpectimax,\tblacks\talfa-beta\tpruning"
   ]
  },
  {
   "cell_type": "markdown",
   "metadata": {},
   "source": [
    "> > i. Run\t10\tsimulations\teach\tand\tplot\tthe\tproportion\tof\twins\tfor\twhites/blacks"
   ]
  },
  {
   "cell_type": "code",
   "execution_count": null,
   "metadata": {},
   "outputs": [],
   "source": []
  },
  {
   "cell_type": "code",
   "execution_count": null,
   "metadata": {},
   "outputs": [],
   "source": []
  },
  {
   "cell_type": "markdown",
   "metadata": {},
   "source": [
    "> b. Now\twhites\tplay\talfa-beta\tpruning,\tblacks\texpectimax."
   ]
  },
  {
   "cell_type": "markdown",
   "metadata": {},
   "source": [
    "> > i. Run\t again\t 10\t simulations\t each\t and\t plot\t the\t proportion\t of\t wins\t for\t\n",
    "whites/blacks."
   ]
  }
 ],
 "metadata": {
  "kernelspec": {
   "display_name": "Python 3.9.12 ('base')",
   "language": "python",
   "name": "python3"
  },
  "language_info": {
   "codemirror_mode": {
    "name": "ipython",
    "version": 3
   },
   "file_extension": ".py",
   "mimetype": "text/x-python",
   "name": "python",
   "nbconvert_exporter": "python",
   "pygments_lexer": "ipython3",
   "version": "3.9.12"
  },
  "orig_nbformat": 4,
  "vscode": {
   "interpreter": {
    "hash": "90fed515b7734aabf0d0d60c56e1b4ca7689adec66ddda4b20199f9e4ac409df"
   }
  }
 },
 "nbformat": 4,
 "nbformat_minor": 2
}
