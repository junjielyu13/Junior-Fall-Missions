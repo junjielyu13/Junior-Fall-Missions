{
  "cells": [
    {
      "cell_type": "markdown",
      "metadata": {
        "id": "3L0KIzZ5UopP"
      },
      "source": [
        "Heart disease prediction using Random Forests\n",
        "\n",
        "This code is accompanied with several tips including classes, functions and methods to use. Please note that you do not have to follow these tips, but they might be handy in some cases.\n",
        "\n",
        "Author: Polyxeni Gkontra (polyxeni.gkontra@ub.edy)"
      ]
    },
    {
      "cell_type": "code",
      "execution_count": null,
      "metadata": {
        "id": "4vLA3S8FQ5Ic"
      },
      "outputs": [],
      "source": [
        "import pandas as pd\n",
        "from sklearn.model_selection import train_test_split\n",
        "from sklearn.utils import shuffle\n",
        "from sklearn.preprocessing import OrdinalEncoder, MinMaxScaler\n",
        "from sklearn.compose import ColumnTransformer\n",
        "from sklearn.ensemble import RandomForestClassifier\n",
        "from sklearn.pipeline import Pipeline\n",
        "from sklearn.metrics import classification_report, roc_curve\n",
        "from sklearn.metrics import accuracy_score\n",
        "from matplotlib import pyplot as plt\n"
      ]
    },
    {
      "cell_type": "markdown",
      "metadata": {
        "id": "oQ1lwUl2RCXi"
      },
      "source": [
        "Read the .csv file with the patient information (TIP: you can use read_csv function from pandas) "
      ]
    },
    {
      "cell_type": "code",
      "execution_count": null,
      "metadata": {
        "id": "-rLWocICRdoM"
      },
      "outputs": [],
      "source": []
    },
    {
      "cell_type": "markdown",
      "metadata": {
        "id": "YWDl5DcsRsiL"
      },
      "source": [
        "Explore your data. E.g. Print the file or few lines to see how it looks like (TIP: If you want to see just few lines consider function head(). Functions dtypes() and describe() are useful to check the type of the data in each column and statistical properties, respectively)"
      ]
    },
    {
      "cell_type": "code",
      "execution_count": null,
      "metadata": {
        "id": "q8w-Vz2lSRF_"
      },
      "outputs": [],
      "source": []
    },
    {
      "cell_type": "markdown",
      "metadata": {
        "id": "W3iVsNIKWc2V"
      },
      "source": [
        "Check statistical details on your data like counts, min, max etc"
      ]
    },
    {
      "cell_type": "code",
      "execution_count": null,
      "metadata": {
        "id": "MN-bytnHTM8D"
      },
      "outputs": [],
      "source": []
    },
    {
      "cell_type": "markdown",
      "metadata": {
        "id": "cTNMa0_4uxds"
      },
      "source": [
        "Check the type of the features"
      ]
    },
    {
      "cell_type": "code",
      "execution_count": null,
      "metadata": {
        "id": "x8zBxNY1WhVw"
      },
      "outputs": [],
      "source": []
    },
    {
      "cell_type": "markdown",
      "metadata": {
        "id": "w0rgUY7Ou2Rf"
      },
      "source": [
        "Check how many patients you have from each category"
      ]
    },
    {
      "cell_type": "markdown",
      "metadata": {
        "id": "RLXdZHrWtQOg"
      },
      "source": [
        "Split your dataset into training and testing creating a balanced dataset (TIP: 1. You can drop patients from the majority class, 2. You can use from scikit-learn, train_test_split(), 3. Good ML practices suggest to always shuffle your data, for dataframes you can use sample but watch out to add reset_index(drop=True) to reset the idnex but avoid creating a column with the index)"
      ]
    },
    {
      "cell_type": "code",
      "execution_count": null,
      "metadata": {
        "id": "YsbrtiZKtuH7"
      },
      "outputs": [],
      "source": []
    },
    {
      "cell_type": "markdown",
      "metadata": {
        "id": "lZf-RcFlEaNn"
      },
      "source": [
        "Data pre-processing \n",
        "\n",
        "1.   Encode categorical variables  (TIP: Check OrdinalEncoder() from sklearn.preprocessing. Another popular approaches is OneHotEncoder but not appropriate for tree based classifiers, can you imagine why?)\n",
        "2.   Scale numerical data (TIP: Check MinMaxScaler())\n",
        "\n",
        "TIP: 1. It is very important to treat testing and training data separately to avoid data leakage 2. Methods fit_transform (for training data) and tranfrom (for the testing data) from can be very helpful. Alternatively you can use Pipeline and ColumnTransformer from sklearn but it will be more complicated to retrieve feature names for the most important features\n",
        "\n"
      ]
    },
    {
      "cell_type": "code",
      "execution_count": null,
      "metadata": {
        "id": "ZkMEqGHgJRIj"
      },
      "outputs": [],
      "source": []
    },
    {
      "cell_type": "markdown",
      "metadata": {
        "id": "enWczMEnJRr2"
      },
      "source": [
        "Train the model (TIP: Check method fit)"
      ]
    },
    {
      "cell_type": "code",
      "execution_count": null,
      "metadata": {
        "id": "bhzFF2a5FOXT"
      },
      "outputs": [],
      "source": []
    },
    {
      "cell_type": "markdown",
      "metadata": {
        "id": "aWKeeUJoJB4E"
      },
      "source": [
        "Apply the model to the testing data and evaluate its perfromance (TIP: You might use classification_report or roc_auc_score)"
      ]
    },
    {
      "cell_type": "code",
      "execution_count": null,
      "metadata": {
        "id": "g8QQPv0Vo8p6"
      },
      "outputs": [],
      "source": []
    },
    {
      "cell_type": "markdown",
      "metadata": {
        "id": "LmF-0cJYDzQk"
      },
      "source": [
        "Get the feature importance in the model's estimation and plot the most important features (TIP: To get feature importance and names you can use feature_importances_ and feature_names_in attributes of your model, respectively)"
      ]
    },
    {
      "cell_type": "code",
      "execution_count": null,
      "metadata": {
        "id": "0usmZLR4ELgL"
      },
      "outputs": [],
      "source": [
        "\n"
      ]
    }
  ],
  "metadata": {
    "colab": {
      "provenance": []
    },
    "kernelspec": {
      "display_name": "Python 3",
      "language": "python",
      "name": "python3"
    },
    "language_info": {
      "name": "python",
      "version": "3.10.7 (tags/v3.10.7:6cc6b13, Sep  5 2022, 14:08:36) [MSC v.1933 64 bit (AMD64)]"
    },
    "vscode": {
      "interpreter": {
        "hash": "c565597e682a3ecd56ca2f3628507b813298df9842f4b1af2ebb7ab3d7b1034d"
      }
    }
  },
  "nbformat": 4,
  "nbformat_minor": 0
}
