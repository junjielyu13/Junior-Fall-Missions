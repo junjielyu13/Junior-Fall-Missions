{
 "cells": [
  {
   "cell_type": "markdown",
   "metadata": {},
   "source": [
    "# Numpy\n",
    "\n",
    "Dur a terme operacions matemàtiques en Python és complicat, com podem simplificar-ho i operar amb vectors o inclús matrius? \n",
    "\n",
    "La resposta és la llibreria **Numpy**."
   ]
  },
  {
   "cell_type": "code",
   "execution_count": 168,
   "metadata": {},
   "outputs": [],
   "source": [
    "import numpy as np"
   ]
  },
  {
   "cell_type": "markdown",
   "metadata": {},
   "source": [
    "Tornem a l'exemple anterior, com calcular $z = x + y$ on $x=(1, 2, 3), y=(2, 3, 4)$?"
   ]
  },
  {
   "cell_type": "code",
   "execution_count": 169,
   "metadata": {},
   "outputs": [
    {
     "data": {
      "text/plain": [
       "array([1, 2, 3])"
      ]
     },
     "execution_count": 169,
     "metadata": {},
     "output_type": "execute_result"
    }
   ],
   "source": [
    "# Necessitem convertir les llistes de python a elements de numpy\n",
    "x = [1, 2, 3]\n",
    "y = [2, 3, 4]\n",
    "\n",
    "x = np.array(x)\n",
    "y = np.asarray(y)\n",
    "\n",
    "# Inspeccionem que és ara x\n",
    "x"
   ]
  },
  {
   "cell_type": "code",
   "execution_count": 170,
   "metadata": {},
   "outputs": [
    {
     "data": {
      "text/plain": [
       "array([3, 5, 7])"
      ]
     },
     "execution_count": 170,
     "metadata": {},
     "output_type": "execute_result"
    }
   ],
   "source": [
    "# A partir d'ara, podem operar amb aquestes \"x\" i \"y\" com si fossin vectors matemàtics\n",
    "\n",
    "z = x + y\n",
    "z"
   ]
  },
  {
   "cell_type": "markdown",
   "metadata": {},
   "source": [
    "## 1. Vectors i matrius (arrays i arrays ndimensionals)"
   ]
  },
  {
   "cell_type": "markdown",
   "metadata": {},
   "source": [
    "Existeixen diferents formes de crear elements en numpy:\n",
    "    \n",
    "* Vectors a partir de llistes de python\n",
    "* Vectors directament des de numpy\n",
    "* Matrius a partir de llistes de llistes\n",
    "* Matrius amb numpy"
   ]
  },
  {
   "cell_type": "code",
   "execution_count": 171,
   "metadata": {
    "scrolled": true,
    "tags": []
   },
   "outputs": [
    {
     "name": "stdout",
     "output_type": "stream",
     "text": [
      "[1 2 3]\n",
      "[0. 0. 0. 0. 0. 0. 0. 0.]\n",
      "[7. 7. 7. 7. 7.]\n"
     ]
    }
   ],
   "source": [
    "# Abans hem vist la creació a partir d'una llista de python\n",
    "# _Les dues són equivalents_\n",
    "vector = np.asarray([1, 2, 3])\n",
    "vector = np.array([1, 2, 3])\n",
    "print(vector)\n",
    "\n",
    "# També es pot crear directament vectors de 0's o 1's\n",
    "# Per exemple, un vector de 8 0's\n",
    "zeros = np.zeros(8)\n",
    "print(zeros)\n",
    "\n",
    "# Un vector de 5 0's\n",
    "ones = np.ones(5)*7\n",
    "print(ones)"
   ]
  },
  {
   "cell_type": "markdown",
   "metadata": {},
   "source": [
    "Fixa't que per defecte numpy crea vectors de tipus `float` quan es fa servir `ones` o `zeros`, amb la quantitat que li indiquem.\n",
    "\n",
    "D'altra banda, si li donem una llista de python, infereix el tipus d'aquesta. Per exemple, abans la llista contenia enters, i per tant ha utilitzat el tipus `int`.\n",
    "\n",
    "Que passaria en aquest cas?"
   ]
  },
  {
   "cell_type": "code",
   "execution_count": 172,
   "metadata": {},
   "outputs": [
    {
     "data": {
      "text/plain": [
       "array([1., 2.])"
      ]
     },
     "execution_count": 172,
     "metadata": {},
     "output_type": "execute_result"
    }
   ],
   "source": [
    "np.asarray([1, 2.0])"
   ]
  },
  {
   "cell_type": "markdown",
   "metadata": {},
   "source": [
    "Si hi ha tipus barrejats, com ara `int` i `float`, numpy escull sempre el tipus flotant. Podem, però, indicar un tipus diferent:"
   ]
  },
  {
   "cell_type": "code",
   "execution_count": 173,
   "metadata": {},
   "outputs": [
    {
     "name": "stdout",
     "output_type": "stream",
     "text": [
      "Per defecte\n",
      "[   1.     2.5    3.6  256.    -1.  -256. ]\n",
      "\n",
      "Flotants\n",
      "[   1.     2.5    3.6  256.    -1.  -256. ]\n",
      "[   1.     2.5    3.6  256.    -1.  -256. ]\n",
      "[   1.     2.5    3.6  256.    -1.  -256. ]\n",
      "\n",
      "Enters\n",
      "[   1    2    3  256   -1 -256]\n",
      "[   1    2    3  256   -1 -256]\n",
      "[         1          2          3        256 4294967295 4294967040]\n",
      "[ 1  2  3  0 -1  0]\n",
      "[  1   2   3   0 255   0]\n"
     ]
    }
   ],
   "source": [
    "print('Per defecte')\n",
    "print(np.asarray([1.0, 2.5, 3.6, 256, -1, -256]))\n",
    "\n",
    "print('\\nFlotants')\n",
    "print(np.asarray([1.0, 2.5, 3.6, 256, -1, -256], dtype=float))\n",
    "print(np.asarray([1.0, 2.5, 3.6, 256, -1, -256], dtype=np.float32))\n",
    "print(np.asarray([1.0, 2.5, 3.6, 256, -1, -256], dtype=np.float64))\n",
    "\n",
    "print('\\nEnters')\n",
    "print(np.asarray([1.0, 2.5, 3.6, 256, -1, -256], dtype=int))\n",
    "print(np.asarray([1.0, 2.5, 3.6, 256, -1, -256], dtype=np.int32))\n",
    "print(np.asarray([1.0, 2.5, 3.6, 256, -1, -256], dtype=np.uint32))\n",
    "print(np.asarray([1.0, 2.5, 3.6, 256, -1, -256], dtype=np.int8))\n",
    "print(np.asarray([1.0, 2.5, 3.6, 256, -1, -256], dtype=np.uint8))"
   ]
  },
  {
   "cell_type": "code",
   "execution_count": 174,
   "metadata": {},
   "outputs": [
    {
     "name": "stdout",
     "output_type": "stream",
     "text": [
      "[1. 2. 3.]\n",
      "float64\n",
      "[1 2 3]\n",
      "int32\n"
     ]
    },
    {
     "name": "stderr",
     "output_type": "stream",
     "text": [
      "C:\\Users\\JUNJIE_LI\\AppData\\Local\\Temp\\ipykernel_15464\\1263429150.py:5: DeprecationWarning: `np.int` is a deprecated alias for the builtin `int`. To silence this warning, use `int` by itself. Doing this will not modify any behavior and is safe. When replacing `np.int`, you may wish to use e.g. `np.int64` or `np.int32` to specify the precision. If you wish to review your current use, check the release note link for additional information.\n",
      "Deprecated in NumPy 1.20; for more details and guidance: https://numpy.org/devdocs/release/1.20.0-notes.html#deprecations\n",
      "  vector = vector.astype(np.int)\n"
     ]
    }
   ],
   "source": [
    "# En qualsevol moment podem canviar el tipus també\n",
    "vector = np.asarray([1.0, 2.0, 3.0])\n",
    "print(vector)\n",
    "print(vector.dtype)\n",
    "vector = vector.astype(np.int)\n",
    "print(vector)\n",
    "print(vector.dtype)"
   ]
  },
  {
   "cell_type": "markdown",
   "metadata": {},
   "source": [
    "També podem crear matrius:"
   ]
  },
  {
   "cell_type": "code",
   "execution_count": 175,
   "metadata": {},
   "outputs": [
    {
     "data": {
      "text/plain": [
       "array([[1., 1., 1., 1.],\n",
       "       [1., 1., 1., 1.],\n",
       "       [1., 1., 1., 1.]])"
      ]
     },
     "execution_count": 175,
     "metadata": {},
     "output_type": "execute_result"
    }
   ],
   "source": [
    "np.ones((3, 4))"
   ]
  },
  {
   "cell_type": "code",
   "execution_count": 176,
   "metadata": {},
   "outputs": [
    {
     "data": {
      "text/plain": [
       "array([[0., 0., 0., 0., 0., 0., 0.],\n",
       "       [0., 0., 0., 0., 0., 0., 0.]])"
      ]
     },
     "execution_count": 176,
     "metadata": {},
     "output_type": "execute_result"
    }
   ],
   "source": [
    "np.zeros((2, 7))"
   ]
  },
  {
   "cell_type": "code",
   "execution_count": 177,
   "metadata": {},
   "outputs": [
    {
     "data": {
      "text/plain": [
       "array([[  1,   2,   3,   4],\n",
       "       [ 10,  20,  30,  40],\n",
       "       [100, 200, 300, 400]])"
      ]
     },
     "execution_count": 177,
     "metadata": {},
     "output_type": "execute_result"
    }
   ],
   "source": [
    "np.asarray([\n",
    "    [1, 2, 3, 4],\n",
    "    [10, 20, 30, 40],\n",
    "    [100, 200, 300, 400]\n",
    "])"
   ]
  },
  {
   "cell_type": "markdown",
   "metadata": {},
   "source": [
    "I podem crear matrius a partir de les dimensions d'una altra matriu"
   ]
  },
  {
   "cell_type": "code",
   "execution_count": 178,
   "metadata": {},
   "outputs": [
    {
     "name": "stdout",
     "output_type": "stream",
     "text": [
      "(5, 4)\n"
     ]
    }
   ],
   "source": [
    "matriu_1 = np.ones((5, 4)) # Creem una matriu 5x4\n",
    "print(matriu_1.shape)"
   ]
  },
  {
   "cell_type": "code",
   "execution_count": 179,
   "metadata": {},
   "outputs": [
    {
     "name": "stdout",
     "output_type": "stream",
     "text": [
      "(5, 4)\n"
     ]
    }
   ],
   "source": [
    "matriu_2 = np.zeros_like(matriu_1) # Creem la matriu_2 a partir de la forma de la 1\n",
    "print(matriu_2.shape)"
   ]
  },
  {
   "cell_type": "markdown",
   "metadata": {},
   "source": [
    "També podem manipular la forma"
   ]
  },
  {
   "cell_type": "code",
   "execution_count": 180,
   "metadata": {},
   "outputs": [
    {
     "name": "stdout",
     "output_type": "stream",
     "text": [
      "(3, 6)\n",
      "(6, 3)\n",
      "(2, 3, 3)\n"
     ]
    }
   ],
   "source": [
    "mat = np.ones((3, 6))\n",
    "print(mat.shape)\n",
    "mat = mat.reshape((6, 3))\n",
    "print(mat.shape)\n",
    "mat = mat.reshape((2,3,3))\n",
    "print(mat.shape)"
   ]
  },
  {
   "cell_type": "code",
   "execution_count": null,
   "metadata": {},
   "outputs": [],
   "source": []
  },
  {
   "cell_type": "markdown",
   "metadata": {},
   "source": [
    "## 2. Operacions sobre vectors i matrius"
   ]
  },
  {
   "cell_type": "markdown",
   "metadata": {},
   "source": [
    "Com amb les llistes, podem fer operacions de reducció sobre vectors o matrius"
   ]
  },
  {
   "cell_type": "code",
   "execution_count": 181,
   "metadata": {},
   "outputs": [
    {
     "name": "stdout",
     "output_type": "stream",
     "text": [
      "Sum\n",
      "10\n",
      "10\n",
      "\n",
      "Max\n",
      "4\n",
      "4\n",
      "\n",
      "Min\n",
      "1\n",
      "1\n",
      "\n",
      "Prod\n",
      "24\n",
      "24\n"
     ]
    }
   ],
   "source": [
    "vector = np.asarray([1, 2, 3, 4])\n",
    "\n",
    "# És equivalent np.sum(x) i x.sum()\n",
    "print(\"Sum\")\n",
    "print(np.sum(vector))\n",
    "print(vector.sum())\n",
    "\n",
    "print(\"\\nMax\")\n",
    "print(np.max(vector))\n",
    "print(vector.max())\n",
    "\n",
    "print(\"\\nMin\")\n",
    "print(np.min(vector))\n",
    "print(vector.min())\n",
    "\n",
    "print(\"\\nProd\")\n",
    "print(np.prod(vector))\n",
    "print(vector.prod())"
   ]
  },
  {
   "cell_type": "markdown",
   "metadata": {},
   "source": [
    "En el cas de les matrius, les operacions actuen de forma global per defecte, però se'ls hi pot indicar sobre quina dimensió efectuar l'operació:\n",
    "\n",
    "* **Columnes**: dimensió 0\n",
    "* **Files**: dimensió 1"
   ]
  },
  {
   "cell_type": "code",
   "execution_count": 182,
   "metadata": {},
   "outputs": [
    {
     "name": "stdout",
     "output_type": "stream",
     "text": [
      "Sum\n",
      "1110\n",
      "[111 222 333 444]\n",
      "[  10  100 1000]\n"
     ]
    }
   ],
   "source": [
    "# Fem una matriu 3x4\n",
    "matriu = np.asarray([[1, 2, 3, 4], [10, 20, 30, 40], [100, 200, 300, 400]])\n",
    "\n",
    "print(\"Sum\")\n",
    "print(matriu.sum())\n",
    "print(matriu.sum(axis=0))\n",
    "print(matriu.sum(axis=1))\n",
    "\n",
    "# Anàlogament per la resta de les operacions"
   ]
  },
  {
   "cell_type": "markdown",
   "metadata": {},
   "source": [
    "**Atenció**: Eviteu fer servir les funcions de `python` pures!\n",
    "\n",
    "```python\n",
    "# sum(matriu)\n",
    "#    vs\n",
    "np.sum(matriu) # O matriu.sum()\n",
    "```"
   ]
  },
  {
   "cell_type": "markdown",
   "metadata": {},
   "source": [
    "Sempre tenim l'equivalent en Numpy de tot:"
   ]
  },
  {
   "cell_type": "code",
   "execution_count": 183,
   "metadata": {},
   "outputs": [
    {
     "data": {
      "text/plain": [
       "array([[  1,   2,   3,   4],\n",
       "       [ 10,  20,  30,  40],\n",
       "       [100, 200, 300, 400]])"
      ]
     },
     "execution_count": 183,
     "metadata": {},
     "output_type": "execute_result"
    }
   ],
   "source": [
    "np.abs(matriu) # enlloc de abs(matriu)"
   ]
  },
  {
   "cell_type": "code",
   "execution_count": null,
   "metadata": {},
   "outputs": [],
   "source": []
  },
  {
   "cell_type": "markdown",
   "metadata": {},
   "source": [
    "## 3. Indexació"
   ]
  },
  {
   "cell_type": "markdown",
   "metadata": {},
   "source": [
    "Com en Python, fent servir Numpy podem accedir a elements en particular d'un vector o matriu"
   ]
  },
  {
   "cell_type": "code",
   "execution_count": 184,
   "metadata": {},
   "outputs": [
    {
     "data": {
      "text/plain": [
       "[1, 3, 3]"
      ]
     },
     "execution_count": 184,
     "metadata": {},
     "output_type": "execute_result"
    }
   ],
   "source": [
    "llista = [1, 2, 3]\n",
    "llista[-2] = 3\n",
    "llista\n"
   ]
  },
  {
   "cell_type": "code",
   "execution_count": 185,
   "metadata": {},
   "outputs": [
    {
     "data": {
      "text/plain": [
       "array([1, 2, 3, 4])"
      ]
     },
     "execution_count": 185,
     "metadata": {},
     "output_type": "execute_result"
    }
   ],
   "source": [
    "vector"
   ]
  },
  {
   "cell_type": "code",
   "execution_count": 186,
   "metadata": {},
   "outputs": [
    {
     "name": "stdout",
     "output_type": "stream",
     "text": [
      "1\n",
      "4\n",
      "4\n",
      "[2 3]\n"
     ]
    }
   ],
   "source": [
    "print(vector[0])\n",
    "print(vector[3])\n",
    "print(vector[-1])\n",
    "print(vector[1:3])"
   ]
  },
  {
   "cell_type": "code",
   "execution_count": 187,
   "metadata": {},
   "outputs": [
    {
     "data": {
      "text/plain": [
       "array([[  1,   2,   3,   4],\n",
       "       [ 10,  20,  30,  40],\n",
       "       [100, 200, 300, 400]])"
      ]
     },
     "execution_count": 187,
     "metadata": {},
     "output_type": "execute_result"
    }
   ],
   "source": [
    "matriu"
   ]
  },
  {
   "cell_type": "code",
   "execution_count": 188,
   "metadata": {},
   "outputs": [
    {
     "name": "stdout",
     "output_type": "stream",
     "text": [
      "1\n",
      "2\n",
      "30\n",
      "400\n",
      "\n",
      "[ 1 10]\n",
      "[20 30]\n",
      "[[ 2  3]\n",
      " [20 30]]\n",
      "\n",
      "[10 20]\n",
      "[[10 20]]\n",
      "\n",
      "[ 10 300]\n",
      "[[[ 10  20  30  40]\n",
      "  [100 200 300 400]]\n",
      "\n",
      " [[  1   2   3   4]\n",
      "  [100 200 300 400]]]\n"
     ]
    }
   ],
   "source": [
    "# Un element en concret\n",
    "print(matriu[0, 0]) # Fila 0, Columna 0\n",
    "print(matriu[0, 1]) # Fila 0, Columna 1\n",
    "print(matriu[1, 2]) # Fila 1, Columna 2\n",
    "print(matriu[2, 3]) # Fila 2, Columna 3\n",
    "\n",
    "# Rangs de files i/o columnes\n",
    "print()\n",
    "print(matriu[0:2, 0]) # Files 0 i 1, Columna 0\n",
    "print(matriu[1, 1:3]) # Fila 1, Columnes 1 i 2\n",
    "print(matriu[0:2, 1:3]) # Fila 0 i 1, Columna 1 i 2\n",
    "\n",
    "# Quina diferència hi ha?\n",
    "print()\n",
    "print(matriu[1, 0:2])   # Fila 1, Columnes 0 i 1\n",
    "print(matriu[1:2, 0:2]) # Fila 1, Columnes 0 i 1\n",
    "\n",
    "# Seleccions d'elements múltiples\n",
    "print()\n",
    "print(matriu[[1, 2], [0, 2]]) # Element a (1, 0) i a (2, 2)\n",
    "\n",
    "print(matriu[[(1, 2), (0, 2)]])"
   ]
  },
  {
   "cell_type": "code",
   "execution_count": null,
   "metadata": {},
   "outputs": [],
   "source": []
  },
  {
   "cell_type": "markdown",
   "metadata": {},
   "source": [
    "## 4. NUMPY FA VISTES, NO CÒPIES!"
   ]
  },
  {
   "cell_type": "code",
   "execution_count": 189,
   "metadata": {},
   "outputs": [
    {
     "data": {
      "text/plain": [
       "array([[ 20,  30],\n",
       "       [200, 300]])"
      ]
     },
     "execution_count": 189,
     "metadata": {},
     "output_type": "execute_result"
    }
   ],
   "source": [
    "matriu = np.asarray([[1, 2, 3, 4], [10, 20, 30, 40], [100, 200, 300, 400]])\n",
    "submatriu = matriu[1:3, 1:3]\n",
    "submatriu"
   ]
  },
  {
   "cell_type": "code",
   "execution_count": 190,
   "metadata": {},
   "outputs": [],
   "source": [
    "submatriu[1, 1] = 0"
   ]
  },
  {
   "cell_type": "code",
   "execution_count": 191,
   "metadata": {},
   "outputs": [
    {
     "data": {
      "text/plain": [
       "array([[  1,   2,   3,   4],\n",
       "       [ 10,  20,  30,  40],\n",
       "       [100, 200,   0, 400]])"
      ]
     },
     "execution_count": 191,
     "metadata": {},
     "output_type": "execute_result"
    }
   ],
   "source": [
    "matriu"
   ]
  },
  {
   "cell_type": "markdown",
   "metadata": {},
   "source": [
    "També podem fer còpies si volem"
   ]
  },
  {
   "cell_type": "code",
   "execution_count": 192,
   "metadata": {},
   "outputs": [
    {
     "data": {
      "text/plain": [
       "array([[  1,   2,   3,   4],\n",
       "       [ 10,  20,  30,  40],\n",
       "       [100, 200, 300, 400]])"
      ]
     },
     "execution_count": 192,
     "metadata": {},
     "output_type": "execute_result"
    }
   ],
   "source": [
    "matriu = np.asarray([[1, 2, 3, 4], [10, 20, 30, 40], [100, 200, 300, 400]])\n",
    "submatriu = matriu[1:3, 1:3]\n",
    "submatriu = submatriu.copy()\n",
    "submatriu[1, 1] = 0\n",
    "matriu"
   ]
  },
  {
   "cell_type": "code",
   "execution_count": null,
   "metadata": {},
   "outputs": [],
   "source": []
  },
  {
   "cell_type": "markdown",
   "metadata": {},
   "source": [
    "## 5. Indexació booleana\n",
    "\n",
    "Suposa que volem sobreescriure tots els elements negatius d'una matriu per 0, ho podem aconseguir amb indexació booleana"
   ]
  },
  {
   "cell_type": "code",
   "execution_count": 193,
   "metadata": {},
   "outputs": [
    {
     "data": {
      "text/plain": [
       "array([[ 0.82364849,  0.94173939,  0.56284152,  0.81435515],\n",
       "       [ 0.80963002,  0.38436231,  0.80207852,  0.83256063],\n",
       "       [-0.2427818 ,  0.26858092,  0.1519921 ,  0.30184674]])"
      ]
     },
     "execution_count": 193,
     "metadata": {},
     "output_type": "execute_result"
    }
   ],
   "source": [
    "exemple = np.random.uniform(-1, 1, size=(3, 4))\n",
    "exemple"
   ]
  },
  {
   "cell_type": "code",
   "execution_count": 194,
   "metadata": {},
   "outputs": [
    {
     "data": {
      "text/plain": [
       "array([[False, False, False, False],\n",
       "       [False, False, False, False],\n",
       "       [ True, False, False, False]])"
      ]
     },
     "execution_count": 194,
     "metadata": {},
     "output_type": "execute_result"
    }
   ],
   "source": [
    "# 1. Trobem els elements negatius\n",
    "negatius = exemple < 0\n",
    "negatius"
   ]
  },
  {
   "cell_type": "markdown",
   "metadata": {},
   "source": [
    "Ara, podem fer servir aquesta matriu `negatius` com a índexs. Numpy \"seleccionarà\" únicament aquelles posicions on hi hagi un `True`"
   ]
  },
  {
   "cell_type": "code",
   "execution_count": 195,
   "metadata": {},
   "outputs": [
    {
     "data": {
      "text/plain": [
       "array([-0.2427818])"
      ]
     },
     "execution_count": 195,
     "metadata": {},
     "output_type": "execute_result"
    }
   ],
   "source": [
    "exemple[negatius]"
   ]
  },
  {
   "cell_type": "markdown",
   "metadata": {},
   "source": [
    "I, com que Numpy no fa còpies, podem directament canviar els valors d'aquests elements"
   ]
  },
  {
   "cell_type": "code",
   "execution_count": 196,
   "metadata": {},
   "outputs": [
    {
     "data": {
      "text/plain": [
       "array([[0.82364849, 0.94173939, 0.56284152, 0.81435515],\n",
       "       [0.80963002, 0.38436231, 0.80207852, 0.83256063],\n",
       "       [0.        , 0.26858092, 0.1519921 , 0.30184674]])"
      ]
     },
     "execution_count": 196,
     "metadata": {},
     "output_type": "execute_result"
    }
   ],
   "source": [
    "exemple[exemple < 0] = 0\n",
    "exemple"
   ]
  },
  {
   "cell_type": "code",
   "execution_count": null,
   "metadata": {},
   "outputs": [],
   "source": []
  },
  {
   "cell_type": "markdown",
   "metadata": {},
   "source": [
    "## 6. Operacions element a element\n",
    "\n",
    "Es diu que les operacions estan \"vectoritzades\", és a dir que actuen per a cada element de l'array (i de forma ràpida)"
   ]
  },
  {
   "cell_type": "code",
   "execution_count": 197,
   "metadata": {},
   "outputs": [
    {
     "data": {
      "text/plain": [
       "array([2, 3, 4, 5])"
      ]
     },
     "execution_count": 197,
     "metadata": {},
     "output_type": "execute_result"
    }
   ],
   "source": [
    "vector + 1"
   ]
  },
  {
   "cell_type": "code",
   "execution_count": 198,
   "metadata": {},
   "outputs": [
    {
     "data": {
      "text/plain": [
       "array([2, 4, 6, 8])"
      ]
     },
     "execution_count": 198,
     "metadata": {},
     "output_type": "execute_result"
    }
   ],
   "source": [
    "vector * 2"
   ]
  },
  {
   "cell_type": "code",
   "execution_count": 199,
   "metadata": {},
   "outputs": [
    {
     "data": {
      "text/plain": [
       "array([ 1,  4,  9, 16])"
      ]
     },
     "execution_count": 199,
     "metadata": {},
     "output_type": "execute_result"
    }
   ],
   "source": [
    "vector ** 2"
   ]
  },
  {
   "cell_type": "code",
   "execution_count": 200,
   "metadata": {},
   "outputs": [
    {
     "data": {
      "text/plain": [
       "array([2, 4, 6, 8])"
      ]
     },
     "execution_count": 200,
     "metadata": {},
     "output_type": "execute_result"
    }
   ],
   "source": [
    "vector + vector"
   ]
  },
  {
   "cell_type": "code",
   "execution_count": 201,
   "metadata": {},
   "outputs": [
    {
     "data": {
      "text/plain": [
       "array([ 1,  4,  9, 16])"
      ]
     },
     "execution_count": 201,
     "metadata": {},
     "output_type": "execute_result"
    }
   ],
   "source": [
    "vector * vector"
   ]
  },
  {
   "cell_type": "markdown",
   "metadata": {},
   "source": [
    "I per matrius:"
   ]
  },
  {
   "cell_type": "code",
   "execution_count": 202,
   "metadata": {},
   "outputs": [
    {
     "data": {
      "text/plain": [
       "array([[  2,   3,   4,   5],\n",
       "       [ 11,  21,  31,  41],\n",
       "       [101, 201, 301, 401]])"
      ]
     },
     "execution_count": 202,
     "metadata": {},
     "output_type": "execute_result"
    }
   ],
   "source": [
    "matriu + 1"
   ]
  },
  {
   "cell_type": "code",
   "execution_count": 203,
   "metadata": {},
   "outputs": [
    {
     "data": {
      "text/plain": [
       "array([[  2,   4,   6,   8],\n",
       "       [ 20,  40,  60,  80],\n",
       "       [200, 400, 600, 800]])"
      ]
     },
     "execution_count": 203,
     "metadata": {},
     "output_type": "execute_result"
    }
   ],
   "source": [
    "matriu * 2"
   ]
  },
  {
   "cell_type": "code",
   "execution_count": 204,
   "metadata": {},
   "outputs": [
    {
     "data": {
      "text/plain": [
       "array([[     1,      4,      9,     16],\n",
       "       [   100,    400,    900,   1600],\n",
       "       [ 10000,  40000,  90000, 160000]])"
      ]
     },
     "execution_count": 204,
     "metadata": {},
     "output_type": "execute_result"
    }
   ],
   "source": [
    "matriu ** 2"
   ]
  },
  {
   "cell_type": "code",
   "execution_count": 205,
   "metadata": {},
   "outputs": [
    {
     "data": {
      "text/plain": [
       "array([[  2,   4,   6,   8],\n",
       "       [ 20,  40,  60,  80],\n",
       "       [200, 400, 600, 800]])"
      ]
     },
     "execution_count": 205,
     "metadata": {},
     "output_type": "execute_result"
    }
   ],
   "source": [
    "matriu + matriu"
   ]
  },
  {
   "cell_type": "code",
   "execution_count": 206,
   "metadata": {},
   "outputs": [
    {
     "data": {
      "text/plain": [
       "array([[     1,      4,      9,     16],\n",
       "       [   100,    400,    900,   1600],\n",
       "       [ 10000,  40000,  90000, 160000]])"
      ]
     },
     "execution_count": 206,
     "metadata": {},
     "output_type": "execute_result"
    }
   ],
   "source": [
    "matriu * matriu"
   ]
  },
  {
   "cell_type": "markdown",
   "metadata": {},
   "source": [
    "**Nota**: Quan treballem amb matrius l'operador * actua per cada element, no és la multiplicació matricial, aquesta es pot fer de dues formes (equivalents)"
   ]
  },
  {
   "cell_type": "code",
   "execution_count": 207,
   "metadata": {},
   "outputs": [
    {
     "data": {
      "text/plain": [
       "array([[  1,  10, 100],\n",
       "       [  2,  20, 200],\n",
       "       [  3,  30, 300],\n",
       "       [  4,  40, 400]])"
      ]
     },
     "execution_count": 207,
     "metadata": {},
     "output_type": "execute_result"
    }
   ],
   "source": [
    "matriu.T"
   ]
  },
  {
   "cell_type": "code",
   "execution_count": 208,
   "metadata": {},
   "outputs": [
    {
     "data": {
      "text/plain": [
       "array([[    30,    300,   3000],\n",
       "       [   300,   3000,  30000],\n",
       "       [  3000,  30000, 300000]])"
      ]
     },
     "execution_count": 208,
     "metadata": {},
     "output_type": "execute_result"
    }
   ],
   "source": [
    "np.dot(matriu, matriu.T)"
   ]
  },
  {
   "cell_type": "code",
   "execution_count": 209,
   "metadata": {},
   "outputs": [
    {
     "data": {
      "text/plain": [
       "array([[    30,    300,   3000],\n",
       "       [   300,   3000,  30000],\n",
       "       [  3000,  30000, 300000]])"
      ]
     },
     "execution_count": 209,
     "metadata": {},
     "output_type": "execute_result"
    }
   ],
   "source": [
    "matriu @ matriu.T"
   ]
  },
  {
   "cell_type": "code",
   "execution_count": 210,
   "metadata": {
    "scrolled": true
   },
   "outputs": [
    {
     "data": {
      "text/plain": [
       "array([[  1,  10, 100],\n",
       "       [  2,  20, 200],\n",
       "       [  3,  30, 300],\n",
       "       [  4,  40, 400]])"
      ]
     },
     "execution_count": 210,
     "metadata": {},
     "output_type": "execute_result"
    }
   ],
   "source": [
    "# On `matriu.T` indica la transposada de la matriu:\n",
    "matriu.T"
   ]
  },
  {
   "cell_type": "code",
   "execution_count": 211,
   "metadata": {},
   "outputs": [
    {
     "data": {
      "text/plain": [
       "(3, 4)"
      ]
     },
     "execution_count": 211,
     "metadata": {},
     "output_type": "execute_result"
    }
   ],
   "source": [
    "matriu.shape"
   ]
  },
  {
   "cell_type": "code",
   "execution_count": 212,
   "metadata": {},
   "outputs": [],
   "source": [
    "matriu.T[0, 0] = 3333"
   ]
  },
  {
   "cell_type": "code",
   "execution_count": 213,
   "metadata": {},
   "outputs": [
    {
     "data": {
      "text/plain": [
       "array([[3333,    2,    3,    4],\n",
       "       [  10,   20,   30,   40],\n",
       "       [ 100,  200,  300,  400]])"
      ]
     },
     "execution_count": 213,
     "metadata": {},
     "output_type": "execute_result"
    }
   ],
   "source": [
    "matriu"
   ]
  },
  {
   "cell_type": "code",
   "execution_count": null,
   "metadata": {},
   "outputs": [],
   "source": []
  },
  {
   "cell_type": "markdown",
   "metadata": {},
   "source": [
    "## 7. Difusió de regles (broadcasting)\n",
    "\n",
    "Abans hem vist l'ús bàsic de la difusió de regles, actuar element a element, però numpy permet fer operacions molt més avançades.\n",
    "\n",
    "Per exemple, per fer una operació a cada columna (o fila) no és necessari (i MAI s'hauria de fer) un bucle."
   ]
  },
  {
   "cell_type": "code",
   "execution_count": 214,
   "metadata": {},
   "outputs": [
    {
     "data": {
      "text/plain": [
       "array([[0.49569133, 0.49104951, 0.10816195, 0.82571291],\n",
       "       [0.90989979, 0.30298398, 0.90098333, 0.92152091],\n",
       "       [0.05222904, 0.79368258, 0.33607991, 0.59307407]])"
      ]
     },
     "execution_count": 214,
     "metadata": {},
     "output_type": "execute_result"
    }
   ],
   "source": [
    "matriu = np.random.uniform(size=(3, 4))\n",
    "matriu"
   ]
  },
  {
   "cell_type": "markdown",
   "metadata": {},
   "source": [
    "Volem fer una operació que consisteix a **normalitzar** la matriu per columnes, per tal que la suma de la columna sigui 1.\n",
    "\n",
    "**Com NO fer-ho:** Obtenim primer la suma de les columnes, bucle per cada columna i dividim"
   ]
  },
  {
   "cell_type": "code",
   "execution_count": 215,
   "metadata": {},
   "outputs": [
    {
     "data": {
      "text/plain": [
       "array([1.45782016, 1.58771607, 1.34522519, 2.34030789])"
      ]
     },
     "execution_count": 215,
     "metadata": {},
     "output_type": "execute_result"
    }
   ],
   "source": [
    "sumes = matriu.sum(axis=0)\n",
    "sumes"
   ]
  },
  {
   "cell_type": "code",
   "execution_count": 216,
   "metadata": {},
   "outputs": [
    {
     "data": {
      "text/plain": [
       "array([[0.30111949, 0.46908871, 0.46550936, 0.08041989],\n",
       "       [0.26964901, 0.52327585, 0.4267769 , 0.28354426],\n",
       "       [0.4292315 , 0.00763544, 0.10771374, 0.63603585]])"
      ]
     },
     "execution_count": 216,
     "metadata": {},
     "output_type": "execute_result"
    }
   ],
   "source": [
    "matriu = np.random.uniform(size=(3, 4))\n",
    "sumes = matriu.sum(axis=0)\n",
    "\n",
    "for j in range(matriu.shape[1]): # Shape retorna (nº files, nº columnes)\n",
    "    matriu[:, j] = matriu[:, j] / sumes[j]\n",
    "    \n",
    "matriu"
   ]
  },
  {
   "cell_type": "code",
   "execution_count": 217,
   "metadata": {},
   "outputs": [
    {
     "data": {
      "text/plain": [
       "array([1., 1., 1., 1.])"
      ]
     },
     "execution_count": 217,
     "metadata": {},
     "output_type": "execute_result"
    }
   ],
   "source": [
    "matriu.sum(axis=0)"
   ]
  },
  {
   "cell_type": "markdown",
   "metadata": {},
   "source": [
    "**Com SÍ fer-ho:** Obtenim la suma per columnes i dividir directament\n",
    "    \n",
    "Farem la divisió d'una matriu $(3, 4)$ amb un vector de $4$ elements"
   ]
  },
  {
   "cell_type": "code",
   "execution_count": 218,
   "metadata": {},
   "outputs": [
    {
     "data": {
      "text/plain": [
       "((3, 4), (4,))"
      ]
     },
     "execution_count": 218,
     "metadata": {},
     "output_type": "execute_result"
    }
   ],
   "source": [
    "matriu.shape, sumes.shape"
   ]
  },
  {
   "cell_type": "code",
   "execution_count": 219,
   "metadata": {},
   "outputs": [
    {
     "data": {
      "text/plain": [
       "array([[0.31295663, 0.48211167, 0.32870429, 0.3754325 ],\n",
       "       [0.19850844, 0.38904134, 0.38227084, 0.60061612],\n",
       "       [0.48853493, 0.12884699, 0.28902487, 0.02395139]])"
      ]
     },
     "execution_count": 219,
     "metadata": {},
     "output_type": "execute_result"
    }
   ],
   "source": [
    "matriu = np.random.uniform(size=(3, 4))\n",
    "sumes = matriu.sum(axis=0)\n",
    "norm = matriu / sumes\n",
    "norm"
   ]
  },
  {
   "cell_type": "code",
   "execution_count": 220,
   "metadata": {},
   "outputs": [
    {
     "data": {
      "text/plain": [
       "array([1., 1., 1., 1.])"
      ]
     },
     "execution_count": 220,
     "metadata": {},
     "output_type": "execute_result"
    }
   ],
   "source": [
    "norm.sum(axis=0)"
   ]
  },
  {
   "cell_type": "markdown",
   "metadata": {},
   "source": [
    "#### I per files?\n",
    "\n",
    "Numpy fa la difusió per columnes sempre, mai per files, pel que si intentem fer l'operació de divisió entre una matriu $(3, 4)$ i un vector de $3$ elements, fallarà:"
   ]
  },
  {
   "cell_type": "code",
   "execution_count": 221,
   "metadata": {},
   "outputs": [],
   "source": [
    "matriu = np.random.uniform(size=(3, 4))\n",
    "sumes = matriu.sum(axis=1)\n",
    "# norm = matriu / sumes\n",
    "# norm"
   ]
  },
  {
   "cell_type": "markdown",
   "metadata": {},
   "source": [
    "La solució (1)? Transposem la matriu per tenir-la $(3, 4)$, operem i transposem de nou"
   ]
  },
  {
   "cell_type": "code",
   "execution_count": 222,
   "metadata": {},
   "outputs": [
    {
     "data": {
      "text/plain": [
       "array([[0.33786568, 0.23006457, 0.18883444, 0.24323531],\n",
       "       [0.15841984, 0.15692512, 0.3991819 , 0.28547315],\n",
       "       [0.18921472, 0.04000021, 0.03647392, 0.73431115]])"
      ]
     },
     "execution_count": 222,
     "metadata": {},
     "output_type": "execute_result"
    }
   ],
   "source": [
    "norm = (matriu.T / sumes).T\n",
    "norm"
   ]
  },
  {
   "cell_type": "code",
   "execution_count": 223,
   "metadata": {},
   "outputs": [
    {
     "data": {
      "text/plain": [
       "array([1., 1., 1.])"
      ]
     },
     "execution_count": 223,
     "metadata": {},
     "output_type": "execute_result"
    }
   ],
   "source": [
    "norm.sum(axis=1)"
   ]
  },
  {
   "cell_type": "markdown",
   "metadata": {},
   "source": [
    "La solució (2)? Canviar la forma del vector de $(3)$ a $(3, 1)$. D'aquesta manera estem fent una operació entre dues matrius, una $(3, 4)$ i una $(3, 1)$: numpy el que farà és a cada columna de la matriu (la dimensió que no quadra), aplicar l'operació que li demanem amb tota la columna de les sumes."
   ]
  },
  {
   "cell_type": "code",
   "execution_count": 224,
   "metadata": {},
   "outputs": [
    {
     "data": {
      "text/plain": [
       "array([[2.46491651],\n",
       "       [1.25874715],\n",
       "       [1.1867912 ]])"
      ]
     },
     "execution_count": 224,
     "metadata": {},
     "output_type": "execute_result"
    }
   ],
   "source": [
    "sumes.reshape((3,1))"
   ]
  },
  {
   "cell_type": "code",
   "execution_count": 225,
   "metadata": {},
   "outputs": [
    {
     "data": {
      "text/plain": [
       "array([[0.33786568, 0.23006457, 0.18883444, 0.24323531],\n",
       "       [0.15841984, 0.15692512, 0.3991819 , 0.28547315],\n",
       "       [0.18921472, 0.04000021, 0.03647392, 0.73431115]])"
      ]
     },
     "execution_count": 225,
     "metadata": {},
     "output_type": "execute_result"
    }
   ],
   "source": [
    "norm = matriu / sumes.reshape((3, 1))\n",
    "norm"
   ]
  },
  {
   "cell_type": "code",
   "execution_count": 226,
   "metadata": {},
   "outputs": [
    {
     "data": {
      "text/plain": [
       "array([1., 1., 1.])"
      ]
     },
     "execution_count": 226,
     "metadata": {},
     "output_type": "execute_result"
    }
   ],
   "source": [
    "norm.sum(axis=1)"
   ]
  },
  {
   "cell_type": "code",
   "execution_count": null,
   "metadata": {},
   "outputs": [],
   "source": []
  },
  {
   "cell_type": "markdown",
   "metadata": {},
   "source": [
    "## 8. Not-a-Number (NaN)\n",
    "\n",
    "NaN és un valor especial que serveix per indicar la falta de dades. Segons el tipus de dades, no sempre podem fer servir un valor per defecte. Per exemple, si deixem que l'usuari introdueixi **opcionalment** una valoració numèrica, de valor lliure, no podem fer servir 0 (o qualsevol altre nombre) per indicar que no ha introduït res."
   ]
  },
  {
   "cell_type": "code",
   "execution_count": 227,
   "metadata": {},
   "outputs": [
    {
     "data": {
      "text/plain": [
       "nan"
      ]
     },
     "execution_count": 227,
     "metadata": {},
     "output_type": "execute_result"
    }
   ],
   "source": [
    "np.nan"
   ]
  },
  {
   "cell_type": "markdown",
   "metadata": {},
   "source": [
    "NaN, però, té alguns trucs:"
   ]
  },
  {
   "cell_type": "code",
   "execution_count": 228,
   "metadata": {},
   "outputs": [
    {
     "data": {
      "text/plain": [
       "(False, True)"
      ]
     },
     "execution_count": 228,
     "metadata": {},
     "output_type": "execute_result"
    }
   ],
   "source": [
    "a = np.nan\n",
    "a == np.nan, np.isnan(a)"
   ]
  },
  {
   "cell_type": "code",
   "execution_count": 229,
   "metadata": {},
   "outputs": [
    {
     "data": {
      "text/plain": [
       "array([nan,  2., nan,  3.])"
      ]
     },
     "execution_count": 229,
     "metadata": {},
     "output_type": "execute_result"
    }
   ],
   "source": [
    "vector = np.asarray([np.nan, 2, np.nan, 3])\n",
    "vector"
   ]
  },
  {
   "cell_type": "code",
   "execution_count": 230,
   "metadata": {},
   "outputs": [
    {
     "data": {
      "text/plain": [
       "False"
      ]
     },
     "execution_count": 230,
     "metadata": {},
     "output_type": "execute_result"
    }
   ],
   "source": [
    "vector[0] == np.nan"
   ]
  },
  {
   "cell_type": "code",
   "execution_count": 231,
   "metadata": {},
   "outputs": [
    {
     "data": {
      "text/plain": [
       "True"
      ]
     },
     "execution_count": 231,
     "metadata": {},
     "output_type": "execute_result"
    }
   ],
   "source": [
    "np.isnan(vector[0])"
   ]
  },
  {
   "cell_type": "code",
   "execution_count": 232,
   "metadata": {},
   "outputs": [
    {
     "data": {
      "text/plain": [
       "array([ True, False,  True, False])"
      ]
     },
     "execution_count": 232,
     "metadata": {},
     "output_type": "execute_result"
    }
   ],
   "source": [
    "np.isnan(vector)"
   ]
  },
  {
   "cell_type": "markdown",
   "metadata": {},
   "source": [
    "Exercici: Posar a 0 tots els nans, sense modificar el vector original"
   ]
  },
  {
   "cell_type": "code",
   "execution_count": 233,
   "metadata": {},
   "outputs": [
    {
     "data": {
      "text/plain": [
       "array([ True, False,  True, False])"
      ]
     },
     "execution_count": 233,
     "metadata": {},
     "output_type": "execute_result"
    }
   ],
   "source": [
    "np.isnan(vector)"
   ]
  },
  {
   "cell_type": "code",
   "execution_count": 234,
   "metadata": {},
   "outputs": [],
   "source": [
    "vector2 = vector.copy()\n",
    "# AQUÍ EL TEU CODI\n",
    "vector2 = ..."
   ]
  },
  {
   "cell_type": "code",
   "execution_count": null,
   "metadata": {},
   "outputs": [],
   "source": []
  },
  {
   "cell_type": "markdown",
   "metadata": {},
   "source": [
    "# Exercicis"
   ]
  },
  {
   "cell_type": "code",
   "execution_count": null,
   "metadata": {},
   "outputs": [],
   "source": []
  },
  {
   "cell_type": "markdown",
   "metadata": {},
   "source": [
    "**Exercici 1:** La següent funció retorna el següent càlcul element a element pel vector o matriu d'entrada,\n",
    "\n",
    "$$\\begin{equation} x^2+2x+1 \\end{equation}$$"
   ]
  },
  {
   "cell_type": "code",
   "execution_count": 235,
   "metadata": {},
   "outputs": [],
   "source": [
    "def calcular(x):\n",
    "    \"\"\"\n",
    "    Calcula, per cada element de `x` de forma individual, la funció\n",
    "    x^2+2x+1\n",
    "    \n",
    "    *NO* es poden fer servir bucles ni list-comprehensions\n",
    "    \n",
    "    :param x: np.array amb els elemnts a calcular\n",
    "    :return: np.array amb el càlcul fet\n",
    "    \"\"\"\n",
    "    # AQUÍ EL TEU CODI\n",
    "    raise NotImplementedError"
   ]
  },
  {
   "cell_type": "code",
   "execution_count": 236,
   "metadata": {
    "collapsed": false,
    "jupyter": {
     "outputs_hidden": false
    }
   },
   "outputs": [
    {
     "ename": "NotImplementedError",
     "evalue": "",
     "output_type": "error",
     "traceback": [
      "\u001b[1;31m---------------------------------------------------------------------------\u001b[0m",
      "\u001b[1;31mNotImplementedError\u001b[0m                       Traceback (most recent call last)",
      "Cell \u001b[1;32mIn [236], line 1\u001b[0m\n\u001b[1;32m----> 1\u001b[0m \u001b[38;5;28mprint\u001b[39m(\u001b[43mcalcular\u001b[49m\u001b[43m(\u001b[49m\u001b[43mnp\u001b[49m\u001b[38;5;241;43m.\u001b[39;49m\u001b[43mrandom\u001b[49m\u001b[38;5;241;43m.\u001b[39;49m\u001b[43mrandom\u001b[49m\u001b[43m(\u001b[49m\u001b[43m(\u001b[49m\u001b[38;5;241;43m2\u001b[39;49m\u001b[43m,\u001b[49m\u001b[43m \u001b[49m\u001b[38;5;241;43m2\u001b[39;49m\u001b[43m)\u001b[49m\u001b[43m)\u001b[49m\u001b[43m)\u001b[49m)\n",
      "Cell \u001b[1;32mIn [235], line 12\u001b[0m, in \u001b[0;36mcalcular\u001b[1;34m(x)\u001b[0m\n\u001b[0;32m      2\u001b[0m \u001b[38;5;124;03m\"\"\"\u001b[39;00m\n\u001b[0;32m      3\u001b[0m \u001b[38;5;124;03mCalcula, per cada element de `x` de forma individual, la funció\u001b[39;00m\n\u001b[0;32m      4\u001b[0m \u001b[38;5;124;03mx^2+2x+1\u001b[39;00m\n\u001b[1;32m   (...)\u001b[0m\n\u001b[0;32m      9\u001b[0m \u001b[38;5;124;03m:return: np.array amb el càlcul fet\u001b[39;00m\n\u001b[0;32m     10\u001b[0m \u001b[38;5;124;03m\"\"\"\u001b[39;00m\n\u001b[0;32m     11\u001b[0m \u001b[38;5;66;03m# AQUÍ EL TEU CODI\u001b[39;00m\n\u001b[1;32m---> 12\u001b[0m \u001b[38;5;28;01mraise\u001b[39;00m \u001b[38;5;167;01mNotImplementedError\u001b[39;00m\n",
      "\u001b[1;31mNotImplementedError\u001b[0m: "
     ]
    }
   ],
   "source": [
    "print(calcular(np.random.random((2, 2))))"
   ]
  },
  {
   "cell_type": "code",
   "execution_count": null,
   "metadata": {},
   "outputs": [],
   "source": []
  },
  {
   "cell_type": "markdown",
   "metadata": {},
   "source": [
    "**Exercici 2:** Una altra forma de normalitzar vectors és fer que la seva mitja sigui 0 i la seva desviació estàndard sigui 1. Donat un vector $x$, el vector normalitzat $\\bar{x}$ es calcula\n",
    "\n",
    "$$\\bar{x} = \\frac{x - \\mu_x}{\\sigma_x}$$\n",
    "\n",
    "On $\\mu_x$ és la mitja i $\\sigma_x$ la desviació estandard"
   ]
  },
  {
   "cell_type": "code",
   "execution_count": null,
   "metadata": {},
   "outputs": [],
   "source": [
    "def normalitzar(x):\n",
    "    \"\"\"\n",
    "    Normalitza el vector d'entrada `x` segons la definició\n",
    "    anterior.\n",
    "    \n",
    "    *NO* es poden fer servir bucles ni list-comprehensions\n",
    "    \n",
    "    :param x: np.array en forma de vector (unidimensional)\n",
    "    :return: np.array en forma de vector (unidimensional)\n",
    "    \"\"\"\n",
    "    # AQUÍ EL TEU CODI\n",
    "    raise NotImplementedError"
   ]
  },
  {
   "cell_type": "code",
   "execution_count": null,
   "metadata": {
    "collapsed": false,
    "jupyter": {
     "outputs_hidden": false
    }
   },
   "outputs": [],
   "source": [
    "print(normalitzar(np.random.random(5)))"
   ]
  },
  {
   "cell_type": "code",
   "execution_count": null,
   "metadata": {},
   "outputs": [],
   "source": [
    "def normalitzar_matriu_per_columnes(x):\n",
    "    \"\"\"\n",
    "    Normalitza, segons la definició d'abans, les columnes de la\n",
    "    matriu de forma independent (cada columna es normalitza per la seva\n",
    "    pròpia mitja i desviació estàndard)\n",
    "    \n",
    "    *NO* es poden fer servir bucles ni list-comprehensions\n",
    "    \n",
    "    :param x: np.array en forma matricial (bidimensional)\n",
    "    :return: np.array en forma matricial (bidimensional)\n",
    "    \"\"\"\n",
    "    # AQUÍ EL TEU CODI\n",
    "    raise NotImplementedError"
   ]
  },
  {
   "cell_type": "code",
   "execution_count": null,
   "metadata": {
    "collapsed": false,
    "jupyter": {
     "outputs_hidden": false
    }
   },
   "outputs": [],
   "source": [
    "norm_matrix = normalitzar_matriu_per_columnes(np.random.random((5, 5)))\n",
    "\n",
    "print(norm_matrix)\n",
    "\n",
    "print(np.sum(norm_matrix, axis = 0))"
   ]
  },
  {
   "cell_type": "code",
   "execution_count": null,
   "metadata": {},
   "outputs": [],
   "source": [
    "def normalitzar_matriu_per_files(x):\n",
    "    \"\"\"\n",
    "    Normalitza, segons la definició d'abans, les files de la\n",
    "    matriu de forma independent (cada fila es normalitza per la seva\n",
    "    pròpia mitja i desviació estàndard)\n",
    "    \n",
    "    *NO* es poden fer servir bucles ni list-comprehensions\n",
    "    \n",
    "    :param x: np.array en forma matricial (bidimensional)\n",
    "    :return: np.array en forma matricial (bidimensional)\n",
    "    \"\"\"\n",
    "    \n",
    "    # AQUÍ EL TEU CODI\n",
    "    raise NotImplementedError"
   ]
  },
  {
   "cell_type": "code",
   "execution_count": null,
   "metadata": {},
   "outputs": [],
   "source": [
    "norm_matrix = normalitzar_matriu_per_files(np.random.random((5, 5)))\n",
    "print(norm_matrix)\n",
    "print(np.sum(norm_matrix, axis = 1))"
   ]
  },
  {
   "cell_type": "code",
   "execution_count": null,
   "metadata": {},
   "outputs": [],
   "source": []
  },
  {
   "cell_type": "markdown",
   "metadata": {},
   "source": [
    "**Exercici 3:** Calcula la mitja del vector d'entrada, però qualsevol element NaN ha de ser tractat com si fos un 0."
   ]
  },
  {
   "cell_type": "code",
   "execution_count": null,
   "metadata": {},
   "outputs": [],
   "source": [
    "def calcular_mitja(x):\n",
    "    \"\"\"\n",
    "    Calcula la mitja del vector d'entrada `x`, però qualsevol element\n",
    "    NaN ha de ser tractat com si fos un 0. NO es pot modificar el\n",
    "    vector original que es passa per paràmetre\n",
    "    \n",
    "    *NO* es poden fer servir bucles ni list-comprehensions\n",
    "    \n",
    "    :param x: np.array en forma vectorial (unidimensional)\n",
    "    :return: float amb la mitja\n",
    "    \"\"\"\n",
    "    # AQUÍ EL TEU CODI\n",
    "    raise NotImplementedError"
   ]
  },
  {
   "cell_type": "code",
   "execution_count": null,
   "metadata": {
    "collapsed": false,
    "jupyter": {
     "outputs_hidden": false
    }
   },
   "outputs": [],
   "source": [
    "vec = np.random.random(5)\n",
    "vec[np.random.randint(0, 5)] = np.nan\n",
    "print(calcular_mitja(vec))"
   ]
  }
 ],
 "metadata": {
  "kernelspec": {
   "display_name": "Python 3.10.7 64-bit",
   "language": "python",
   "name": "python3"
  },
  "language_info": {
   "codemirror_mode": {
    "name": "ipython",
    "version": 3
   },
   "file_extension": ".py",
   "mimetype": "text/x-python",
   "name": "python",
   "nbconvert_exporter": "python",
   "pygments_lexer": "ipython3",
   "version": "3.10.7"
  },
  "vscode": {
   "interpreter": {
    "hash": "c565597e682a3ecd56ca2f3628507b813298df9842f4b1af2ebb7ab3d7b1034d"
   }
  }
 },
 "nbformat": 4,
 "nbformat_minor": 4
}
