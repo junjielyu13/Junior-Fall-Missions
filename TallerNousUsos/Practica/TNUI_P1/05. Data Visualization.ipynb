{
 "cells": [
  {
   "cell_type": "markdown",
   "id": "broadband-currency",
   "metadata": {},
   "source": [
    "# Data Visualization\n",
    "\n",
    "Fer grans visualitzacions de dades permet una bona manera de veure el poder de la codificació!"
   ]
  },
  {
   "cell_type": "code",
   "execution_count": null,
   "id": "graphic-canadian",
   "metadata": {},
   "outputs": [],
   "source": [
    "import pandas as pd\n",
    "import numpy as np\n",
    "import matplotlib.pyplot as plt\n",
    "%matplotlib inline"
   ]
  },
  {
   "cell_type": "markdown",
   "id": "narrow-strain",
   "metadata": {},
   "source": [
    "**Matplotlib** és una biblioteca de visualització de dades multiplataforma basada en matrius NumPy.\n",
    "\n",
    "Una de les característiques més importants de Matplotlib és la seva capacitat per jugar bé amb molts sistemes operatius i backends gràfics. Matplotlib admet desenes de backends i tipus de sortida, el que significa que podeu comptar amb que funcioni independentment del sistema operatiu que utilitzeu o del format de sortida que vulgueu."
   ]
  },
  {
   "cell_type": "code",
   "execution_count": null,
   "id": "increasing-lesbian",
   "metadata": {},
   "outputs": [],
   "source": []
  },
  {
   "cell_type": "markdown",
   "id": "based-market",
   "metadata": {},
   "source": [
    "## 1. Gràfics de línies simples\n",
    "\n",
    "Potser el més senzill de tots els gràfics és la visualització d'una única funció y=f(x). \n",
    "\n",
    "A Matplotlib, la figura (una instància de la classe plt.Figure) es pot considerar com un únic contenidor que conté tots els objectes que representen eixos, gràfics, text i etiquetes. Els eixos (una instància de la classe plt.Axes) és un quadre delimitador amb ticks i etiquetes, que eventualment contindrà els elements de trama que formen la nostra visualització. \n",
    "\n",
    "Comencem amb una sinusoide simple:"
   ]
  },
  {
   "cell_type": "code",
   "execution_count": null,
   "id": "exempt-builder",
   "metadata": {},
   "outputs": [],
   "source": [
    "x = np.linspace(0, 10, 1000)\n",
    "\n",
    "plt.plot(x, np.sin(x))\n",
    "plt.plot(x, np.cos(x))"
   ]
  },
  {
   "cell_type": "markdown",
   "id": "blessed-findings",
   "metadata": {},
   "source": [
    "El primer ajust que podeu fer a una trama és controlar els colors i els estils de línia. La funció **plt.plot()** pren arguments addicionals que es poden utilitzar per especificar-los. Per ajustar el color, podeu utilitzar la paraula clau **color**, que accepta un argument de cadena que representa pràcticament qualsevol color imaginable. El color es pot especificar de diverses maneres: 'blue', 'g', '0.75', '#FFDD44', (1.0,0.2,0.3) i 'chartreuse' (especifiqueu el color pel nom, codi de color curt (rgbcmyk), escala de grisos entre 0 i 1, codi hexadecimal (RRGGBB de 00 a FF), tupla RGB, valors de 0 a 1, tots els noms de color HTML admesos).\n",
    "\n",
    "De la mateixa manera, l'estil de línia es pot ajustar mitjançant la paraula clau **linestyle**: 'solid', 'dashed', 'dashdot' i 'dotted'."
   ]
  },
  {
   "cell_type": "code",
   "execution_count": null,
   "id": "mexican-curve",
   "metadata": {},
   "outputs": [],
   "source": [
    "plt.plot(x, x + 0, linestyle='solid')\n",
    "plt.plot(x, x + 1, linestyle='dashed')\n",
    "plt.plot(x, x + 2, linestyle='dashdot')\n",
    "plt.plot(x, x + 3, linestyle='dotted')"
   ]
  },
  {
   "cell_type": "markdown",
   "id": "outdoor-flexibility",
   "metadata": {},
   "source": [
    "**Ajust de la trama: límits dels eixos**\n",
    "\n",
    "Matplotlib fa un treball decent per triar els límits d'eixos predeterminats per a la vostra trama, però de vegades és bo tenir un control més fi. La manera més bàsica d'ajustar els límits dels eixos és utilitzar els mètodes plt.xlim() i plt.ylim()."
   ]
  },
  {
   "cell_type": "code",
   "execution_count": null,
   "id": "documentary-recovery",
   "metadata": {},
   "outputs": [],
   "source": [
    "plt.plot(x, np.sin(x))\n",
    "\n",
    "plt.xlim(-1, 11)\n",
    "plt.ylim(-1.5, 1.5)"
   ]
  },
  {
   "cell_type": "markdown",
   "id": "illegal-principal",
   "metadata": {},
   "source": [
    "**Etiquetatge de parcel·les**\n",
    "\n",
    "Etiquetatge de les trames: títols, etiquetes d'eixos i llegendes senzilles.\n",
    "\n",
    "Els títols i les etiquetes d'eix són les etiquetes més senzilles; hi ha mètodes que es poden utilitzar per configurar-los ràpidament:"
   ]
  },
  {
   "cell_type": "code",
   "execution_count": null,
   "id": "stunning-kenya",
   "metadata": {},
   "outputs": [],
   "source": [
    "plt.title(\"Corbes sinusoïdals\")\n",
    "plt.xlabel(\"x\")\n",
    "plt.ylabel(\"y\")\n",
    "\n",
    "plt.plot(x, np.sin(x), '-g', label='sin(x)')\n",
    "plt.plot(x, np.cos(x), ':b', label='cos(x)')\n",
    "plt.axis('equal')\n",
    "\n",
    "plt.legend()"
   ]
  },
  {
   "cell_type": "markdown",
   "id": "casual-contact",
   "metadata": {},
   "source": [
    "**Dues interfícies pel preu d'una**"
   ]
  },
  {
   "cell_type": "markdown",
   "id": "atomic-satin",
   "metadata": {},
   "source": [
    "Tot i que la majoria de funcions plt es tradueixen directament a mètodes ax (com ara plt.plot() → ax.plot(), plt.legend() → ax.legend(), etc.), aquest no és el cas de totes les ordres. En particular, es modifiquen lleugerament les funcions per establir límits, etiquetes i títols. Per fer la transició entre funcions, feu els canvis següents:\n",
    "\n",
    "- plt.xlabel() → ax.set_xlabel()\n",
    "- plt.ylabel() → ax.set_ylabel()\n",
    "- plt.xlim() → ax.set_xlim()\n",
    "- plt.ylim() → ax.set_ylim()\n",
    "- plt.title() → ax.set_title()"
   ]
  },
  {
   "cell_type": "code",
   "execution_count": null,
   "id": "immediate-insulation",
   "metadata": {},
   "outputs": [],
   "source": [
    "# create the first of two panels and set current axis\n",
    "fig, axs = plt.subplots(2, 1, figsize = (6, 6)) # (rows, columns, panel number)\n",
    "axs[0].plot(x, np.sin(x))\n",
    "axs[0].set_title('y = sin(x)')\n",
    "\n",
    "# create the second panel and set current axis\n",
    "axs[1].plot(x, np.cos(x))\n",
    "axs[1].set_title('y = cos(x)')\n",
    "\n",
    "plt.show()"
   ]
  },
  {
   "cell_type": "code",
   "execution_count": null,
   "id": "cellular-effects",
   "metadata": {},
   "outputs": [],
   "source": []
  },
  {
   "cell_type": "markdown",
   "id": "operating-trace",
   "metadata": {},
   "source": [
    "## 2. Gràfics de dispersió simples (scatter)\n",
    "\n",
    "Un altre tipus de trama que s'utilitza habitualment és el diagrama de dispersió simple, un cosí proper del diagrama de línies. En lloc d'unir els punts per segments de línia, aquí els punts es representen individualment amb un punt, cercle o una altra forma.\n",
    "\n",
    "La diferència principal de **plt.scatter** de **plt.plot** és que es pot utilitzar per crear gràfics de dispersió on les propietats de cada punt individual (mida, color de cara, color de vora, etc.) es poden controlar o mapejar individualment a les dades.\n",
    "\n",
    "Mostrem això creant un diagrama de dispersió aleatori amb punts de molts colors i mides. Per veure millor els resultats superposats, també utilitzarem la paraula clau *alfa* per ajustar el nivell de transparència:"
   ]
  },
  {
   "cell_type": "code",
   "execution_count": null,
   "id": "automotive-certification",
   "metadata": {},
   "outputs": [],
   "source": [
    "rng = np.random.RandomState(0)\n",
    "x = rng.randn(100)\n",
    "y = rng.randn(100)\n",
    "colors = rng.rand(100)\n",
    "sizes = 1000 * rng.rand(100)\n",
    "\n",
    "plt.scatter(x, y, c=colors, s=sizes, alpha=0.3,\n",
    "            cmap='viridis')\n",
    "plt.colorbar()  # show color scale"
   ]
  },
  {
   "cell_type": "code",
   "execution_count": null,
   "id": "double-gospel",
   "metadata": {},
   "outputs": [],
   "source": []
  },
  {
   "cell_type": "markdown",
   "id": "choice-hunter",
   "metadata": {},
   "source": [
    "## 3. Histogrames, binnings i densitat\n",
    "\n",
    "Un simple histograma pot ser un gran primer pas per entendre un conjunt de dades."
   ]
  },
  {
   "cell_type": "code",
   "execution_count": null,
   "id": "effective-theology",
   "metadata": {},
   "outputs": [],
   "source": [
    "data = np.random.randn(1000)\n",
    "plt.hist(data, bins=30, alpha=0.5,\n",
    "         histtype='stepfilled', color='steelblue',\n",
    "         edgecolor='none')"
   ]
  },
  {
   "cell_type": "code",
   "execution_count": null,
   "id": "architectural-consent",
   "metadata": {},
   "outputs": [],
   "source": [
    "x1 = np.random.normal(0, 0.8, 1000)\n",
    "x2 = np.random.normal(-2, 1, 1000)\n",
    "x3 = np.random.normal(3, 2, 1000)\n",
    "\n",
    "kwargs = dict(histtype='stepfilled', alpha=0.3, bins=40)\n",
    "\n",
    "plt.hist(x1, **kwargs)\n",
    "plt.hist(x2, **kwargs)\n",
    "plt.hist(x3, **kwargs)"
   ]
  },
  {
   "cell_type": "code",
   "execution_count": null,
   "id": "increased-virus",
   "metadata": {},
   "outputs": [],
   "source": []
  },
  {
   "cell_type": "markdown",
   "id": "synthetic-investing",
   "metadata": {},
   "source": [
    "## 4. Visualització d'imatges\n",
    "\n",
    "En alguns casos és interessant visualitzar una imatge. Recordeu que una imatge no és més que una matriu amb tres canals: R, G, B.\n",
    "\n",
    "Una matriu unidimensional també es pot visualitzar com un mapa de calor."
   ]
  },
  {
   "cell_type": "code",
   "execution_count": null,
   "id": "seventh-blake",
   "metadata": {},
   "outputs": [],
   "source": [
    "matriu = np.random.randn(128 * 128).reshape((128, 128))\n",
    "plt.imshow(matriu)"
   ]
  },
  {
   "cell_type": "code",
   "execution_count": null,
   "id": "after-casting",
   "metadata": {},
   "outputs": [],
   "source": []
  }
 ],
 "metadata": {
  "kernelspec": {
   "display_name": "Python 3",
   "language": "python",
   "name": "python3"
  },
  "language_info": {
   "codemirror_mode": {
    "name": "ipython",
    "version": 3
   },
   "file_extension": ".py",
   "mimetype": "text/x-python",
   "name": "python",
   "nbconvert_exporter": "python",
   "pygments_lexer": "ipython3",
   "version": "3.8.5"
  }
 },
 "nbformat": 4,
 "nbformat_minor": 5
}
