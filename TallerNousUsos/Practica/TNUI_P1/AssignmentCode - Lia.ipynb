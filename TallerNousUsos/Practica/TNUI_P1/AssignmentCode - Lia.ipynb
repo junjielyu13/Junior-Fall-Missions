{
 "cells": [
  {
   "cell_type": "markdown",
   "id": "portuguese-edwards",
   "metadata": {},
   "source": [
    "**NOMS I COGNOMS:** \n",
    "\n",
    "**GRUP DE LABORATORI:** "
   ]
  },
  {
   "cell_type": "markdown",
   "id": "diverse-closure",
   "metadata": {},
   "source": [
    "# Anàlisi exploratòria de dades i preprocessament \n",
    "\n",
    "L'**anàlisi exploratòria de dades** és el tractament estadístic al qual se sotmeten les mostres recollides durant un procés de recerca en qualsevol camp científic. \n",
    "Per a major rapidesa i precisió, tot el procés sol realitzar-se per mitjans informàtics, amb aplicacions específiques per al tractament estadístic.\n",
    "\n",
    "### Aplicació a la Mineria de Dades\n",
    "\n",
    "A la **mineria de dades**, si bé no és obligatori, és una bona pràctica analitzar les dades amb què treballarem per tal d'observar-ne les característiques principals per tal de tenir una idea de l'estructura del conjunt de dades, identificar la variable objectiu i possibles tècniques de modelatge.\n",
    "\n",
    "**Procés bàsic**\n",
    "- *Transformar les dades*: Ens serveix per saber què fer front a valors nuls, faltants o dades atípiques. A més destablir si hi ha necessitat de reduir la dimensionalitat de dades.\n",
    "- *Visualitzar*: Utilitzar alguna eina per fer una representació gràfica de les dades, per exemple, R, Jupyter notebook, Google Colab, etc.\n",
    "- *Analitzar i interpretar*: Analitzar i interpretar les dades a través de diferents visualitzacions.\n",
    "- *Documentar*: Documentar totes les gràfiques i estadístiques generades.\n",
    "\n",
    "Aquest procés ens és útil també en revisar la descripció de les dades per comprendre què significa cada característica.\n",
    "\n",
    "Hi ha diverses activitats en fer una anàlisi exploratòria de dades però quant a la mineria de dades els punts clau que s'han de realitzar són:\n",
    "\n",
    "- Descripció de l'estructura de les dades.\n",
    "- Identificació de dades mancants.# ¿Com ha afectat la covid a l'ús dels taxis a Nova York? \n",
    "- Detecció de valors atípics.\n",
    "- Identificació de relacions entre parells variables.\n",
    "\n",
    "Si realitzem correctament els passos ens facilitarem la manera d'abordar aquestes dades sense deixar de banda l'objectiu o el propòsit per al qual les necessitem."
   ]
  },
  {
   "cell_type": "markdown",
   "id": "cellular-animation",
   "metadata": {},
   "source": [
    "L'**objectiu d'aquesta pràctica** és aprendre com fer una explicació de dades. En aquest cas utilitzarem les dades dels **taxis grocs de la ciutat de Nova York**.\n",
    "\n",
    "En finalitzar el notebook, haureu de ser capaços de respondre la pregunta següent:\n",
    "\n",
    "\n",
    "## ¿Com ha afectat la covid a l'ús dels taxis a Nova York? \n",
    "\n",
    "Algunes de les preguntes que ens farem al llarg del notebook són:\n",
    "- Com ha canviat la covid l'ús dels taxis a NYC?\n",
    "- Quina distribució d'encàrrecs segueixen els taxis i quina distància / durada tenen?\n",
    "- Quines són les zones on m'és / menys taxis s'agafen? I a on més va la gent?\n",
    "- Quins horaris són els més usuals?\n",
    "- Quins dies de la setmana i del mes s'utilitzen més? Possibles motius?"
   ]
  },
  {
   "cell_type": "markdown",
   "id": "innocent-receptor",
   "metadata": {},
   "source": [
    "**Instal·lació i importació de les llibreries necessàries**"
   ]
  },
  {
   "cell_type": "code",
   "execution_count": 96,
   "id": "anonymous-freeware",
   "metadata": {},
   "outputs": [],
   "source": [
    "import pandas as pd\n",
    "import numpy as np\n",
    "import urllib.request\n",
    "import zipfile\n",
    "import os\n",
    "from tqdm.notebook import tqdm\n",
    "import pyarrow.parquet as pq"
   ]
  },
  {
   "cell_type": "code",
   "execution_count": 97,
   "id": "changing-simpson",
   "metadata": {},
   "outputs": [],
   "source": [
    "import shapefile\n",
    "from shapely.geometry import Polygon\n",
    "from descartes.patch import PolygonPatch\n",
    "import seaborn as sns\n",
    "import matplotlib as mpl\n",
    "import matplotlib.pyplot as plt\n",
    "%matplotlib inline"
   ]
  },
  {
   "cell_type": "code",
   "execution_count": 98,
   "id": "recreational-legislation",
   "metadata": {},
   "outputs": [],
   "source": [
    "YEARS = [2019, 2020, 2021]\n",
    "COLORS = ['palevioletred','lightskyblue','gold']\n",
    "required_data = ['tpep_pickup_datetime', 'tpep_dropoff_datetime', 'passenger_count', 'trip_distance', 'PULocationID', 'DOLocationID', 'payment_type', 'fare_amount', 'total_amount']"
   ]
  },
  {
   "cell_type": "markdown",
   "id": "colonial-professor",
   "metadata": {},
   "source": [
    "Primer de tot cal descarregar les dades:\n",
    "\n",
    "https://www1.nyc.gov/site/tlc/about/tlc-trip-record-data.page"
   ]
  },
  {
   "cell_type": "code",
   "execution_count": 99,
   "id": "seventh-radius",
   "metadata": {
    "tags": []
   },
   "outputs": [
    {
     "data": {
      "application/vnd.jupyter.widget-view+json": {
       "model_id": "115f24a7d42742e9acf21f9abb0f1356",
       "version_major": 2,
       "version_minor": 0
      },
      "text/plain": [
       "  0%|          | 0/3 [00:00<?, ?it/s]"
      ]
     },
     "metadata": {},
     "output_type": "display_data"
    }
   ],
   "source": [
    "# Download the Trip Record Data\n",
    "for year in tqdm(YEARS):\n",
    "    if not os.path.exists(f'data/{year}'):\n",
    "        os.makedirs(f'data/{year}', exist_ok=True)\n",
    "        for month in tqdm(range(1, 13)): \n",
    "            urllib.request.urlretrieve(f'https://d37ci6vzurychx.cloudfront.net/trip-data/yellow_tripdata_{year}-{month:02d}.parquet', f'data/{year}/{month:02d}.parquet')"
   ]
  },
  {
   "cell_type": "markdown",
   "id": "warming-shore",
   "metadata": {},
   "source": [
    "## 01. Neteja de dades\n",
    "\n",
    "Per tal de tenir unes dades netes i útils, cal eliminar totes aquelles files que continguin informació corrupta:\n",
    "- La recollida és després que la finalització del trajecte.\n",
    "- Les dades s'importen per mes i any. Les dates són correctes?\n",
    "- Viatges amb 0 passatges?\n",
    "- Viatges molts llargs o molt curts?\n",
    "- Pagaments negatius."
   ]
  },
  {
   "cell_type": "markdown",
   "id": "decent-aaron",
   "metadata": {},
   "source": [
    "**Data Dictionary**\n",
    "\n",
    "De totes les columnes que tenen les dades, només calen les següents:\n",
    "\n",
    "- *tpep_pickup_datetime*: The date and time when the meter was engaged.\n",
    "- *tpep_dropoff_datetime*: The date and time when the meter was disengaged. \n",
    "- *Passenger_count*: The number of passengers in the vehicle. (This is a driver-entered value)\n",
    "- *Trip_distance*: The elapsed trip distance in miles reported by the taximeter.\n",
    "- *PULocationID*: TLC Taxi Zone in which the taximeter was engaged\n",
    "- *DOLocationID*: TLC Taxi Zone in which the taximeter was disengaged\n",
    "- *Payment_type*: A numeric code signifying how the passenger paid for the trip. \n",
    "    - 1= Credit card\n",
    "    - 2= Cash\n",
    "    - 3= No charge\n",
    "    - 4= Dispute\n",
    "    - 5= Unknown\n",
    "    - 6= Voided trip\n",
    "- *Fare_amount*: The time-and-distance fare calculated by the meter.\n",
    "- *Total_amount*: The total amount charged to passengers. Does not include cash tips."
   ]
  },
  {
   "cell_type": "markdown",
   "id": "continent-ecology",
   "metadata": {},
   "source": [
    "**Observacions:**\n",
    "\n",
    "- Per agilitzar els càlculs i reduir el temps de còmput, feu un sampleig uniforme de les dades.\n",
    "- Datatime columns són to_datetime series (ajuda per buscar les funcions)"
   ]
  },
  {
   "cell_type": "code",
   "execution_count": 100,
   "id": "boxed-exemption",
   "metadata": {},
   "outputs": [],
   "source": [
    "def load_table(year, month):\n",
    "    \"\"\"\n",
    "    Funció que llegeix les dades descarregades i les converteix a un DataFrame\n",
    "    \"\"\"\n",
    "    return pq.read_table(f'data/{year}/{str(month).zfill(2)}.parquet').to_pandas()"
   ]
  },
  {
   "cell_type": "code",
   "execution_count": 101,
   "id": "hired-paint",
   "metadata": {
    "tags": []
   },
   "outputs": [],
   "source": [
    "def clean_data(data, year, month, sampling = 1000):\n",
    "    \"\"\"\n",
    "    Funció que neteja les dades per un mes donat.\n",
    "    \"\"\"\n",
    "    # Eliminem totes aquelles files que continguin informació corrupta:\n",
    "\n",
    "    # només agafarem les columnes necessàries\n",
    "    netejada = data[required_data]\n",
    "    \n",
    "    if sampling != 0:\n",
    "        netejada = netejada[::sampling]\n",
    "\n",
    "    # La recollida és després que la finalització del trajecte.\n",
    "    netejada = netejada[netejada['tpep_dropoff_datetime'] > netejada['tpep_pickup_datetime']]\n",
    "    #netejada = netejada[netejada['tpep_dropoff_datetime'] < netejada['tpep_pickup_datetime']]\n",
    "\n",
    "    # Les dades s'importen per mes i any. Les dates són correctes?\n",
    "    # type -> netejada['tpep_pickup_datetime'][0] -> pandas._libs.tslibs.timestamps.Timestamp'\n",
    "    # extreurem el mes i l'any amb la comanda -> pd.DatetimeIndex(df['birth_date']).year /  pd.DatetimeIndex(df['birth_date']).month\n",
    "    anyCorrecte_pick = pd.DatetimeIndex(netejada['tpep_pickup_datetime']).year == year\n",
    "    mesCorrecte_pick = pd.DatetimeIndex(netejada['tpep_pickup_datetime']).month == month\n",
    "    anyCorrecte_drop = pd.DatetimeIndex(netejada['tpep_dropoff_datetime']).year == year\n",
    "    mesCorrecte_drop = pd.DatetimeIndex(netejada['tpep_dropoff_datetime']).month == month\n",
    "    netejada = netejada[(anyCorrecte_pick & mesCorrecte_pick) & (anyCorrecte_drop & mesCorrecte_drop)]\n",
    "\n",
    "    # eliminar els de amb 0 passatgers\n",
    "    condicio = netejada['passenger_count'] > 0\n",
    "    condicio2 = netejada['passenger_count'] <= 9\n",
    "    netejada = netejada[condicio & condicio2]\n",
    "\n",
    "    # Viatges molts llargs o molt curts\n",
    "    viatges_valids = netejada['trip_distance'] > 0\n",
    "    viatges_no_llargs = netejada['trip_distance'] < 100\n",
    "    netejada = netejada[viatges_valids & viatges_no_llargs]\n",
    "\n",
    "    # pagaments negatius\n",
    "    pagats = netejada['total_amount'] > 0\n",
    "    netejada = netejada[pagats]\n",
    "    \n",
    "    netejada.drop_duplicates()\n",
    "    return netejada"
   ]
  },
  {
   "cell_type": "markdown",
   "id": "concrete-underground",
   "metadata": {},
   "source": [
    "A la funció *post_processing* podeu afegir tota aquesta informació que necessiteu sobre les dades per tal de dur a terme l'exploració necessària."
   ]
  },
  {
   "cell_type": "code",
   "execution_count": 102,
   "id": "immediate-pakistan",
   "metadata": {
    "tags": []
   },
   "outputs": [],
   "source": [
    "def post_processing(data):\n",
    "    \"\"\"\n",
    "    Funció on implementar qualsevol tipus de postprocessament necessari.\n",
    "    \"\"\"\n",
    "    data = data[required_data]\n",
    "    # podem afegir columnes que indiquin l'any, el mes i el dia que s'ha realitzat el viatge\n",
    "    data['year'] = pd.DatetimeIndex(data['tpep_pickup_datetime']).year\n",
    "    return data"
   ]
  },
  {
   "cell_type": "markdown",
   "id": "systematic-slovakia",
   "metadata": {},
   "source": [
    "Crea un nou dataset que contingui tota la informació dels anys: 2019, 2020, 2021.\n",
    "\n",
    "Recordeu que per tal de reduir la memòria necessària, podeu agafar un subsample de dades."
   ]
  },
  {
   "cell_type": "code",
   "execution_count": 103,
   "id": "suspended-suicide",
   "metadata": {
    "tags": []
   },
   "outputs": [
    {
     "data": {
      "application/vnd.jupyter.widget-view+json": {
       "model_id": "313e0acec5a44670bc03bc677f4ab668",
       "version_major": 2,
       "version_minor": 0
      },
      "text/plain": [
       "  0%|          | 0/3 [00:00<?, ?it/s]"
      ]
     },
     "metadata": {},
     "output_type": "display_data"
    },
    {
     "data": {
      "application/vnd.jupyter.widget-view+json": {
       "model_id": "",
       "version_major": 2,
       "version_minor": 0
      },
      "text/plain": [
       "  0%|          | 0/12 [00:00<?, ?it/s]"
      ]
     },
     "metadata": {},
     "output_type": "display_data"
    },
    {
     "data": {
      "application/vnd.jupyter.widget-view+json": {
       "model_id": "",
       "version_major": 2,
       "version_minor": 0
      },
      "text/plain": [
       "  0%|          | 0/12 [00:00<?, ?it/s]"
      ]
     },
     "metadata": {},
     "output_type": "display_data"
    },
    {
     "data": {
      "application/vnd.jupyter.widget-view+json": {
       "model_id": "",
       "version_major": 2,
       "version_minor": 0
      },
      "text/plain": [
       "  0%|          | 0/12 [00:00<?, ?it/s]"
      ]
     },
     "metadata": {},
     "output_type": "display_data"
    }
   ],
   "source": [
    "df = pd.concat([clean_data(load_table(year, month), year, month,1000) for year in tqdm(YEARS) for month in tqdm(range(1, 13), leave = False)])"
   ]
  },
  {
   "cell_type": "code",
   "execution_count": 104,
   "id": "indonesian-indication",
   "metadata": {},
   "outputs": [
    {
     "data": {
      "text/plain": [
       "(132842, 10)"
      ]
     },
     "execution_count": 104,
     "metadata": {},
     "output_type": "execute_result"
    }
   ],
   "source": [
    "df = post_processing(df)\n",
    "df.shape"
   ]
  },
  {
   "cell_type": "code",
   "execution_count": 105,
   "id": "silver-telescope",
   "metadata": {},
   "outputs": [
    {
     "data": {
      "text/html": [
       "<div>\n",
       "<style scoped>\n",
       "    .dataframe tbody tr th:only-of-type {\n",
       "        vertical-align: middle;\n",
       "    }\n",
       "\n",
       "    .dataframe tbody tr th {\n",
       "        vertical-align: top;\n",
       "    }\n",
       "\n",
       "    .dataframe thead th {\n",
       "        text-align: right;\n",
       "    }\n",
       "</style>\n",
       "<table border=\"1\" class=\"dataframe\">\n",
       "  <thead>\n",
       "    <tr style=\"text-align: right;\">\n",
       "      <th></th>\n",
       "      <th>tpep_pickup_datetime</th>\n",
       "      <th>tpep_dropoff_datetime</th>\n",
       "      <th>passenger_count</th>\n",
       "      <th>trip_distance</th>\n",
       "      <th>PULocationID</th>\n",
       "      <th>DOLocationID</th>\n",
       "      <th>payment_type</th>\n",
       "      <th>fare_amount</th>\n",
       "      <th>total_amount</th>\n",
       "      <th>year</th>\n",
       "    </tr>\n",
       "  </thead>\n",
       "  <tbody>\n",
       "    <tr>\n",
       "      <th>0</th>\n",
       "      <td>2019-01-01 00:46:40</td>\n",
       "      <td>2019-01-01 00:53:20</td>\n",
       "      <td>1.0</td>\n",
       "      <td>1.5</td>\n",
       "      <td>151</td>\n",
       "      <td>239</td>\n",
       "      <td>1</td>\n",
       "      <td>7.0</td>\n",
       "      <td>9.95</td>\n",
       "      <td>2019</td>\n",
       "    </tr>\n",
       "  </tbody>\n",
       "</table>\n",
       "</div>"
      ],
      "text/plain": [
       "  tpep_pickup_datetime tpep_dropoff_datetime  passenger_count  trip_distance  \\\n",
       "0  2019-01-01 00:46:40   2019-01-01 00:53:20              1.0            1.5   \n",
       "\n",
       "   PULocationID  DOLocationID  payment_type  fare_amount  total_amount  year  \n",
       "0           151           239             1          7.0          9.95  2019  "
      ]
     },
     "execution_count": 105,
     "metadata": {},
     "output_type": "execute_result"
    }
   ],
   "source": [
    "df.head(1)"
   ]
  },
  {
   "cell_type": "markdown",
   "id": "b349255b",
   "metadata": {},
   "source": [
    "# NO TOCAR DF FORA DE LES FUNCIONS!!"
   ]
  },
  {
   "cell_type": "markdown",
   "id": "loving-karen",
   "metadata": {},
   "source": [
    "## 02. Visualitzacions per anys"
   ]
  },
  {
   "cell_type": "markdown",
   "id": "liquid-plasma",
   "metadata": {},
   "source": [
    "### Número total sobre quantitat de viatges\n",
    "\n",
    "Podem respondre directament la pregunta: **¿Ha incrementat / disminuït la covid la quantitat de viatges fets amb taxis?**\n",
    "\n",
    "Per respondre aquesta pregunta creu una figura de barres on es visualitzin la quantitat de viatges per any."
   ]
  },
  {
   "cell_type": "code",
   "execution_count": 106,
   "id": "corrected-washer",
   "metadata": {},
   "outputs": [],
   "source": [
    "def bar_plot(df, column, xlabel, ylabel, title):\n",
    "    \"\"\"\n",
    "    Funció que crea una figura de barres a partir del dataframe i la columna que conté la informació\n",
    "    \"\"\"\n",
    "    nova = df.groupby(column).count()\n",
    "    \n",
    "    # només agafarem una columna qualsevol\n",
    "    nova = nova['tpep_pickup_datetime']\n",
    "    nova.plot(kind = 'bar', color = 'pink')\n",
    "    plt.xlabel(xlabel)\n",
    "    plt.ylabel(ylabel)\n",
    "    plt.title(title)"
   ]
  },
  {
   "cell_type": "code",
   "execution_count": 107,
   "id": "expressed-campbell",
   "metadata": {
    "tags": []
   },
   "outputs": [
    {
     "data": {
      "image/png": "[encoded data removed]",
      "text/plain": [
       "<Figure size 432x288 with 1 Axes>"
      ]
     },
     "metadata": {
      "needs_background": "light"
     },
     "output_type": "display_data"
    }
   ],
   "source": [
    "bar_plot(df, 'year', 'Any', 'Quanitat de viatges', 'Quanitat de viatges per any')"
   ]
  },
  {
   "cell_type": "code",
   "execution_count": 108,
   "id": "cfa1d243",
   "metadata": {},
   "outputs": [],
   "source": [
    "# Podrem veure que la quantitat de viatges en taxis a l'any 2020 ha reduït de forma notòria respecte els altres anys, sent la quantitat de\n",
    "# viatges realitzades en taxi als 3 anys:\n",
    "# 2019    81724960\n",
    "# 2020    22946824\n",
    "# 2021    28244722"
   ]
  },
  {
   "cell_type": "markdown",
   "id": "polish-davis",
   "metadata": {},
   "source": [
    "**Pregunta: És el comportament que esperàveu? Per què?**"
   ]
  },
  {
   "cell_type": "markdown",
   "id": "upper-mainstream",
   "metadata": {},
   "source": [
    "> ANSWER: Sí. Podem veure a partir del diagram de barres, que els viatges realitzats a l'any 2020, i 2021 va disminuir molt comparant amb els de l'any 2019, de manera que podem  confirmar que la pandèmia va afectar a la quantitat de viatges fets amb taxis."
   ]
  },
  {
   "cell_type": "markdown",
   "id": "artistic-decrease",
   "metadata": {},
   "source": [
    "Ara, visualitzarem **quants passatgers hi ha per taxi i per any**.\n",
    "\n",
    "Crea una figura amb tres subfigures (una per any) on es pugui veure el recompte de passatgers per any.\n",
    "\n",
    "Després repetiu el mateix gràfic visualitzant el % (utilitzeu el paràmetre *norm*)."
   ]
  },
  {
   "cell_type": "code",
   "execution_count": 109,
   "id": "363551c3",
   "metadata": {},
   "outputs": [],
   "source": [
    "def bars_plot(bars, column, xlabel, ylabel, title, ylim, norm):\n",
    "    \"\"\"\n",
    "    Funció que crea diverses figures de barres a partir del dataframe i la columna que conté la informació\n",
    "    \"\"\"\n",
    "    figure = plt.figure(figsize=(15,15))\n",
    "    \n",
    "    for index,year in enumerate(bars):\n",
    "        # obtenim la serie que conte el nombre de viatges segons el nombre de passatgers\n",
    "        serie = year.groupby(column).size()\n",
    "        \n",
    "        if norm:\n",
    "            #obtenim la mitja\n",
    "            suma = year[column].sum()\n",
    "            #modifiquem la serie\n",
    "            serie = serie/suma\n",
    "\n",
    "        # mostrem el diagrama de barres\n",
    "        figure.add_subplot(1,3,(index+1))\n",
    "        serie.plot(kind = 'bar', color = COLORS[index])\n",
    "        plt.xlabel(xlabel)\n",
    "        plt.ylabel(ylabel)\n",
    "        plt.title(title + ' ' + str(YEARS[index]))\n",
    "        plt.ylim(ylim)"
   ]
  },
  {
   "cell_type": "code",
   "execution_count": 110,
   "id": "executed-chaos",
   "metadata": {},
   "outputs": [],
   "source": [
    "def passengers_taxi_year(df, ylim, xlabel, ylabel, title, norm = False):\n",
    "    \"\"\"\n",
    "    Funció que visualitza quants passatgers hi ha per taxi i per any\n",
    "        df : data Frame\n",
    "        ylim: rang dels valors de l'eix y\n",
    "        xlabel: titol eix x\n",
    "        ylabel: titol eix y\n",
    "    \"\"\"\n",
    "    bars = []\n",
    "    for index,year in enumerate(YEARS):\n",
    "        # obtenir les files de l'any corresponent\n",
    "        condicio = df['year'] == year\n",
    "        taula_any = df.loc[condicio]\n",
    "        bars.append(taula_any)\n",
    "        \n",
    "    # mostrem els diagrames de barres\n",
    "    bars_plot(bars, 'passenger_count', xlabel, ylabel, title, ylim, norm)"
   ]
  },
  {
   "cell_type": "code",
   "execution_count": 111,
   "id": "mighty-population",
   "metadata": {
    "tags": []
   },
   "outputs": [
    {
     "data": {
      "image/png": "[encoded data removed]",
      "text/plain": [
       "<Figure size 1080x1080 with 3 Axes>"
      ]
     },
     "metadata": {
      "needs_background": "light"
     },
     "output_type": "display_data"
    }
   ],
   "source": [
    "passengers_taxi_year(df, (0, 60000), 'Nombre de passatgers', 'Recompte de passatgers', 'Recompte de passatgers per any')\n",
    "# NOTA: el paràmetre original per posar límits a l'eix y era: (0,60000), com que hem fet sampleig de dades, l'hem posada a 6000"
   ]
  },
  {
   "cell_type": "code",
   "execution_count": 112,
   "id": "clear-charles",
   "metadata": {
    "tags": []
   },
   "outputs": [
    {
     "data": {
      "image/png": "[encoded data removed]",
      "text/plain": [
       "<Figure size 1080x1080 with 3 Axes>"
      ]
     },
     "metadata": {
      "needs_background": "light"
     },
     "output_type": "display_data"
    }
   ],
   "source": [
    "passengers_taxi_year(df, (0, 0.8), 'Nombre de passatgers', '%', '% de passatgers per any', norm = True)"
   ]
  },
  {
   "cell_type": "markdown",
   "id": "suspended-regular",
   "metadata": {},
   "source": [
    "A la figura anterior hem visualitzat cada any per separat. Per tal que la visualització sigui més ràpida i simple d'interpretar, uniu tota la informació en un gràfic.\n",
    "\n",
    "Després repetiu el mateix gràfic visualitzant el % (utilitzeu el paràmetre *norm*)."
   ]
  },
  {
   "cell_type": "code",
   "execution_count": 113,
   "id": "821e6aa8",
   "metadata": {},
   "outputs": [],
   "source": [
    "def plot_grouped_bars(bars,xlabel,ylabel):\n",
    "    \"\"\"\n",
    "    Funció que mostra el diagrama de conjunts de barres\n",
    "    \"\"\"\n",
    "    barWidth = 0.25\n",
    "    positions = []\n",
    "    pos = np.arange(len(bars[0]))\n",
    "    \n",
    "    # noms en l'eix x\n",
    "    xstick = [x + 1 for x in pos]\n",
    "    \n",
    "    # configurem les posicions de les barres en l'eix X per les diferents barres que tenim\n",
    "    for i in range(len(bars)):\n",
    "        if i == 0:\n",
    "            positions.append(pos)\n",
    "        pos = [x + barWidth for x in pos]\n",
    "        positions.append(pos)\n",
    "    \n",
    "    # construim el diagrama\n",
    "    for index,bar in enumerate(bars):\n",
    "        plt.bar(positions[index], bar, color = COLORS[index], width=barWidth, edgecolor='white', label=str(YEARS[index]))\n",
    "        \n",
    "        # titol de l'exi x\n",
    "        plt.xlabel(xlabel, fontweight='bold')\n",
    "        # posem noms a l'eix x\n",
    "        plt.xticks([r + barWidth for r in range(len(bar))], xstick)\n",
    "        # titol de l'eix y\n",
    "        plt.ylabel(ylabel)\n",
    "        plt.legend()"
   ]
  },
  {
   "cell_type": "code",
   "execution_count": 114,
   "id": "retained-rotation",
   "metadata": {},
   "outputs": [],
   "source": [
    "def passengers_taxi(df, xlabel, ylabel, norm = False):\n",
    "    \"\"\"\n",
    "    Funció que visualitza quants passatgers hi ha per taxi\n",
    "    \"\"\"\n",
    "    bars = []\n",
    "    for index,year in enumerate(YEARS):\n",
    "        # obtenir les files de l'any corresponent\n",
    "        condicio = df['year'] == year\n",
    "        taula_any = df.loc[condicio]\n",
    "        \n",
    "        # obtenim la serie del nombre de viatges segons el nombre de passatgers que hi ha en un taxi\n",
    "        serie = taula_any.groupby('passenger_count').size()\n",
    "        if norm:\n",
    "            suma = taula_any['passenger_count'].sum()\n",
    "            serie = serie/suma\n",
    "        bars.append(serie)\n",
    "        \n",
    "    # mostrem els diagrames de barres\n",
    "    plot_grouped_bars(bars,xlabel,ylabel)"
   ]
  },
  {
   "cell_type": "code",
   "execution_count": 115,
   "id": "tired-surrey",
   "metadata": {
    "tags": []
   },
   "outputs": [
    {
     "data": {
      "image/png": "[encoded data removed]",
      "text/plain": [
       "<Figure size 432x288 with 1 Axes>"
      ]
     },
     "metadata": {
      "needs_background": "light"
     },
     "output_type": "display_data"
    }
   ],
   "source": [
    "passengers_taxi(df, 'Passenger Count', 'Amount')"
   ]
  },
  {
   "cell_type": "code",
   "execution_count": 116,
   "id": "reflected-system",
   "metadata": {
    "tags": []
   },
   "outputs": [
    {
     "data": {
      "image/png": "[encoded data removed]",
      "text/plain": [
       "<Figure size 432x288 with 1 Axes>"
      ]
     },
     "metadata": {
      "needs_background": "light"
     },
     "output_type": "display_data"
    }
   ],
   "source": [
    "passengers_taxi(df, 'Passenger Count', 'Amount', norm = True)"
   ]
  },
  {
   "cell_type": "markdown",
   "id": "rolled-graphic",
   "metadata": {},
   "source": [
    "**Pregunta: Quin impacte heu vist sobre les dades? Creieu que la covid va tenir molt impacte?**"
   ]
  },
  {
   "cell_type": "markdown",
   "id": "popular-prince",
   "metadata": {},
   "source": [
    "> ANSWER : Podem vuere que els viatges que s'han realitzat durant el període de la pandèmia ha disminuït de forma notòria respecte els altres anys. I el 2021 ha tornat a augmentar. A apart d'això, podem veure que a causa de l'implantació de les restriccions sanitàries, el percentatge d'anar només 1 passatger al taxi és molt més alt en els anys 2020 i 2021."
   ]
  },
  {
   "cell_type": "markdown",
   "id": "desirable-activation",
   "metadata": {},
   "source": [
    "## 03. Quantitat de viatges\n",
    "\n",
    "Fins ara hem vist la quantitat de viatges que hi ha hagut en els anys estudiats.\n",
    "\n",
    "Anem a estudiar quins canvis es poden veure si agreguem les dades per hores, dies de la setmana, setmana de l'any i mes.\n",
    "\n",
    "Aquests gràfics han de ser de línies discontínues i marcar amb una rodona o creu allà on està el valor"
   ]
  },
  {
   "cell_type": "code",
   "execution_count": 117,
   "id": "veterinary-window",
   "metadata": {},
   "outputs": [],
   "source": [
    "def visualize_trips(columns, title, xlabel, ylabel):\n",
    "    \"\"\"\n",
    "    Funció que visualitza els viatges per diferents agregacions de dades\n",
    "    \"\"\"\n",
    "    dades = []\n",
    "    # obtenim les dades corresponents pels diferents casos\n",
    "    # recompte segons hores\n",
    "    if columns[0] == 'pickup_hour':\n",
    "        pick = pd.DatetimeIndex(df['tpep_pickup_datetime']).hour\n",
    "        drop = pd.DatetimeIndex(df['tpep_dropoff_datetime']).hour\n",
    "        \n",
    "    # recompte segons dia\n",
    "    elif columns[0] == 'pickup_day':\n",
    "        pick = pd.DatetimeIndex(df['tpep_pickup_datetime']).dayofweek\n",
    "        drop = pd.DatetimeIndex(df['tpep_dropoff_datetime']).dayofweek\n",
    "\n",
    "    # recompte segons setmana\n",
    "    elif columns[0] == 'pickup_week':\n",
    "        pick = pd.Int64Index(pd.DatetimeIndex(df['tpep_pickup_datetime']).isocalendar().week)\n",
    "        drop = pd.Int64Index(pd.DatetimeIndex(df['tpep_dropoff_datetime']).isocalendar().week)\n",
    "\n",
    "    # recompte segons mesos\n",
    "    elif columns[0] == 'pickup_month':\n",
    "        pick = pd.DatetimeIndex(df['tpep_pickup_datetime']).month\n",
    "        drop = pd.DatetimeIndex(df['tpep_dropoff_datetime']).month\n",
    "    \n",
    "    dades = [pick,drop]\n",
    "    \n",
    "    '''\n",
    "    dades_pick = df.groupby(pick).size()\n",
    "    dades_drop = df.groupby(drop).size()\n",
    "    \n",
    "    # trames de múltiples línies\n",
    "    plt.plot(dades_pick, marker='o', markerfacecolor='skyblue', markersize=5, color='skyblue', linewidth=2, linestyle='dashdot', label=\"pick_up\")\n",
    "    plt.plot(dades_drop, marker='o', markerfacecolor='pink', markersize=3, color='pink', linewidth=2, linestyle='dashed', label=\"drop_off\")\n",
    "    '''\n",
    "    for index,column in enumerate(columns):\n",
    "        serie = df.groupby(dades[index]).size()\n",
    "        plt.plot(serie, marker='o', markerfacecolor='skyblue', markersize=3, color=COLORS[index], linewidth=1, linestyle='dashdot', label=column)\n",
    "    \n",
    "    plt.legend()\n",
    "    plt.title(title)\n",
    "    plt.xlabel(xlabel)\n",
    "    plt.ylabel(ylabel)"
   ]
  },
  {
   "cell_type": "code",
   "execution_count": 118,
   "id": "military-chester",
   "metadata": {
    "tags": []
   },
   "outputs": [
    {
     "data": {
      "image/png": "[encoded data removed]",
      "text/plain": [
       "<Figure size 432x288 with 1 Axes>"
      ]
     },
     "metadata": {
      "needs_background": "light"
     },
     "output_type": "display_data"
    }
   ],
   "source": [
    "visualize_trips(['pickup_hour', 'dropoff_hour'], title = 'Quantitat de viatges per hora', xlabel = 'Hora del dia', ylabel = 'Quanitat')"
   ]
  },
  {
   "cell_type": "code",
   "execution_count": 119,
   "id": "communist-region",
   "metadata": {
    "tags": []
   },
   "outputs": [
    {
     "data": {
      "image/png": "[encoded data removed]",
      "text/plain": [
       "<Figure size 432x288 with 1 Axes>"
      ]
     },
     "metadata": {
      "needs_background": "light"
     },
     "output_type": "display_data"
    }
   ],
   "source": [
    "visualize_trips(['pickup_day', 'dropoff_day'], title = 'Quantitat de viatges per dia de la setmana', xlabel = 'Dia de la setmana', ylabel = 'Quanitat')"
   ]
  },
  {
   "cell_type": "code",
   "execution_count": 120,
   "id": "amazing-battlefield",
   "metadata": {
    "tags": []
   },
   "outputs": [
    {
     "data": {
      "image/png": "[encoded data removed]",
      "text/plain": [
       "<Figure size 432x288 with 1 Axes>"
      ]
     },
     "metadata": {
      "needs_background": "light"
     },
     "output_type": "display_data"
    }
   ],
   "source": [
    "visualize_trips(['pickup_week', 'dropoff_week'], title = 'Quantitat de viatges per setmana de l\\'any', xlabel = 'Setmana de l\\'any', ylabel = 'Quanitat')"
   ]
  },
  {
   "cell_type": "code",
   "execution_count": 121,
   "id": "digital-primary",
   "metadata": {
    "tags": []
   },
   "outputs": [
    {
     "data": {
      "image/png": "[encoded data removed]",
      "text/plain": [
       "<Figure size 432x288 with 1 Axes>"
      ]
     },
     "metadata": {
      "needs_background": "light"
     },
     "output_type": "display_data"
    }
   ],
   "source": [
    "visualize_trips(['pickup_month', 'dropoff_month'], title = 'Quantitat de viatges per mes', xlabel = 'Mes de l\\'any', ylabel = 'Quanitat')"
   ]
  },
  {
   "cell_type": "markdown",
   "id": "sapphire-cement",
   "metadata": {},
   "source": [
    "**Pregunta: Quins comportaments veieu en cada cas? Quin creieu que és el motiu?**"
   ]
  },
  {
   "cell_type": "markdown",
   "id": "insured-holmes",
   "metadata": {},
   "source": [
    "> ANSWER: A partir de les gràfiques de línies organitzades segons la hora del dia, el dia de la setmana, setmana de l'any, i mes de l'any podem deduir que:\n",
    "    \n",
    "    1. Quantitat de viatges per hora: els rangs d'hores en les quals es realitzen més viatges són, d'entre 8:00-21:00, podrem observar que hi ha un gran canvi a partir de les 8.00, que és quan la gent va al treball, i a les 18:00, quu és quan la gent plega.\n",
    "    2.De la quantitat de viatges que s'han realitzat en dies de la setmana podrem veure que aquest número va creixent a mesura que va avançant la setmana i el divendres arriba al punt més alt, mentre en els caps de setmana comença a reduir, de la gràfica podem deduir que aquests viatges es realitzen probablement per motius de treball, i la gent descansa al cap de setmana.\n",
    "    3. De la quantitat de viatges que es realitzen per semanes de l'any, podem veure que les primeres setmanes de l'any són les setmanes que la gent més es desplaça, el motiu per la qual fa que la gent es desplaci pot ser que s'han acabat les vancances i per exemple, tornen al treball, o estudiants comencen les classes.\n",
    "    4. I dels viatges que es realitzen per mes, vuerem que gener és el mes amb més viatges realitzades, perquè la gent comença a treballar."
   ]
  },
  {
   "cell_type": "markdown",
   "id": "separated-strip",
   "metadata": {},
   "source": [
    "## 04. Relació distancia - temps i velocitat\n",
    "\n",
    "A les dades tenim la distància que ha recorregut el taxi en cada viatge i de la informació temporal podem extreure també la duració d'aquest.\n",
    "\n",
    "\n",
    "Intentarem esbrinar com la covid va afectar les distàncies i les durades dels viatges juntament amb la velocitat dels taxis.\n",
    "\n",
    "Creieu que la densitat de trànsit va variar?"
   ]
  },
  {
   "cell_type": "markdown",
   "id": "academic-riding",
   "metadata": {},
   "source": [
    "### Histogrames\n",
    "\n",
    "Per començar visualitza els **histogrames** de distància i durada per any.\n",
    "\n",
    "Pots fer servir la funció *plt.hist()* o *plt.bar()*."
   ]
  },
  {
   "cell_type": "code",
   "execution_count": 122,
   "id": "ebe9b5e6",
   "metadata": {},
   "outputs": [],
   "source": [
    "#afegim la columna que indica la durada del viatge\n",
    "# cada element obtingut d'aquesta columna és un Timedelta, d'aquesta forma obtenim els valors en unitats de hores\n",
    "df['trip_duration'] = (df['tpep_dropoff_datetime'] - df['tpep_pickup_datetime'])/pd.Timedelta(hours=1)\n",
    "            \n",
    "# agafem només les dades que tinguin una durada normal\n",
    "viatges_no_llargs = df['trip_duration'] < 6\n",
    "viatges_valids = df['trip_duration'] > 0\n",
    "df = df[viatges_no_llargs & viatges_valids]"
   ]
  },
  {
   "cell_type": "code",
   "execution_count": 138,
   "id": "9aff5886",
   "metadata": {},
   "outputs": [],
   "source": [
    "def histograms_plot(histograms, xlabel, ylabel, title, xlim):\n",
    "    \"\"\"\n",
    "    Funció que crea histogrames a partir del dataframe i la columna que conté la informació\n",
    "    \"\"\"\n",
    "    \n",
    "    figure = plt.figure(figsize=(15,15))\n",
    "    \n",
    "    for index,year in enumerate(histograms):\n",
    "        # mostrem el diagrama de barres\n",
    "        figure.add_subplot(1,3,(index+1))\n",
    "        plt.hist(year, bins = 80, edgecolor = 'none', color= COLORS[index], range = xlim)\n",
    "        plt.xlabel(xlabel)\n",
    "        plt.ylabel(ylabel)\n",
    "        plt.title(title + ' ' + str(YEARS[index]))\n",
    "        plt.xlim(xlim)\n",
    "        \n",
    "        if title == 'Distancia dels viatges per any':\n",
    "            plt.ylim((0,35000))\n",
    "        else:\n",
    "            plt.ylim((0,80000))"
   ]
  },
  {
   "cell_type": "code",
   "execution_count": 139,
   "id": "killing-premises",
   "metadata": {},
   "outputs": [],
   "source": [
    "def visualize_histograms(df, column, title, xlabel, ylabel, xlim):\n",
    "    histograms = []\n",
    "    for year in YEARS:\n",
    "        condicio = df['year'] == year\n",
    "        serie = df.loc[condicio, column]\n",
    "        histograms.append(serie)\n",
    "    histograms_plot(histograms,xlabel, ylabel, title, xlim)"
   ]
  },
  {
   "cell_type": "code",
   "execution_count": 140,
   "id": "emerging-bookmark",
   "metadata": {
    "tags": []
   },
   "outputs": [
    {
     "data": {
      "image/png": "[encoded data removed]",
      "text/plain": [
       "<Figure size 1080x1080 with 3 Axes>"
      ]
     },
     "metadata": {
      "needs_background": "light"
     },
     "output_type": "display_data"
    }
   ],
   "source": [
    "visualize_histograms(df, 'trip_distance', title = 'Distancia dels viatges per any',xlabel = 'Distancia (km)', ylabel = 'Quanitat', xlim = (-5, 80))"
   ]
  },
  {
   "cell_type": "code",
   "execution_count": 142,
   "id": "808b5753",
   "metadata": {},
   "outputs": [
    {
     "data": {
      "image/png": "[encoded data removed]",
      "text/plain": [
       "<Figure size 1080x1080 with 3 Axes>"
      ]
     },
     "metadata": {
      "needs_background": "light"
     },
     "output_type": "display_data"
    }
   ],
   "source": [
    "visualize_histograms(df, 'trip_duration', title = 'Durada dels viatge per any',xlabel = 'Duració (h)', ylabel = 'Quanitat', xlim = (-1, 25) )"
   ]
  },
  {
   "cell_type": "markdown",
   "id": "explicit-hydrogen",
   "metadata": {},
   "source": [
    "**PREGUNTES:** \n",
    "\n",
    "* Com creieu que la covid va afectar les distàncies i durades dels viatges?\n",
    "\n",
    "* I a la velocitat dels taxis?"
   ]
  },
  {
   "cell_type": "markdown",
   "id": "operating-tract",
   "metadata": {},
   "source": [
    "> ANSWER"
   ]
  },
  {
   "cell_type": "markdown",
   "id": "animated-mexican",
   "metadata": {
    "tags": []
   },
   "source": [
    "### Gràfic de dispersió i correlació\n",
    "\n",
    "Crea gràfics de dispersió per il·lustrar la relació entre la durada i la distància dels viatges.\n",
    "\n",
    "Es possible que les dades continguin mostres fora la distribució (outliers). En aquest cas, omet aquestes dades i torna a visualitzar el grafic.\n",
    "\n",
    "Per veure si existeix alguna correlació, es interesant que utilitzeu la funció *sns.regplot()*."
   ]
  },
  {
   "cell_type": "code",
   "execution_count": 231,
   "id": "8c338cd4",
   "metadata": {},
   "outputs": [],
   "source": [
    "def compute_outliers(data):\n",
    "    \"\"\"\n",
    "    Funció que retorna una una serie de boolean amb tots els valors valids sent data un Series\n",
    "    \"\"\"\n",
    "    threshold = 3\n",
    "    mean = np.mean(data)\n",
    "    std = np.std(data)\n",
    "    \n",
    "    condicio = np.abs((data - mean)/std) < threshold\n",
    "    return condicio"
   ]
  },
  {
   "cell_type": "code",
   "execution_count": 232,
   "id": "stretch-sally",
   "metadata": {},
   "outputs": [],
   "source": [
    "def scatter_plot(df, x_value, y_value, xlabel, ylabel, remove_outliers = False):\n",
    "    \"\"\"\n",
    "    Funció que mostra un scatter plot donades dues dades\n",
    "    \"\"\"\n",
    "    taula = df\n",
    "    taula['trip_duration'] = (df['tpep_dropoff_datetime'] - df['tpep_pickup_datetime'])/pd.Timedelta(hours=1)\n",
    "    # agafem només les dades que tinguin una durada normal\n",
    "    viatges_no_llargs = taula['trip_duration'] < 6\n",
    "    taula = taula[viatges_no_llargs]\n",
    "\n",
    "    if remove_outliers:\n",
    "        # apliquem z_score per eliminar els valors invalids de la gràfica\n",
    "        condicio1 = compute_outliers(taula[x_value])\n",
    "        condicio2 = compute_outliers(taula[y_value])\n",
    "        taula = taula.loc[condicio1 & condicio2]\n",
    "    \n",
    "    # mostrem el gràfic de dispersió\n",
    "    #plt.plot(x_value, y_value, data=df, linestyle='none', marker='o',markersize=0.7)\n",
    "    sns.regplot(x=taula[x_value], y=taula[y_value],scatter_kws={'s':1},color=COLORS[0])\n",
    "    plt.xlabel(xlabel)\n",
    "    plt.ylabel(ylabel)\n",
    "    # configurem els rangs dels eixos per poder veure la diferècnia\n",
    "    plt.xlim((0,80))\n",
    "    plt.ylim((0,5))\n",
    "    plt.show()"
   ]
  },
  {
   "cell_type": "code",
   "execution_count": 233,
   "id": "divided-commissioner",
   "metadata": {
    "tags": []
   },
   "outputs": [
    {
     "data": {
      "image/png": "[encoded data removed]",
      "text/plain": [
       "<Figure size 432x288 with 1 Axes>"
      ]
     },
     "metadata": {
      "needs_background": "light"
     },
     "output_type": "display_data"
    }
   ],
   "source": [
    "scatter_plot(df, 'trip_distance', 'trip_duration', 'Distancia (km)', 'Temps (h)')"
   ]
  },
  {
   "cell_type": "code",
   "execution_count": 234,
   "id": "first-olympus",
   "metadata": {
    "tags": []
   },
   "outputs": [
    {
     "data": {
      "image/png": "[encoded data removed]",
      "text/plain": [
       "<Figure size 432x288 with 1 Axes>"
      ]
     },
     "metadata": {
      "needs_background": "light"
     },
     "output_type": "display_data"
    }
   ],
   "source": [
    "scatter_plot(df, 'trip_distance', 'trip_duration', 'Distancia (km)', 'Temps (h)', True)"
   ]
  },
  {
   "cell_type": "markdown",
   "id": "catholic-quest",
   "metadata": {},
   "source": [
    "**Pregunta: Pots veure alguna relació? Pots calcular la correlació entre les dades per treure més informació?**"
   ]
  },
  {
   "cell_type": "markdown",
   "id": "french-holder",
   "metadata": {},
   "source": [
    "> ANSWER: A partir del gràfic de disperció i correlació podem vuere que, a mesura que augmenta la distància, també augmenta el temps recorregut."
   ]
  },
  {
   "cell_type": "markdown",
   "id": "palestinian-buffalo",
   "metadata": {},
   "source": [
    "Tal com fèiem a l'apartat 3, visualitzeu les dades temporals i de distància a partir de les setmanes, i mesos de l'any."
   ]
  },
  {
   "cell_type": "code",
   "execution_count": 245,
   "id": "6ff0faa2",
   "metadata": {},
   "outputs": [
    {
     "data": {
      "text/html": [
       "<div>\n",
       "<style scoped>\n",
       "    .dataframe tbody tr th:only-of-type {\n",
       "        vertical-align: middle;\n",
       "    }\n",
       "\n",
       "    .dataframe tbody tr th {\n",
       "        vertical-align: top;\n",
       "    }\n",
       "\n",
       "    .dataframe thead th {\n",
       "        text-align: right;\n",
       "    }\n",
       "</style>\n",
       "<table border=\"1\" class=\"dataframe\">\n",
       "  <thead>\n",
       "    <tr style=\"text-align: right;\">\n",
       "      <th></th>\n",
       "      <th>tpep_pickup_datetime</th>\n",
       "      <th>tpep_dropoff_datetime</th>\n",
       "      <th>passenger_count</th>\n",
       "      <th>trip_distance</th>\n",
       "      <th>PULocationID</th>\n",
       "      <th>DOLocationID</th>\n",
       "      <th>payment_type</th>\n",
       "      <th>fare_amount</th>\n",
       "      <th>total_amount</th>\n",
       "      <th>year</th>\n",
       "      <th>trip_duration</th>\n",
       "    </tr>\n",
       "  </thead>\n",
       "  <tbody>\n",
       "    <tr>\n",
       "      <th>0</th>\n",
       "      <td>2019-01-01 00:46:40</td>\n",
       "      <td>2019-01-01 00:53:20</td>\n",
       "      <td>1.0</td>\n",
       "      <td>1.50</td>\n",
       "      <td>151</td>\n",
       "      <td>239</td>\n",
       "      <td>1</td>\n",
       "      <td>7.0</td>\n",
       "      <td>9.95</td>\n",
       "      <td>2019</td>\n",
       "      <td>0.111111</td>\n",
       "    </tr>\n",
       "    <tr>\n",
       "      <th>1000</th>\n",
       "      <td>2019-01-01 00:53:09</td>\n",
       "      <td>2019-01-01 01:01:16</td>\n",
       "      <td>1.0</td>\n",
       "      <td>1.91</td>\n",
       "      <td>148</td>\n",
       "      <td>137</td>\n",
       "      <td>2</td>\n",
       "      <td>8.5</td>\n",
       "      <td>9.80</td>\n",
       "      <td>2019</td>\n",
       "      <td>0.135278</td>\n",
       "    </tr>\n",
       "    <tr>\n",
       "      <th>2000</th>\n",
       "      <td>2019-01-01 00:50:22</td>\n",
       "      <td>2019-01-01 01:19:44</td>\n",
       "      <td>2.0</td>\n",
       "      <td>7.70</td>\n",
       "      <td>264</td>\n",
       "      <td>264</td>\n",
       "      <td>1</td>\n",
       "      <td>26.0</td>\n",
       "      <td>31.30</td>\n",
       "      <td>2019</td>\n",
       "      <td>0.489444</td>\n",
       "    </tr>\n",
       "    <tr>\n",
       "      <th>3000</th>\n",
       "      <td>2019-01-01 00:54:46</td>\n",
       "      <td>2019-01-01 01:03:13</td>\n",
       "      <td>1.0</td>\n",
       "      <td>1.40</td>\n",
       "      <td>249</td>\n",
       "      <td>164</td>\n",
       "      <td>1</td>\n",
       "      <td>7.5</td>\n",
       "      <td>11.40</td>\n",
       "      <td>2019</td>\n",
       "      <td>0.140833</td>\n",
       "    </tr>\n",
       "    <tr>\n",
       "      <th>4000</th>\n",
       "      <td>2019-01-01 00:09:29</td>\n",
       "      <td>2019-01-01 00:12:29</td>\n",
       "      <td>2.0</td>\n",
       "      <td>0.67</td>\n",
       "      <td>162</td>\n",
       "      <td>137</td>\n",
       "      <td>2</td>\n",
       "      <td>4.0</td>\n",
       "      <td>5.30</td>\n",
       "      <td>2019</td>\n",
       "      <td>0.050000</td>\n",
       "    </tr>\n",
       "    <tr>\n",
       "      <th>...</th>\n",
       "      <td>...</td>\n",
       "      <td>...</td>\n",
       "      <td>...</td>\n",
       "      <td>...</td>\n",
       "      <td>...</td>\n",
       "      <td>...</td>\n",
       "      <td>...</td>\n",
       "      <td>...</td>\n",
       "      <td>...</td>\n",
       "      <td>...</td>\n",
       "      <td>...</td>\n",
       "    </tr>\n",
       "    <tr>\n",
       "      <th>3106000</th>\n",
       "      <td>2021-12-31 22:00:22</td>\n",
       "      <td>2021-12-31 22:04:55</td>\n",
       "      <td>2.0</td>\n",
       "      <td>1.00</td>\n",
       "      <td>107</td>\n",
       "      <td>170</td>\n",
       "      <td>1</td>\n",
       "      <td>5.5</td>\n",
       "      <td>11.15</td>\n",
       "      <td>2021</td>\n",
       "      <td>0.075833</td>\n",
       "    </tr>\n",
       "    <tr>\n",
       "      <th>3108000</th>\n",
       "      <td>2021-12-31 22:45:36</td>\n",
       "      <td>2021-12-31 22:55:16</td>\n",
       "      <td>1.0</td>\n",
       "      <td>1.64</td>\n",
       "      <td>211</td>\n",
       "      <td>158</td>\n",
       "      <td>2</td>\n",
       "      <td>9.0</td>\n",
       "      <td>12.80</td>\n",
       "      <td>2021</td>\n",
       "      <td>0.161111</td>\n",
       "    </tr>\n",
       "    <tr>\n",
       "      <th>3109000</th>\n",
       "      <td>2021-12-31 22:55:29</td>\n",
       "      <td>2021-12-31 23:05:10</td>\n",
       "      <td>1.0</td>\n",
       "      <td>1.49</td>\n",
       "      <td>79</td>\n",
       "      <td>164</td>\n",
       "      <td>2</td>\n",
       "      <td>8.0</td>\n",
       "      <td>11.80</td>\n",
       "      <td>2021</td>\n",
       "      <td>0.161389</td>\n",
       "    </tr>\n",
       "    <tr>\n",
       "      <th>3110000</th>\n",
       "      <td>2021-12-31 23:26:04</td>\n",
       "      <td>2021-12-31 23:29:32</td>\n",
       "      <td>5.0</td>\n",
       "      <td>0.90</td>\n",
       "      <td>263</td>\n",
       "      <td>236</td>\n",
       "      <td>1</td>\n",
       "      <td>5.0</td>\n",
       "      <td>11.00</td>\n",
       "      <td>2021</td>\n",
       "      <td>0.057778</td>\n",
       "    </tr>\n",
       "    <tr>\n",
       "      <th>3111000</th>\n",
       "      <td>2021-12-31 23:12:33</td>\n",
       "      <td>2021-12-31 23:17:37</td>\n",
       "      <td>1.0</td>\n",
       "      <td>1.11</td>\n",
       "      <td>75</td>\n",
       "      <td>236</td>\n",
       "      <td>2</td>\n",
       "      <td>6.0</td>\n",
       "      <td>9.80</td>\n",
       "      <td>2021</td>\n",
       "      <td>0.084444</td>\n",
       "    </tr>\n",
       "  </tbody>\n",
       "</table>\n",
       "<p>132842 rows × 11 columns</p>\n",
       "</div>"
      ],
      "text/plain": [
       "        tpep_pickup_datetime tpep_dropoff_datetime  passenger_count  \\\n",
       "0        2019-01-01 00:46:40   2019-01-01 00:53:20              1.0   \n",
       "1000     2019-01-01 00:53:09   2019-01-01 01:01:16              1.0   \n",
       "2000     2019-01-01 00:50:22   2019-01-01 01:19:44              2.0   \n",
       "3000     2019-01-01 00:54:46   2019-01-01 01:03:13              1.0   \n",
       "4000     2019-01-01 00:09:29   2019-01-01 00:12:29              2.0   \n",
       "...                      ...                   ...              ...   \n",
       "3106000  2021-12-31 22:00:22   2021-12-31 22:04:55              2.0   \n",
       "3108000  2021-12-31 22:45:36   2021-12-31 22:55:16              1.0   \n",
       "3109000  2021-12-31 22:55:29   2021-12-31 23:05:10              1.0   \n",
       "3110000  2021-12-31 23:26:04   2021-12-31 23:29:32              5.0   \n",
       "3111000  2021-12-31 23:12:33   2021-12-31 23:17:37              1.0   \n",
       "\n",
       "         trip_distance  PULocationID  DOLocationID  payment_type  fare_amount  \\\n",
       "0                 1.50           151           239             1          7.0   \n",
       "1000              1.91           148           137             2          8.5   \n",
       "2000              7.70           264           264             1         26.0   \n",
       "3000              1.40           249           164             1          7.5   \n",
       "4000              0.67           162           137             2          4.0   \n",
       "...                ...           ...           ...           ...          ...   \n",
       "3106000           1.00           107           170             1          5.5   \n",
       "3108000           1.64           211           158             2          9.0   \n",
       "3109000           1.49            79           164             2          8.0   \n",
       "3110000           0.90           263           236             1          5.0   \n",
       "3111000           1.11            75           236             2          6.0   \n",
       "\n",
       "         total_amount  year  trip_duration  \n",
       "0                9.95  2019       0.111111  \n",
       "1000             9.80  2019       0.135278  \n",
       "2000            31.30  2019       0.489444  \n",
       "3000            11.40  2019       0.140833  \n",
       "4000             5.30  2019       0.050000  \n",
       "...               ...   ...            ...  \n",
       "3106000         11.15  2021       0.075833  \n",
       "3108000         12.80  2021       0.161111  \n",
       "3109000         11.80  2021       0.161389  \n",
       "3110000         11.00  2021       0.057778  \n",
       "3111000          9.80  2021       0.084444  \n",
       "\n",
       "[132842 rows x 11 columns]"
      ]
     },
     "execution_count": 245,
     "metadata": {},
     "output_type": "execute_result"
    }
   ],
   "source": [
    "df"
   ]
  },
  {
   "cell_type": "code",
   "execution_count": 154,
   "id": "922e476f",
   "metadata": {},
   "outputs": [
    {
     "name": "stdout",
     "output_type": "stream",
     "text": [
      "<class 'pandas.core.indexes.numeric.Int64Index'>\n",
      "week\n",
      "1      8179.46\n",
      "2      9111.67\n",
      "3      9668.52\n",
      "4      9353.08\n",
      "5      9500.77\n",
      "6      9954.40\n",
      "7      9659.27\n",
      "8      9558.04\n",
      "9     10038.64\n",
      "10    10644.02\n",
      "11     8796.89\n",
      "12     6627.41\n",
      "13     6268.69\n",
      "14     7035.62\n",
      "15     6494.92\n",
      "16     6205.38\n",
      "17     6530.95\n",
      "18     6834.24\n",
      "19     6810.11\n",
      "20     6579.60\n",
      "21     6700.51\n",
      "22     7055.24\n",
      "23     6926.27\n",
      "24     6905.15\n",
      "25     7014.90\n",
      "26     6992.61\n",
      "27     5938.37\n",
      "28     6810.49\n",
      "29     7059.48\n",
      "30     7000.77\n",
      "31     6577.76\n",
      "32     6714.87\n",
      "33     6526.70\n",
      "34     6831.88\n",
      "35     6322.24\n",
      "36     7135.87\n",
      "37     7294.42\n",
      "38     7333.71\n",
      "39     7519.34\n",
      "40     7476.35\n",
      "41     7575.01\n",
      "42     7918.09\n",
      "43     7825.73\n",
      "44     7904.97\n",
      "45     8200.64\n",
      "46     8188.10\n",
      "47     7408.39\n",
      "48     6964.21\n",
      "49     8727.37\n",
      "50     8778.31\n",
      "51     7500.48\n",
      "52     5216.72\n",
      "53      753.11\n",
      "Name: trip_distance, dtype: float64\n"
     ]
    },
    {
     "data": {
      "text/plain": [
       "<AxesSubplot:xlabel='week'>"
      ]
     },
     "execution_count": 154,
     "metadata": {},
     "output_type": "execute_result"
    },
    {
     "data": {
      "image/png": "[encoded data removed]",
      "text/plain": [
       "<Figure size 432x288 with 1 Axes>"
      ]
     },
     "metadata": {
      "needs_background": "light"
     },
     "output_type": "display_data"
    }
   ],
   "source": [
    "# obte la setmana de cada linia de la columna tpep_pickup_datetime\n",
    "pick = pd.Int64Index(pd.DatetimeIndex(df['tpep_pickup_datetime']).isocalendar().week)\n",
    "print(type(pick))\n",
    "serie = df.groupby(pick)['trip_distance'].sum()\n",
    "print(serie)\n",
    "#serie['trip_distance'].size()\n",
    "#print(type(serie))\n",
    "len(serie)\n",
    "serie.plot(style='.', color = COLORS[0])"
   ]
  },
  {
   "cell_type": "code",
   "execution_count": null,
   "id": "df3a2b73",
   "metadata": {},
   "outputs": [],
   "source": []
  },
  {
   "cell_type": "code",
   "execution_count": 193,
   "id": "german-graham",
   "metadata": {},
   "outputs": [],
   "source": [
    "def visualize_per_period(df, column_data, columns, xlabel, ylabel, title):\n",
    "    \"\"\"\n",
    "    Funció que visualitza la distància / duració mitjanes dels trajectes en un temps a determinar\n",
    "    \"\"\"\n",
    "    taula_any = df\n",
    "    figure = plt.figure(figsize=(15,15))\n",
    "    for index,year in enumerate(YEARS):\n",
    "        # agafem només les dades \n",
    "        taula_any = df[df['year'] == year]\n",
    "        if columns[0] == 'pickup_week':\n",
    "            pick = pd.Int64Index(pd.DatetimeIndex(df['tpep_pickup_datetime']).isocalendar().week)\n",
    "            drop = pd.Int64Index(pd.DatetimeIndex(df['tpep_dropoff_datetime']).isocalendar().week)\n",
    "\n",
    "        elif columns[0] == 'pickup_month':\n",
    "            pick = pd.DatetimeIndex(df['tpep_pickup_datetime']).month\n",
    "            drop = pd.DatetimeIndex(df['tpep_dropoff_datetime']).month\n",
    "\n",
    "        # obtenim la mitjana de kms/hores de cada temporada requerida\n",
    "        serie_pick = df.groupby(pick)[column_data].mean()\n",
    "        serie_drop = df.groupby(drop)[column_data].mean()\n",
    "        \n",
    "        figure.add_subplot(3,1,(index+1))\n",
    "        serie_pick.plot(style='.', color = COLORS[0], label = 'pick up')\n",
    "        serie_pick.plot(style='.', color = COLORS[1], label = 'drop off', alpha = 0.4)\n",
    "        plt.xlabel(xlabel)\n",
    "        plt.ylabel(ylabel)\n",
    "        plt.ylim((0,4))\n",
    "        plt.title(title + ' ' + str(year))\n",
    "        plt.legend()"
   ]
  },
  {
   "cell_type": "code",
   "execution_count": 194,
   "id": "judicial-breast",
   "metadata": {
    "tags": []
   },
   "outputs": [
    {
     "data": {
      "image/png": "[encoded data removed]",
      "text/plain": [
       "<Figure size 1080x1080 with 3 Axes>"
      ]
     },
     "metadata": {
      "needs_background": "light"
     },
     "output_type": "display_data"
    }
   ],
   "source": [
    "visualize_per_period(df, 'trip_distance', columns = ['pickup_week', 'dropoff_week'],\n",
    "                    xlabel = 'Setmana de l\\'any', ylabel = 'Distancia mitjana (km)', title = 'Distancia dels viatges per setmanes')"
   ]
  },
  {
   "cell_type": "code",
   "execution_count": 195,
   "id": "banned-panama",
   "metadata": {
    "tags": []
   },
   "outputs": [
    {
     "data": {
      "image/png": "[encoded data removed]",
      "text/plain": [
       "<Figure size 1080x1080 with 3 Axes>"
      ]
     },
     "metadata": {
      "needs_background": "light"
     },
     "output_type": "display_data"
    }
   ],
   "source": [
    "visualize_per_period(df, 'trip_distance', columns = ['pickup_month', 'dropoff_month'],\n",
    "                     xlabel = 'Mes de l\\'any', ylabel = 'Distancia mitjana (km)', title = 'Distancia dels viatges per mesos')"
   ]
  },
  {
   "cell_type": "code",
   "execution_count": 196,
   "id": "central-ratio",
   "metadata": {
    "tags": []
   },
   "outputs": [
    {
     "data": {
      "image/png": "[encoded data removed]",
      "text/plain": [
       "<Figure size 1080x1080 with 3 Axes>"
      ]
     },
     "metadata": {
      "needs_background": "light"
     },
     "output_type": "display_data"
    }
   ],
   "source": [
    "visualize_per_period(df, 'trip_duration', columns = ['pickup_week', 'dropoff_week'],\n",
    "                     xlabel = 'Setmana de l\\'any', ylabel = 'Durada mitjana (h)', title = 'Durada dels viatges per setmanes')"
   ]
  },
  {
   "cell_type": "code",
   "execution_count": 197,
   "id": "thousand-madison",
   "metadata": {
    "tags": []
   },
   "outputs": [
    {
     "data": {
      "image/png": "[encoded data removed]",
      "text/plain": [
       "<Figure size 1080x1080 with 3 Axes>"
      ]
     },
     "metadata": {
      "needs_background": "light"
     },
     "output_type": "display_data"
    }
   ],
   "source": [
    "visualize_per_period(df, 'trip_duration', columns = ['pickup_month', 'dropoff_month'],\n",
    "                     xlabel = 'Mes de l\\'any', ylabel = 'Durada mitjana (h)', title = 'Durada dels viatges per mesos')"
   ]
  },
  {
   "cell_type": "markdown",
   "id": "grateful-captain",
   "metadata": {},
   "source": [
    "**Pregunta: Hi ha algun comportament estrany a part de la covid? Per què pot ser causat?**\n",
    "    \n",
    "> ANSWER"
   ]
  },
  {
   "cell_type": "code",
   "execution_count": null,
   "id": "hungry-portsmouth",
   "metadata": {},
   "outputs": [],
   "source": []
  },
  {
   "cell_type": "markdown",
   "id": "strange-forum",
   "metadata": {},
   "source": [
    "Fins ara hem mostrat les dades de manera agregada.\n",
    "\n",
    "Per tal de visualitzar-ho de manera global, utilitzarem la funció *plt.imshow()* que visualitza imatges i, per tant, matrius."
   ]
  },
  {
   "cell_type": "markdown",
   "id": "humanitarian-tiffany",
   "metadata": {},
   "source": [
    "Implementa una funció que visualitzi per any:\n",
    "\n",
    "- un mapa de calor que indiqui a quina hora del dia hi ha viatges més llargs durant l'any.\n",
    "- un mapa de calor que indiqui a quina hora del dia hi ha viatges més llargs durant la setmana."
   ]
  },
  {
   "cell_type": "code",
   "execution_count": 64,
   "id": "139dc6f6",
   "metadata": {},
   "outputs": [
    {
     "data": {
      "text/html": [
       "<div>\n",
       "<style scoped>\n",
       "    .dataframe tbody tr th:only-of-type {\n",
       "        vertical-align: middle;\n",
       "    }\n",
       "\n",
       "    .dataframe tbody tr th {\n",
       "        vertical-align: top;\n",
       "    }\n",
       "\n",
       "    .dataframe thead th {\n",
       "        text-align: right;\n",
       "    }\n",
       "</style>\n",
       "<table border=\"1\" class=\"dataframe\">\n",
       "  <thead>\n",
       "    <tr style=\"text-align: right;\">\n",
       "      <th></th>\n",
       "      <th>tpep_pickup_datetime</th>\n",
       "      <th>tpep_dropoff_datetime</th>\n",
       "      <th>passenger_count</th>\n",
       "      <th>trip_distance</th>\n",
       "      <th>PULocationID</th>\n",
       "      <th>DOLocationID</th>\n",
       "      <th>payment_type</th>\n",
       "      <th>fare_amount</th>\n",
       "      <th>total_amount</th>\n",
       "      <th>year</th>\n",
       "      <th>pickup_hour</th>\n",
       "      <th>pickup_day</th>\n",
       "      <th>pickup_week</th>\n",
       "      <th>pickup_month</th>\n",
       "      <th>dropoff_hour</th>\n",
       "      <th>dropoff_day</th>\n",
       "      <th>dropoff_week</th>\n",
       "      <th>dropoff_month</th>\n",
       "      <th>trip_duration</th>\n",
       "    </tr>\n",
       "  </thead>\n",
       "  <tbody>\n",
       "    <tr>\n",
       "      <th>0</th>\n",
       "      <td>2019-01-01 00:46:40</td>\n",
       "      <td>2019-01-01 00:53:20</td>\n",
       "      <td>1.0</td>\n",
       "      <td>1.50</td>\n",
       "      <td>151</td>\n",
       "      <td>239</td>\n",
       "      <td>1</td>\n",
       "      <td>7.0</td>\n",
       "      <td>9.95</td>\n",
       "      <td>2019</td>\n",
       "      <td>0</td>\n",
       "      <td>1</td>\n",
       "      <td>1</td>\n",
       "      <td>1</td>\n",
       "      <td>0</td>\n",
       "      <td>1</td>\n",
       "      <td>1</td>\n",
       "      <td>1</td>\n",
       "      <td>0 days 00:06:40</td>\n",
       "    </tr>\n",
       "    <tr>\n",
       "      <th>1</th>\n",
       "      <td>2019-01-01 00:59:47</td>\n",
       "      <td>2019-01-01 01:18:59</td>\n",
       "      <td>1.0</td>\n",
       "      <td>2.60</td>\n",
       "      <td>239</td>\n",
       "      <td>246</td>\n",
       "      <td>1</td>\n",
       "      <td>14.0</td>\n",
       "      <td>16.30</td>\n",
       "      <td>2019</td>\n",
       "      <td>0</td>\n",
       "      <td>1</td>\n",
       "      <td>1</td>\n",
       "      <td>1</td>\n",
       "      <td>1</td>\n",
       "      <td>1</td>\n",
       "      <td>1</td>\n",
       "      <td>1</td>\n",
       "      <td>0 days 00:19:12</td>\n",
       "    </tr>\n",
       "    <tr>\n",
       "      <th>7</th>\n",
       "      <td>2019-01-01 00:21:28</td>\n",
       "      <td>2019-01-01 00:28:37</td>\n",
       "      <td>1.0</td>\n",
       "      <td>1.30</td>\n",
       "      <td>163</td>\n",
       "      <td>229</td>\n",
       "      <td>1</td>\n",
       "      <td>6.5</td>\n",
       "      <td>9.05</td>\n",
       "      <td>2019</td>\n",
       "      <td>0</td>\n",
       "      <td>1</td>\n",
       "      <td>1</td>\n",
       "      <td>1</td>\n",
       "      <td>0</td>\n",
       "      <td>1</td>\n",
       "      <td>1</td>\n",
       "      <td>1</td>\n",
       "      <td>0 days 00:07:09</td>\n",
       "    </tr>\n",
       "    <tr>\n",
       "      <th>8</th>\n",
       "      <td>2019-01-01 00:32:01</td>\n",
       "      <td>2019-01-01 00:45:39</td>\n",
       "      <td>1.0</td>\n",
       "      <td>3.70</td>\n",
       "      <td>229</td>\n",
       "      <td>7</td>\n",
       "      <td>1</td>\n",
       "      <td>13.5</td>\n",
       "      <td>18.50</td>\n",
       "      <td>2019</td>\n",
       "      <td>0</td>\n",
       "      <td>1</td>\n",
       "      <td>1</td>\n",
       "      <td>1</td>\n",
       "      <td>0</td>\n",
       "      <td>1</td>\n",
       "      <td>1</td>\n",
       "      <td>1</td>\n",
       "      <td>0 days 00:13:38</td>\n",
       "    </tr>\n",
       "    <tr>\n",
       "      <th>9</th>\n",
       "      <td>2019-01-01 00:57:32</td>\n",
       "      <td>2019-01-01 01:09:32</td>\n",
       "      <td>2.0</td>\n",
       "      <td>2.10</td>\n",
       "      <td>141</td>\n",
       "      <td>234</td>\n",
       "      <td>1</td>\n",
       "      <td>10.0</td>\n",
       "      <td>13.00</td>\n",
       "      <td>2019</td>\n",
       "      <td>0</td>\n",
       "      <td>1</td>\n",
       "      <td>1</td>\n",
       "      <td>1</td>\n",
       "      <td>1</td>\n",
       "      <td>1</td>\n",
       "      <td>1</td>\n",
       "      <td>1</td>\n",
       "      <td>0 days 00:12:00</td>\n",
       "    </tr>\n",
       "    <tr>\n",
       "      <th>...</th>\n",
       "      <td>...</td>\n",
       "      <td>...</td>\n",
       "      <td>...</td>\n",
       "      <td>...</td>\n",
       "      <td>...</td>\n",
       "      <td>...</td>\n",
       "      <td>...</td>\n",
       "      <td>...</td>\n",
       "      <td>...</td>\n",
       "      <td>...</td>\n",
       "      <td>...</td>\n",
       "      <td>...</td>\n",
       "      <td>...</td>\n",
       "      <td>...</td>\n",
       "      <td>...</td>\n",
       "      <td>...</td>\n",
       "      <td>...</td>\n",
       "      <td>...</td>\n",
       "      <td>...</td>\n",
       "    </tr>\n",
       "    <tr>\n",
       "      <th>10690</th>\n",
       "      <td>2021-12-01 07:45:25</td>\n",
       "      <td>2021-12-01 08:19:17</td>\n",
       "      <td>2.0</td>\n",
       "      <td>9.38</td>\n",
       "      <td>138</td>\n",
       "      <td>163</td>\n",
       "      <td>1</td>\n",
       "      <td>31.0</td>\n",
       "      <td>38.55</td>\n",
       "      <td>2021</td>\n",
       "      <td>7</td>\n",
       "      <td>2</td>\n",
       "      <td>48</td>\n",
       "      <td>12</td>\n",
       "      <td>8</td>\n",
       "      <td>2</td>\n",
       "      <td>48</td>\n",
       "      <td>12</td>\n",
       "      <td>0 days 00:33:52</td>\n",
       "    </tr>\n",
       "    <tr>\n",
       "      <th>10691</th>\n",
       "      <td>2021-12-01 07:37:21</td>\n",
       "      <td>2021-12-01 07:53:50</td>\n",
       "      <td>3.0</td>\n",
       "      <td>3.30</td>\n",
       "      <td>231</td>\n",
       "      <td>230</td>\n",
       "      <td>1</td>\n",
       "      <td>13.5</td>\n",
       "      <td>18.80</td>\n",
       "      <td>2021</td>\n",
       "      <td>7</td>\n",
       "      <td>2</td>\n",
       "      <td>48</td>\n",
       "      <td>12</td>\n",
       "      <td>7</td>\n",
       "      <td>2</td>\n",
       "      <td>48</td>\n",
       "      <td>12</td>\n",
       "      <td>0 days 00:16:29</td>\n",
       "    </tr>\n",
       "    <tr>\n",
       "      <th>10692</th>\n",
       "      <td>2021-12-01 07:35:05</td>\n",
       "      <td>2021-12-01 08:01:14</td>\n",
       "      <td>1.0</td>\n",
       "      <td>3.79</td>\n",
       "      <td>238</td>\n",
       "      <td>140</td>\n",
       "      <td>1</td>\n",
       "      <td>18.5</td>\n",
       "      <td>23.98</td>\n",
       "      <td>2021</td>\n",
       "      <td>7</td>\n",
       "      <td>2</td>\n",
       "      <td>48</td>\n",
       "      <td>12</td>\n",
       "      <td>8</td>\n",
       "      <td>2</td>\n",
       "      <td>48</td>\n",
       "      <td>12</td>\n",
       "      <td>0 days 00:26:09</td>\n",
       "    </tr>\n",
       "    <tr>\n",
       "      <th>10693</th>\n",
       "      <td>2021-12-01 07:51:59</td>\n",
       "      <td>2021-12-01 08:46:01</td>\n",
       "      <td>1.0</td>\n",
       "      <td>12.15</td>\n",
       "      <td>138</td>\n",
       "      <td>231</td>\n",
       "      <td>1</td>\n",
       "      <td>41.5</td>\n",
       "      <td>65.44</td>\n",
       "      <td>2021</td>\n",
       "      <td>7</td>\n",
       "      <td>2</td>\n",
       "      <td>48</td>\n",
       "      <td>12</td>\n",
       "      <td>8</td>\n",
       "      <td>2</td>\n",
       "      <td>48</td>\n",
       "      <td>12</td>\n",
       "      <td>0 days 00:54:02</td>\n",
       "    </tr>\n",
       "    <tr>\n",
       "      <th>10694</th>\n",
       "      <td>2021-12-01 07:37:32</td>\n",
       "      <td>2021-12-01 08:45:21</td>\n",
       "      <td>1.0</td>\n",
       "      <td>16.00</td>\n",
       "      <td>132</td>\n",
       "      <td>145</td>\n",
       "      <td>1</td>\n",
       "      <td>55.5</td>\n",
       "      <td>68.81</td>\n",
       "      <td>2021</td>\n",
       "      <td>7</td>\n",
       "      <td>2</td>\n",
       "      <td>48</td>\n",
       "      <td>12</td>\n",
       "      <td>8</td>\n",
       "      <td>2</td>\n",
       "      <td>48</td>\n",
       "      <td>12</td>\n",
       "      <td>0 days 01:07:49</td>\n",
       "    </tr>\n",
       "  </tbody>\n",
       "</table>\n",
       "<p>360000 rows × 19 columns</p>\n",
       "</div>"
      ],
      "text/plain": [
       "      tpep_pickup_datetime tpep_dropoff_datetime  passenger_count  \\\n",
       "0      2019-01-01 00:46:40   2019-01-01 00:53:20              1.0   \n",
       "1      2019-01-01 00:59:47   2019-01-01 01:18:59              1.0   \n",
       "7      2019-01-01 00:21:28   2019-01-01 00:28:37              1.0   \n",
       "8      2019-01-01 00:32:01   2019-01-01 00:45:39              1.0   \n",
       "9      2019-01-01 00:57:32   2019-01-01 01:09:32              2.0   \n",
       "...                    ...                   ...              ...   \n",
       "10690  2021-12-01 07:45:25   2021-12-01 08:19:17              2.0   \n",
       "10691  2021-12-01 07:37:21   2021-12-01 07:53:50              3.0   \n",
       "10692  2021-12-01 07:35:05   2021-12-01 08:01:14              1.0   \n",
       "10693  2021-12-01 07:51:59   2021-12-01 08:46:01              1.0   \n",
       "10694  2021-12-01 07:37:32   2021-12-01 08:45:21              1.0   \n",
       "\n",
       "       trip_distance  PULocationID  DOLocationID  payment_type  fare_amount  \\\n",
       "0               1.50           151           239             1          7.0   \n",
       "1               2.60           239           246             1         14.0   \n",
       "7               1.30           163           229             1          6.5   \n",
       "8               3.70           229             7             1         13.5   \n",
       "9               2.10           141           234             1         10.0   \n",
       "...              ...           ...           ...           ...          ...   \n",
       "10690           9.38           138           163             1         31.0   \n",
       "10691           3.30           231           230             1         13.5   \n",
       "10692           3.79           238           140             1         18.5   \n",
       "10693          12.15           138           231             1         41.5   \n",
       "10694          16.00           132           145             1         55.5   \n",
       "\n",
       "       total_amount  year  pickup_hour  pickup_day  pickup_week  pickup_month  \\\n",
       "0              9.95  2019            0           1            1             1   \n",
       "1             16.30  2019            0           1            1             1   \n",
       "7              9.05  2019            0           1            1             1   \n",
       "8             18.50  2019            0           1            1             1   \n",
       "9             13.00  2019            0           1            1             1   \n",
       "...             ...   ...          ...         ...          ...           ...   \n",
       "10690         38.55  2021            7           2           48            12   \n",
       "10691         18.80  2021            7           2           48            12   \n",
       "10692         23.98  2021            7           2           48            12   \n",
       "10693         65.44  2021            7           2           48            12   \n",
       "10694         68.81  2021            7           2           48            12   \n",
       "\n",
       "       dropoff_hour  dropoff_day  dropoff_week  dropoff_month   trip_duration  \n",
       "0                 0            1             1              1 0 days 00:06:40  \n",
       "1                 1            1             1              1 0 days 00:19:12  \n",
       "7                 0            1             1              1 0 days 00:07:09  \n",
       "8                 0            1             1              1 0 days 00:13:38  \n",
       "9                 1            1             1              1 0 days 00:12:00  \n",
       "...             ...          ...           ...            ...             ...  \n",
       "10690             8            2            48             12 0 days 00:33:52  \n",
       "10691             7            2            48             12 0 days 00:16:29  \n",
       "10692             8            2            48             12 0 days 00:26:09  \n",
       "10693             8            2            48             12 0 days 00:54:02  \n",
       "10694             8            2            48             12 0 days 01:07:49  \n",
       "\n",
       "[360000 rows x 19 columns]"
      ]
     },
     "execution_count": 64,
     "metadata": {},
     "output_type": "execute_result"
    }
   ],
   "source": [
    "df"
   ]
  },
  {
   "cell_type": "code",
   "execution_count": null,
   "id": "psychological-burden",
   "metadata": {},
   "outputs": [],
   "source": [
    "def heatmap(df, group, column_data, xlabel, ylabel, columns = None):\n",
    "    \"\"\"\n",
    "    Funció que agrega les dades de manera adient per visualitzar un mapa de calor\n",
    "    \"\"\"\n",
    "    \n",
    "    # AQUÍ EL TEU CODI\n",
    "    raise NotImplementedError"
   ]
  },
  {
   "cell_type": "code",
   "execution_count": null,
   "id": "binding-tobacco",
   "metadata": {
    "tags": []
   },
   "outputs": [],
   "source": [
    "heatmap(df, ['pickup_hour', 'pickup_dayofyear'], 'trip_duration', 'Dies de l\\'any', 'Hores del dia')"
   ]
  },
  {
   "cell_type": "code",
   "execution_count": null,
   "id": "experimental-sample",
   "metadata": {
    "tags": []
   },
   "outputs": [],
   "source": [
    "heatmap(df, ['pickup_hour', 'pickup_day'], 'trip_duration', 'Hores del dia', 'Dies de la setmana', ['Monday', 'Tuesday', 'Wednesday', 'Thursday', 'Friday', 'Saturday', 'Sunday'])"
   ]
  },
  {
   "cell_type": "code",
   "execution_count": null,
   "id": "another-recommendation",
   "metadata": {},
   "outputs": [],
   "source": []
  },
  {
   "cell_type": "markdown",
   "id": "regulated-supervision",
   "metadata": {
    "tags": []
   },
   "source": [
    "Repeteix els gràfics anteriors visualitzant la distancia."
   ]
  },
  {
   "cell_type": "code",
   "execution_count": null,
   "id": "curious-remark",
   "metadata": {},
   "outputs": [],
   "source": [
    "heatmap(df, ['pickup_hour', 'pickup_dayofyear'], 'trip_distance', 'Dies de l\\'any', 'Hores del dia')"
   ]
  },
  {
   "cell_type": "code",
   "execution_count": null,
   "id": "judicial-vancouver",
   "metadata": {
    "tags": []
   },
   "outputs": [],
   "source": [
    "heatmap(df, ['pickup_hour', 'pickup_day'], 'trip_distance', 'Hores del dia', 'Dies de la setmana', ['Monday', 'Tuesday', 'Wednesday', 'Thursday', 'Friday', 'Saturday', 'Sunday'])"
   ]
  },
  {
   "cell_type": "code",
   "execution_count": null,
   "id": "fossil-brazilian",
   "metadata": {},
   "outputs": [],
   "source": []
  },
  {
   "cell_type": "markdown",
   "id": "reflected-split",
   "metadata": {},
   "source": [
    "Per últim, visualitza la velocitat mitjana a les diferents hores del dia durant la setmana."
   ]
  },
  {
   "cell_type": "code",
   "execution_count": null,
   "id": "animal-causing",
   "metadata": {
    "tags": []
   },
   "outputs": [],
   "source": [
    "def speed_heatmap(df, group, xlabel, ylabel, columns = None):\n",
    "    \"\"\"\n",
    "    Funció que agrega les dades de manera adient per visualitzar la velocitat un mapa de calor\n",
    "    \"\"\"\n",
    "    # AQUÍ EL TEU CODI\n",
    "    raise NotImplementedError"
   ]
  },
  {
   "cell_type": "code",
   "execution_count": null,
   "id": "becoming-restaurant",
   "metadata": {
    "tags": []
   },
   "outputs": [],
   "source": [
    "speed_heatmap(df, ['pickup_hour', 'pickup_day'], 'Hores del dia', 'Dies de la setmana', ['Monday', 'Tuesday', 'Wednesday', 'Thursday', 'Friday', 'Saturday', 'Sunday'])"
   ]
  },
  {
   "cell_type": "markdown",
   "id": "intermediate-paint",
   "metadata": {},
   "source": [
    "**Pregunta: Quines conclusions treieu dels mapes de calor?**\n",
    "    \n",
    "> ANSWER"
   ]
  },
  {
   "cell_type": "code",
   "execution_count": null,
   "id": "republican-scratch",
   "metadata": {},
   "outputs": [],
   "source": []
  },
  {
   "cell_type": "markdown",
   "id": "exterior-seventh",
   "metadata": {},
   "source": [
    "## 05. Visualitzem les localitzacions dels viatges"
   ]
  },
  {
   "cell_type": "code",
   "execution_count": 163,
   "id": "empirical-blogger",
   "metadata": {},
   "outputs": [
    {
     "data": {
      "text/html": [
       "<div>\n",
       "<style scoped>\n",
       "    .dataframe tbody tr th:only-of-type {\n",
       "        vertical-align: middle;\n",
       "    }\n",
       "\n",
       "    .dataframe tbody tr th {\n",
       "        vertical-align: top;\n",
       "    }\n",
       "\n",
       "    .dataframe thead th {\n",
       "        text-align: right;\n",
       "    }\n",
       "</style>\n",
       "<table border=\"1\" class=\"dataframe\">\n",
       "  <thead>\n",
       "    <tr style=\"text-align: right;\">\n",
       "      <th></th>\n",
       "      <th>tpep_pickup_datetime</th>\n",
       "      <th>tpep_dropoff_datetime</th>\n",
       "      <th>passenger_count</th>\n",
       "      <th>trip_distance</th>\n",
       "      <th>PULocationID</th>\n",
       "      <th>DOLocationID</th>\n",
       "      <th>payment_type</th>\n",
       "      <th>fare_amount</th>\n",
       "      <th>total_amount</th>\n",
       "      <th>year</th>\n",
       "      <th>trip_duration</th>\n",
       "    </tr>\n",
       "  </thead>\n",
       "  <tbody>\n",
       "    <tr>\n",
       "      <th>0</th>\n",
       "      <td>2019-01-01 00:46:40</td>\n",
       "      <td>2019-01-01 00:53:20</td>\n",
       "      <td>1.0</td>\n",
       "      <td>1.50</td>\n",
       "      <td>151</td>\n",
       "      <td>239</td>\n",
       "      <td>1</td>\n",
       "      <td>7.0</td>\n",
       "      <td>9.95</td>\n",
       "      <td>2019</td>\n",
       "      <td>0.111111</td>\n",
       "    </tr>\n",
       "    <tr>\n",
       "      <th>1000</th>\n",
       "      <td>2019-01-01 00:53:09</td>\n",
       "      <td>2019-01-01 01:01:16</td>\n",
       "      <td>1.0</td>\n",
       "      <td>1.91</td>\n",
       "      <td>148</td>\n",
       "      <td>137</td>\n",
       "      <td>2</td>\n",
       "      <td>8.5</td>\n",
       "      <td>9.80</td>\n",
       "      <td>2019</td>\n",
       "      <td>0.135278</td>\n",
       "    </tr>\n",
       "    <tr>\n",
       "      <th>2000</th>\n",
       "      <td>2019-01-01 00:50:22</td>\n",
       "      <td>2019-01-01 01:19:44</td>\n",
       "      <td>2.0</td>\n",
       "      <td>7.70</td>\n",
       "      <td>264</td>\n",
       "      <td>264</td>\n",
       "      <td>1</td>\n",
       "      <td>26.0</td>\n",
       "      <td>31.30</td>\n",
       "      <td>2019</td>\n",
       "      <td>0.489444</td>\n",
       "    </tr>\n",
       "    <tr>\n",
       "      <th>3000</th>\n",
       "      <td>2019-01-01 00:54:46</td>\n",
       "      <td>2019-01-01 01:03:13</td>\n",
       "      <td>1.0</td>\n",
       "      <td>1.40</td>\n",
       "      <td>249</td>\n",
       "      <td>164</td>\n",
       "      <td>1</td>\n",
       "      <td>7.5</td>\n",
       "      <td>11.40</td>\n",
       "      <td>2019</td>\n",
       "      <td>0.140833</td>\n",
       "    </tr>\n",
       "    <tr>\n",
       "      <th>4000</th>\n",
       "      <td>2019-01-01 00:09:29</td>\n",
       "      <td>2019-01-01 00:12:29</td>\n",
       "      <td>2.0</td>\n",
       "      <td>0.67</td>\n",
       "      <td>162</td>\n",
       "      <td>137</td>\n",
       "      <td>2</td>\n",
       "      <td>4.0</td>\n",
       "      <td>5.30</td>\n",
       "      <td>2019</td>\n",
       "      <td>0.050000</td>\n",
       "    </tr>\n",
       "  </tbody>\n",
       "</table>\n",
       "</div>"
      ],
      "text/plain": [
       "     tpep_pickup_datetime tpep_dropoff_datetime  passenger_count  \\\n",
       "0     2019-01-01 00:46:40   2019-01-01 00:53:20              1.0   \n",
       "1000  2019-01-01 00:53:09   2019-01-01 01:01:16              1.0   \n",
       "2000  2019-01-01 00:50:22   2019-01-01 01:19:44              2.0   \n",
       "3000  2019-01-01 00:54:46   2019-01-01 01:03:13              1.0   \n",
       "4000  2019-01-01 00:09:29   2019-01-01 00:12:29              2.0   \n",
       "\n",
       "      trip_distance  PULocationID  DOLocationID  payment_type  fare_amount  \\\n",
       "0              1.50           151           239             1          7.0   \n",
       "1000           1.91           148           137             2          8.5   \n",
       "2000           7.70           264           264             1         26.0   \n",
       "3000           1.40           249           164             1          7.5   \n",
       "4000           0.67           162           137             2          4.0   \n",
       "\n",
       "      total_amount  year  trip_duration  \n",
       "0             9.95  2019       0.111111  \n",
       "1000          9.80  2019       0.135278  \n",
       "2000         31.30  2019       0.489444  \n",
       "3000         11.40  2019       0.140833  \n",
       "4000          5.30  2019       0.050000  "
      ]
     },
     "execution_count": 163,
     "metadata": {},
     "output_type": "execute_result"
    }
   ],
   "source": [
    "df.head()"
   ]
  },
  {
   "cell_type": "markdown",
   "id": "institutional-border",
   "metadata": {},
   "source": [
    "Només tenim la ID d'una localització, per tant, necessitem aconseguir la latitud i la longitud.\n",
    "\n",
    "La mateixa pàgina dels taxis ens dóna el fitxer *taxi_zones.zip*, però primer cal que convertim les dades de coordenades amb format WGS84.\n",
    "\n",
    "Podem utilitzar aquesta web: https://mygeodata.cloud/"
   ]
  },
  {
   "cell_type": "code",
   "execution_count": 68,
   "id": "sweet-institute",
   "metadata": {},
   "outputs": [],
   "source": [
    "from utils import get_lat_lon, draw_region_map, draw_zone_map"
   ]
  },
  {
   "cell_type": "code",
   "execution_count": 77,
   "id": "comprehensive-tactics",
   "metadata": {
    "tags": []
   },
   "outputs": [
    {
     "name": "stdout",
     "output_type": "stream",
     "text": [
      "{'OBJECTID': 0, 'Shape_Leng': 1, 'Shape_Area': 2, 'zone': 3, 'LocationID': 4, 'borough': 5}\n"
     ]
    }
   ],
   "source": [
    "sf = shapefile.Reader('data/geodata/taxi_zones.shp')\n",
    "\n",
    "fields_name = [field[0] for field in sf.fields[1:]]\n",
    "shp_dic = dict(zip(fields_name, list(range(len(fields_name)))))\n",
    "attributes = sf.records()\n",
    "shp_attr = [dict(zip(fields_name, attr)) for attr in attributes]"
   ]
  },
  {
   "cell_type": "code",
   "execution_count": 79,
   "id": "missing-nursery",
   "metadata": {},
   "outputs": [
    {
     "data": {
      "text/html": [
       "<div>\n",
       "<style scoped>\n",
       "    .dataframe tbody tr th:only-of-type {\n",
       "        vertical-align: middle;\n",
       "    }\n",
       "\n",
       "    .dataframe tbody tr th {\n",
       "        vertical-align: top;\n",
       "    }\n",
       "\n",
       "    .dataframe thead th {\n",
       "        text-align: right;\n",
       "    }\n",
       "</style>\n",
       "<table border=\"1\" class=\"dataframe\">\n",
       "  <thead>\n",
       "    <tr style=\"text-align: right;\">\n",
       "      <th></th>\n",
       "      <th>OBJECTID</th>\n",
       "      <th>Shape_Leng</th>\n",
       "      <th>Shape_Area</th>\n",
       "      <th>zone</th>\n",
       "      <th>LocationID</th>\n",
       "      <th>borough</th>\n",
       "      <th>longitude</th>\n",
       "      <th>latitude</th>\n",
       "    </tr>\n",
       "  </thead>\n",
       "  <tbody>\n",
       "    <tr>\n",
       "      <th>0</th>\n",
       "      <td>1</td>\n",
       "      <td>0.116357</td>\n",
       "      <td>0.000782</td>\n",
       "      <td>Newark Airport</td>\n",
       "      <td>1</td>\n",
       "      <td>EWR</td>\n",
       "      <td>-74.171533</td>\n",
       "      <td>40.689483</td>\n",
       "    </tr>\n",
       "    <tr>\n",
       "      <th>1</th>\n",
       "      <td>2</td>\n",
       "      <td>0.433470</td>\n",
       "      <td>0.004866</td>\n",
       "      <td>Jamaica Bay</td>\n",
       "      <td>2</td>\n",
       "      <td>Queens</td>\n",
       "      <td>-73.822478</td>\n",
       "      <td>40.610824</td>\n",
       "    </tr>\n",
       "    <tr>\n",
       "      <th>2</th>\n",
       "      <td>3</td>\n",
       "      <td>0.084341</td>\n",
       "      <td>0.000314</td>\n",
       "      <td>Allerton/Pelham Gardens</td>\n",
       "      <td>3</td>\n",
       "      <td>Bronx</td>\n",
       "      <td>-73.844953</td>\n",
       "      <td>40.865747</td>\n",
       "    </tr>\n",
       "    <tr>\n",
       "      <th>3</th>\n",
       "      <td>4</td>\n",
       "      <td>0.043567</td>\n",
       "      <td>0.000112</td>\n",
       "      <td>Alphabet City</td>\n",
       "      <td>4</td>\n",
       "      <td>Manhattan</td>\n",
       "      <td>-73.977725</td>\n",
       "      <td>40.724137</td>\n",
       "    </tr>\n",
       "    <tr>\n",
       "      <th>4</th>\n",
       "      <td>5</td>\n",
       "      <td>0.092146</td>\n",
       "      <td>0.000498</td>\n",
       "      <td>Arden Heights</td>\n",
       "      <td>5</td>\n",
       "      <td>Staten Island</td>\n",
       "      <td>-74.187558</td>\n",
       "      <td>40.550664</td>\n",
       "    </tr>\n",
       "  </tbody>\n",
       "</table>\n",
       "</div>"
      ],
      "text/plain": [
       "   OBJECTID  Shape_Leng  Shape_Area                     zone  LocationID  \\\n",
       "0         1    0.116357    0.000782           Newark Airport           1   \n",
       "1         2    0.433470    0.004866              Jamaica Bay           2   \n",
       "2         3    0.084341    0.000314  Allerton/Pelham Gardens           3   \n",
       "3         4    0.043567    0.000112            Alphabet City           4   \n",
       "4         5    0.092146    0.000498            Arden Heights           5   \n",
       "\n",
       "         borough  longitude   latitude  \n",
       "0            EWR -74.171533  40.689483  \n",
       "1         Queens -73.822478  40.610824  \n",
       "2          Bronx -73.844953  40.865747  \n",
       "3      Manhattan -73.977725  40.724137  \n",
       "4  Staten Island -74.187558  40.550664  "
      ]
     },
     "execution_count": 79,
     "metadata": {},
     "output_type": "execute_result"
    }
   ],
   "source": [
    "df_loc = pd.DataFrame(shp_attr).join(get_lat_lon(sf, shp_dic).set_index(\"LocationID\"), on=\"LocationID\")\n",
    "df_loc.head()"
   ]
  },
  {
   "cell_type": "code",
   "execution_count": 164,
   "id": "thorough-better",
   "metadata": {
    "tags": []
   },
   "outputs": [
    {
     "ename": "NameError",
     "evalue": "name 'draw_region_map' is not defined",
     "output_type": "error",
     "traceback": [
      "\u001b[1;31m---------------------------------------------------------------------------\u001b[0m",
      "\u001b[1;31mNameError\u001b[0m                                 Traceback (most recent call last)",
      "\u001b[1;32m~\\AppData\\Local\\Temp/ipykernel_5016/1585581886.py\u001b[0m in \u001b[0;36m<module>\u001b[1;34m\u001b[0m\n\u001b[0;32m      2\u001b[0m \u001b[0max\u001b[0m \u001b[1;33m=\u001b[0m \u001b[0mplt\u001b[0m\u001b[1;33m.\u001b[0m\u001b[0msubplot\u001b[0m\u001b[1;33m(\u001b[0m\u001b[1;36m1\u001b[0m\u001b[1;33m,\u001b[0m \u001b[1;36m2\u001b[0m\u001b[1;33m,\u001b[0m \u001b[1;36m1\u001b[0m\u001b[1;33m)\u001b[0m\u001b[1;33m\u001b[0m\u001b[1;33m\u001b[0m\u001b[0m\n\u001b[0;32m      3\u001b[0m \u001b[0max\u001b[0m\u001b[1;33m.\u001b[0m\u001b[0mset_title\u001b[0m\u001b[1;33m(\u001b[0m\u001b[1;34m\"Boroughs in NYC\"\u001b[0m\u001b[1;33m)\u001b[0m\u001b[1;33m\u001b[0m\u001b[1;33m\u001b[0m\u001b[0m\n\u001b[1;32m----> 4\u001b[1;33m \u001b[0mdraw_region_map\u001b[0m\u001b[1;33m(\u001b[0m\u001b[0max\u001b[0m\u001b[1;33m,\u001b[0m \u001b[0msf\u001b[0m\u001b[1;33m,\u001b[0m \u001b[0mshp_dic\u001b[0m\u001b[1;33m)\u001b[0m\u001b[1;33m\u001b[0m\u001b[1;33m\u001b[0m\u001b[0m\n\u001b[0m\u001b[0;32m      5\u001b[0m \u001b[0max\u001b[0m \u001b[1;33m=\u001b[0m \u001b[0mplt\u001b[0m\u001b[1;33m.\u001b[0m\u001b[0msubplot\u001b[0m\u001b[1;33m(\u001b[0m\u001b[1;36m1\u001b[0m\u001b[1;33m,\u001b[0m \u001b[1;36m2\u001b[0m\u001b[1;33m,\u001b[0m \u001b[1;36m2\u001b[0m\u001b[1;33m)\u001b[0m\u001b[1;33m\u001b[0m\u001b[1;33m\u001b[0m\u001b[0m\n\u001b[0;32m      6\u001b[0m \u001b[0max\u001b[0m\u001b[1;33m.\u001b[0m\u001b[0mset_title\u001b[0m\u001b[1;33m(\u001b[0m\u001b[1;34m\"Zones in NYC\"\u001b[0m\u001b[1;33m)\u001b[0m\u001b[1;33m\u001b[0m\u001b[1;33m\u001b[0m\u001b[0m\n",
      "\u001b[1;31mNameError\u001b[0m: name 'draw_region_map' is not defined"
     ]
    },
    {
     "data": {
      "image/png": "[encoded data removed]",
      "text/plain": [
       "<Figure size 1080x576 with 2 Axes>"
      ]
     },
     "metadata": {
      "needs_background": "light"
     },
     "output_type": "display_data"
    }
   ],
   "source": [
    "fig, ax = plt.subplots(nrows=1, ncols=2, figsize=(15,8))\n",
    "ax = plt.subplot(1, 2, 1)\n",
    "ax.set_title(\"Boroughs in NYC\")\n",
    "draw_region_map(ax, sf, shp_dic)\n",
    "ax = plt.subplot(1, 2, 2)\n",
    "ax.set_title(\"Zones in NYC\")\n",
    "draw_zone_map(ax, sf, shp_dic)"
   ]
  },
  {
   "cell_type": "markdown",
   "id": "pending-plasma",
   "metadata": {},
   "source": [
    "Ara teniu dos dataframe que necessitem unir. Utilitza la funció *merge* per afegir la longitud i latitud al dataframe *df*:"
   ]
  },
  {
   "cell_type": "code",
   "execution_count": 83,
   "id": "heard-majority",
   "metadata": {},
   "outputs": [],
   "source": [
    "# AQUÍ EL TEU CODI\n",
    "\n",
    "merge = pd.merge(df,df_loc, left_on='PULocationID', right_on='LocationID')"
   ]
  },
  {
   "cell_type": "code",
   "execution_count": 84,
   "id": "imported-performance",
   "metadata": {},
   "outputs": [
    {
     "data": {
      "text/plain": [
       "(357299, 27)"
      ]
     },
     "execution_count": 84,
     "metadata": {},
     "output_type": "execute_result"
    }
   ],
   "source": [
    "merge.shape"
   ]
  },
  {
   "cell_type": "markdown",
   "id": "wrong-consolidation",
   "metadata": {},
   "source": [
    "## 06. ¿Quines zones tenen més recollides i quines zones tenen més entregues?\n",
    "\n",
    "En aquest apartat volem conèixer i visualitzar les zones on els taxis són més utilitzats.\n",
    "\n",
    "El primer pas és ordenar i guardar en una variable els llocs més comuns en la recollida i el destí.\n",
    "\n",
    "Printa els 5 llocs més freqüents per any en cada cas."
   ]
  },
  {
   "cell_type": "code",
   "execution_count": 160,
   "id": "ca4ba896",
   "metadata": {},
   "outputs": [],
   "source": [
    "# Recollida\n",
    "# AQUÍ EL TEU CODI\n",
    "top_pu = ...\n",
    "\n",
    "# Destí\n",
    "# AQUÍ EL TEU CODI\n",
    "top_do = ..."
   ]
  },
  {
   "cell_type": "code",
   "execution_count": 161,
   "id": "medical-command",
   "metadata": {},
   "outputs": [],
   "source": [
    "n_top = 5\n",
    "def show_top_n(df, column, df_loc, n_top = n_top):\n",
    "    \"\"\"\n",
    "    Funció que mostra els llocs més usuals per any\n",
    "    \"\"\"\n",
    "    # AQUÍ EL TEU CODI\n",
    "    raise NotImplementedError"
   ]
  },
  {
   "cell_type": "code",
   "execution_count": 162,
   "id": "smoking-passion",
   "metadata": {},
   "outputs": [
    {
     "ename": "NameError",
     "evalue": "name 'df_loc' is not defined",
     "output_type": "error",
     "traceback": [
      "\u001b[1;31m---------------------------------------------------------------------------\u001b[0m",
      "\u001b[1;31mNameError\u001b[0m                                 Traceback (most recent call last)",
      "\u001b[1;32m~\\AppData\\Local\\Temp/ipykernel_5016/3304980792.py\u001b[0m in \u001b[0;36m<module>\u001b[1;34m\u001b[0m\n\u001b[1;32m----> 1\u001b[1;33m \u001b[0mshow_top_n\u001b[0m\u001b[1;33m(\u001b[0m\u001b[0mtop_pu\u001b[0m\u001b[1;33m,\u001b[0m \u001b[1;34m'PULocationID'\u001b[0m\u001b[1;33m,\u001b[0m \u001b[0mdf_loc\u001b[0m\u001b[1;33m)\u001b[0m\u001b[1;33m\u001b[0m\u001b[1;33m\u001b[0m\u001b[0m\n\u001b[0m",
      "\u001b[1;31mNameError\u001b[0m: name 'df_loc' is not defined"
     ]
    }
   ],
   "source": [
    "show_top_n(top_pu, 'PULocationID', df_loc)"
   ]
  },
  {
   "cell_type": "code",
   "execution_count": null,
   "id": "detailed-burning",
   "metadata": {},
   "outputs": [],
   "source": [
    "show_top_n(top_do, 'DOLocationID', df_loc)"
   ]
  },
  {
   "cell_type": "code",
   "execution_count": null,
   "id": "destroyed-kinase",
   "metadata": {},
   "outputs": [],
   "source": []
  },
  {
   "cell_type": "markdown",
   "id": "natural-release",
   "metadata": {},
   "source": [
    "**Visualitzem amb un mapa de calor quines són les zones més recurrents**"
   ]
  },
  {
   "cell_type": "code",
   "execution_count": 145,
   "id": "compliant-morning",
   "metadata": {},
   "outputs": [
    {
     "ename": "AttributeError",
     "evalue": "'ellipsis' object has no attribute 'year'",
     "output_type": "error",
     "traceback": [
      "\u001b[1;31m---------------------------------------------------------------------------\u001b[0m",
      "\u001b[1;31mAttributeError\u001b[0m                            Traceback (most recent call last)",
      "\u001b[1;32m~\\AppData\\Local\\Temp/ipykernel_25032/1824265964.py\u001b[0m in \u001b[0;36m<module>\u001b[1;34m\u001b[0m\n\u001b[0;32m      1\u001b[0m \u001b[1;32mfor\u001b[0m \u001b[0myear\u001b[0m \u001b[1;32min\u001b[0m \u001b[0mYEARS\u001b[0m\u001b[1;33m:\u001b[0m\u001b[1;33m\u001b[0m\u001b[1;33m\u001b[0m\u001b[0m\n\u001b[1;32m----> 2\u001b[1;33m     \u001b[0mPUcount\u001b[0m \u001b[1;33m=\u001b[0m \u001b[1;33m{\u001b[0m\u001b[0mk\u001b[0m\u001b[1;33m:\u001b[0m\u001b[0mv\u001b[0m \u001b[1;32mfor\u001b[0m \u001b[0mk\u001b[0m\u001b[1;33m,\u001b[0m \u001b[0mv\u001b[0m \u001b[1;32min\u001b[0m \u001b[0mtop_do\u001b[0m\u001b[1;33m[\u001b[0m\u001b[0mtop_do\u001b[0m\u001b[1;33m.\u001b[0m\u001b[0myear\u001b[0m \u001b[1;33m==\u001b[0m \u001b[0myear\u001b[0m\u001b[1;33m]\u001b[0m\u001b[1;33m[\u001b[0m\u001b[1;33m[\u001b[0m\u001b[1;34m'DOLocationID'\u001b[0m\u001b[1;33m,\u001b[0m \u001b[1;34m'trip_distance'\u001b[0m\u001b[1;33m]\u001b[0m\u001b[1;33m]\u001b[0m\u001b[1;33m.\u001b[0m\u001b[0mvalues\u001b[0m\u001b[1;33m}\u001b[0m\u001b[1;33m\u001b[0m\u001b[1;33m\u001b[0m\u001b[0m\n\u001b[0m\u001b[0;32m      3\u001b[0m \u001b[1;33m\u001b[0m\u001b[0m\n\u001b[0;32m      4\u001b[0m     \u001b[0mfig\u001b[0m\u001b[1;33m,\u001b[0m \u001b[0max\u001b[0m \u001b[1;33m=\u001b[0m \u001b[0mplt\u001b[0m\u001b[1;33m.\u001b[0m\u001b[0msubplots\u001b[0m\u001b[1;33m(\u001b[0m\u001b[0mnrows\u001b[0m\u001b[1;33m=\u001b[0m\u001b[1;36m1\u001b[0m\u001b[1;33m,\u001b[0m \u001b[0mncols\u001b[0m\u001b[1;33m=\u001b[0m\u001b[1;36m2\u001b[0m\u001b[1;33m,\u001b[0m \u001b[0mfigsize\u001b[0m\u001b[1;33m=\u001b[0m\u001b[1;33m(\u001b[0m\u001b[1;36m12\u001b[0m\u001b[1;33m,\u001b[0m\u001b[1;36m5\u001b[0m\u001b[1;33m)\u001b[0m\u001b[1;33m)\u001b[0m\u001b[1;33m\u001b[0m\u001b[1;33m\u001b[0m\u001b[0m\n\u001b[0;32m      5\u001b[0m     \u001b[0max\u001b[0m \u001b[1;33m=\u001b[0m \u001b[0mplt\u001b[0m\u001b[1;33m.\u001b[0m\u001b[0msubplot\u001b[0m\u001b[1;33m(\u001b[0m\u001b[1;36m1\u001b[0m\u001b[1;33m,\u001b[0m \u001b[1;36m2\u001b[0m\u001b[1;33m,\u001b[0m \u001b[1;36m1\u001b[0m\u001b[1;33m)\u001b[0m\u001b[1;33m\u001b[0m\u001b[1;33m\u001b[0m\u001b[0m\n",
      "\u001b[1;31mAttributeError\u001b[0m: 'ellipsis' object has no attribute 'year'"
     ]
    }
   ],
   "source": [
    "for year in YEARS:\n",
    "    PUcount = {k:v for k, v in top_do[top_do.year == year][['DOLocationID', 'trip_distance']].values}\n",
    "\n",
    "    fig, ax = plt.subplots(nrows=1, ncols=2, figsize=(12,5))\n",
    "    ax = plt.subplot(1, 2, 1)\n",
    "    ax.set_title(f\"Zones with most pickups - {year}\")\n",
    "    draw_zone_map(ax, sf, shp_dic, heat=PUcount, text=list(PUcount.keys())[:3])\n",
    "    ax = plt.subplot(1, 2, 2)\n",
    "    ax.set_title(f\"Zones with most drop-offs - {year}\")\n",
    "    draw_zone_map(ax, sf, shp_dic, heat=PUcount, text=list(PUcount.keys())[:3])"
   ]
  },
  {
   "cell_type": "markdown",
   "id": "centered-velvet",
   "metadata": {},
   "source": [
    "**Pregunta: Per què creieu que la zona de Manhattan té més quantitat de viatges?**\n",
    "> ANSWER"
   ]
  },
  {
   "cell_type": "code",
   "execution_count": null,
   "id": "married-asthma",
   "metadata": {},
   "outputs": [],
   "source": []
  },
  {
   "cell_type": "markdown",
   "id": "variable-vertex",
   "metadata": {},
   "source": [
    "## 07. Hospitals\n",
    "\n",
    "Com ha canviat la destinació dels viatges? Hi ha més gent que va als hospitals?\n",
    "\n",
    "A la següent cel·la us donem la creació manual d'un DataFrame amb la localització més important dels hospitals de Nova York."
   ]
  },
  {
   "cell_type": "code",
   "execution_count": 65,
   "id": "biological-stack",
   "metadata": {},
   "outputs": [
    {
     "data": {
      "text/html": [
       "<div>\n",
       "<style scoped>\n",
       "    .dataframe tbody tr th:only-of-type {\n",
       "        vertical-align: middle;\n",
       "    }\n",
       "\n",
       "    .dataframe tbody tr th {\n",
       "        vertical-align: top;\n",
       "    }\n",
       "\n",
       "    .dataframe thead th {\n",
       "        text-align: right;\n",
       "    }\n",
       "</style>\n",
       "<table border=\"1\" class=\"dataframe\">\n",
       "  <thead>\n",
       "    <tr style=\"text-align: right;\">\n",
       "      <th></th>\n",
       "      <th>Place Name</th>\n",
       "      <th>Latitude</th>\n",
       "      <th>Longitude</th>\n",
       "    </tr>\n",
       "  </thead>\n",
       "  <tbody>\n",
       "    <tr>\n",
       "      <th>0</th>\n",
       "      <td>New York’s Presbyterian Lower Manhattan Hospit...</td>\n",
       "      <td>40.710255</td>\n",
       "      <td>-74.005058</td>\n",
       "    </tr>\n",
       "    <tr>\n",
       "      <th>1</th>\n",
       "      <td>Manhattan Gastroenterology, NYC, NY, USA</td>\n",
       "      <td>40.778259</td>\n",
       "      <td>-73.958092</td>\n",
       "    </tr>\n",
       "    <tr>\n",
       "      <th>2</th>\n",
       "      <td>Stem Cell Therapy Hospital, NYC, NY, USA</td>\n",
       "      <td>40.601517</td>\n",
       "      <td>-73.961067</td>\n",
       "    </tr>\n",
       "    <tr>\n",
       "      <th>3</th>\n",
       "      <td>Park Avenue Smiles, Yonkers, NYC, NY, USA</td>\n",
       "      <td>40.945873</td>\n",
       "      <td>-73.890671</td>\n",
       "    </tr>\n",
       "    <tr>\n",
       "      <th>4</th>\n",
       "      <td>Cosmetic Dentistry Center, NYC, NY, USA</td>\n",
       "      <td>40.629234</td>\n",
       "      <td>-74.026077</td>\n",
       "    </tr>\n",
       "  </tbody>\n",
       "</table>\n",
       "</div>"
      ],
      "text/plain": [
       "                                          Place Name   Latitude  Longitude\n",
       "0  New York’s Presbyterian Lower Manhattan Hospit...  40.710255 -74.005058\n",
       "1           Manhattan Gastroenterology, NYC, NY, USA  40.778259 -73.958092\n",
       "2           Stem Cell Therapy Hospital, NYC, NY, USA  40.601517 -73.961067\n",
       "3          Park Avenue Smiles, Yonkers, NYC, NY, USA  40.945873 -73.890671\n",
       "4            Cosmetic Dentistry Center, NYC, NY, USA  40.629234 -74.026077"
      ]
     },
     "execution_count": 65,
     "metadata": {},
     "output_type": "execute_result"
    }
   ],
   "source": [
    "hospitals = [('New York’s Presbyterian Lower Manhattan Hospital, NYC, NY, USA', '40.710255', '-74.005058'),\n",
    "('Manhattan Gastroenterology, NYC, NY, USA', '40.778259', '-73.958092'),\n",
    "('Stem Cell Therapy Hospital, NYC, NY, USA', '40.601517', '-73.961067'),\n",
    "('Park Avenue Smiles, Yonkers, NYC, NY, USA', '40.945873', '-73.890671'),\n",
    "('Cosmetic Dentistry Center, NYC, NY, USA', '40.629234', '-74.026077'),\n",
    "('Envy Smile Dental Spa, Brooklyn, NYC, NY, USA', '40.607059', '-73.960144'),\n",
    "('VIVA EVE, Forest Hills, NYC, NY, USA', '40.734291', '-73.849434'),\n",
    "('Forest Hills Medical Services, Queens, NYC, NY, USA', '40.734310', '-73.849510'),\n",
    "('Professional Gynecological Services, Brooklyn, NY, NY, USA', '40.689747', '-73.982346'),\n",
    "('Manhattan Womens Health & Wellness, New York, NY, USA', '40.741997', '-73.986107'),\n",
    "('Brooklyn Abortion Clinic, Brooklyn, NY, New York, USA', '40.689743', '-73.982368'),\n",
    "('Brooklyn GYN Place, Brooklyn, NY, USA', '40.692696', '-73.993584'),\n",
    "('Americas Holistic Doctor, NYC, NY, USA', '40.742531', '-73.985489'),\n",
    "('NJS Physical Medicine & Rehabilitation, Brooklyn, NY, USA', '40.641621', '-73.956734'),\n",
    "('DHD Medical, Brooklyn New York, USA', '40.625568', '-73.918320'),\n",
    "('Workers Compensation Doctor, New York, NY, USA', '40.652225', '-74.006104'),]\n",
    "\n",
    "hospitals = pd.DataFrame(hospitals, columns = ['Place Name', 'Latitude', 'Longitude'])\n",
    "hospitals['Latitude'] = hospitals['Latitude'].astype(float)\n",
    "hospitals['Longitude'] = hospitals['Longitude'].astype(float)\n",
    "hospitals.head()"
   ]
  },
  {
   "cell_type": "code",
   "execution_count": null,
   "id": "cathedral-secretariat",
   "metadata": {},
   "outputs": [],
   "source": []
  },
  {
   "cell_type": "markdown",
   "id": "guilty-syria",
   "metadata": {},
   "source": [
    "Utilitza la latitud i longitud de cada hospital i la de les zones del dataframe *merge* per veure la distribució dels hospitals.\n",
    "\n",
    "Per fer-ho utilitza els gràfics de dispersió. Recorda que s'entendrà millor si els punts són transparents (paràmetre *alpha*).\n",
    "\n",
    "Després repeteix el mateix gràfic però separat per any. "
   ]
  },
  {
   "cell_type": "code",
   "execution_count": 66,
   "id": "naughty-ferry",
   "metadata": {},
   "outputs": [],
   "source": [
    "def scatter_locations(merge, hospitals):\n",
    "    \"\"\"Funció que mostra la distribució dels hospitals i les destinacions dels taxis\"\"\"\n",
    "    # AQUÍ EL TEU CODI\n",
    "    raise NotImplementedError"
   ]
  },
  {
   "cell_type": "code",
   "execution_count": 67,
   "id": "played-rachel",
   "metadata": {},
   "outputs": [
    {
     "ename": "NameError",
     "evalue": "name 'merge' is not defined",
     "output_type": "error",
     "traceback": [
      "\u001b[1;31m---------------------------------------------------------------------------\u001b[0m",
      "\u001b[1;31mNameError\u001b[0m                                 Traceback (most recent call last)",
      "\u001b[1;32m~\\AppData\\Local\\Temp/ipykernel_25032/3601515430.py\u001b[0m in \u001b[0;36m<module>\u001b[1;34m\u001b[0m\n\u001b[1;32m----> 1\u001b[1;33m \u001b[0mscatter_locations\u001b[0m\u001b[1;33m(\u001b[0m\u001b[0mmerge\u001b[0m\u001b[1;33m,\u001b[0m \u001b[0mhospitals\u001b[0m\u001b[1;33m)\u001b[0m\u001b[1;33m\u001b[0m\u001b[1;33m\u001b[0m\u001b[0m\n\u001b[0m",
      "\u001b[1;31mNameError\u001b[0m: name 'merge' is not defined"
     ]
    }
   ],
   "source": [
    "scatter_locations(merge, hospitals)"
   ]
  },
  {
   "cell_type": "code",
   "execution_count": null,
   "id": "chinese-georgia",
   "metadata": {},
   "outputs": [],
   "source": [
    "def scatter_locations_per_year(merge, hospitals):\n",
    "    \"\"\"Funció que mostra la distribució dels hospitals i les destinacions dels taxis\"\"\"\n",
    "    # AQUÍ EL TEU CODI\n",
    "    raise NotImplementedError"
   ]
  },
  {
   "cell_type": "code",
   "execution_count": null,
   "id": "sublime-equality",
   "metadata": {},
   "outputs": [],
   "source": [
    "scatter_locations_per_year(merge, hospitals)"
   ]
  },
  {
   "cell_type": "markdown",
   "id": "respected-corruption",
   "metadata": {},
   "source": [
    "**Pregunta: Veus algun comportament?**\n",
    ">ANSWER"
   ]
  },
  {
   "cell_type": "code",
   "execution_count": null,
   "id": "ancient-myanmar",
   "metadata": {},
   "outputs": [],
   "source": []
  },
  {
   "cell_type": "markdown",
   "id": "suspected-citation",
   "metadata": {},
   "source": [
    "Per poder conèixer com ha variat els trajectes als hospitals, primer cal detectar a quina localització del mapa pertany cada hospital.\n",
    "\n",
    "Per fer això cal calcular les distàncies. No calculeu la distància punt a punt, sinó matricialment."
   ]
  },
  {
   "cell_type": "code",
   "execution_count": null,
   "id": "expired-avatar",
   "metadata": {},
   "outputs": [],
   "source": [
    "from scipy.spatial import distance_matrix"
   ]
  },
  {
   "cell_type": "code",
   "execution_count": null,
   "id": "lined-moisture",
   "metadata": {},
   "outputs": [],
   "source": [
    "hospitals_loc = hospitals[['Longitude', 'Latitude']].values\n",
    "loc = df_loc[['longitude', 'latitude']].values\n",
    "\n",
    "\n",
    "# AQUÍ EL TEU CODI    \n",
    "dist = ..."
   ]
  },
  {
   "cell_type": "code",
   "execution_count": null,
   "id": "dirty-surfing",
   "metadata": {},
   "outputs": [],
   "source": [
    "plt.figure(figsize=(20, 5))\n",
    "plt.imshow(dist)"
   ]
  },
  {
   "cell_type": "code",
   "execution_count": null,
   "id": "laughing-funeral",
   "metadata": {},
   "outputs": [],
   "source": []
  },
  {
   "cell_type": "markdown",
   "id": "asian-bicycle",
   "metadata": {},
   "source": [
    "Trobeu la manera de localitzar el sector més proper a partir de les distàncies."
   ]
  },
  {
   "cell_type": "code",
   "execution_count": null,
   "id": "requested-taste",
   "metadata": {},
   "outputs": [],
   "source": [
    "# AQUÍ EL TEU CODI\n",
    "hospitals_locations = ...\n",
    "hospitals['LocationID'] = hospitals_locations"
   ]
  },
  {
   "cell_type": "code",
   "execution_count": null,
   "id": "adolescent-performance",
   "metadata": {},
   "outputs": [],
   "source": [
    "hospitals.head()"
   ]
  },
  {
   "cell_type": "code",
   "execution_count": null,
   "id": "happy-function",
   "metadata": {},
   "outputs": [],
   "source": []
  },
  {
   "cell_type": "markdown",
   "id": "innovative-nevada",
   "metadata": {},
   "source": [
    "Ara que ja tenim en quin sector es troben els hospitals, visualitzeu quants trajectes hi ha relacionats amb ells.\n",
    "\n",
    "Suposarem que tots els trajectes al sector van a l'hospital.\n",
    "\n",
    "Feu una única figura amb dos gràfics de barres on es mostrin la quantitat de viatges per cada any i el % del total dels viatges."
   ]
  },
  {
   "cell_type": "code",
   "execution_count": null,
   "id": "based-conviction",
   "metadata": {},
   "outputs": [],
   "source": [
    "def trips_hospitals(df, hospitals_locations):\n",
    "    \"\"\"\n",
    "    Funció que mostra una única figura amb dos gràfics de barres on es mostrin la quantitat de viatges per cada any i el % del total dels viatges.\n",
    "    \"\"\"\n",
    "    # AQUÍ EL TEU CODI\n",
    "    raise NotImplementedError"
   ]
  },
  {
   "cell_type": "code",
   "execution_count": null,
   "id": "general-council",
   "metadata": {},
   "outputs": [],
   "source": [
    "trips_hospitals(df, hospitals_locations)"
   ]
  },
  {
   "cell_type": "code",
   "execution_count": null,
   "id": "disabled-response",
   "metadata": {},
   "outputs": [],
   "source": []
  },
  {
   "cell_type": "markdown",
   "id": "immediate-scope",
   "metadata": {},
   "source": [
    "## 08. Qui escolta pels forats, sent els seus pecats\n",
    "\n",
    "A la **primera part** heu de visualitzar i comentar els exemples que hem eliminat, com distancies molt llargues, molt curtes...\n",
    "\n",
    "A la **segona part** teniu llibertat per escollir i fer visualitzacions que us aportin informació extra que no s'hagi vist anteriorment."
   ]
  },
  {
   "cell_type": "markdown",
   "id": "fba7ef5d",
   "metadata": {},
   "source": [
    "# 1"
   ]
  },
  {
   "cell_type": "code",
   "execution_count": 311,
   "id": "amazing-wilson",
   "metadata": {},
   "outputs": [],
   "source": [
    "def get_invalid(data, year, month,sampling = 1000):\n",
    "    \"\"\"\n",
    "    Funció que visualitza totes les dades que hem volgut eliminar\n",
    "    \"\"\"\n",
    "    invalides = data[required_data]\n",
    "    if sampling != 0:\n",
    "        invalides = invalides[::sampling]\n",
    "\n",
    "    # La recollida és després que la finalització del trajecte.\n",
    "    df1 = invalides[invalides['tpep_dropoff_datetime'] <= invalides['tpep_pickup_datetime']]\n",
    "    \n",
    "    # Les dades s'importen per mes i any. Les dates són correctes?\n",
    "    # extreurem el mes i l'any amb la comanda -> pd.DatetimeIndex(df['birth_date']).year /  pd.DatetimeIndex(df['birth_date']).month\n",
    "    any_pick = pd.DatetimeIndex(invalides['tpep_pickup_datetime']).year != year\n",
    "    any_pick_igual = pd.DatetimeIndex(invalides['tpep_pickup_datetime']).year == year\n",
    "    mes_pick = pd.DatetimeIndex(invalides['tpep_pickup_datetime']).month != month\n",
    "    mes_pick_igual = pd.DatetimeIndex(invalides['tpep_pickup_datetime']).month == month\n",
    "    any_drop = pd.DatetimeIndex(invalides['tpep_dropoff_datetime']).year == year\n",
    "    any_drop_igual = pd.DatetimeIndex(invalides['tpep_dropoff_datetime']).year != year\n",
    "    mes_drop = pd.DatetimeIndex(invalides['tpep_dropoff_datetime']).month == month\n",
    "    mes_drop_igual = pd.DatetimeIndex(invalides['tpep_dropoff_datetime']).month != month\n",
    "    # mentre quaslevol d'aquests quatre no coincideixi:\n",
    "    df2 = invalides[(any_pick & any_drop) | (mes_pick & mes_drop) | (any_pick_igual & any_drop_igual) | (mes_pick_igual & mes_drop_igual)]\n",
    "\n",
    "    # dades amb menys d'un passatger o més de 9 passatgers\n",
    "    condicio = invalides['passenger_count'] <= 0\n",
    "    condicio2 = invalides['passenger_count'] > 9\n",
    "    df3 = invalides[condicio | condicio2]\n",
    "\n",
    "    # Viatges molts llargs o molt curts\n",
    "    viatges_invalids = invalides['trip_distance'] <= 0\n",
    "    viatges_llargs = invalides['trip_distance'] > 100\n",
    "    df4 = invalides[viatges_invalids | viatges_llargs]\n",
    "\n",
    "    # pagaments negatius\n",
    "    no_pagats = invalides['total_amount'] <= 0\n",
    "    df5 = invalides[no_pagats]\n",
    "    \n",
    "    frames = [df1,df2,df3,df4,df5]\n",
    "    invalides = pd.concat(frames)\n",
    "    return invalides"
   ]
  },
  {
   "cell_type": "code",
   "execution_count": 312,
   "id": "e20d1093",
   "metadata": {},
   "outputs": [
    {
     "data": {
      "application/vnd.jupyter.widget-view+json": {
       "model_id": "fbc941f1e1fb47db9e0944299964f053",
       "version_major": 2,
       "version_minor": 0
      },
      "text/plain": [
       "  0%|          | 0/3 [00:00<?, ?it/s]"
      ]
     },
     "metadata": {},
     "output_type": "display_data"
    },
    {
     "data": {
      "application/vnd.jupyter.widget-view+json": {
       "model_id": "",
       "version_major": 2,
       "version_minor": 0
      },
      "text/plain": [
       "  0%|          | 0/12 [00:00<?, ?it/s]"
      ]
     },
     "metadata": {},
     "output_type": "display_data"
    },
    {
     "data": {
      "application/vnd.jupyter.widget-view+json": {
       "model_id": "",
       "version_major": 2,
       "version_minor": 0
      },
      "text/plain": [
       "  0%|          | 0/12 [00:00<?, ?it/s]"
      ]
     },
     "metadata": {},
     "output_type": "display_data"
    },
    {
     "data": {
      "application/vnd.jupyter.widget-view+json": {
       "model_id": "",
       "version_major": 2,
       "version_minor": 0
      },
      "text/plain": [
       "  0%|          | 0/12 [00:00<?, ?it/s]"
      ]
     },
     "metadata": {},
     "output_type": "display_data"
    }
   ],
   "source": [
    "invalides = pd.concat([get_invalid(load_table(year, month), year, month,0) for year in tqdm(YEARS) for month in tqdm(range(1, 13), leave = False)])"
   ]
  },
  {
   "cell_type": "code",
   "execution_count": 313,
   "id": "459597dc",
   "metadata": {},
   "outputs": [
    {
     "data": {
      "text/html": [
       "<div>\n",
       "<style scoped>\n",
       "    .dataframe tbody tr th:only-of-type {\n",
       "        vertical-align: middle;\n",
       "    }\n",
       "\n",
       "    .dataframe tbody tr th {\n",
       "        vertical-align: top;\n",
       "    }\n",
       "\n",
       "    .dataframe thead th {\n",
       "        text-align: right;\n",
       "    }\n",
       "</style>\n",
       "<table border=\"1\" class=\"dataframe\">\n",
       "  <thead>\n",
       "    <tr style=\"text-align: right;\">\n",
       "      <th></th>\n",
       "      <th>tpep_pickup_datetime</th>\n",
       "      <th>tpep_dropoff_datetime</th>\n",
       "      <th>passenger_count</th>\n",
       "      <th>trip_distance</th>\n",
       "      <th>PULocationID</th>\n",
       "      <th>DOLocationID</th>\n",
       "      <th>payment_type</th>\n",
       "      <th>fare_amount</th>\n",
       "      <th>total_amount</th>\n",
       "    </tr>\n",
       "  </thead>\n",
       "  <tbody>\n",
       "    <tr>\n",
       "      <th>28</th>\n",
       "      <td>2019-01-01 00:32:59</td>\n",
       "      <td>2019-01-01 00:32:59</td>\n",
       "      <td>3.0</td>\n",
       "      <td>0.00</td>\n",
       "      <td>237</td>\n",
       "      <td>264</td>\n",
       "      <td>2</td>\n",
       "      <td>6.50</td>\n",
       "      <td>7.80</td>\n",
       "    </tr>\n",
       "    <tr>\n",
       "      <th>681</th>\n",
       "      <td>2019-01-01 00:39:07</td>\n",
       "      <td>2019-01-01 00:39:07</td>\n",
       "      <td>1.0</td>\n",
       "      <td>0.00</td>\n",
       "      <td>142</td>\n",
       "      <td>264</td>\n",
       "      <td>2</td>\n",
       "      <td>2.50</td>\n",
       "      <td>3.80</td>\n",
       "    </tr>\n",
       "    <tr>\n",
       "      <th>3552</th>\n",
       "      <td>2019-01-01 00:18:46</td>\n",
       "      <td>2019-01-01 00:18:46</td>\n",
       "      <td>1.0</td>\n",
       "      <td>0.00</td>\n",
       "      <td>186</td>\n",
       "      <td>264</td>\n",
       "      <td>2</td>\n",
       "      <td>0.00</td>\n",
       "      <td>0.00</td>\n",
       "    </tr>\n",
       "    <tr>\n",
       "      <th>3661</th>\n",
       "      <td>2019-01-01 00:54:29</td>\n",
       "      <td>2019-01-01 00:54:29</td>\n",
       "      <td>1.0</td>\n",
       "      <td>0.00</td>\n",
       "      <td>249</td>\n",
       "      <td>264</td>\n",
       "      <td>2</td>\n",
       "      <td>2.50</td>\n",
       "      <td>3.80</td>\n",
       "    </tr>\n",
       "    <tr>\n",
       "      <th>4573</th>\n",
       "      <td>2019-01-01 00:58:14</td>\n",
       "      <td>2019-01-01 00:58:14</td>\n",
       "      <td>1.0</td>\n",
       "      <td>0.00</td>\n",
       "      <td>158</td>\n",
       "      <td>264</td>\n",
       "      <td>2</td>\n",
       "      <td>33.50</td>\n",
       "      <td>34.80</td>\n",
       "    </tr>\n",
       "    <tr>\n",
       "      <th>...</th>\n",
       "      <td>...</td>\n",
       "      <td>...</td>\n",
       "      <td>...</td>\n",
       "      <td>...</td>\n",
       "      <td>...</td>\n",
       "      <td>...</td>\n",
       "      <td>...</td>\n",
       "      <td>...</td>\n",
       "      <td>...</td>\n",
       "    </tr>\n",
       "    <tr>\n",
       "      <th>3203328</th>\n",
       "      <td>2021-12-24 19:24:00</td>\n",
       "      <td>2021-12-24 19:25:00</td>\n",
       "      <td>NaN</td>\n",
       "      <td>0.07</td>\n",
       "      <td>163</td>\n",
       "      <td>163</td>\n",
       "      <td>0</td>\n",
       "      <td>-26.80</td>\n",
       "      <td>-20.00</td>\n",
       "    </tr>\n",
       "    <tr>\n",
       "      <th>3203837</th>\n",
       "      <td>2021-12-25 06:21:00</td>\n",
       "      <td>2021-12-25 06:34:00</td>\n",
       "      <td>NaN</td>\n",
       "      <td>6.43</td>\n",
       "      <td>74</td>\n",
       "      <td>113</td>\n",
       "      <td>0</td>\n",
       "      <td>-40.52</td>\n",
       "      <td>-31.57</td>\n",
       "    </tr>\n",
       "    <tr>\n",
       "      <th>3204366</th>\n",
       "      <td>2021-12-25 14:56:00</td>\n",
       "      <td>2021-12-25 14:58:00</td>\n",
       "      <td>NaN</td>\n",
       "      <td>0.04</td>\n",
       "      <td>87</td>\n",
       "      <td>87</td>\n",
       "      <td>0</td>\n",
       "      <td>-28.81</td>\n",
       "      <td>-21.70</td>\n",
       "    </tr>\n",
       "    <tr>\n",
       "      <th>3211118</th>\n",
       "      <td>2021-12-30 01:13:46</td>\n",
       "      <td>2021-12-30 01:14:47</td>\n",
       "      <td>NaN</td>\n",
       "      <td>0.03</td>\n",
       "      <td>230</td>\n",
       "      <td>230</td>\n",
       "      <td>0</td>\n",
       "      <td>-28.93</td>\n",
       "      <td>-21.80</td>\n",
       "    </tr>\n",
       "    <tr>\n",
       "      <th>3213131</th>\n",
       "      <td>2021-12-31 11:40:10</td>\n",
       "      <td>2021-12-31 11:41:00</td>\n",
       "      <td>NaN</td>\n",
       "      <td>0.12</td>\n",
       "      <td>48</td>\n",
       "      <td>48</td>\n",
       "      <td>0</td>\n",
       "      <td>-13.80</td>\n",
       "      <td>-20.00</td>\n",
       "    </tr>\n",
       "  </tbody>\n",
       "</table>\n",
       "<p>4875469 rows × 9 columns</p>\n",
       "</div>"
      ],
      "text/plain": [
       "        tpep_pickup_datetime tpep_dropoff_datetime  passenger_count  \\\n",
       "28       2019-01-01 00:32:59   2019-01-01 00:32:59              3.0   \n",
       "681      2019-01-01 00:39:07   2019-01-01 00:39:07              1.0   \n",
       "3552     2019-01-01 00:18:46   2019-01-01 00:18:46              1.0   \n",
       "3661     2019-01-01 00:54:29   2019-01-01 00:54:29              1.0   \n",
       "4573     2019-01-01 00:58:14   2019-01-01 00:58:14              1.0   \n",
       "...                      ...                   ...              ...   \n",
       "3203328  2021-12-24 19:24:00   2021-12-24 19:25:00              NaN   \n",
       "3203837  2021-12-25 06:21:00   2021-12-25 06:34:00              NaN   \n",
       "3204366  2021-12-25 14:56:00   2021-12-25 14:58:00              NaN   \n",
       "3211118  2021-12-30 01:13:46   2021-12-30 01:14:47              NaN   \n",
       "3213131  2021-12-31 11:40:10   2021-12-31 11:41:00              NaN   \n",
       "\n",
       "         trip_distance  PULocationID  DOLocationID  payment_type  fare_amount  \\\n",
       "28                0.00           237           264             2         6.50   \n",
       "681               0.00           142           264             2         2.50   \n",
       "3552              0.00           186           264             2         0.00   \n",
       "3661              0.00           249           264             2         2.50   \n",
       "4573              0.00           158           264             2        33.50   \n",
       "...                ...           ...           ...           ...          ...   \n",
       "3203328           0.07           163           163             0       -26.80   \n",
       "3203837           6.43            74           113             0       -40.52   \n",
       "3204366           0.04            87            87             0       -28.81   \n",
       "3211118           0.03           230           230             0       -28.93   \n",
       "3213131           0.12            48            48             0       -13.80   \n",
       "\n",
       "         total_amount  \n",
       "28               7.80  \n",
       "681              3.80  \n",
       "3552             0.00  \n",
       "3661             3.80  \n",
       "4573            34.80  \n",
       "...               ...  \n",
       "3203328        -20.00  \n",
       "3203837        -31.57  \n",
       "3204366        -21.70  \n",
       "3211118        -21.80  \n",
       "3213131        -20.00  \n",
       "\n",
       "[4875469 rows x 9 columns]"
      ]
     },
     "execution_count": 313,
     "metadata": {},
     "output_type": "execute_result"
    }
   ],
   "source": [
    "# aquí veurem alguns exemples de les dades que hem eliminat:\n",
    "invalides"
   ]
  },
  {
   "cell_type": "markdown",
   "id": "cd51027a",
   "metadata": {},
   "source": [
    "-De les primeres línies, podem vuere que són invàlides perquè la distància recorreguda és 0 i a més perquè el temps de dropoff coincideix amb el temps de pickup, a part podem vuere que el valor del total_amount és 0.\n",
    "\n",
    "-Les últimes línies que ens mostra no s'ha grabat correctament el nombre de passatgers en el taxi, llavors també les considerem invàlides, a part d'això, també podem observar que als total_amount són números negatius, la qual també ens indica que es tracta de dades invalides.\n"
   ]
  },
  {
   "cell_type": "code",
   "execution_count": 314,
   "id": "b3b59c58",
   "metadata": {},
   "outputs": [
    {
     "data": {
      "text/html": [
       "<div>\n",
       "<style scoped>\n",
       "    .dataframe tbody tr th:only-of-type {\n",
       "        vertical-align: middle;\n",
       "    }\n",
       "\n",
       "    .dataframe tbody tr th {\n",
       "        vertical-align: top;\n",
       "    }\n",
       "\n",
       "    .dataframe thead th {\n",
       "        text-align: right;\n",
       "    }\n",
       "</style>\n",
       "<table border=\"1\" class=\"dataframe\">\n",
       "  <thead>\n",
       "    <tr style=\"text-align: right;\">\n",
       "      <th></th>\n",
       "      <th>tpep_pickup_datetime</th>\n",
       "      <th>tpep_dropoff_datetime</th>\n",
       "      <th>passenger_count</th>\n",
       "      <th>trip_distance</th>\n",
       "      <th>PULocationID</th>\n",
       "      <th>DOLocationID</th>\n",
       "      <th>payment_type</th>\n",
       "      <th>fare_amount</th>\n",
       "      <th>total_amount</th>\n",
       "    </tr>\n",
       "  </thead>\n",
       "  <tbody>\n",
       "    <tr>\n",
       "      <th>4449188</th>\n",
       "      <td>2019-12-31 16:56:40</td>\n",
       "      <td>2020-01-01 00:04:10</td>\n",
       "      <td>1.0</td>\n",
       "      <td>0.98</td>\n",
       "      <td>100</td>\n",
       "      <td>234</td>\n",
       "      <td>2</td>\n",
       "      <td>6.0</td>\n",
       "      <td>10.30</td>\n",
       "    </tr>\n",
       "    <tr>\n",
       "      <th>6677776</th>\n",
       "      <td>2019-12-31 00:30:29</td>\n",
       "      <td>2020-01-01 00:20:14</td>\n",
       "      <td>1.0</td>\n",
       "      <td>2.23</td>\n",
       "      <td>43</td>\n",
       "      <td>163</td>\n",
       "      <td>2</td>\n",
       "      <td>8.5</td>\n",
       "      <td>12.30</td>\n",
       "    </tr>\n",
       "    <tr>\n",
       "      <th>6678255</th>\n",
       "      <td>2019-12-31 00:53:06</td>\n",
       "      <td>2020-01-01 00:35:45</td>\n",
       "      <td>5.0</td>\n",
       "      <td>4.20</td>\n",
       "      <td>43</td>\n",
       "      <td>7</td>\n",
       "      <td>1</td>\n",
       "      <td>14.5</td>\n",
       "      <td>21.96</td>\n",
       "    </tr>\n",
       "    <tr>\n",
       "      <th>6678398</th>\n",
       "      <td>2019-12-31 00:57:14</td>\n",
       "      <td>2020-01-01 00:30:22</td>\n",
       "      <td>1.0</td>\n",
       "      <td>1.10</td>\n",
       "      <td>48</td>\n",
       "      <td>50</td>\n",
       "      <td>1</td>\n",
       "      <td>5.5</td>\n",
       "      <td>10.70</td>\n",
       "    </tr>\n",
       "    <tr>\n",
       "      <th>6679487</th>\n",
       "      <td>2019-12-31 00:16:28</td>\n",
       "      <td>2020-01-01 00:03:29</td>\n",
       "      <td>2.0</td>\n",
       "      <td>1.05</td>\n",
       "      <td>186</td>\n",
       "      <td>230</td>\n",
       "      <td>1</td>\n",
       "      <td>6.0</td>\n",
       "      <td>11.76</td>\n",
       "    </tr>\n",
       "    <tr>\n",
       "      <th>...</th>\n",
       "      <td>...</td>\n",
       "      <td>...</td>\n",
       "      <td>...</td>\n",
       "      <td>...</td>\n",
       "      <td>...</td>\n",
       "      <td>...</td>\n",
       "      <td>...</td>\n",
       "      <td>...</td>\n",
       "      <td>...</td>\n",
       "    </tr>\n",
       "    <tr>\n",
       "      <th>58319</th>\n",
       "      <td>2019-12-31 16:14:49</td>\n",
       "      <td>2020-01-01 15:24:15</td>\n",
       "      <td>1.0</td>\n",
       "      <td>1.57</td>\n",
       "      <td>261</td>\n",
       "      <td>144</td>\n",
       "      <td>1</td>\n",
       "      <td>8.5</td>\n",
       "      <td>13.30</td>\n",
       "    </tr>\n",
       "    <tr>\n",
       "      <th>65522</th>\n",
       "      <td>2019-12-31 15:59:29</td>\n",
       "      <td>2020-01-01 15:31:22</td>\n",
       "      <td>1.0</td>\n",
       "      <td>16.17</td>\n",
       "      <td>164</td>\n",
       "      <td>132</td>\n",
       "      <td>1</td>\n",
       "      <td>45.5</td>\n",
       "      <td>50.80</td>\n",
       "    </tr>\n",
       "    <tr>\n",
       "      <th>65523</th>\n",
       "      <td>2019-12-31 16:11:56</td>\n",
       "      <td>2020-01-01 15:21:19</td>\n",
       "      <td>1.0</td>\n",
       "      <td>1.99</td>\n",
       "      <td>68</td>\n",
       "      <td>107</td>\n",
       "      <td>1</td>\n",
       "      <td>9.0</td>\n",
       "      <td>14.51</td>\n",
       "    </tr>\n",
       "    <tr>\n",
       "      <th>556110</th>\n",
       "      <td>2021-01-15 07:27:40</td>\n",
       "      <td>2020-10-13 12:03:02</td>\n",
       "      <td>1.0</td>\n",
       "      <td>1.60</td>\n",
       "      <td>161</td>\n",
       "      <td>234</td>\n",
       "      <td>1</td>\n",
       "      <td>9.0</td>\n",
       "      <td>13.30</td>\n",
       "    </tr>\n",
       "    <tr>\n",
       "      <th>556110</th>\n",
       "      <td>2021-01-15 07:27:40</td>\n",
       "      <td>2020-10-13 12:03:02</td>\n",
       "      <td>1.0</td>\n",
       "      <td>1.60</td>\n",
       "      <td>161</td>\n",
       "      <td>234</td>\n",
       "      <td>1</td>\n",
       "      <td>9.0</td>\n",
       "      <td>13.30</td>\n",
       "    </tr>\n",
       "  </tbody>\n",
       "</table>\n",
       "<p>1280 rows × 9 columns</p>\n",
       "</div>"
      ],
      "text/plain": [
       "        tpep_pickup_datetime tpep_dropoff_datetime  passenger_count  \\\n",
       "4449188  2019-12-31 16:56:40   2020-01-01 00:04:10              1.0   \n",
       "6677776  2019-12-31 00:30:29   2020-01-01 00:20:14              1.0   \n",
       "6678255  2019-12-31 00:53:06   2020-01-01 00:35:45              5.0   \n",
       "6678398  2019-12-31 00:57:14   2020-01-01 00:30:22              1.0   \n",
       "6679487  2019-12-31 00:16:28   2020-01-01 00:03:29              2.0   \n",
       "...                      ...                   ...              ...   \n",
       "58319    2019-12-31 16:14:49   2020-01-01 15:24:15              1.0   \n",
       "65522    2019-12-31 15:59:29   2020-01-01 15:31:22              1.0   \n",
       "65523    2019-12-31 16:11:56   2020-01-01 15:21:19              1.0   \n",
       "556110   2021-01-15 07:27:40   2020-10-13 12:03:02              1.0   \n",
       "556110   2021-01-15 07:27:40   2020-10-13 12:03:02              1.0   \n",
       "\n",
       "         trip_distance  PULocationID  DOLocationID  payment_type  fare_amount  \\\n",
       "4449188           0.98           100           234             2          6.0   \n",
       "6677776           2.23            43           163             2          8.5   \n",
       "6678255           4.20            43             7             1         14.5   \n",
       "6678398           1.10            48            50             1          5.5   \n",
       "6679487           1.05           186           230             1          6.0   \n",
       "...                ...           ...           ...           ...          ...   \n",
       "58319             1.57           261           144             1          8.5   \n",
       "65522            16.17           164           132             1         45.5   \n",
       "65523             1.99            68           107             1          9.0   \n",
       "556110            1.60           161           234             1          9.0   \n",
       "556110            1.60           161           234             1          9.0   \n",
       "\n",
       "         total_amount  \n",
       "4449188         10.30  \n",
       "6677776         12.30  \n",
       "6678255         21.96  \n",
       "6678398         10.70  \n",
       "6679487         11.76  \n",
       "...               ...  \n",
       "58319           13.30  \n",
       "65522           50.80  \n",
       "65523           14.51  \n",
       "556110          13.30  \n",
       "556110          13.30  \n",
       "\n",
       "[1280 rows x 9 columns]"
      ]
     },
     "execution_count": 314,
     "metadata": {},
     "output_type": "execute_result"
    }
   ],
   "source": [
    "any_pick = pd.DatetimeIndex(invalides['tpep_pickup_datetime']).year != 2020\n",
    "any_drop = pd.DatetimeIndex(invalides['tpep_dropoff_datetime']).year == 2020\n",
    "# mentre quaslevol d'aquests quatre no coincideixi:\n",
    "df1 = invalides[any_pick & any_drop]\n",
    "df1"
   ]
  },
  {
   "cell_type": "markdown",
   "id": "01db20da",
   "metadata": {},
   "source": [
    "Tampoc hem considerat aquests casos en les quals el temps de pickup i dropoff no pertany al mateix any o mes."
   ]
  },
  {
   "cell_type": "code",
   "execution_count": 316,
   "id": "d47afa90",
   "metadata": {},
   "outputs": [
    {
     "data": {
      "text/html": [
       "<div>\n",
       "<style scoped>\n",
       "    .dataframe tbody tr th:only-of-type {\n",
       "        vertical-align: middle;\n",
       "    }\n",
       "\n",
       "    .dataframe tbody tr th {\n",
       "        vertical-align: top;\n",
       "    }\n",
       "\n",
       "    .dataframe thead th {\n",
       "        text-align: right;\n",
       "    }\n",
       "</style>\n",
       "<table border=\"1\" class=\"dataframe\">\n",
       "  <thead>\n",
       "    <tr style=\"text-align: right;\">\n",
       "      <th></th>\n",
       "      <th>tpep_pickup_datetime</th>\n",
       "      <th>tpep_dropoff_datetime</th>\n",
       "      <th>passenger_count</th>\n",
       "      <th>trip_distance</th>\n",
       "      <th>PULocationID</th>\n",
       "      <th>DOLocationID</th>\n",
       "      <th>payment_type</th>\n",
       "      <th>fare_amount</th>\n",
       "      <th>total_amount</th>\n",
       "    </tr>\n",
       "  </thead>\n",
       "  <tbody>\n",
       "    <tr>\n",
       "      <th>57956</th>\n",
       "      <td>2021-08-01 19:47:43</td>\n",
       "      <td>2021-08-01 19:57:54</td>\n",
       "      <td>112.0</td>\n",
       "      <td>1.80</td>\n",
       "      <td>79</td>\n",
       "      <td>234</td>\n",
       "      <td>1</td>\n",
       "      <td>9.0</td>\n",
       "      <td>14.76</td>\n",
       "    </tr>\n",
       "    <tr>\n",
       "      <th>171072</th>\n",
       "      <td>2021-08-03 11:51:58</td>\n",
       "      <td>2021-08-03 12:09:29</td>\n",
       "      <td>96.0</td>\n",
       "      <td>1.56</td>\n",
       "      <td>100</td>\n",
       "      <td>137</td>\n",
       "      <td>1</td>\n",
       "      <td>11.5</td>\n",
       "      <td>17.02</td>\n",
       "    </tr>\n",
       "  </tbody>\n",
       "</table>\n",
       "</div>"
      ],
      "text/plain": [
       "       tpep_pickup_datetime tpep_dropoff_datetime  passenger_count  \\\n",
       "57956   2021-08-01 19:47:43   2021-08-01 19:57:54            112.0   \n",
       "171072  2021-08-03 11:51:58   2021-08-03 12:09:29             96.0   \n",
       "\n",
       "        trip_distance  PULocationID  DOLocationID  payment_type  fare_amount  \\\n",
       "57956            1.80            79           234             1          9.0   \n",
       "171072           1.56           100           137             1         11.5   \n",
       "\n",
       "        total_amount  \n",
       "57956          14.76  \n",
       "171072         17.02  "
      ]
     },
     "execution_count": 316,
     "metadata": {},
     "output_type": "execute_result"
    }
   ],
   "source": [
    "# dades amb menys d'un passatger o més de 9 passatgers\n",
    "condicio2 = invalides['passenger_count'] > 9\n",
    "df2 = invalides[condicio2]\n",
    "df2"
   ]
  },
  {
   "cell_type": "markdown",
   "id": "44b60c00",
   "metadata": {},
   "source": [
    "Tampoc hem considerat els viatges que tenen un nombre de passatgers exagerat"
   ]
  },
  {
   "cell_type": "code",
   "execution_count": 319,
   "id": "bb48ae4d",
   "metadata": {},
   "outputs": [
    {
     "data": {
      "text/html": [
       "<div>\n",
       "<style scoped>\n",
       "    .dataframe tbody tr th:only-of-type {\n",
       "        vertical-align: middle;\n",
       "    }\n",
       "\n",
       "    .dataframe tbody tr th {\n",
       "        vertical-align: top;\n",
       "    }\n",
       "\n",
       "    .dataframe thead th {\n",
       "        text-align: right;\n",
       "    }\n",
       "</style>\n",
       "<table border=\"1\" class=\"dataframe\">\n",
       "  <thead>\n",
       "    <tr style=\"text-align: right;\">\n",
       "      <th></th>\n",
       "      <th>tpep_pickup_datetime</th>\n",
       "      <th>tpep_dropoff_datetime</th>\n",
       "      <th>passenger_count</th>\n",
       "      <th>trip_distance</th>\n",
       "      <th>PULocationID</th>\n",
       "      <th>DOLocationID</th>\n",
       "      <th>payment_type</th>\n",
       "      <th>fare_amount</th>\n",
       "      <th>total_amount</th>\n",
       "    </tr>\n",
       "  </thead>\n",
       "  <tbody>\n",
       "    <tr>\n",
       "      <th>6878088</th>\n",
       "      <td>2019-11-30 23:49:00</td>\n",
       "      <td>2019-12-01 00:12:00</td>\n",
       "      <td>NaN</td>\n",
       "      <td>-5.02</td>\n",
       "      <td>50</td>\n",
       "      <td>232</td>\n",
       "      <td>0</td>\n",
       "      <td>14.81</td>\n",
       "      <td>21.11</td>\n",
       "    </tr>\n",
       "    <tr>\n",
       "      <th>6878101</th>\n",
       "      <td>2019-11-30 23:15:00</td>\n",
       "      <td>2019-12-01 00:00:00</td>\n",
       "      <td>NaN</td>\n",
       "      <td>-10.50</td>\n",
       "      <td>50</td>\n",
       "      <td>102</td>\n",
       "      <td>0</td>\n",
       "      <td>45.65</td>\n",
       "      <td>49.20</td>\n",
       "    </tr>\n",
       "    <tr>\n",
       "      <th>4641728</th>\n",
       "      <td>2019-11-20 16:51:31</td>\n",
       "      <td>2019-11-20 17:51:56</td>\n",
       "      <td>1.0</td>\n",
       "      <td>-11.45</td>\n",
       "      <td>45</td>\n",
       "      <td>74</td>\n",
       "      <td>2</td>\n",
       "      <td>39.59</td>\n",
       "      <td>39.59</td>\n",
       "    </tr>\n",
       "    <tr>\n",
       "      <th>4650415</th>\n",
       "      <td>2019-11-20 16:13:00</td>\n",
       "      <td>2019-11-20 16:38:15</td>\n",
       "      <td>1.0</td>\n",
       "      <td>-4.69</td>\n",
       "      <td>155</td>\n",
       "      <td>35</td>\n",
       "      <td>2</td>\n",
       "      <td>47.80</td>\n",
       "      <td>48.60</td>\n",
       "    </tr>\n",
       "    <tr>\n",
       "      <th>4663082</th>\n",
       "      <td>2019-11-20 17:06:09</td>\n",
       "      <td>2019-11-20 18:37:19</td>\n",
       "      <td>1.0</td>\n",
       "      <td>-14.42</td>\n",
       "      <td>79</td>\n",
       "      <td>215</td>\n",
       "      <td>1</td>\n",
       "      <td>50.16</td>\n",
       "      <td>50.16</td>\n",
       "    </tr>\n",
       "    <tr>\n",
       "      <th>...</th>\n",
       "      <td>...</td>\n",
       "      <td>...</td>\n",
       "      <td>...</td>\n",
       "      <td>...</td>\n",
       "      <td>...</td>\n",
       "      <td>...</td>\n",
       "      <td>...</td>\n",
       "      <td>...</td>\n",
       "      <td>...</td>\n",
       "    </tr>\n",
       "    <tr>\n",
       "      <th>6378673</th>\n",
       "      <td>2020-01-15 22:34:00</td>\n",
       "      <td>2020-01-15 23:00:00</td>\n",
       "      <td>NaN</td>\n",
       "      <td>-6.55</td>\n",
       "      <td>232</td>\n",
       "      <td>72</td>\n",
       "      <td>0</td>\n",
       "      <td>35.95</td>\n",
       "      <td>39.50</td>\n",
       "    </tr>\n",
       "    <tr>\n",
       "      <th>6378683</th>\n",
       "      <td>2020-01-15 22:10:00</td>\n",
       "      <td>2020-01-15 23:01:00</td>\n",
       "      <td>NaN</td>\n",
       "      <td>-23.03</td>\n",
       "      <td>48</td>\n",
       "      <td>55</td>\n",
       "      <td>0</td>\n",
       "      <td>46.51</td>\n",
       "      <td>56.18</td>\n",
       "    </tr>\n",
       "    <tr>\n",
       "      <th>6358072</th>\n",
       "      <td>2020-01-08 15:08:10</td>\n",
       "      <td>2020-01-08 15:10:00</td>\n",
       "      <td>NaN</td>\n",
       "      <td>-0.01</td>\n",
       "      <td>75</td>\n",
       "      <td>75</td>\n",
       "      <td>0</td>\n",
       "      <td>-36.04</td>\n",
       "      <td>-35.24</td>\n",
       "    </tr>\n",
       "    <tr>\n",
       "      <th>6358074</th>\n",
       "      <td>2020-01-08 15:08:10</td>\n",
       "      <td>2020-01-08 15:10:00</td>\n",
       "      <td>NaN</td>\n",
       "      <td>-0.01</td>\n",
       "      <td>75</td>\n",
       "      <td>75</td>\n",
       "      <td>0</td>\n",
       "      <td>-36.04</td>\n",
       "      <td>-35.24</td>\n",
       "    </tr>\n",
       "    <tr>\n",
       "      <th>6378420</th>\n",
       "      <td>2020-01-15 18:20:00</td>\n",
       "      <td>2020-01-15 18:41:00</td>\n",
       "      <td>NaN</td>\n",
       "      <td>-4.41</td>\n",
       "      <td>186</td>\n",
       "      <td>226</td>\n",
       "      <td>0</td>\n",
       "      <td>-85.59</td>\n",
       "      <td>-63.68</td>\n",
       "    </tr>\n",
       "  </tbody>\n",
       "</table>\n",
       "<p>11449 rows × 9 columns</p>\n",
       "</div>"
      ],
      "text/plain": [
       "        tpep_pickup_datetime tpep_dropoff_datetime  passenger_count  \\\n",
       "6878088  2019-11-30 23:49:00   2019-12-01 00:12:00              NaN   \n",
       "6878101  2019-11-30 23:15:00   2019-12-01 00:00:00              NaN   \n",
       "4641728  2019-11-20 16:51:31   2019-11-20 17:51:56              1.0   \n",
       "4650415  2019-11-20 16:13:00   2019-11-20 16:38:15              1.0   \n",
       "4663082  2019-11-20 17:06:09   2019-11-20 18:37:19              1.0   \n",
       "...                      ...                   ...              ...   \n",
       "6378673  2020-01-15 22:34:00   2020-01-15 23:00:00              NaN   \n",
       "6378683  2020-01-15 22:10:00   2020-01-15 23:01:00              NaN   \n",
       "6358072  2020-01-08 15:08:10   2020-01-08 15:10:00              NaN   \n",
       "6358074  2020-01-08 15:08:10   2020-01-08 15:10:00              NaN   \n",
       "6378420  2020-01-15 18:20:00   2020-01-15 18:41:00              NaN   \n",
       "\n",
       "         trip_distance  PULocationID  DOLocationID  payment_type  fare_amount  \\\n",
       "6878088          -5.02            50           232             0        14.81   \n",
       "6878101         -10.50            50           102             0        45.65   \n",
       "4641728         -11.45            45            74             2        39.59   \n",
       "4650415          -4.69           155            35             2        47.80   \n",
       "4663082         -14.42            79           215             1        50.16   \n",
       "...                ...           ...           ...           ...          ...   \n",
       "6378673          -6.55           232            72             0        35.95   \n",
       "6378683         -23.03            48            55             0        46.51   \n",
       "6358072          -0.01            75            75             0       -36.04   \n",
       "6358074          -0.01            75            75             0       -36.04   \n",
       "6378420          -4.41           186           226             0       -85.59   \n",
       "\n",
       "         total_amount  \n",
       "6878088         21.11  \n",
       "6878101         49.20  \n",
       "4641728         39.59  \n",
       "4650415         48.60  \n",
       "4663082         50.16  \n",
       "...               ...  \n",
       "6378673         39.50  \n",
       "6378683         56.18  \n",
       "6358072        -35.24  \n",
       "6358074        -35.24  \n",
       "6378420        -63.68  \n",
       "\n",
       "[11449 rows x 9 columns]"
      ]
     },
     "execution_count": 319,
     "metadata": {},
     "output_type": "execute_result"
    }
   ],
   "source": [
    "viatges_invalids = invalides['trip_distance'] < 0\n",
    "df3 = invalides[viatges_invalids]\n",
    "df3"
   ]
  },
  {
   "cell_type": "markdown",
   "id": "10309cb2",
   "metadata": {},
   "source": [
    "Les línies amb una distància negativa o igual a 0 seran eliminades"
   ]
  },
  {
   "cell_type": "code",
   "execution_count": 321,
   "id": "b1a93af0",
   "metadata": {},
   "outputs": [
    {
     "data": {
      "text/html": [
       "<div>\n",
       "<style scoped>\n",
       "    .dataframe tbody tr th:only-of-type {\n",
       "        vertical-align: middle;\n",
       "    }\n",
       "\n",
       "    .dataframe tbody tr th {\n",
       "        vertical-align: top;\n",
       "    }\n",
       "\n",
       "    .dataframe thead th {\n",
       "        text-align: right;\n",
       "    }\n",
       "</style>\n",
       "<table border=\"1\" class=\"dataframe\">\n",
       "  <thead>\n",
       "    <tr style=\"text-align: right;\">\n",
       "      <th></th>\n",
       "      <th>tpep_pickup_datetime</th>\n",
       "      <th>tpep_dropoff_datetime</th>\n",
       "      <th>passenger_count</th>\n",
       "      <th>trip_distance</th>\n",
       "      <th>PULocationID</th>\n",
       "      <th>DOLocationID</th>\n",
       "      <th>payment_type</th>\n",
       "      <th>fare_amount</th>\n",
       "      <th>total_amount</th>\n",
       "    </tr>\n",
       "  </thead>\n",
       "  <tbody>\n",
       "    <tr>\n",
       "      <th>3133914</th>\n",
       "      <td>2019-06-14 10:53:40</td>\n",
       "      <td>2019-06-14 10:54:57</td>\n",
       "      <td>1.0</td>\n",
       "      <td>45977.22</td>\n",
       "      <td>193</td>\n",
       "      <td>193</td>\n",
       "      <td>2</td>\n",
       "      <td>0.00</td>\n",
       "      <td>0.00</td>\n",
       "    </tr>\n",
       "    <tr>\n",
       "      <th>3133914</th>\n",
       "      <td>2019-06-14 10:53:40</td>\n",
       "      <td>2019-06-14 10:54:57</td>\n",
       "      <td>1.0</td>\n",
       "      <td>45977.22</td>\n",
       "      <td>193</td>\n",
       "      <td>193</td>\n",
       "      <td>2</td>\n",
       "      <td>0.00</td>\n",
       "      <td>0.00</td>\n",
       "    </tr>\n",
       "    <tr>\n",
       "      <th>704581</th>\n",
       "      <td>2019-12-04 10:20:13</td>\n",
       "      <td>2019-12-04 10:24:43</td>\n",
       "      <td>1.0</td>\n",
       "      <td>19130.18</td>\n",
       "      <td>224</td>\n",
       "      <td>224</td>\n",
       "      <td>2</td>\n",
       "      <td>11.00</td>\n",
       "      <td>11.00</td>\n",
       "    </tr>\n",
       "    <tr>\n",
       "      <th>6397623</th>\n",
       "      <td>2020-01-28 07:37:00</td>\n",
       "      <td>2020-01-28 08:42:00</td>\n",
       "      <td>NaN</td>\n",
       "      <td>210240.07</td>\n",
       "      <td>76</td>\n",
       "      <td>231</td>\n",
       "      <td>0</td>\n",
       "      <td>37.77</td>\n",
       "      <td>41.32</td>\n",
       "    </tr>\n",
       "    <tr>\n",
       "      <th>6254657</th>\n",
       "      <td>2020-02-04 06:56:00</td>\n",
       "      <td>2020-02-04 07:56:00</td>\n",
       "      <td>NaN</td>\n",
       "      <td>50769.78</td>\n",
       "      <td>29</td>\n",
       "      <td>87</td>\n",
       "      <td>0</td>\n",
       "      <td>35.46</td>\n",
       "      <td>45.13</td>\n",
       "    </tr>\n",
       "    <tr>\n",
       "      <th>...</th>\n",
       "      <td>...</td>\n",
       "      <td>...</td>\n",
       "      <td>...</td>\n",
       "      <td>...</td>\n",
       "      <td>...</td>\n",
       "      <td>...</td>\n",
       "      <td>...</td>\n",
       "      <td>...</td>\n",
       "      <td>...</td>\n",
       "    </tr>\n",
       "    <tr>\n",
       "      <th>3207316</th>\n",
       "      <td>2021-12-27 13:27:00</td>\n",
       "      <td>2021-12-27 13:38:00</td>\n",
       "      <td>NaN</td>\n",
       "      <td>59694.97</td>\n",
       "      <td>66</td>\n",
       "      <td>13</td>\n",
       "      <td>0</td>\n",
       "      <td>13.20</td>\n",
       "      <td>20.05</td>\n",
       "    </tr>\n",
       "    <tr>\n",
       "      <th>3211141</th>\n",
       "      <td>2021-12-30 03:52:00</td>\n",
       "      <td>2021-12-30 04:05:00</td>\n",
       "      <td>NaN</td>\n",
       "      <td>118228.10</td>\n",
       "      <td>151</td>\n",
       "      <td>161</td>\n",
       "      <td>0</td>\n",
       "      <td>17.41</td>\n",
       "      <td>25.20</td>\n",
       "    </tr>\n",
       "    <tr>\n",
       "      <th>3211348</th>\n",
       "      <td>2021-12-30 08:11:00</td>\n",
       "      <td>2021-12-30 08:58:00</td>\n",
       "      <td>NaN</td>\n",
       "      <td>100281.62</td>\n",
       "      <td>165</td>\n",
       "      <td>86</td>\n",
       "      <td>0</td>\n",
       "      <td>51.30</td>\n",
       "      <td>57.30</td>\n",
       "    </tr>\n",
       "    <tr>\n",
       "      <th>3213507</th>\n",
       "      <td>2021-12-31 15:45:00</td>\n",
       "      <td>2021-12-31 16:06:00</td>\n",
       "      <td>NaN</td>\n",
       "      <td>65380.00</td>\n",
       "      <td>211</td>\n",
       "      <td>265</td>\n",
       "      <td>0</td>\n",
       "      <td>30.25</td>\n",
       "      <td>49.10</td>\n",
       "    </tr>\n",
       "    <tr>\n",
       "      <th>3214235</th>\n",
       "      <td>2021-12-31 22:46:00</td>\n",
       "      <td>2021-12-31 22:52:00</td>\n",
       "      <td>NaN</td>\n",
       "      <td>222162.08</td>\n",
       "      <td>166</td>\n",
       "      <td>166</td>\n",
       "      <td>0</td>\n",
       "      <td>13.20</td>\n",
       "      <td>16.63</td>\n",
       "    </tr>\n",
       "  </tbody>\n",
       "</table>\n",
       "<p>1601 rows × 9 columns</p>\n",
       "</div>"
      ],
      "text/plain": [
       "        tpep_pickup_datetime tpep_dropoff_datetime  passenger_count  \\\n",
       "3133914  2019-06-14 10:53:40   2019-06-14 10:54:57              1.0   \n",
       "3133914  2019-06-14 10:53:40   2019-06-14 10:54:57              1.0   \n",
       "704581   2019-12-04 10:20:13   2019-12-04 10:24:43              1.0   \n",
       "6397623  2020-01-28 07:37:00   2020-01-28 08:42:00              NaN   \n",
       "6254657  2020-02-04 06:56:00   2020-02-04 07:56:00              NaN   \n",
       "...                      ...                   ...              ...   \n",
       "3207316  2021-12-27 13:27:00   2021-12-27 13:38:00              NaN   \n",
       "3211141  2021-12-30 03:52:00   2021-12-30 04:05:00              NaN   \n",
       "3211348  2021-12-30 08:11:00   2021-12-30 08:58:00              NaN   \n",
       "3213507  2021-12-31 15:45:00   2021-12-31 16:06:00              NaN   \n",
       "3214235  2021-12-31 22:46:00   2021-12-31 22:52:00              NaN   \n",
       "\n",
       "         trip_distance  PULocationID  DOLocationID  payment_type  fare_amount  \\\n",
       "3133914       45977.22           193           193             2         0.00   \n",
       "3133914       45977.22           193           193             2         0.00   \n",
       "704581        19130.18           224           224             2        11.00   \n",
       "6397623      210240.07            76           231             0        37.77   \n",
       "6254657       50769.78            29            87             0        35.46   \n",
       "...                ...           ...           ...           ...          ...   \n",
       "3207316       59694.97            66            13             0        13.20   \n",
       "3211141      118228.10           151           161             0        17.41   \n",
       "3211348      100281.62           165            86             0        51.30   \n",
       "3213507       65380.00           211           265             0        30.25   \n",
       "3214235      222162.08           166           166             0        13.20   \n",
       "\n",
       "         total_amount  \n",
       "3133914          0.00  \n",
       "3133914          0.00  \n",
       "704581          11.00  \n",
       "6397623         41.32  \n",
       "6254657         45.13  \n",
       "...               ...  \n",
       "3207316         20.05  \n",
       "3211141         25.20  \n",
       "3211348         57.30  \n",
       "3213507         49.10  \n",
       "3214235         16.63  \n",
       "\n",
       "[1601 rows x 9 columns]"
      ]
     },
     "execution_count": 321,
     "metadata": {},
     "output_type": "execute_result"
    }
   ],
   "source": [
    "viatges_llargs = invalides['trip_distance'] > 1000\n",
    "df4 = invalides[viatges_llargs]\n",
    "df4"
   ]
  },
  {
   "cell_type": "markdown",
   "id": "11d9b58f",
   "metadata": {},
   "source": [
    "També hi han viatges amb una distància massa llarga, aquests no estarn inclosos."
   ]
  },
  {
   "cell_type": "markdown",
   "id": "2eac6537",
   "metadata": {},
   "source": [
    "# 2"
   ]
  },
  {
   "cell_type": "code",
   "execution_count": 324,
   "id": "eed9fd19",
   "metadata": {},
   "outputs": [
    {
     "data": {
      "text/html": [
       "<div>\n",
       "<style scoped>\n",
       "    .dataframe tbody tr th:only-of-type {\n",
       "        vertical-align: middle;\n",
       "    }\n",
       "\n",
       "    .dataframe tbody tr th {\n",
       "        vertical-align: top;\n",
       "    }\n",
       "\n",
       "    .dataframe thead th {\n",
       "        text-align: right;\n",
       "    }\n",
       "</style>\n",
       "<table border=\"1\" class=\"dataframe\">\n",
       "  <thead>\n",
       "    <tr style=\"text-align: right;\">\n",
       "      <th></th>\n",
       "      <th>tpep_pickup_datetime</th>\n",
       "      <th>tpep_dropoff_datetime</th>\n",
       "      <th>passenger_count</th>\n",
       "      <th>trip_distance</th>\n",
       "      <th>PULocationID</th>\n",
       "      <th>DOLocationID</th>\n",
       "      <th>payment_type</th>\n",
       "      <th>fare_amount</th>\n",
       "      <th>total_amount</th>\n",
       "    </tr>\n",
       "  </thead>\n",
       "  <tbody>\n",
       "    <tr>\n",
       "      <th>0</th>\n",
       "      <td>2019-01-01 00:46:40</td>\n",
       "      <td>2019-01-01 00:53:20</td>\n",
       "      <td>1.0</td>\n",
       "      <td>1.50</td>\n",
       "      <td>151</td>\n",
       "      <td>239</td>\n",
       "      <td>1</td>\n",
       "      <td>7.0</td>\n",
       "      <td>9.95</td>\n",
       "    </tr>\n",
       "    <tr>\n",
       "      <th>1000</th>\n",
       "      <td>2019-01-01 00:53:09</td>\n",
       "      <td>2019-01-01 01:01:16</td>\n",
       "      <td>1.0</td>\n",
       "      <td>1.91</td>\n",
       "      <td>148</td>\n",
       "      <td>137</td>\n",
       "      <td>2</td>\n",
       "      <td>8.5</td>\n",
       "      <td>9.80</td>\n",
       "    </tr>\n",
       "    <tr>\n",
       "      <th>2000</th>\n",
       "      <td>2019-01-01 00:50:22</td>\n",
       "      <td>2019-01-01 01:19:44</td>\n",
       "      <td>2.0</td>\n",
       "      <td>7.70</td>\n",
       "      <td>264</td>\n",
       "      <td>264</td>\n",
       "      <td>1</td>\n",
       "      <td>26.0</td>\n",
       "      <td>31.30</td>\n",
       "    </tr>\n",
       "    <tr>\n",
       "      <th>3000</th>\n",
       "      <td>2019-01-01 00:54:46</td>\n",
       "      <td>2019-01-01 01:03:13</td>\n",
       "      <td>1.0</td>\n",
       "      <td>1.40</td>\n",
       "      <td>249</td>\n",
       "      <td>164</td>\n",
       "      <td>1</td>\n",
       "      <td>7.5</td>\n",
       "      <td>11.40</td>\n",
       "    </tr>\n",
       "    <tr>\n",
       "      <th>4000</th>\n",
       "      <td>2019-01-01 00:09:29</td>\n",
       "      <td>2019-01-01 00:12:29</td>\n",
       "      <td>2.0</td>\n",
       "      <td>0.67</td>\n",
       "      <td>162</td>\n",
       "      <td>137</td>\n",
       "      <td>2</td>\n",
       "      <td>4.0</td>\n",
       "      <td>5.30</td>\n",
       "    </tr>\n",
       "    <tr>\n",
       "      <th>...</th>\n",
       "      <td>...</td>\n",
       "      <td>...</td>\n",
       "      <td>...</td>\n",
       "      <td>...</td>\n",
       "      <td>...</td>\n",
       "      <td>...</td>\n",
       "      <td>...</td>\n",
       "      <td>...</td>\n",
       "      <td>...</td>\n",
       "    </tr>\n",
       "    <tr>\n",
       "      <th>3106000</th>\n",
       "      <td>2021-12-31 22:00:22</td>\n",
       "      <td>2021-12-31 22:04:55</td>\n",
       "      <td>2.0</td>\n",
       "      <td>1.00</td>\n",
       "      <td>107</td>\n",
       "      <td>170</td>\n",
       "      <td>1</td>\n",
       "      <td>5.5</td>\n",
       "      <td>11.15</td>\n",
       "    </tr>\n",
       "    <tr>\n",
       "      <th>3108000</th>\n",
       "      <td>2021-12-31 22:45:36</td>\n",
       "      <td>2021-12-31 22:55:16</td>\n",
       "      <td>1.0</td>\n",
       "      <td>1.64</td>\n",
       "      <td>211</td>\n",
       "      <td>158</td>\n",
       "      <td>2</td>\n",
       "      <td>9.0</td>\n",
       "      <td>12.80</td>\n",
       "    </tr>\n",
       "    <tr>\n",
       "      <th>3109000</th>\n",
       "      <td>2021-12-31 22:55:29</td>\n",
       "      <td>2021-12-31 23:05:10</td>\n",
       "      <td>1.0</td>\n",
       "      <td>1.49</td>\n",
       "      <td>79</td>\n",
       "      <td>164</td>\n",
       "      <td>2</td>\n",
       "      <td>8.0</td>\n",
       "      <td>11.80</td>\n",
       "    </tr>\n",
       "    <tr>\n",
       "      <th>3110000</th>\n",
       "      <td>2021-12-31 23:26:04</td>\n",
       "      <td>2021-12-31 23:29:32</td>\n",
       "      <td>5.0</td>\n",
       "      <td>0.90</td>\n",
       "      <td>263</td>\n",
       "      <td>236</td>\n",
       "      <td>1</td>\n",
       "      <td>5.0</td>\n",
       "      <td>11.00</td>\n",
       "    </tr>\n",
       "    <tr>\n",
       "      <th>3111000</th>\n",
       "      <td>2021-12-31 23:12:33</td>\n",
       "      <td>2021-12-31 23:17:37</td>\n",
       "      <td>1.0</td>\n",
       "      <td>1.11</td>\n",
       "      <td>75</td>\n",
       "      <td>236</td>\n",
       "      <td>2</td>\n",
       "      <td>6.0</td>\n",
       "      <td>9.80</td>\n",
       "    </tr>\n",
       "  </tbody>\n",
       "</table>\n",
       "<p>132842 rows × 9 columns</p>\n",
       "</div>"
      ],
      "text/plain": [
       "        tpep_pickup_datetime tpep_dropoff_datetime  passenger_count  \\\n",
       "0        2019-01-01 00:46:40   2019-01-01 00:53:20              1.0   \n",
       "1000     2019-01-01 00:53:09   2019-01-01 01:01:16              1.0   \n",
       "2000     2019-01-01 00:50:22   2019-01-01 01:19:44              2.0   \n",
       "3000     2019-01-01 00:54:46   2019-01-01 01:03:13              1.0   \n",
       "4000     2019-01-01 00:09:29   2019-01-01 00:12:29              2.0   \n",
       "...                      ...                   ...              ...   \n",
       "3106000  2021-12-31 22:00:22   2021-12-31 22:04:55              2.0   \n",
       "3108000  2021-12-31 22:45:36   2021-12-31 22:55:16              1.0   \n",
       "3109000  2021-12-31 22:55:29   2021-12-31 23:05:10              1.0   \n",
       "3110000  2021-12-31 23:26:04   2021-12-31 23:29:32              5.0   \n",
       "3111000  2021-12-31 23:12:33   2021-12-31 23:17:37              1.0   \n",
       "\n",
       "         trip_distance  PULocationID  DOLocationID  payment_type  fare_amount  \\\n",
       "0                 1.50           151           239             1          7.0   \n",
       "1000              1.91           148           137             2          8.5   \n",
       "2000              7.70           264           264             1         26.0   \n",
       "3000              1.40           249           164             1          7.5   \n",
       "4000              0.67           162           137             2          4.0   \n",
       "...                ...           ...           ...           ...          ...   \n",
       "3106000           1.00           107           170             1          5.5   \n",
       "3108000           1.64           211           158             2          9.0   \n",
       "3109000           1.49            79           164             2          8.0   \n",
       "3110000           0.90           263           236             1          5.0   \n",
       "3111000           1.11            75           236             2          6.0   \n",
       "\n",
       "         total_amount  \n",
       "0                9.95  \n",
       "1000             9.80  \n",
       "2000            31.30  \n",
       "3000            11.40  \n",
       "4000             5.30  \n",
       "...               ...  \n",
       "3106000         11.15  \n",
       "3108000         12.80  \n",
       "3109000         11.80  \n",
       "3110000         11.00  \n",
       "3111000          9.80  \n",
       "\n",
       "[132842 rows x 9 columns]"
      ]
     },
     "execution_count": 324,
     "metadata": {},
     "output_type": "execute_result"
    }
   ],
   "source": [
    "df"
   ]
  },
  {
   "cell_type": "markdown",
   "id": "operating-notebook",
   "metadata": {},
   "source": [
    "## 09. Informe\n",
    "\n",
    "A partir de l'exploració de les dades que heu fet al llarg d'aquest notebook, feu un petit informe resumint i justificant tots els canvis que han sorgit a causa de la covid."
   ]
  },
  {
   "cell_type": "code",
   "execution_count": null,
   "id": "8a37299c",
   "metadata": {},
   "outputs": [],
   "source": []
  },
  {
   "cell_type": "code",
   "execution_count": null,
   "id": "paperback-chess",
   "metadata": {},
   "outputs": [],
   "source": []
  },
  {
   "cell_type": "code",
   "execution_count": null,
   "id": "b15b6ac2",
   "metadata": {},
   "outputs": [],
   "source": [
    "def tests(df):\n",
    "    '''\n",
    "    condicio = df['year'] == 2020\n",
    "    taula2020 = df.loc[condicio]\n",
    "    taula2020.head(10)\n",
    "\n",
    "    taula2020['passenger_count'].count()\n",
    "    # recompte amb size()\n",
    "    taula = taula2020.groupby('passenger_count').size()\n",
    "    taula\n",
    "    #print(type(taula))\n",
    "\n",
    "    #fig, axs = plt.subplots(1, 3, figsize = (10, 10)) # (rows, columns, panel number)\n",
    "    #axs[0].plot(taula)\n",
    "    #axs[1] = taula.plot.bar('Nombre de passatgers', 'Recompte de passatgers', ylim = (0,6000))\n",
    "    #axs[2] = taula.plot.bar('Nombre de passatgers', 'Recompte de passatgers', ylim = (0,7000))\n",
    "    \n",
    "    condicio = df['year'] == 2020\n",
    "    taula_any = df.loc[condicio]\n",
    "    print(type(taula_any))\n",
    "    figure = plt.figure(figsize=(15,10))\n",
    "\n",
    "    serie = taula_any.groupby('passenger_count').size()\n",
    "    serie\n",
    "    print(type(serie))\n",
    "    figure.add_subplot(2, 2, 1)\n",
    "    serie.plot(kind = 'bar',color = 'pink')\n",
    "    plt.xlabel('Nombre de passatgers')\n",
    "    plt.title(\" 2020\")\n",
    "    plt.ylabel('ylabel')\n",
    "    plt.ylim((0,6000))\n",
    "\n",
    "    data2020 =  taula_any[\"passenger_count\"].groupby(taula_any[\"passenger_count\"]).count()\n",
    "    data2020\n",
    "    print(type(data2020))\n",
    "    figure.add_subplot(2, 2, 2)\n",
    "    data2020.plot(kind='bar', color=\"b\")\n",
    "    plt.xlabel('Nombre de passatgers')\n",
    "    plt.title(\" 2020\")\n",
    "    plt.ylabel('ylabel')\n",
    "    plt.ylim((0,6000))\n",
    "    '''\n",
    "    '''\n",
    "    condicio = df['year'] == 2020\n",
    "    taula_any = df.loc[condicio]\n",
    "    taula_any.head(10)\n",
    "    #serie = taula_any.groupby('passenger_count').size()\n",
    "    \n",
    "    '''\n",
    "    \n",
    "    '''\n",
    "    condicio = df['year'] == 2020\n",
    "    taula_any = df.loc[condicio]\n",
    "    taula_any.head(10)\n",
    "    mitja = taula_any['passenger_count'].sum()\n",
    "    taula_any.head(10)\n",
    "    recompte = taula_any.groupby('passenger_count').size()\n",
    "    recompte\n",
    "    print(type(recompte))\n",
    "    recompte = recompte/mitja\n",
    "    recompte\n",
    "    '''"
   ]
  },
  {
   "cell_type": "code",
   "execution_count": 138,
   "id": "8c3b46e5",
   "metadata": {},
   "outputs": [],
   "source": [
    "def test2():\n",
    "    '''\n",
    "    condicio = df['year'] == 2020\n",
    "    taula_any = df.loc[condicio]\n",
    "    serie = taula_any.groupby('passenger_count').size()\n",
    "    print(type(serie))\n",
    "    condicio2 = df['year'] == 2021\n",
    "    taula_any2 = df.loc[condicio2]\n",
    "    serie2 = taula_any2.groupby('passenger_count').size()\n",
    "    print(type(serie2))\n",
    "\n",
    "    # grouped barplot\n",
    "    barWidth = 0.25\n",
    "\n",
    "    # Set position of bar on X axis\n",
    "    r1 = np.arange(len(serie))\n",
    "    r2 = [x + barWidth for x in r1]\n",
    "\n",
    "    # Make the plot\n",
    "    plt.bar(r1, serie, color='#7f6d5f', width=barWidth, edgecolor='white', label='var1')\n",
    "    plt.bar(r2, serie2, color='#557f2d', width=barWidth, edgecolor='white', label='var2')\n",
    "\n",
    "    # Add xticks on the middle of the group bars\n",
    "    plt.xlabel('group', fontweight='bold')\n",
    "    plt.xticks([r + barWidth for r in range(len(serie))], ['1', '2', '3', '4', '5','6'])\n",
    "\n",
    "    #r3 = [x + barWidth for x in r2]\n",
    "    \n",
    "    r1 = np.arange(len(serie))\n",
    "    r1\n",
    "    \n",
    "    \n",
    "    \n",
    "    '''\n",
    "    '''\n",
    "    condicio = df['year'] == 2020\n",
    "    taula_any = df.loc[condicio]\n",
    "    '''\n",
    "    '''\n",
    "    hora = pd.DatetimeIndex(df['tpep_pickup_datetime']).hour\n",
    "    dades = df.groupby(hora).size()\n",
    "    dades\n",
    "    '''\n",
    "    '''\n",
    "    hora = pd.Int64Index(pd.DatetimeIndex(df['tpep_pickup_datetime']).isocalendar().week)\n",
    "    print(type(hora))\n",
    "\n",
    "    dades = df.groupby(hora).size()\n",
    "    print(type(dades))\n",
    "    dades = dades.to_frame()\n",
    "    print(type(dades))\n",
    "\n",
    "    plt.plot(dades, marker='o', markerfacecolor='olive', markersize=5, color='olive', linewidth=2, linestyle='dashed', label=\"toto\")\n",
    "    # show legend\n",
    "    plt.legend()\n",
    "\n",
    "    # show graph\n",
    "    plt.show()\n",
    "    '''"
   ]
  },
  {
   "cell_type": "code",
   "execution_count": 199,
   "id": "61b7d0ed",
   "metadata": {},
   "outputs": [
    {
     "data": {
      "text/plain": [
       "'\\nfigure = plt.figure(figsize=(20,20))\\n\\ncondicio = df[\\'year\\'] == 2019\\ntaula_any = df.loc[condicio]\\nserie = taula_any.groupby(\\'trip_distance\\').size()\\nserie\\npos = np.arange(80)\\nprint(pos)\\n\\ndf2019 = df.loc[((pd.DatetimeIndex(df[\"tpep_dropoff_datetime\"]).year) == 2019)]\\ndata2019 = (df2019[\"tpep_dropoff_datetime\"].dt.hour - df2019[\"tpep_pickup_datetime\"].dt.hour) + (df2019[\"tpep_dropoff_datetime\"].dt.minute - df2019[\"tpep_pickup_datetime\"].dt.minute)/60 + (df2019[\"tpep_dropoff_datetime\"].dt.second - df2019[\"tpep_pickup_datetime\"].dt.second)/120 \\ndata2019\\nfigure = plt.figure(figsize=(15,10))\\n    \\n# Fem el plot amb els 3 histogrames\\nfigure.add_subplot(2,3,1)\\n#plt.hist(data2019, bins=30, alpha=0.8, range = (0,80), histtype=\\'stepfilled\\', color=\\'darkorchid\\',edgecolor=\\'none\\')\\n#xstick = np.arange(80)\\n#figure.add_subplot(2,3,1)\\nplt.hist(serie)\\n#condi = df2019[\\'trip_distance\\'] >= 50\\n#condi\\n#taula = df2019.loc[condi]\\n#taula\\n#plt.xticks([r + 0.25 for r in range(len(serie))], xstick)\\n#plt.bar(pos2,serie,color = COLORS[0],width=0.25, edgecolor=\\'None\\')\\n#plt.bar(pos, serie, color = COLORS[0], width=0.25, edgecolor=\\'white\\', label=str(YEARS[0]))\\n#plt.show()\\n\\n# plt.hist(serie,bins = 80, edgecolor = \\'white\\', color=\\'steelblue\\', range = (-5, 80))\\n'"
      ]
     },
     "execution_count": 199,
     "metadata": {},
     "output_type": "execute_result"
    }
   ],
   "source": [
    "\"\"\"\n",
    "figure = plt.figure(figsize=(20,20))\n",
    "\n",
    "condicio = df['year'] == 2019\n",
    "taula_any = df.loc[condicio]\n",
    "serie = taula_any.groupby('trip_distance').size()\n",
    "serie\n",
    "pos = np.arange(80)\n",
    "print(pos)\n",
    "\n",
    "df2019 = df.loc[((pd.DatetimeIndex(df[\"tpep_dropoff_datetime\"]).year) == 2019)]\n",
    "data2019 = (df2019[\"tpep_dropoff_datetime\"].dt.hour - df2019[\"tpep_pickup_datetime\"].dt.hour) + (df2019[\"tpep_dropoff_datetime\"].dt.minute - df2019[\"tpep_pickup_datetime\"].dt.minute)/60 + (df2019[\"tpep_dropoff_datetime\"].dt.second - df2019[\"tpep_pickup_datetime\"].dt.second)/120 \n",
    "data2019\n",
    "figure = plt.figure(figsize=(15,10))\n",
    "    \n",
    "# Fem el plot amb els 3 histogrames\n",
    "figure.add_subplot(2,3,1)\n",
    "#plt.hist(data2019, bins=30, alpha=0.8, range = (0,80), histtype='stepfilled', color='darkorchid',edgecolor='none')\n",
    "#xstick = np.arange(80)\n",
    "#figure.add_subplot(2,3,1)\n",
    "plt.hist(serie)\n",
    "#condi = df2019['trip_distance'] >= 50\n",
    "#condi\n",
    "#taula = df2019.loc[condi]\n",
    "#taula\n",
    "#plt.xticks([r + 0.25 for r in range(len(serie))], xstick)\n",
    "#plt.bar(pos2,serie,color = COLORS[0],width=0.25, edgecolor='None')\n",
    "#plt.bar(pos, serie, color = COLORS[0], width=0.25, edgecolor='white', label=str(YEARS[0]))\n",
    "#plt.show()\n",
    "\n",
    "# plt.hist(serie,bins = 80, edgecolor = 'white', color='steelblue', range = (-5, 80))\n",
    "\"\"\""
   ]
  },
  {
   "cell_type": "code",
   "execution_count": null,
   "id": "7f119b60",
   "metadata": {},
   "outputs": [],
   "source": [
    "'''\n",
    "condi = taula_any['trip_duration'] >= 1\n",
    "condi \n",
    "taula = taula_any.loc[condi]\n",
    "taula\n",
    "'''"
   ]
  },
  {
   "cell_type": "code",
   "execution_count": null,
   "id": "ba6850fa",
   "metadata": {},
   "outputs": [],
   "source": [
    "'''\n",
    "condicio = df['year'] == 2019\n",
    "taula_any = df.loc[condicio]\n",
    "hours = (pd.DatetimeIndex(taula_any['tpep_dropoff_datetime']).hour - pd.DatetimeIndex(taula_any['tpep_pickup_datetime']).hour)\n",
    "minutes = (pd.DatetimeIndex(taula_any['tpep_dropoff_datetime']).minute - pd.DatetimeIndex(taula_any['tpep_pickup_datetime']).minute) / 60\n",
    "seconds = (pd.DatetimeIndex(taula_any['tpep_dropoff_datetime']).second - pd.DatetimeIndex(taula_any['tpep_pickup_datetime']).second) / 3600\n",
    "taula_any['trip_duration'] =  (taula_any['tpep_dropoff_datetime'] - taula_any['tpep_pickup_datetime'])/pd.Timedelta(hours=1)\n",
    "\n",
    "viatges_no_llargs = taula_any['trip_duration'] < 6\n",
    "taula_any = taula_any[viatges_no_llargs]\n",
    "taula_any\n",
    "\n",
    "serie = taula_any.groupby('trip_duration').size()\n",
    "serie\n",
    "#xlim = (-1, 25)\n",
    "#plt.hist(serie, bins=30, alpha=0.8, range = xlim,histtype='stepfilled', color='darkorchid',edgecolor='none')\n",
    "#serie = serie.to_frame()\n",
    "#plt.hist(serie)\n",
    "\n",
    "df2019 = df.loc[((pd.DatetimeIndex(df[\"tpep_dropoff_datetime\"]).year) == 2019)]\n",
    "data2019 = (df2019[\"tpep_dropoff_datetime\"].dt.hour - df2019[\"tpep_pickup_datetime\"].dt.hour) + (df2019[\"tpep_dropoff_datetime\"].dt.minute - df2019[\"tpep_pickup_datetime\"].dt.minute)/60 + (df2019[\"tpep_dropoff_datetime\"].dt.second - df2019[\"tpep_pickup_datetime\"].dt.second)/120 \n",
    "data2019\n",
    "'''"
   ]
  },
  {
   "cell_type": "code",
   "execution_count": 200,
   "id": "30f1d052",
   "metadata": {},
   "outputs": [
    {
     "data": {
      "text/plain": [
       "'\\ndef histograms_plot1(histograms, xlabel, ylabel, title, xlim):\\n    \"\"\"\\n    Funció que crea diverses figures de barres a partir del dataframe i la columna que conté la informació\\n    \"\"\"\\n    print(histograms[0])\\n    plt.hist(histograms[0], bins = xlim[1], edgecolor = \\'none\\', color= COLORS[0],range = xlim)\\n    \\n'"
      ]
     },
     "execution_count": 200,
     "metadata": {},
     "output_type": "execute_result"
    }
   ],
   "source": [
    "'''\n",
    "def histograms_plot1(histograms, xlabel, ylabel, title, xlim):\n",
    "    \"\"\"\n",
    "    Funció que crea diverses figures de barres a partir del dataframe i la columna que conté la informació\n",
    "    \"\"\"\n",
    "    print(histograms[0])\n",
    "    plt.hist(histograms[0], bins = xlim[1], edgecolor = 'none', color= COLORS[0],range = xlim)\n",
    "    \n",
    "'''"
   ]
  },
  {
   "cell_type": "code",
   "execution_count": 201,
   "id": "19dca1cf",
   "metadata": {},
   "outputs": [
    {
     "data": {
      "text/plain": [
       "\"\\ntaula=pd.DataFrame({'x_values': range(1,101), 'y_values': np.random.randn(100)*15+range(1,101) })\\ntaula\\n\\nplt.plot( 'x_values', 'y_values', data=taula, linestyle='none', marker='o')\\nplt.show()\\n\""
      ]
     },
     "execution_count": 201,
     "metadata": {},
     "output_type": "execute_result"
    }
   ],
   "source": [
    "'''\n",
    "taula = df\n",
    "serie = taula['trip_distance']\n",
    "taula.shape\n",
    "#(132842, 11)\n",
    "condicio = compute_outliers(serie)\n",
    "condicio\n",
    "taula = taula.loc[condicio]\n",
    "\n",
    "viatges_no_llargs = taula['trip_duration'] < 6\n",
    "taula = taula[viatges_no_llargs]\n",
    "\n",
    "condicio1 = compute_outliers(taula['trip_distance'])\n",
    "condicio2 = compute_outliers(taula['trip_duration'])\n",
    "taula = taula[condicio1 & condicio2]\n",
    "sns.regplot(x=taula['trip_distance'], y=taula['trip_duration'])\n",
    "#plt.plot('trip_distance', 'trip_duration', data=taula, linestyle='none', marker='o',markersize=0.7)\n",
    "plt.xlabel('Distancia (km)')\n",
    "plt.ylabel('Temps (h)')\n",
    "\n",
    "\n",
    "#(128403, 11)\n",
    "'''\n",
    "\n",
    "'''\n",
    "taula=pd.DataFrame({'x_values': range(1,101), 'y_values': np.random.randn(100)*15+range(1,101) })\n",
    "taula\n",
    "\n",
    "plt.plot( 'x_values', 'y_values', data=taula, linestyle='none', marker='o')\n",
    "plt.show()\n",
    "'''"
   ]
  },
  {
   "cell_type": "code",
   "execution_count": null,
   "id": "998ad343",
   "metadata": {},
   "outputs": [],
   "source": []
  }
 ],
 "metadata": {
  "kernelspec": {
   "display_name": "Python 3 (ipykernel)",
   "language": "python",
   "name": "python3"
  },
  "language_info": {
   "codemirror_mode": {
    "name": "ipython",
    "version": 3
   },
   "file_extension": ".py",
   "mimetype": "text/x-python",
   "name": "python",
   "nbconvert_exporter": "python",
   "pygments_lexer": "ipython3",
   "version": "3.8.11"
  },
  "vscode": {
   "interpreter": {
    "hash": "241c3951e9a53f493d1fc82e13b401a821315a69ddaafb8ed2ace2f94454ed02"
   }
  }
 },
 "nbformat": 4,
 "nbformat_minor": 5
}
