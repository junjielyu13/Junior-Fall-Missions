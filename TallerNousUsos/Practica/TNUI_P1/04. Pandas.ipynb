{
 "cells": [
  {
   "cell_type": "markdown",
   "metadata": {},
   "source": [
    "# Pandas\n",
    "\n",
    "Pandas ens permetrà treballar amb fulls de càlcul (ja siguin xls o csv) i fer operacions sobre taules de dades."
   ]
  },
  {
   "cell_type": "code",
   "execution_count": null,
   "metadata": {},
   "outputs": [],
   "source": [
    "import pandas as pd\n",
    "import numpy as np"
   ]
  },
  {
   "cell_type": "code",
   "execution_count": null,
   "metadata": {},
   "outputs": [],
   "source": [
    "# Carreguem unes dades per lectura\n",
    "df = pd.read_csv('data/dades.csv')\n",
    "df.head(5)"
   ]
  },
  {
   "cell_type": "markdown",
   "metadata": {},
   "source": [
    "Pandas, internament, defineix cada columna com a un vector de numpy d'un tipus homogeni:"
   ]
  },
  {
   "cell_type": "code",
   "execution_count": null,
   "metadata": {},
   "outputs": [],
   "source": [
    "df['Nom']"
   ]
  },
  {
   "cell_type": "code",
   "execution_count": null,
   "metadata": {},
   "outputs": [],
   "source": [
    "df['Nota']"
   ]
  },
  {
   "cell_type": "markdown",
   "metadata": {},
   "source": [
    "Com que cada columna és un vector de numpy, podem fer operacions amb aquest vector.\n",
    "Quina és la nota mitja de la classe?"
   ]
  },
  {
   "cell_type": "code",
   "execution_count": null,
   "metadata": {},
   "outputs": [],
   "source": [
    "np.min(df['Nota']), df['Nota'].mean(), df['Nota'].max()"
   ]
  },
  {
   "cell_type": "code",
   "execution_count": null,
   "metadata": {},
   "outputs": [],
   "source": []
  },
  {
   "cell_type": "markdown",
   "metadata": {},
   "source": [
    "## 1. Entenent el que hem vist"
   ]
  },
  {
   "cell_type": "markdown",
   "metadata": {},
   "source": [
    "De fet, cada columna d'un `DataFrame` (taula de dades) és el que s'anomena una `Series`. Com dèiem, una sèrie és un conjunt homogeni de dades. Per exemple\n",
    "\n",
    "![alt text](data/dataframe.png \"Title\")\n"
   ]
  },
  {
   "cell_type": "code",
   "execution_count": null,
   "metadata": {},
   "outputs": [],
   "source": [
    "serie_1 = pd.Series([1, 2, 3, 4])\n",
    "serie_1"
   ]
  },
  {
   "cell_type": "code",
   "execution_count": null,
   "metadata": {},
   "outputs": [],
   "source": [
    "serie_2 = pd.Series([1.2, 3.0, 0.0, 6.5])\n",
    "serie_2"
   ]
  },
  {
   "cell_type": "markdown",
   "metadata": {},
   "source": [
    "Les sèries es poden unir per fer un `DataFrame`:"
   ]
  },
  {
   "cell_type": "code",
   "execution_count": null,
   "metadata": {},
   "outputs": [],
   "source": [
    "dg = pd.DataFrame(\n",
    "    {\n",
    "        'Nota Continua': serie_1, \n",
    "         'Nota Reav': serie_2\n",
    "    }\n",
    ")\n",
    "dg"
   ]
  },
  {
   "cell_type": "code",
   "execution_count": null,
   "metadata": {},
   "outputs": [],
   "source": [
    "# Podem canviar el nom de les files (ATENCIÓ, NOM DE FILA != COLUMNA)\n",
    "dg.index = ['Pablo', 'Maria', 'Antonio', 'Lucia']\n",
    "dg"
   ]
  },
  {
   "cell_type": "code",
   "execution_count": null,
   "metadata": {},
   "outputs": [],
   "source": [
    "# I dona una pista visual de què indiquen els noms de les files\n",
    "dg.index.name = 'Nom'\n",
    "dg"
   ]
  },
  {
   "cell_type": "code",
   "execution_count": null,
   "metadata": {},
   "outputs": [],
   "source": [
    "# I reanomenar columnes\n",
    "dg.columns = ['Nota Continua', 'Nota Reavaluació']\n",
    "dg"
   ]
  },
  {
   "cell_type": "code",
   "execution_count": null,
   "metadata": {},
   "outputs": [],
   "source": [
    "# Canvis de tipus\n",
    "dg['Nota Continua'] = dg['Nota Continua'].astype(float)\n",
    "dg"
   ]
  },
  {
   "cell_type": "code",
   "execution_count": null,
   "metadata": {},
   "outputs": [],
   "source": []
  },
  {
   "cell_type": "markdown",
   "metadata": {},
   "source": [
    "## 2. Formes de crear DataFrame's"
   ]
  },
  {
   "cell_type": "code",
   "execution_count": null,
   "metadata": {},
   "outputs": [],
   "source": [
    "pd.DataFrame(\n",
    "    data=[\n",
    "        ['Antonio', 2],\n",
    "        ['Maria', 3],\n",
    "        ['Asd', 99]\n",
    "    ],\n",
    "    columns=['Nom', 'Nota'], index=['DNI_1', 'DNI_2', 'DNI_3'])"
   ]
  },
  {
   "cell_type": "code",
   "execution_count": null,
   "metadata": {},
   "outputs": [],
   "source": [
    "def crear_dades():\n",
    "    for i in range(10):\n",
    "        yield 'abcdefghij'[i], i\n",
    "        \n",
    "pd.DataFrame(crear_dades())"
   ]
  },
  {
   "cell_type": "code",
   "execution_count": null,
   "metadata": {},
   "outputs": [],
   "source": []
  },
  {
   "cell_type": "markdown",
   "metadata": {},
   "source": [
    "## 3. Tornem a les dades inicials\n",
    "\n",
    "Hi ha dues coses rares:\n",
    "\n",
    "* El professor s'ha equivocat i tenim 2 `Antonio`s, quan realment solament n'hi ha un\n",
    "* La Laura no va presentar el treball i té un `NaN`"
   ]
  },
  {
   "cell_type": "code",
   "execution_count": null,
   "metadata": {},
   "outputs": [],
   "source": [
    "df"
   ]
  },
  {
   "cell_type": "code",
   "execution_count": null,
   "metadata": {},
   "outputs": [],
   "source": [
    "# Eliminem els duplicats\n",
    "df_org = df\n",
    "df = df.drop_duplicates()\n",
    "df"
   ]
  },
  {
   "cell_type": "code",
   "execution_count": null,
   "metadata": {},
   "outputs": [],
   "source": [
    "# Posem un 0 a la Laura\n",
    "df.loc[df['Nom'] == 'Laura', 'Nota'] = 0"
   ]
  },
  {
   "cell_type": "code",
   "execution_count": null,
   "metadata": {},
   "outputs": [],
   "source": [
    "df"
   ]
  },
  {
   "cell_type": "code",
   "execution_count": null,
   "metadata": {},
   "outputs": [],
   "source": [
    "df['Nota'].min(), df['Nota'].mean(), df['Nota'].max()"
   ]
  },
  {
   "cell_type": "code",
   "execution_count": null,
   "metadata": {
    "scrolled": true
   },
   "outputs": [],
   "source": [
    "df.loc[10, 'Nota'] = np.nan\n",
    "np.mean(df['Nota'])"
   ]
  },
  {
   "cell_type": "markdown",
   "metadata": {},
   "source": [
    "**Nota**: Pandas vs Numpy\n",
    "\n",
    "Quina diferencia veieu?"
   ]
  },
  {
   "cell_type": "code",
   "execution_count": null,
   "metadata": {},
   "outputs": [],
   "source": [
    "import numpy as np\n",
    "np_array = np.asarray([1, 2, np.nan, 3])\n",
    "np_array.mean()"
   ]
  },
  {
   "cell_type": "code",
   "execution_count": null,
   "metadata": {},
   "outputs": [],
   "source": [
    "pd_series = pd.Series([1, 2, np.nan, 3])\n",
    "pd_series.mean()"
   ]
  },
  {
   "cell_type": "markdown",
   "metadata": {},
   "source": [
    "**Guardem les modificacions a disc**"
   ]
  },
  {
   "cell_type": "code",
   "execution_count": null,
   "metadata": {},
   "outputs": [],
   "source": [
    "df.to_csv('dades_mod.csv', index=None)"
   ]
  },
  {
   "cell_type": "code",
   "execution_count": null,
   "metadata": {},
   "outputs": [],
   "source": [
    "pd.read_csv('data/dades.csv', index_col='Nom')"
   ]
  },
  {
   "cell_type": "code",
   "execution_count": null,
   "metadata": {},
   "outputs": [],
   "source": []
  },
  {
   "cell_type": "markdown",
   "metadata": {},
   "source": [
    "## 4. Més anàlisi de dades"
   ]
  },
  {
   "cell_type": "code",
   "execution_count": null,
   "metadata": {},
   "outputs": [],
   "source": [
    "df.head()"
   ]
  },
  {
   "cell_type": "code",
   "execution_count": null,
   "metadata": {},
   "outputs": [],
   "source": [
    "# Mirem quanta gent a tret la mateixa nota\n",
    "df.groupby('Nota').count()"
   ]
  },
  {
   "cell_type": "code",
   "execution_count": null,
   "metadata": {},
   "outputs": [],
   "source": [
    "# Creem una nova columna \"Reavaluació\"\n",
    "df['Reav'] = 0 # Amb un valor igual per tothom\n",
    "df.head()"
   ]
  },
  {
   "cell_type": "code",
   "execution_count": null,
   "metadata": {},
   "outputs": [],
   "source": [
    "df['Reav'] = [4.99, 4.98, 4.97, 4.96, np.nan, 5.00, 4.9, 4, np.nan, 2, 1]\n",
    "df"
   ]
  },
  {
   "cell_type": "code",
   "execution_count": null,
   "metadata": {},
   "outputs": [],
   "source": [
    "# Creem la nota final\n",
    "has_improved = df['Reav'] > df['Nota']\n",
    "has_improved.head()"
   ]
  },
  {
   "cell_type": "code",
   "execution_count": null,
   "metadata": {},
   "outputs": [],
   "source": [
    "df.loc[has_improved, :].head()"
   ]
  },
  {
   "cell_type": "code",
   "execution_count": null,
   "metadata": {},
   "outputs": [],
   "source": [
    "df.loc[has_improved,['Nota', 'Reav']]"
   ]
  },
  {
   "cell_type": "code",
   "execution_count": null,
   "metadata": {},
   "outputs": [],
   "source": [
    "df.loc[has_improved, 'Final'] = df['Reav']\n",
    "df"
   ]
  },
  {
   "cell_type": "code",
   "execution_count": null,
   "metadata": {},
   "outputs": [],
   "source": [
    "df.loc[~has_improved, 'Final'] = df['Nota'] #np.logical_not\n",
    "df"
   ]
  },
  {
   "cell_type": "code",
   "execution_count": null,
   "metadata": {},
   "outputs": [],
   "source": [
    "# I ara decidim qui ha aprovat\n",
    "df['Aprovat'] = np.floor(df['Final']) >= 5\n",
    "df"
   ]
  },
  {
   "cell_type": "code",
   "execution_count": null,
   "metadata": {},
   "outputs": [],
   "source": [
    "print('Han aprovat {} alumnes, un {:.4}%'.format(df['Aprovat'].sum(), df['Aprovat'].sum() * 100 / df.shape[0]))\n",
    "print('Han suspés {} alumnes, un {:.4}%'.format((~df['Aprovat']).sum(), (~df['Aprovat']).sum() * 100 / df.shape[0]))"
   ]
  },
  {
   "cell_type": "markdown",
   "metadata": {},
   "source": [
    "**Matricula d'honor**"
   ]
  },
  {
   "cell_type": "code",
   "execution_count": null,
   "metadata": {},
   "outputs": [],
   "source": [
    "df.head()"
   ]
  },
  {
   "cell_type": "code",
   "execution_count": null,
   "metadata": {},
   "outputs": [],
   "source": [
    "nota_maxima = df['Nota'].max()\n",
    "nota_maxima"
   ]
  },
  {
   "cell_type": "code",
   "execution_count": null,
   "metadata": {},
   "outputs": [],
   "source": [
    "condicio = df['Nota'] == nota_maxima\n",
    "df.loc[condicio]"
   ]
  },
  {
   "cell_type": "code",
   "execution_count": null,
   "metadata": {},
   "outputs": [],
   "source": [
    "files_alumnes = df.loc[df['Nota'] == nota_maxima]\n",
    "files_alumnes"
   ]
  },
  {
   "cell_type": "code",
   "execution_count": null,
   "metadata": {},
   "outputs": [],
   "source": [
    "noms_alumnes = df.loc[df['Nota'] == nota_maxima, 'Nom']\n",
    "noms_alumnes"
   ]
  },
  {
   "cell_type": "code",
   "execution_count": null,
   "metadata": {},
   "outputs": [],
   "source": [
    "# Fem una menció\n",
    "for nom in noms_alumnes:\n",
    "    print('Podria ser millor {}'.format(nom))"
   ]
  },
  {
   "cell_type": "markdown",
   "metadata": {},
   "source": [
    "Podem iterar files també, però compte amb com s'ha de fer!"
   ]
  },
  {
   "cell_type": "code",
   "execution_count": null,
   "metadata": {},
   "outputs": [],
   "source": [
    "dic = {'a': 1, 'b': 2}\n",
    "for x in dic:\n",
    "    print(x)"
   ]
  },
  {
   "cell_type": "code",
   "execution_count": null,
   "metadata": {},
   "outputs": [],
   "source": [
    "# NO així\n",
    "for fila in files_alumnes:\n",
    "    print(fila)\n",
    "    \n",
    "# Hem iterat tots els valors, no files"
   ]
  },
  {
   "cell_type": "code",
   "execution_count": null,
   "metadata": {
    "scrolled": true
   },
   "outputs": [],
   "source": [
    "# SÍ\n",
    "for index, fila in files_alumnes.iterrows():\n",
    "    print(index)\n",
    "    print(fila)\n",
    "    print()"
   ]
  },
  {
   "cell_type": "code",
   "execution_count": null,
   "metadata": {},
   "outputs": [],
   "source": [
    "def func(fila):\n",
    "    print(fila.name)\n",
    "\n",
    "df.apply(func, axis=1)"
   ]
  },
  {
   "cell_type": "code",
   "execution_count": null,
   "metadata": {},
   "outputs": [],
   "source": [
    "df = df.drop('Nota', axis=1)\n",
    "df"
   ]
  },
  {
   "cell_type": "code",
   "execution_count": null,
   "metadata": {},
   "outputs": [],
   "source": [
    "dh = df.loc[:, ['Nom','Reav','Final','Aprovat']]\n",
    "dh"
   ]
  },
  {
   "cell_type": "code",
   "execution_count": null,
   "metadata": {},
   "outputs": [],
   "source": []
  },
  {
   "cell_type": "markdown",
   "metadata": {},
   "source": [
    "## 5. Combinació de conjunts de dades"
   ]
  },
  {
   "cell_type": "markdown",
   "metadata": {},
   "source": [
    "### 5.1 Concat\n",
    "\n",
    "Alguns dels estudis més interessants de dades provenen de la combinació de diferents fonts de dades. Aquestes operacions poden implicar qualsevol cosa, des de la concatenació molt senzilla de dos conjunts de dades diferents, fins a unions i fusions d'estil de base de dades més complicades que gestionen correctament qualsevol superposició entre els conjunts de dades. Les sèries i els DataFrames es creen tenint en compte aquest tipus d'operacions, i Pandas inclou funcions i mètodes que fan que aquest tipus de discussió de dades sigui ràpida i senzilla.\n",
    "\n",
    "Pandas té una funció, pd.concat(), que té una sintaxi similar a np.concatenate. \n",
    "\n",
    "Una diferència important entre np.concatenate i pd.concat és que la concatenació Pandas **conserva els índexs**, fins i tot si el resultat tindrà índexs duplicats!"
   ]
  },
  {
   "cell_type": "code",
   "execution_count": null,
   "metadata": {},
   "outputs": [],
   "source": [
    "ser1 = pd.Series(['A', 'B', 'C'], index=[1, 2, 3])\n",
    "ser2 = pd.Series(['D', 'E', 'F'], index=[4, 5, 6])\n",
    "pd.concat([ser1, ser2])"
   ]
  },
  {
   "cell_type": "markdown",
   "metadata": {},
   "source": [
    "### 5.2 Merge i Join\n",
    "\n",
    "Una característica essencial que ofereix Pandas són les seves operacions d'unió i fusió d'alt rendiment en memòria. Si alguna vegada heu treballat amb bases de dades, hauríeu d'estar familiaritzat amb aquest tipus d'interacció de dades. La interfície principal per a això és la funció pd.merge, i veurem alguns exemples de com això pot funcionar a la pràctica."
   ]
  },
  {
   "cell_type": "code",
   "execution_count": null,
   "metadata": {},
   "outputs": [],
   "source": [
    "df1 = pd.DataFrame({'employee': ['Bob', 'Jake', 'Lisa', 'Sue'],\n",
    "                    'group': ['Accounting', 'Engineering', 'Engineering', 'HR']})\n",
    "df2 = pd.DataFrame({'employee': ['Lisa', 'Bob', 'Jake', 'Sue'],\n",
    "                    'hire_date': [2004, 2008, 2012, 2014]})\n",
    "pd.merge(df1, df2)"
   ]
  },
  {
   "cell_type": "markdown",
   "metadata": {},
   "source": [
    "### 5.3 Agregació i agrupació\n",
    "\n",
    "Una peça essencial d'anàlisi de dades grans és el resum eficient: calculant agregacions com sum(), mean(), median(), min() i max(), en què un sol nombre dóna una visió de la naturalesa d'un potencial gran conjunt de dades. En aquesta secció, explorarem les agregacions a Pandas."
   ]
  },
  {
   "cell_type": "code",
   "execution_count": null,
   "metadata": {},
   "outputs": [],
   "source": [
    "df = pd.DataFrame({'key': ['A', 'B', 'C', 'A', 'B', 'C'],\n",
    "                   'data': range(6)}, columns=['key', 'data'])\n",
    "df.groupby('key')"
   ]
  },
  {
   "cell_type": "code",
   "execution_count": null,
   "metadata": {},
   "outputs": [],
   "source": [
    "df.groupby('key').sum()"
   ]
  },
  {
   "cell_type": "code",
   "execution_count": null,
   "metadata": {},
   "outputs": [],
   "source": []
  },
  {
   "cell_type": "markdown",
   "metadata": {},
   "source": [
    "# Exercicis"
   ]
  },
  {
   "cell_type": "markdown",
   "metadata": {},
   "source": [
    "**Exercici 1:** Crea un pd.DataFrame que contingui la informació demanada."
   ]
  },
  {
   "cell_type": "code",
   "execution_count": null,
   "metadata": {},
   "outputs": [],
   "source": [
    "def crear_dataframe_1(usuari1, usuari2):\n",
    "    \"\"\"\n",
    "    Donada la informació de dos usuaris, `usuari1` i `usuari2`, crea un\n",
    "    pd.DataFrame que contingui cada un d'aquests usuaris com a una fila.\n",
    "    La primera fila ha de tenir per índex \"99\" i la segona \"88\", de tipus STR.\n",
    "    Les columnes han de tenir els següents noms:\n",
    "        \"Nom\", \"Cognom\", \"Data Registre\", \"Bitcoin\"\n",
    "        \n",
    "    :param usuari1: Llista (nativa de python) amb les dades del primer usuari\n",
    "    :param usuari2: Llista (nativa de python) amb les dades del segon usuari\n",
    "    :return: DataFrame amb les dades dels usuaris\n",
    "    \"\"\"\n",
    "    # AQUÍ EL TEU CODI\n",
    "    raise NotImplementedError"
   ]
  },
  {
   "cell_type": "code",
   "execution_count": null,
   "metadata": {
    "collapsed": false,
    "jupyter": {
     "outputs_hidden": false
    }
   },
   "outputs": [],
   "source": [
    "print(crear_dataframe_1(\n",
    "    ['Mike', 'Strong', '2012-02-03', 99],\n",
    "    ['Thomas', 'Weak', '2018-01-01', 0.4]\n",
    "))"
   ]
  },
  {
   "cell_type": "code",
   "execution_count": null,
   "metadata": {},
   "outputs": [],
   "source": [
    "def crear_dataframe_2(x, exponent):\n",
    "    \"\"\"\n",
    "    Donat un vector (np.arrray) i un exponent màxim, crea un \n",
    "    DataFrame de pandas on cada columna és la potència\n",
    "    $x^i$ per cada $i$ entre 0 i `exponent` (incloits). Les columnes han de \n",
    "    tenir per nom \"x<i>\", on <i> és la potència\n",
    "    \n",
    "    Per exemple, donat ([1, 2, 3, 4], 2), crearà\n",
    "    x0 | x1 | x2\n",
    "    ------------\n",
    "    1    1    1 \n",
    "    1    2    4\n",
    "    1    3    9\n",
    "    1    4    16\n",
    "    \n",
    "    Els indexs de les files són 0, 1, ..., n; on n és el nombre d'elements\n",
    "    a x\n",
    "    \n",
    "    **Pots fer servir 1 sol bucle per iterar de 0 a exponent, cap més**\n",
    "    \n",
    "    :param x: np.array unidimensional amb les dades per calcular potències\n",
    "    :param exponent: enter >= 0, màxim exponent a fer servir\n",
    "    :return: Un DataFrame de pandas, tal i com s'especifica\n",
    "    \"\"\"\n",
    "    # AQUÍ EL TEU CODI\n",
    "    raise NotImplementedError"
   ]
  },
  {
   "cell_type": "code",
   "execution_count": null,
   "metadata": {
    "collapsed": false,
    "jupyter": {
     "outputs_hidden": false
    }
   },
   "outputs": [],
   "source": [
    "print(crear_dataframe_2(np.asarray([1, 2, 3, 4]), 5))"
   ]
  },
  {
   "cell_type": "code",
   "execution_count": null,
   "metadata": {},
   "outputs": [],
   "source": []
  },
  {
   "cell_type": "markdown",
   "metadata": {},
   "source": [
    "**Exercici 2:** Donat un DataFrame, retorna el resultat de les consultes demanades."
   ]
  },
  {
   "cell_type": "code",
   "execution_count": null,
   "metadata": {
    "tags": []
   },
   "outputs": [],
   "source": [
    "def consultar_basic(df):\n",
    "    \"\"\"\n",
    "    Donat un DataFrame amb noms i notes, retorna solament\n",
    "    els noms d'aquells usuaris que tinguin un 5 o més\n",
    "    \n",
    "    :param df: DataFrame amb dos columnes \"Nom\", \"Nota\", amb 1 o més\n",
    "        files. \"Nom\" és una string i \"Nota\" un float\n",
    "    :return: Un pd.Series o llista/tupla de Pandas amb els noms \n",
    "        (i solament els noms) dels alumnes amb 5 o més\n",
    "    \"\"\"\n",
    "    # AQUÍ EL TEU CODI\n",
    "    raise NotImplementedError"
   ]
  },
  {
   "cell_type": "code",
   "execution_count": null,
   "metadata": {
    "collapsed": false,
    "jupyter": {
     "outputs_hidden": false
    }
   },
   "outputs": [],
   "source": [
    "print(consultar_basic(pd.DataFrame({\n",
    "    'Nom': ['Antonio', 'Mireia'],\n",
    "    'Nota': [5.1, 0.1]\n",
    "})))"
   ]
  },
  {
   "cell_type": "code",
   "execution_count": null,
   "metadata": {},
   "outputs": [],
   "source": [
    "def consultar_dificil(df):\n",
    "    \"\"\"\n",
    "    De totes les files d'un DataFrame, retorna l'índex d'aquella que tingui \n",
    "    el menor nombre de NaNs\n",
    "    \n",
    "    *Es pot fer sense bucles, consulta la documentació de Pandas, la cheetsheet\n",
    "    o stackoverflow*\n",
    "    \n",
    "    :param df: DataFrame sobre el que operar, les files contenen floats o NaN\n",
    "    :return: L'índex (int, ja ve donat) de la fila amb menys NaNs\n",
    "    \"\"\"\n",
    "    # AQUÍ EL TEU CODI\n",
    "    raise NotImplementedError"
   ]
  },
  {
   "cell_type": "code",
   "execution_count": null,
   "metadata": {
    "collapsed": false,
    "jupyter": {
     "outputs_hidden": false
    }
   },
   "outputs": [],
   "source": [
    "print(consultar_dificil(pd.DataFrame([\n",
    "    [0, np.nan, 3.0, 2, np.nan],\n",
    "    [np.nan, 1, 2, 3, 4],\n",
    "    [np.nan, 0, 0, np.nan, np.nan]\n",
    "])))"
   ]
  },
  {
   "cell_type": "code",
   "execution_count": null,
   "metadata": {},
   "outputs": [],
   "source": []
  }
 ],
 "metadata": {
  "kernelspec": {
   "display_name": "Python 3",
   "language": "python",
   "name": "python3"
  },
  "language_info": {
   "codemirror_mode": {
    "name": "ipython",
    "version": 3
   },
   "file_extension": ".py",
   "mimetype": "text/x-python",
   "name": "python",
   "nbconvert_exporter": "python",
   "pygments_lexer": "ipython3",
   "version": "3.8.5"
  }
 },
 "nbformat": 4,
 "nbformat_minor": 4
}
