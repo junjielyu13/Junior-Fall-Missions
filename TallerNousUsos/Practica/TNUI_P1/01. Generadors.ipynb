{
 "cells": [
  {
   "cell_type": "markdown",
   "id": "opponent-airfare",
   "metadata": {},
   "source": [
    "# Generadors"
   ]
  },
  {
   "cell_type": "markdown",
   "id": "stylish-canberra",
   "metadata": {},
   "source": [
    "Executa el codi a continuació i intenta entendre les diferències entre `crear_range` i `crear_range_generador`. Per què creus que és més ràpida la segona versió?"
   ]
  },
  {
   "cell_type": "markdown",
   "id": "assisted-compact",
   "metadata": {},
   "source": [
    "#### Primera versió"
   ]
  },
  {
   "cell_type": "code",
   "execution_count": 9,
   "id": "consolidated-father",
   "metadata": {
    "tags": []
   },
   "outputs": [],
   "source": [
    "def crear_range(inici, fi, pas):\n",
    "    llista = []\n",
    "    i = inici\n",
    "    while i < fi:\n",
    "        llista.append(i)\n",
    "        i += pas\n",
    "        \n",
    "    return llista\n",
    "\n",
    "def crea_i_itera(inici, fi, pas):\n",
    "    llista = crear_range(inici, fi, pas)\n",
    "    \n",
    "    for i in llista:\n",
    "        x = i"
   ]
  },
  {
   "cell_type": "code",
   "execution_count": 10,
   "id": "antique-patio",
   "metadata": {},
   "outputs": [
    {
     "name": "stdout",
     "output_type": "stream",
     "text": [
      "[1, 11, 21, 31, 41, 51, 61, 71, 81]\n"
     ]
    }
   ],
   "source": [
    "print(crear_range(1, 90, 10))"
   ]
  },
  {
   "cell_type": "code",
   "execution_count": 11,
   "id": "unique-alignment",
   "metadata": {},
   "outputs": [
    {
     "name": "stdout",
     "output_type": "stream",
     "text": [
      "122 µs ± 27.7 µs per loop (mean ± std. dev. of 7 runs, 10,000 loops each)\n"
     ]
    }
   ],
   "source": [
    "%timeit crea_i_itera(1, 1e3, 1)"
   ]
  },
  {
   "cell_type": "markdown",
   "id": "other-enemy",
   "metadata": {},
   "source": [
    "#### Segona Versió"
   ]
  },
  {
   "cell_type": "code",
   "execution_count": 12,
   "id": "excellent-crown",
   "metadata": {
    "tags": []
   },
   "outputs": [],
   "source": [
    "def crear_range_generador(inici, fi, pas):\n",
    "    i = inici\n",
    "    while i < fi:\n",
    "        yield i\n",
    "        i += pas\n",
    "        \n",
    "def crea_i_itera_generador(inici, fi, pas):\n",
    "    llista = crear_range_generador(inici, fi, pas)\n",
    "    \n",
    "    for i in llista:\n",
    "        x = i"
   ]
  },
  {
   "cell_type": "code",
   "execution_count": 13,
   "id": "square-dayton",
   "metadata": {},
   "outputs": [
    {
     "name": "stdout",
     "output_type": "stream",
     "text": [
      "<generator object crear_range_generador at 0x000001A64F5F1460>\n"
     ]
    }
   ],
   "source": [
    "print(crear_range_generador(1, 5, 1))"
   ]
  },
  {
   "cell_type": "code",
   "execution_count": 14,
   "id": "fleet-loading",
   "metadata": {},
   "outputs": [
    {
     "name": "stdout",
     "output_type": "stream",
     "text": [
      "104 µs ± 15 µs per loop (mean ± std. dev. of 7 runs, 10,000 loops each)\n"
     ]
    }
   ],
   "source": [
    "%timeit crea_i_itera_generador(1, 1e3, 1)"
   ]
  },
  {
   "cell_type": "markdown",
   "id": "twelve-trout",
   "metadata": {},
   "source": [
    "## Com funcionen?"
   ]
  },
  {
   "cell_type": "markdown",
   "id": "norwegian-sheet",
   "metadata": {},
   "source": [
    "La paraula clau `yield` serveix per indicar a Python que la funció és generadora. Una funció generadora retorna un tipus especial que es pot iterar, el funcionament és el següent:\n",
    "\n",
    "**Obtenir el generador a través de la crida**\n",
    "\n",
    "```python\n",
    "gen = crear_range_generador(1, 5, 1)\n",
    "```\n",
    "\n",
    "**Iterar els elements del generador**\n",
    "\n",
    "```python\n",
    "element_1 = next(gen)\n",
    "element_2 = next(gen)\n",
    "...\n",
    "element_n = next(gen)\n",
    "```\n",
    "\n",
    "Cada cop que es fa `next`, el codi executa fins a trobar la paraula `yield`. Al trobar-la, retorna l'element del `yield` i es queda \"pausat\" en la següent instrucció, fins que es fa el següent `next`.\n",
    "\n",
    "**Alternativament, es pot iterar el generador com si fos una llista**\n",
    "```python\n",
    "for element in gen:\n",
    "    print(element)\n",
    "```\n",
    "\n",
    "**Conversió a llista**\n",
    "\n",
    "També es pot convertir el generador a una llista de forma explícita. Compte però, normalment es fan servir generadors per evitar ocupar memòria, convertint a llista (o equivalent) ocuparem tota la memòria:\n",
    "\n",
    "```python\n",
    "llista = list(gen)\n",
    "```"
   ]
  },
  {
   "cell_type": "markdown",
   "id": "fitting-sampling",
   "metadata": {},
   "source": [
    "### Proves"
   ]
  },
  {
   "cell_type": "code",
   "execution_count": 15,
   "id": "turkish-claim",
   "metadata": {},
   "outputs": [
    {
     "name": "stdout",
     "output_type": "stream",
     "text": [
      "<generator object crear_range_generador at 0x000001A64F5F12A0>\n",
      "1\n",
      "2\n",
      "3\n",
      "4\n"
     ]
    }
   ],
   "source": [
    "gen = crear_range_generador(1, 5, 1)\n",
    "print(gen)\n",
    "\n",
    "element_1 = next(gen)\n",
    "element_2 = next(gen)\n",
    "element_3 = next(gen)\n",
    "element_4 = next(gen)\n",
    "\n",
    "print(element_1)\n",
    "print(element_2)\n",
    "print(element_3)\n",
    "print(element_4)"
   ]
  },
  {
   "cell_type": "markdown",
   "id": "under-tattoo",
   "metadata": {},
   "source": [
    "Que passa si intentem obtenir un següent element?"
   ]
  },
  {
   "cell_type": "code",
   "execution_count": 16,
   "id": "relevant-kelly",
   "metadata": {},
   "outputs": [],
   "source": [
    "# element_5 = next(gen)"
   ]
  },
  {
   "cell_type": "code",
   "execution_count": 17,
   "id": "complex-harrison",
   "metadata": {},
   "outputs": [
    {
     "data": {
      "text/plain": [
       "1"
      ]
     },
     "execution_count": 17,
     "metadata": {},
     "output_type": "execute_result"
    }
   ],
   "source": [
    "next(gen, 1)"
   ]
  },
  {
   "cell_type": "markdown",
   "id": "terminal-newman",
   "metadata": {},
   "source": [
    "L'objecte generador `gen` no guarda els elements que va generant, cada cop que es fa un `next`, l'anterior \"s'elimina\" i es genera el següent.\n",
    "\n",
    "En vistes d'això, que passa si ara iterem el generador com si fos una llista?"
   ]
  },
  {
   "cell_type": "code",
   "execution_count": 18,
   "id": "brazilian-volunteer",
   "metadata": {
    "tags": []
   },
   "outputs": [],
   "source": [
    "for element in gen:\n",
    "    print(element)"
   ]
  },
  {
   "cell_type": "markdown",
   "id": "considerable-knight",
   "metadata": {},
   "source": [
    "Efectivament, no produeix cap sortida perquè el generador ja està buit. Fa un moment hem vist l'error `StopIteration`. En tot cas, podríem crear-lo de nou i iterar:"
   ]
  },
  {
   "cell_type": "code",
   "execution_count": 19,
   "id": "leading-spending",
   "metadata": {},
   "outputs": [
    {
     "name": "stdout",
     "output_type": "stream",
     "text": [
      "1\n",
      "2\n",
      "3\n",
      "4\n"
     ]
    }
   ],
   "source": [
    "gen = crear_range_generador(1, 5, 1)\n",
    "for element in gen:\n",
    "    print(element)"
   ]
  },
  {
   "cell_type": "code",
   "execution_count": 20,
   "id": "adopted-marshall",
   "metadata": {},
   "outputs": [
    {
     "name": "stdout",
     "output_type": "stream",
     "text": [
      "[1, 2, 3, 4]\n"
     ]
    }
   ],
   "source": [
    "gen = crear_range_generador(1, 5, 1)\n",
    "llista = list(gen)\n",
    "print(llista)"
   ]
  },
  {
   "cell_type": "code",
   "execution_count": null,
   "id": "crazy-trick",
   "metadata": {},
   "outputs": [],
   "source": []
  }
 ],
 "metadata": {
  "kernelspec": {
   "display_name": "Python 3.10.7 64-bit",
   "language": "python",
   "name": "python3"
  },
  "language_info": {
   "codemirror_mode": {
    "name": "ipython",
    "version": 3
   },
   "file_extension": ".py",
   "mimetype": "text/x-python",
   "name": "python",
   "nbconvert_exporter": "python",
   "pygments_lexer": "ipython3",
   "version": "3.10.7"
  },
  "vscode": {
   "interpreter": {
    "hash": "b091efc10890b9242d033e9058a56c9b7f2e767a7ae9c4381dc086491fe6f654"
   }
  }
 },
 "nbformat": 4,
 "nbformat_minor": 5
}
