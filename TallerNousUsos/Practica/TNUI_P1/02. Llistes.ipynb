{
 "cells": [
  {
   "cell_type": "markdown",
   "id": "psychological-sarah",
   "metadata": {},
   "source": [
    "# Operacions sobre llistes"
   ]
  },
  {
   "cell_type": "markdown",
   "id": "atmospheric-album",
   "metadata": {},
   "source": [
    "## 1. Simples (reducció)"
   ]
  },
  {
   "cell_type": "code",
   "execution_count": null,
   "id": "hazardous-richards",
   "metadata": {},
   "outputs": [],
   "source": [
    "llista = [1, 2, 3, 4, 5, 6, 7, 8]\n",
    "\n",
    "# Les clàssiques\n",
    "print(min(llista))\n",
    "print(max(llista))\n",
    "print(sum(llista))"
   ]
  },
  {
   "cell_type": "markdown",
   "id": "posted-mixture",
   "metadata": {},
   "source": [
    "## 2. Condicions\n",
    "\n",
    "Hi ha diverses formes de comprovar si els elements d'una llista compleixen una condició. Suposem que volem comprovar si algun element d'una llista compleix una condició"
   ]
  },
  {
   "cell_type": "code",
   "execution_count": null,
   "id": "institutional-surrey",
   "metadata": {
    "tags": []
   },
   "outputs": [],
   "source": [
    "llista = [1, 123, 23, 76, 231]\n",
    "\n",
    "def condicio(element):\n",
    "    return element**3 % 2 == 0"
   ]
  },
  {
   "cell_type": "markdown",
   "id": "formed-alignment",
   "metadata": {},
   "source": [
    "Com es podria fer, però **no** és la forma més bonica"
   ]
  },
  {
   "cell_type": "code",
   "execution_count": null,
   "id": "outside-recycling",
   "metadata": {},
   "outputs": [],
   "source": [
    "compleix = False\n",
    "\n",
    "for x in llista:\n",
    "    if condicio(x):\n",
    "        compleix = True\n",
    "        break\n",
    "        \n",
    "compleix"
   ]
  },
  {
   "cell_type": "markdown",
   "id": "greater-booth",
   "metadata": {},
   "source": [
    "El mateix, però curt i bonic"
   ]
  },
  {
   "cell_type": "code",
   "execution_count": null,
   "id": "delayed-wildlife",
   "metadata": {},
   "outputs": [],
   "source": [
    "any(condicio(x) for x in llista)"
   ]
  },
  {
   "cell_type": "markdown",
   "id": "pressing-fraction",
   "metadata": {},
   "source": [
    "**Atenció!** No és el mateix l'anterior línia que"
   ]
  },
  {
   "cell_type": "code",
   "execution_count": null,
   "id": "early-thong",
   "metadata": {},
   "outputs": [],
   "source": [
    "any([condicio(x) for x in llista])"
   ]
  },
  {
   "cell_type": "markdown",
   "id": "boolean-garbage",
   "metadata": {},
   "source": [
    "<span style=\"color: red; font-weight: bold;\">Per què?</span>"
   ]
  },
  {
   "cell_type": "markdown",
   "id": "daily-promise",
   "metadata": {},
   "source": [
    "També es pot comprovar si tots els elements compleixen la condició, enlloc de qualsevol d'ells"
   ]
  },
  {
   "cell_type": "code",
   "execution_count": null,
   "id": "average-aquatic",
   "metadata": {},
   "outputs": [],
   "source": [
    "all(condicio(x) for x in llista)"
   ]
  },
  {
   "cell_type": "markdown",
   "id": "corrected-express",
   "metadata": {},
   "source": [
    "## 3. Filtratge"
   ]
  },
  {
   "cell_type": "markdown",
   "id": "organizational-suspect",
   "metadata": {},
   "source": [
    "Com **no** filtrar una llista"
   ]
  },
  {
   "cell_type": "code",
   "execution_count": null,
   "id": "still-yeast",
   "metadata": {},
   "outputs": [],
   "source": [
    "def filtrar_element(element):\n",
    "    return element > 4\n",
    "\n",
    "llista_filtrada = [x for x in llista if filtrar_element(x)]\n",
    "print(llista_filtrada)"
   ]
  },
  {
   "cell_type": "markdown",
   "id": "apparent-wayne",
   "metadata": {},
   "source": [
    "Com **sí**"
   ]
  },
  {
   "cell_type": "code",
   "execution_count": null,
   "id": "leading-poetry",
   "metadata": {},
   "outputs": [],
   "source": [
    "generador_filtrat = filter(filtrar_element, llista)\n",
    "print(list(generador_filtrat))"
   ]
  },
  {
   "cell_type": "markdown",
   "id": "effective-quick",
   "metadata": {},
   "source": [
    "**Millor encara**"
   ]
  },
  {
   "cell_type": "code",
   "execution_count": null,
   "id": "charitable-gothic",
   "metadata": {},
   "outputs": [],
   "source": [
    "generador_filtrat = filter(lambda x: x > 4, llista)\n",
    "print(list(generador_filtrat))"
   ]
  },
  {
   "cell_type": "markdown",
   "id": "analyzed-maldives",
   "metadata": {},
   "source": [
    "## 4. Manipulació"
   ]
  },
  {
   "cell_type": "code",
   "execution_count": null,
   "id": "extraordinary-vienna",
   "metadata": {},
   "outputs": [],
   "source": [
    "def elevar_element(element):\n",
    "    return element**2\n",
    "\n",
    "llista_manipulada = [elevar_element(x) for x in llista]\n",
    "print(llista_manipulada)"
   ]
  },
  {
   "cell_type": "code",
   "execution_count": null,
   "id": "pretty-edgar",
   "metadata": {},
   "outputs": [],
   "source": [
    "generador_manipulat = map(elevar_element, llista)\n",
    "print(list(generador_manipulat))"
   ]
  },
  {
   "cell_type": "code",
   "execution_count": null,
   "id": "offensive-removal",
   "metadata": {},
   "outputs": [],
   "source": [
    "generador_manipulat = map(lambda x: x**2, llista)\n",
    "print(list(generador_manipulat))"
   ]
  },
  {
   "cell_type": "markdown",
   "id": "identical-taste",
   "metadata": {},
   "source": [
    "**Nota**: A vegades (en llibreries o altres llenguatges) aquesta operació no rep el nom de `map` sinó `apply`, però té la mateixa funcionalitat"
   ]
  },
  {
   "cell_type": "markdown",
   "id": "worth-wichita",
   "metadata": {},
   "source": [
    "### Pregunta\n",
    "\n",
    "Com calcularies $x^2 + 1$ per tots els nombres entre 10 i 20? (10 i 20 inclossos)"
   ]
  },
  {
   "cell_type": "code",
   "execution_count": null,
   "id": "sticky-cycle",
   "metadata": {},
   "outputs": [],
   "source": [
    "p1 = range(10, 21)\n",
    "# AQUÍ EL TEU CODI\n",
    "p1 = ..."
   ]
  },
  {
   "cell_type": "code",
   "execution_count": null,
   "id": "spoken-prize",
   "metadata": {},
   "outputs": [],
   "source": []
  },
  {
   "cell_type": "markdown",
   "id": "increasing-parameter",
   "metadata": {},
   "source": [
    "### 4.1 Sobre zip"
   ]
  },
  {
   "cell_type": "code",
   "execution_count": null,
   "id": "assisted-dream",
   "metadata": {},
   "outputs": [],
   "source": [
    "zipped = zip([1, 2, 3], [5, 6, 7])\n",
    "list(zipped)"
   ]
  },
  {
   "cell_type": "code",
   "execution_count": null,
   "id": "acting-playlist",
   "metadata": {},
   "outputs": [],
   "source": [
    "zipped = zip([1, 2, 3], [5, 6, 7], [10, 11, 12])\n",
    "list(zipped)"
   ]
  },
  {
   "cell_type": "code",
   "execution_count": null,
   "id": "analyzed-greeting",
   "metadata": {},
   "outputs": [],
   "source": [
    "zipped = zip([1, 2], [5, 6, 7, 8, 9])\n",
    "list(zipped)"
   ]
  },
  {
   "cell_type": "code",
   "execution_count": null,
   "id": "amino-attachment",
   "metadata": {},
   "outputs": [],
   "source": [
    "zipped = zip([1, 2, 3], [5, 6, 7, 8, 9], [10, 11, 12])\n",
    "list(zipped)"
   ]
  },
  {
   "cell_type": "markdown",
   "id": "indoor-civilization",
   "metadata": {},
   "source": [
    "Donades les següents llistes, com faries la suma element a element de les dues?\n",
    "\n",
    "Matemàticament, $(1, 2, 3) + (2, 3, 4) = (3, 5, 7)$\n",
    "\n",
    "És a dir, en Python voldríem fer: [1, 2, 3] + [2, 3, 4] = [3, 5, 7]"
   ]
  },
  {
   "cell_type": "code",
   "execution_count": null,
   "id": "frozen-swedish",
   "metadata": {},
   "outputs": [],
   "source": [
    "p2_a = [1, 2, 3]\n",
    "p2_b = [2, 3, 4]\n",
    "\n",
    "p3_c = p2_a + p2_b\n",
    "print(p3_c)"
   ]
  },
  {
   "cell_type": "code",
   "execution_count": null,
   "id": "finite-wedding",
   "metadata": {},
   "outputs": [],
   "source": [
    "# AQUÍ EL TEU CODI\n",
    "p3_c = ...\n",
    "p3_c"
   ]
  },
  {
   "cell_type": "code",
   "execution_count": null,
   "id": "attempted-gamma",
   "metadata": {},
   "outputs": [],
   "source": []
  },
  {
   "cell_type": "markdown",
   "id": "descending-beijing",
   "metadata": {},
   "source": [
    "### 4.2 Sobre iterar llistes de llistes"
   ]
  },
  {
   "cell_type": "code",
   "execution_count": null,
   "id": "controlled-handbook",
   "metadata": {},
   "outputs": [],
   "source": [
    "llista = [\n",
    "    [1, 2],\n",
    "    [3, 4],\n",
    "    [5, 6]\n",
    "]\n",
    "\n",
    "for a, b in llista:\n",
    "    print(\"{} i {}\".format(a, b))"
   ]
  },
  {
   "cell_type": "code",
   "execution_count": null,
   "id": "thirty-bulgaria",
   "metadata": {},
   "outputs": [],
   "source": [
    "llista = [\n",
    "    (1, 2, 3),\n",
    "    (10, 11, 12),\n",
    "    (20, 21, 22)\n",
    "]\n",
    "\n",
    "for a, b, c in llista:\n",
    "    print(\"{} i {} i {}\".format(a, b, c))"
   ]
  },
  {
   "cell_type": "markdown",
   "id": "sustained-communications",
   "metadata": {},
   "source": [
    "Per aquest mateix motiu, podem iterar diccionaris de forma còmoda:"
   ]
  },
  {
   "cell_type": "code",
   "execution_count": null,
   "id": "recreational-appendix",
   "metadata": {},
   "outputs": [],
   "source": [
    "dic = {1: 'a', 2: True, 'clau3': 99}\n",
    "\n",
    "for clau, valor in dic.items():\n",
    "    print('{} conté {}'.format(clau, valor))"
   ]
  },
  {
   "cell_type": "code",
   "execution_count": null,
   "id": "resident-cradle",
   "metadata": {},
   "outputs": [],
   "source": [
    "dic.items()"
   ]
  },
  {
   "cell_type": "markdown",
   "id": "cooked-message",
   "metadata": {},
   "source": [
    "## 5. Sobre arguments de funcions\n",
    "\n",
    "#### \\*args, \\*kwargs o com definir una funció amb un nombre d'arguments arbitrari."
   ]
  },
  {
   "cell_type": "code",
   "execution_count": null,
   "id": "classical-mistress",
   "metadata": {},
   "outputs": [],
   "source": [
    "def magic(*args, **kwargs):\n",
    "    print(args)\n",
    "    print(kwargs)\n",
    "    \n",
    "magic(1,2,3, val1='a', val2='b')"
   ]
  },
  {
   "cell_type": "code",
   "execution_count": null,
   "id": "suburban-treatment",
   "metadata": {},
   "outputs": [],
   "source": [
    "def magic(*a, **b):\n",
    "    print(a)\n",
    "    print(b)\n",
    "    \n",
    "magic(1,2,3, val1='a', val2='b')"
   ]
  },
  {
   "cell_type": "markdown",
   "id": "multiple-premiere",
   "metadata": {},
   "source": [
    "\\*args and \\**kwargs ens permeten passar un nombre variable de paràmetres a una funció."
   ]
  },
  {
   "cell_type": "code",
   "execution_count": null,
   "id": "opposite-worker",
   "metadata": {},
   "outputs": [],
   "source": [
    "def suma(*args):\n",
    "    s = 0\n",
    "    for i in args:\n",
    "        s += i\n",
    "    print(\"La suma és\", s)\n",
    "    \n",
    "\n",
    "a = (1,2,3,4)\n",
    "\n",
    "print(suma(*a))"
   ]
  },
  {
   "cell_type": "code",
   "execution_count": null,
   "id": "jewish-bachelor",
   "metadata": {},
   "outputs": [],
   "source": [
    "def my_func(**kwargs):\n",
    "    for i, j in kwargs.items():\n",
    "        print(i, j)\n",
    "        \n",
    "my_func(name='tim', sport='football', roll=19)"
   ]
  },
  {
   "cell_type": "code",
   "execution_count": null,
   "id": "monthly-toyota",
   "metadata": {},
   "outputs": [],
   "source": []
  }
 ],
 "metadata": {
  "kernelspec": {
   "display_name": "Python 3",
   "language": "python",
   "name": "python3"
  },
  "language_info": {
   "codemirror_mode": {
    "name": "ipython",
    "version": 3
   },
   "file_extension": ".py",
   "mimetype": "text/x-python",
   "name": "python",
   "nbconvert_exporter": "python",
   "pygments_lexer": "ipython3",
   "version": "3.8.5"
  }
 },
 "nbformat": 4,
 "nbformat_minor": 5
}
