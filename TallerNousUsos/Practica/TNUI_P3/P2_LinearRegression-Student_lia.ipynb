{
 "cells": [
  {
   "cell_type": "markdown",
   "metadata": {},
   "source": [
    "# Optimització - Linear regression"
   ]
  },
  {
   "cell_type": "markdown",
   "metadata": {},
   "source": [
    "En estadística, la **regressió lineal** és un enfocament lineal per modelar la relació entre una resposta escalar (o variable dependent) i una o més variables explicatives (o variables independents).\n",
    "\n",
    "En regressió lineal, les relacions es modelen mitjançant funcions lineals on els paràmetres del model s’estimen a partir de les dades. \n",
    "Aquests models s'anomenen models lineals. "
   ]
  },
  {
   "cell_type": "markdown",
   "metadata": {},
   "source": [
    "Suposem que treballem amb un conjunt de dades $ \\{y_{i}, x_{i_1}, \\ldots, x_{i_m} \\}_{i = 1}^{n}$ de $n$ unitats. \n",
    "\n",
    "Un **model de regressió lineal** assumeix que la relació entre la variable dependent $y$ i el vector $p$ dels regressors $x$ és lineal. \n",
    "Així, el model pren la forma:\n",
    "$${\\displaystyle y_{i}=\\beta _{0}+\\beta _{1}x_{i_1}+\\cdots +\\beta _{p}x_{i_p},\\qquad i=1,\\ldots ,n,}$$"
   ]
  },
  {
   "cell_type": "code",
   "execution_count": 115,
   "metadata": {},
   "outputs": [
    {
     "name": "stdout",
     "output_type": "stream",
     "text": [
      "Requirement already satisfied: autograd in c:\\users\\witek\\anaconda3\\lib\\site-packages (1.5)\n",
      "Requirement already satisfied: numpy>=1.12 in c:\\users\\witek\\anaconda3\\lib\\site-packages (from autograd) (1.20.3)\n",
      "Requirement already satisfied: future>=0.15.2 in c:\\users\\witek\\anaconda3\\lib\\site-packages (from autograd) (0.18.2)\n"
     ]
    }
   ],
   "source": [
    "#!pip install --user -U autograd\n",
    "!pip install autograd"
   ]
  },
  {
   "cell_type": "code",
   "execution_count": 116,
   "metadata": {},
   "outputs": [],
   "source": [
    "import autograd"
   ]
  },
  {
   "cell_type": "code",
   "execution_count": 117,
   "metadata": {},
   "outputs": [],
   "source": [
    "from plot_utils import *\n",
    "\n",
    "import autograd.numpy as np\n",
    "from autograd import elementwise_grad as grad, value_and_grad\n",
    "import matplotlib.pyplot as plt\n",
    "from tqdm.notebook import tqdm\n",
    "import pandas as pd\n",
    "import random\n",
    "\n",
    "from IPython.display import display\n",
    "\n",
    "%matplotlib inline"
   ]
  },
  {
   "cell_type": "markdown",
   "metadata": {},
   "source": [
    "No es permet l'ús de cap llibreria o funció que no estigui ja importat, sigui aquí o més abaix en el notebook."
   ]
  },
  {
   "cell_type": "markdown",
   "metadata": {},
   "source": [
    "## AutoGrad\n",
    "\n",
    "En la part anterior, donada una funció havíem de definir també la funció que retorna el seu gradient.\n",
    "\n",
    "En aquesta pràctica, però, veurem que mitjançant l'ús de la llibreria **AutoGrad**, això no és necessari.\n",
    "\n",
    "Consideren les següents funcions:"
   ]
  },
  {
   "cell_type": "code",
   "execution_count": 118,
   "metadata": {},
   "outputs": [],
   "source": [
    "def f1(x):\n",
    "    return x**2\n",
    "\n",
    "def f2(x):\n",
    "    x, y = x[0], x[1]\n",
    "    return x**2 + y**2\n",
    "\n",
    "def f3(x):\n",
    "    x, y, z = x[0], x[1], x[2]\n",
    "    return (100 * (y - x**2)**2 + (1 - x)**2) + (100 * (z - y**2)**2 + (1 - y)**2)"
   ]
  },
  {
   "cell_type": "markdown",
   "metadata": {},
   "source": [
    "Donada la funció `f1`, podem fàcilment derivar el seu gradient, que és $2x$.\n",
    "\n",
    "Definim-lo manualment:"
   ]
  },
  {
   "cell_type": "code",
   "execution_count": 119,
   "metadata": {},
   "outputs": [],
   "source": [
    "def grad_f1_manual(x):\n",
    "    return 2*x"
   ]
  },
  {
   "cell_type": "markdown",
   "metadata": {},
   "source": [
    "Ara, obtinguem la funció gradient a partir d'autograd:"
   ]
  },
  {
   "cell_type": "code",
   "execution_count": 120,
   "metadata": {},
   "outputs": [],
   "source": [
    "grad_f1 = grad(f1)"
   ]
  },
  {
   "cell_type": "markdown",
   "metadata": {},
   "source": [
    "Podem comprovar que **les dues donen el mateix valor de gradient evaluat en un punt $x$**."
   ]
  },
  {
   "cell_type": "code",
   "execution_count": 121,
   "metadata": {},
   "outputs": [
    {
     "name": "stdout",
     "output_type": "stream",
     "text": [
      "Calcul manual gradient: df1'(x0) = 2046.0\n",
      "Autograd: df1'(x0) = 2046.0\n"
     ]
    }
   ],
   "source": [
    "x0 = np.asarray([1023.0])\n",
    "print('Calcul manual gradient: df1\\'(x0) = {}'.format(grad_f1_manual(x0)[0]))\n",
    "print('Autograd: df1\\'(x0) = {}'.format(grad_f1(x0)[0]))\n",
    "\n",
    "assert np.allclose(grad_f1_manual(x0), grad_f1(x0)) "
   ]
  },
  {
   "cell_type": "markdown",
   "metadata": {},
   "source": [
    "També podem utilitzar `value_and_grad` per obtenir directament amb la **imatge de la funció i el seu gradient en un punt $x$**:"
   ]
  },
  {
   "cell_type": "code",
   "execution_count": 122,
   "metadata": {},
   "outputs": [
    {
     "name": "stdout",
     "output_type": "stream",
     "text": [
      "(array([1046529.]), array([2046.]))\n"
     ]
    }
   ],
   "source": [
    "val_grad_f1 = value_and_grad(f1)\n",
    "print(val_grad_f1(x0))\n",
    "\n",
    "value, gradient = val_grad_f1(x0)\n",
    "assert np.allclose(value, f1(x0))\n",
    "assert np.allclose(gradient, grad_f1(x0))"
   ]
  },
  {
   "cell_type": "markdown",
   "metadata": {},
   "source": [
    "Inclús podem aplicar `grad` sobre un altre `grad` per obtenir la 2a derivada (o Hessià en multiples dimensions)."
   ]
  },
  {
   "cell_type": "code",
   "execution_count": 123,
   "metadata": {},
   "outputs": [],
   "source": [
    "grad_f1 = grad(f1) # df(x) = 2 * x\n",
    "grad2_f1 = grad(grad_f1) # d2f(x) = 2"
   ]
  },
  {
   "cell_type": "code",
   "execution_count": 124,
   "metadata": {},
   "outputs": [
    {
     "data": {
      "text/plain": [
       "<matplotlib.legend.Legend at 0x1d8981a82b0>"
      ]
     },
     "execution_count": 124,
     "metadata": {},
     "output_type": "execute_result"
    },
    {
     "data": {
      "image/png": "[encoded data removed]",
      "text/plain": [
       "<Figure size 432x288 with 1 Axes>"
      ]
     },
     "metadata": {
      "needs_background": "light"
     },
     "output_type": "display_data"
    }
   ],
   "source": [
    "x = np.linspace(-5, 5, 100)\n",
    "plt.plot(x, f1(x), label = 'f(x)')\n",
    "plt.plot(x, grad_f1(x), color='green', label = 'df(x)')\n",
    "plt.plot(x, grad2_f1(x), color='orange', label = 'd2f(x)')\n",
    "plt.legend()"
   ]
  },
  {
   "cell_type": "code",
   "execution_count": null,
   "metadata": {},
   "outputs": [],
   "source": []
  },
  {
   "cell_type": "markdown",
   "metadata": {},
   "source": [
    "## Descens del gradient"
   ]
  },
  {
   "cell_type": "markdown",
   "metadata": {},
   "source": [
    "**El primer pas serà implementar la mateixa funció `gradient_descend` que havieu fet en la part anterior, però ara mitjançant l'ús de la llibreria `autograd` i fent-la multidimensional.**\n",
    "\n",
    "Aquesta funció hauria d'executar sense problemes, i donar el mínim, per les tres funcions `f1`, `f2` i `f3` definides més adalt, de 1, 2 i 3 dimensions respectivament. Però, també haurà de funcionar per les següents parts de la pràctica, amb 100 o més dimensions."
   ]
  },
  {
   "cell_type": "code",
   "execution_count": 125,
   "metadata": {},
   "outputs": [],
   "source": [
    "def gradient_descend(f, x0, alpha, eps=1e-6, max_iter=1000, print_iters=1000):\n",
    "    \"\"\"\n",
    "    Aquesta funció implementa l'algorisme de descens pel gradient, és a dir,\n",
    "    donat un punt inicial, la funció de la que calculem el gradient i el pas, \n",
    "    intenta trobar el mínim de la funció seguint el gradient en direcció oposada.\n",
    "    \n",
    "    Pel criteri d'aturada, considerarem si ||x^{k+1} - x^k|| < eps, és a dir\n",
    "    si la norma de la diferència és més petita que eps.\n",
    "    \n",
    "    Cada print_iters cal mostrar el resultat actual en la següent forma:\n",
    "        \"{}/{:.2f}\".format(human_format(itr), float(valor_de_f_en_x))\n",
    "    \n",
    "    :param f: Funció a minimitzar\n",
    "    :param x0: Punt inicial\n",
    "    :param alpha: Pas de cada iteració\n",
    "    :param eps: Moviment mínim realitzat abans de parar\n",
    "    :param max_epochs: Iteracions màximes a realitzar\n",
    "    :param print_iters: Numero d'iteracions per printar resultats\n",
    "    :return: La funció retornarà el punt on es troba el mínim\n",
    "    \"\"\"\n",
    "    def print_result():\n",
    "        # print(\"{}/{:.2f}\".format(human_format(itr), float(valor_de_f_en_x)))\n",
    "        print('result')\n",
    "\n",
    "    # obtenim el gradient de la funció\n",
    "    gradient = grad(f)\n",
    "    move = abs(x0 - alpha*gradient(x0))\n",
    "    iterations = 0\n",
    "    #to_print = max_iter//print_iters\n",
    "    \n",
    "    while iterations < max_iter and np.linalg.norm(move) >= eps:\n",
    "        # ens movem en la direcció contrària del vector gradient\n",
    "        x0 = x0 - alpha * gradient(x0)\n",
    "       \n",
    "        # actualitzem l'array de moviment que acabem de realitzar \n",
    "        move = abs(alpha*gradient(x0))\n",
    "        iterations += 1\n",
    "        \n",
    "\n",
    "    return x0"
   ]
  },
  {
   "cell_type": "markdown",
   "metadata": {},
   "source": [
    "Busquem el mínim de cadascuna de les funcions:"
   ]
  },
  {
   "cell_type": "code",
   "execution_count": 126,
   "metadata": {},
   "outputs": [
    {
     "name": "stdout",
     "output_type": "stream",
     "text": [
      "f1([4.98237376e-05]) = [2.48240483e-09]\n"
     ]
    }
   ],
   "source": [
    "x0 = np.array([4.0])\n",
    "xm = gradient_descend(f1, x0, 0.01, 1e-6, 10000) # ~ @1s\n",
    "print(f'f1({xm}) = {f1(xm)}')"
   ]
  },
  {
   "cell_type": "code",
   "execution_count": 127,
   "metadata": {},
   "outputs": [
    {
     "name": "stdout",
     "output_type": "stream",
     "text": [
      "f2([3.06804779e-05 3.91176093e-05]) = 2.4714790816465446e-09\n"
     ]
    }
   ],
   "source": [
    "x0 = np.array([4.0, 5.1])\n",
    "xm = gradient_descend(f2, x0, 0.01, 1e-6, 10000) # ~ @2s\n",
    "print(f'f2({xm}) = {f2(xm)}')"
   ]
  },
  {
   "cell_type": "code",
   "execution_count": 128,
   "metadata": {},
   "outputs": [
    {
     "name": "stdout",
     "output_type": "stream",
     "text": [
      "f3([1.21262636 1.47124292 2.1662293 ]) = 0.26762081745762245\n"
     ]
    }
   ],
   "source": [
    "x0 = np.array([4.0, 5.1, 4.4])\n",
    "xm = gradient_descend(f3, x0, 0.0001, 1e-6, 50000) # ~ @35s\n",
    "print(f'f3({xm}) = {f3(xm)}')"
   ]
  },
  {
   "cell_type": "code",
   "execution_count": null,
   "metadata": {},
   "outputs": [],
   "source": []
  },
  {
   "cell_type": "markdown",
   "metadata": {},
   "source": [
    "## Linear regression\n",
    "\n",
    "Cas simple: **Donat un conjunt de punts (X, Y) 2D, podem trobar la recta que minimitza la distància entre aquesta i tots els punts?**\n",
    "\n",
    "Recordatori: \n",
    "\n",
    "Per tal de definir una recta necesitem dos punts $(x_0, y_0)$ i $(x_1, y_1)$. A partir d'aquests dos punts podem definir la recta com:\n",
    "\n",
    "$$y={\\frac {y_{1}-y_{0}}{x_{1}-x_{0}}} (x-x_{0}) +y_{0} = m \\cdot x + n$$"
   ]
  },
  {
   "cell_type": "code",
   "execution_count": 129,
   "metadata": {},
   "outputs": [
    {
     "data": {
      "text/html": [
       "<div>\n",
       "<style scoped>\n",
       "    .dataframe tbody tr th:only-of-type {\n",
       "        vertical-align: middle;\n",
       "    }\n",
       "\n",
       "    .dataframe tbody tr th {\n",
       "        vertical-align: top;\n",
       "    }\n",
       "\n",
       "    .dataframe thead th {\n",
       "        text-align: right;\n",
       "    }\n",
       "</style>\n",
       "<table border=\"1\" class=\"dataframe\">\n",
       "  <thead>\n",
       "    <tr style=\"text-align: right;\">\n",
       "      <th></th>\n",
       "      <th>X</th>\n",
       "      <th>Y</th>\n",
       "    </tr>\n",
       "  </thead>\n",
       "  <tbody>\n",
       "    <tr>\n",
       "      <th>0</th>\n",
       "      <td>6.2</td>\n",
       "      <td>29</td>\n",
       "    </tr>\n",
       "    <tr>\n",
       "      <th>1</th>\n",
       "      <td>9.5</td>\n",
       "      <td>44</td>\n",
       "    </tr>\n",
       "    <tr>\n",
       "      <th>2</th>\n",
       "      <td>10.5</td>\n",
       "      <td>36</td>\n",
       "    </tr>\n",
       "    <tr>\n",
       "      <th>3</th>\n",
       "      <td>7.7</td>\n",
       "      <td>37</td>\n",
       "    </tr>\n",
       "    <tr>\n",
       "      <th>4</th>\n",
       "      <td>8.6</td>\n",
       "      <td>53</td>\n",
       "    </tr>\n",
       "  </tbody>\n",
       "</table>\n",
       "</div>"
      ],
      "text/plain": [
       "      X   Y\n",
       "0   6.2  29\n",
       "1   9.5  44\n",
       "2  10.5  36\n",
       "3   7.7  37\n",
       "4   8.6  53"
      ]
     },
     "metadata": {},
     "output_type": "display_data"
    },
    {
     "data": {
      "image/png": "[encoded data removed]",
      "text/plain": [
       "<Figure size 720x720 with 1 Axes>"
      ]
     },
     "metadata": {
      "needs_background": "light"
     },
     "output_type": "display_data"
    }
   ],
   "source": [
    "# Lectura de les dades\n",
    "df = pd.read_csv('data/slr05.csv', index_col=0)\n",
    "display(df.head())\n",
    "\n",
    "# Visualització de les dades\n",
    "plt.figure(figsize = (10, 10))\n",
    "plt.scatter(df['X'], df['Y'])\n",
    "plt.xlabel('Fires per 1000 housing units')\n",
    "plt.ylabel('Thefts per 1000 population')\n",
    "plt.title('Fire and Theft in Chicago')\n",
    "\n",
    "# Possibles linies\n",
    "# Parametres plt.plot: (x0, x1), (y0, y1)\n",
    "plt.plot((0, 40), (0, 140), color='#ff0000')\n",
    "plt.plot((0, 40), (0, 120), color='#ff0000')\n",
    "plt.plot((0, 40), (10, 110), color='#ff0000')\n",
    "plt.plot((0, 40), (20, 70), color='#ff0000')\n",
    "\n",
    "plt.show()"
   ]
  },
  {
   "cell_type": "markdown",
   "metadata": {},
   "source": [
    "Per ara, donat que estem a 2D, podem visualitzar l'error, és a dir la distància respecte aquesta línia. Però tot i així és impossible que poguem visualitzar, d'entre les infinites línies possibles, la que s'ajusta millor a les dades.\n",
    "\n",
    "**Necessitem un algorisme que la trobi automàticament,** però primer visualitzem l'error de cadascuna de les anteriors rectes:"
   ]
  },
  {
   "cell_type": "code",
   "execution_count": 130,
   "metadata": {},
   "outputs": [
    {
     "data": {
      "image/png": "[encoded data removed]",
      "text/plain": [
       "<Figure size 432x288 with 1 Axes>"
      ]
     },
     "metadata": {
      "needs_background": "light"
     },
     "output_type": "display_data"
    },
    {
     "data": {
      "image/png": "[encoded data removed]",
      "text/plain": [
       "<Figure size 432x288 with 1 Axes>"
      ]
     },
     "metadata": {
      "needs_background": "light"
     },
     "output_type": "display_data"
    },
    {
     "data": {
      "image/png": "[encoded data removed]",
      "text/plain": [
       "<Figure size 432x288 with 1 Axes>"
      ]
     },
     "metadata": {
      "needs_background": "light"
     },
     "output_type": "display_data"
    },
    {
     "data": {
      "image/png": "[encoded data removed]",
      "text/plain": [
       "<Figure size 432x288 with 1 Axes>"
      ]
     },
     "metadata": {
      "needs_background": "light"
     },
     "output_type": "display_data"
    }
   ],
   "source": [
    "for x1, y1, y0 in ((40, 140, 0), (40, 120, 0), (40, 110, 10), (40, 70, 20)):\n",
    "    \n",
    "    plt.figure()\n",
    "    # Visualització de les dades\n",
    "    plt.scatter(df['X'], df['Y'])\n",
    "    plt.xlabel('Fires per 1000 housing units')\n",
    "    plt.ylabel('Thefts per 1000 population')\n",
    "    plt.title(f'Fire and Theft in Chicago, y = {y0} + x * {(y1 - y0) / x1:.2f}')\n",
    "\n",
    "    # Visualització de la recta\n",
    "    plt.plot((0, x1), (y0, y1), color='#ff0000')\n",
    "\n",
    "    # Definció de la recta\n",
    "    f = lambda x: (y1 - y0) / x1 * x + y0\n",
    "\n",
    "    # Visualització de l'error per cada punt\n",
    "    for _, (x, y) in df.iterrows():\n",
    "        y_pred = f(x)\n",
    "        plt.plot((x, x), (y, y_pred), color='b', alpha=0.2)"
   ]
  },
  {
   "cell_type": "code",
   "execution_count": null,
   "metadata": {},
   "outputs": [],
   "source": []
  },
  {
   "cell_type": "markdown",
   "metadata": {},
   "source": [
    "**Com definim un model que automàticament trobi aquesta línia?**\n",
    "\n",
    "Primer de tot, assumim que nosaltres tenim unes dades de les quals dispossem els valors de $x$ i els corresponents valors de $y$. Per exemple, les dades anteriors.\n",
    "\n",
    "1. Necessitem definir matemàticament una recta\n",
    "$$ r: \\hat{y} = m \\cdot x + n $$\n",
    "On $x$ és un punt que volem evaluar, $\\hat{y}$ és la imatge obtinguda en el punt $x$, i $m$, $n$ són els paràmetres que defineixen la recta. Idealment, voldríem trobar aquelles $m$, $n$ que, per tot punt $x$ tinguéssim una $\\hat{y}$ tal que $\\hat{y}=y$.\n",
    "\n",
    "2. Hem de mesurar l'error que estem cometent cada cop que provem una $m$, $n$ diferents (al que anomenarem *loss* del model). Per exemple, podríem definir l'error com a la distància entre el punt $y$ que hauria de ser i el $\\hat{y}$ que ens dona el model:\n",
    "$$\\mathbb{L} = \\sqrt{(y - \\hat{y})^2}$$\n",
    "\n",
    "3. Ara el que volem fer és trobar els valors de $m$, $n$ tal que $\\mathbb{L}=0$. Si parem atenció a la funció definida per $\\mathbb{L}$, veurem que efectivament $0$ és el mínim d'aquesta. Per tant, tot el que hem de fer és minimitzar la funció definida per\n",
    "$$\\mathbb{L} = \\sqrt{(y - (m \\cdot x + n))^2}$$\n",
    "\n",
    "Per simplificar una mica el problema, unirem les variables que volem optimitzar $m,n$ en una de sola: $w$. Per fer-ho, expandirem la fòrmula anterior a:\n",
    "$$\\tilde{x} = (1, x), w = (n, m)$$\n",
    "\n",
    "$$\\mathbb{L} = \\sqrt{(y - \\tilde{x} \\cdot w)^2}$$\n",
    "\n",
    "On $\\tilde{x}$ és un vector format per un $1$ i a continuació el valor de $x$ original. De forma que $\\tilde{x} \\cdot w = (1, x) \\cdot (n, m) = n + x\\cdot m = m\\cdot x + n$ (producte escalar)."
   ]
  },
  {
   "cell_type": "code",
   "execution_count": 131,
   "metadata": {},
   "outputs": [],
   "source": [
    "def add_bias(X):\n",
    "    \"\"\"\n",
    "    Funció que donada el vector x crea el vector x', afegint una columna d'1's al davant.\n",
    "    Per exemple, si X és\n",
    "        [\n",
    "            [1, 2, 5, 1, 5, 7],\n",
    "            [9, 4, 2, 4, 6, 1],\n",
    "            ...\n",
    "            [5, 3, 1, 4, 5, 7]\n",
    "        ]\n",
    "    El retorn de la funció serà la matriu\n",
    "        [\n",
    "            [1, 1, 2, 5, 1, 5, 7],\n",
    "            [1, 9, 4, 2, 4, 6, 1],\n",
    "            ...\n",
    "            [1, 5, 3, 1, 4, 5, 7]\n",
    "        ]\n",
    "    \n",
    "    *Sense bucles*\n",
    "    \n",
    "    :param X: Matriu on cada fila és una dada i cada columna una característica\n",
    "    :return: Mateixa matriu amb una columna de 1s davant\n",
    "    \"\"\"\n",
    "    # Insereix valors al llarg de l'eix donat abans dels índexs donats.\n",
    "    X = np.insert(X, 0, 1, axis = 1) # insereix 0s davant de l'index 1 original, és a dir una columna de 0s davant de l'index 1\n",
    "    return X\n",
    "\n",
    "\n",
    "def linear_regression(x, w):\n",
    "    \"\"\"\n",
    "    Donat un punt i els parameters del model prediu el valor, implementant el càlcul de\n",
    "    la regressió linial:\n",
    "            y' = w0 * x0 + w1 * x1 + ... + xp * wp\n",
    "            \n",
    "    *Sense bucles*\n",
    "    \n",
    "    :param x: Matriu de dades i features, on la primera columna son 1s, té per shape [NDades, NFeatures]\n",
    "    :param w: Matriu de paràmetres, té per shape [1, NFeatures]\n",
    "    :return: Vector de tamany [NDades] amb la predicció y' per a cada punt\n",
    "    \"\"\"\n",
    "    return np.sum(x * w, axis=1)\n",
    "\n",
    "def loss(y_true, y_pred):\n",
    "    \"\"\"\n",
    "    Funció que calcula la diferència entre la solució real i la predita mitjançant\n",
    "    distància euclidea\n",
    "        ||y_true - y_pred||\n",
    "        \n",
    "    :param y_true: Valor real de la Y\n",
    "    :param y_pred: Valor predit y' per a cada corresponent y\n",
    "    :return: Error de la predicció\n",
    "    \"\"\"\n",
    "    return np.linalg.norm(y_true-y_pred)\n",
    "\n",
    "def model(w, x, y):\n",
    "    \"\"\"\n",
    "    Funció que genera el model que volem optimizar, calculant l'error d'una\n",
    "    predicció amb els pàrametres i valors passats\n",
    "    \n",
    "    :param w: Paràmetres del model\n",
    "    :param x: Dades del model\n",
    "    :param y: Valors a predir\n",
    "    :return: Error (loss) de les preddiccions\n",
    "    \"\"\"\n",
    "    return loss(y, linear_regression(x, w))"
   ]
  },
  {
   "cell_type": "markdown",
   "metadata": {},
   "source": [
    "Generem les dades que utilitzarem per entrenar el model (*X_fire*) i les seves etiquetes (*Y_fire*)."
   ]
  },
  {
   "cell_type": "code",
   "execution_count": 132,
   "metadata": {},
   "outputs": [],
   "source": [
    "X_fire = df['X'].values[:, np.newaxis]\n",
    "X_fire = add_bias(X_fire)\n",
    "\n",
    "Y_fire = df['Y'].values\n",
    "# X_fire"
   ]
  },
  {
   "cell_type": "markdown",
   "metadata": {},
   "source": [
    "Per optimizar el model, necesitem initcialitzar els seus pesos amb valors random."
   ]
  },
  {
   "cell_type": "code",
   "execution_count": 133,
   "metadata": {},
   "outputs": [
    {
     "name": "stdout",
     "output_type": "stream",
     "text": [
      "[[15.31448581  1.39811333]]\n"
     ]
    }
   ],
   "source": [
    "# Parametres per defecte del model\n",
    "w0 = np.random.normal(size=(1, X_fire.shape[1]))\n",
    "w0\n",
    "# Optimització del model\n",
    "wf_fire = gradient_descend(lambda w: model(w, X_fire, Y_fire),w0, 0.001, max_iter=20000, print_iters=1000) # ~ @5s\n",
    "print(wf_fire)"
   ]
  },
  {
   "cell_type": "code",
   "execution_count": 134,
   "metadata": {},
   "outputs": [
    {
     "data": {
      "text/plain": [
       "(1, 2)"
      ]
     },
     "execution_count": 134,
     "metadata": {},
     "output_type": "execute_result"
    }
   ],
   "source": [
    "wf_fire.shape"
   ]
  },
  {
   "cell_type": "code",
   "execution_count": null,
   "metadata": {},
   "outputs": [],
   "source": []
  },
  {
   "cell_type": "markdown",
   "metadata": {},
   "source": [
    "Visualització de la recta obtinguda amb el model i els errors de les seves prediccions."
   ]
  },
  {
   "cell_type": "code",
   "execution_count": 135,
   "metadata": {
    "tags": []
   },
   "outputs": [
    {
     "name": "stdout",
     "output_type": "stream",
     "text": [
      "Mean error: 13.02\n"
     ]
    },
    {
     "name": "stderr",
     "output_type": "stream",
     "text": [
      "C:\\Users\\witek\\anaconda3\\lib\\site-packages\\numpy\\core\\_asarray.py:171: VisibleDeprecationWarning: Creating an ndarray from ragged nested sequences (which is a list-or-tuple of lists-or-tuples-or ndarrays with different lengths or shapes) is deprecated. If you meant to do this, you must specify 'dtype=object' when creating the ndarray.\n",
      "  return array(a, dtype, copy=False, order=order, subok=True)\n"
     ]
    },
    {
     "data": {
      "image/png": "[encoded data removed]",
      "text/plain": [
       "<Figure size 432x288 with 1 Axes>"
      ]
     },
     "metadata": {
      "needs_background": "light"
     },
     "output_type": "display_data"
    }
   ],
   "source": [
    "plt.figure()\n",
    "# Visualització de les dades\n",
    "plt.scatter(df['X'], df['Y'])\n",
    "plt.xlabel('fires per 1000 housing units')\n",
    "plt.ylabel('thefts per 1000 population')\n",
    "plt.title('Fire and Theft in Chicago')\n",
    "\n",
    "# Visualització de la recta\n",
    "# Parametres plt.plot: (x0, x1), (y0, y1)\n",
    "plt.plot((0, 40), (wf_fire[0, 0], linear_regression((1, 40), wf_fire)), color='#ff0000')\n",
    "\n",
    "# Visualització de l'error a cada punt\n",
    "for _, (x, y) in df.iterrows():\n",
    "    y_pred = linear_regression((1, x), wf_fire)\n",
    "    plt.plot((x, x), (y, y_pred), color='b', alpha=0.2)\n",
    "\n",
    "y_fire_pred = linear_regression(X_fire, wf_fire)\n",
    "print('Mean error: {:.2f}'.format(np.mean(np.abs(Y_fire - y_fire_pred))))"
   ]
  },
  {
   "cell_type": "code",
   "execution_count": null,
   "metadata": {},
   "outputs": [],
   "source": []
  },
  {
   "cell_type": "markdown",
   "metadata": {},
   "source": [
    "## Linear regression amb polinomis\n",
    "\n",
    "Imagineu que la nostra variable $x$ ara l'elevèssim a més potències:\n",
    "$x, x^2, x^3, ...$\n",
    "\n",
    "La fòrmula de linear regression quedaria:\n",
    "\n",
    "$$ r: \\hat{y} = m_1 \\cdot x + m_2 \\cdot x^2 + m_3 \\cdot x^3 + ... + n $$\n",
    "\n",
    "Fixeu-vos que llavors estem aprenent un polinomi per modelar la \"recta\" de predicció.\n",
    "\n",
    "Com un polinomi de grau $k$ inclou tots els possibles polinomis de grau $k-1$, els resultats només poden millorar. Provem-ho:"
   ]
  },
  {
   "cell_type": "code",
   "execution_count": 136,
   "metadata": {},
   "outputs": [],
   "source": [
    "# Definim una funció per normalitzar per columnes (Obtenim una distribució Normal)\n",
    "normalize = lambda x: (x - np.mean(x)) / np.std(x)"
   ]
  },
  {
   "cell_type": "code",
   "execution_count": 137,
   "metadata": {},
   "outputs": [
    {
     "name": "stdout",
     "output_type": "stream",
     "text": [
      "[[-0.67974522]\n",
      " [-0.33426415]\n",
      " [-0.22957292]\n",
      " [-0.52270837]\n",
      " [-0.42848626]\n",
      " [ 2.24114019]\n",
      " [-0.1772273 ]\n",
      " [-0.60646136]\n",
      " [-0.56458487]\n",
      " [ 0.25200675]\n",
      " [ 1.71768402]\n",
      " [-1.09851016]\n",
      " [-0.73209084]\n",
      " [-1.1194484 ]\n",
      " [-1.06710279]\n",
      " [-0.91006594]\n",
      " [-0.76349821]\n",
      " [-1.09851016]\n",
      " [-0.57505399]\n",
      " [ 0.25200675]\n",
      " [ 0.39857448]\n",
      " [ 0.59748782]\n",
      " [ 2.46099178]\n",
      " [ 2.8274111 ]\n",
      " [ 0.60795695]\n",
      " [ 1.11047487]\n",
      " [-0.05159782]\n",
      " [-0.74255996]\n",
      " [ 0.95343802]\n",
      " [ 0.93249977]\n",
      " [-0.38660977]\n",
      " [-0.95194243]\n",
      " [-0.8053747 ]\n",
      " [ 1.66533841]\n",
      " [ 0.49279659]\n",
      " [-0.14581993]\n",
      " [-0.97288068]\n",
      " [-0.08300519]\n",
      " [-0.22957292]\n",
      " [-0.20863467]\n",
      " [-0.19816555]\n",
      " [-0.82631295]]\n",
      "(42, 2)\n",
      "[[33.58552245 12.51881472]]\n",
      "Mean error 1: 12.94\n",
      "\n",
      "[[-0.4414934  -0.32881343]\n",
      " [-0.42995978 -0.1477356 ]\n",
      " [-0.42646474 -0.07783487]\n",
      " [-0.43625085 -0.25594192]\n",
      " [-0.43310531 -0.20466974]\n",
      " [-0.34398189  3.60090052]\n",
      " [-0.42471723 -0.04026323]\n",
      " [-0.43904687 -0.29676395]\n",
      " [-0.43764886 -0.27691214]\n",
      " [-0.41038758  0.3337406 ]\n",
      " [-0.36145707  2.49646905]\n",
      " [-0.45547355 -0.44624665]\n",
      " [-0.44324092 -0.3496089 ]\n",
      " [-0.45617255 -0.44918248]\n",
      " [-0.45442503 -0.44131865]\n",
      " [-0.44918248 -0.40724204]\n",
      " [-0.44428943 -0.36124737]\n",
      " [-0.45547355 -0.44624665]\n",
      " [-0.43799836 -0.28197994]\n",
      " [-0.41038758  0.3337406 ]\n",
      " [-0.40549453  0.488361  ]\n",
      " [-0.39885396  0.72011686]\n",
      " [-0.33664231  4.11687273]\n",
      " [-0.32440968  5.04532912]\n",
      " [-0.39850445  0.73301354]\n",
      " [-0.38172828  1.43425763]\n",
      " [-0.42052318  0.05703858]\n",
      " [-0.44359042 -0.35355829]\n",
      " [-0.38697083  1.19781842]\n",
      " [-0.38766984  1.16748151]\n",
      " [-0.4317073  -0.18006469]\n",
      " [-0.45058049 -0.41786695]\n",
      " [-0.44568744 -0.37578672]\n",
      " [-0.36320459  2.39563726]\n",
      " [-0.40234899  0.59499456]\n",
      " [-0.42366871 -0.01688144]\n",
      " [-0.4512795  -0.42276001]\n",
      " [-0.42157169  0.03176946]\n",
      " [-0.42646474 -0.07783487]\n",
      " [-0.42576574 -0.06301592]\n",
      " [-0.42541623 -0.05550159]\n",
      " [-0.44638645 -0.38263699]]\n",
      "(42, 3)\n",
      "[[ 24.87884217 -10.11221623  10.81183952]]\n",
      "Mean error 2: 13.28\n",
      "\n",
      "[[-0.27221084 -0.26834949 -0.24440913]\n",
      " [-0.2718156  -0.26214427 -0.17026659]\n",
      " [-0.27169583 -0.25974889 -0.13430599]\n",
      " [-0.27203118 -0.26585231 -0.21827497]\n",
      " [-0.27192339 -0.2640953  -0.19677371]\n",
      " [-0.26886929 -0.13368499  4.47609961]\n",
      " [-0.27163595 -0.25846137 -0.11354107]\n",
      " [-0.272127   -0.26725121 -0.23360826]\n",
      " [-0.27207909 -0.26657092 -0.22636129]\n",
      " [-0.2711449  -0.24564491  0.13940488]\n",
      " [-0.26946813 -0.17153194  2.67841109]\n",
      " [-0.27268991 -0.27237372 -0.27167811]\n",
      " [-0.27227072 -0.26906211 -0.25077305]\n",
      " [-0.27271387 -0.27247433 -0.27199525]\n",
      " [-0.27265398 -0.27220485 -0.27108202]\n",
      " [-0.27247433 -0.2710371  -0.2652882 ]\n",
      " [-0.27230665 -0.26946095 -0.25409412]\n",
      " [-0.27268991 -0.27237372 -0.27167811]\n",
      " [-0.27209107 -0.26674459 -0.22824992]\n",
      " [-0.2711449  -0.24564491  0.13940488]\n",
      " [-0.27097722 -0.24034634  0.26506324]\n",
      " [-0.27074966 -0.23240446  0.47314713]\n",
      " [-0.26861777 -0.11600351  5.4086327 ]\n",
      " [-0.26819858 -0.08418692  7.22107614]\n",
      " [-0.27073768 -0.23196252  0.48537804]\n",
      " [-0.27016279 -0.20793209  1.24204315]\n",
      " [-0.27149222 -0.25512701 -0.05547138]\n",
      " [-0.2722827  -0.26919745 -0.25192008]\n",
      " [-0.27034244 -0.21603446  0.96787967]\n",
      " [-0.2703664  -0.21707405  0.93404066]\n",
      " [-0.27187549 -0.26325213 -0.18564191]\n",
      " [-0.27252224 -0.2714012  -0.26736547]\n",
      " [-0.27235456 -0.26995918 -0.2579823 ]\n",
      " [-0.26952802 -0.17498728  2.52887788]\n",
      " [-0.27086943 -0.23669219  0.35799177]\n",
      " [-0.27160002 -0.25766012 -0.10013929]\n",
      " [-0.27254619 -0.27156888 -0.26824601]\n",
      " [-0.27152816 -0.25599294 -0.07112385]\n",
      " [-0.27169583 -0.25974889 -0.13430599]\n",
      " [-0.27167188 -0.25924107 -0.12623141]\n",
      " [-0.2716599  -0.25898357 -0.12207915]\n",
      " [-0.27237851 -0.27019393 -0.25970793]]\n",
      "(42, 4)\n",
      "[[25.41781846 -7.81409182 -5.61133032  9.23890585]]\n",
      "Mean error 3: 12.89\n",
      "\n",
      "[[-1.94514353e-01 -1.94392235e-01 -1.93635102e-01 -1.88940883e-01]\n",
      " [-1.94501853e-01 -1.94195990e-01 -1.91290287e-01 -1.63686115e-01]\n",
      " [-1.94498065e-01 -1.94120234e-01 -1.90153006e-01 -1.48497109e-01]\n",
      " [-1.94508671e-01 -1.94313259e-01 -1.92808589e-01 -1.81222631e-01]\n",
      " [-1.94505262e-01 -1.94257693e-01 -1.92128595e-01 -1.73818360e-01]\n",
      " [-1.94408674e-01 -1.90133366e-01 -4.43453803e-02  4.92702493e+00]\n",
      " [-1.94496171e-01 -1.94079515e-01 -1.89496299e-01 -1.39080920e-01]\n",
      " [-1.94511701e-01 -1.94357501e-01 -1.93293516e-01 -1.85952025e-01]\n",
      " [-1.94510186e-01 -1.94335986e-01 -1.93064325e-01 -1.83781202e-01]\n",
      " [-1.94480641e-01 -1.93674185e-01 -1.81496689e-01  2.38349881e-03]\n",
      " [-1.94427612e-01 -1.91330305e-01 -1.01198663e-01  2.52163211e+00]\n",
      " [-1.94529504e-01 -1.94519504e-01 -1.94497505e-01 -1.94449106e-01]\n",
      " [-1.94516247e-01 -1.94414772e-01 -1.93836366e-01 -1.90539454e-01]\n",
      " [-1.94530261e-01 -1.94522686e-01 -1.94507535e-01 -1.94477232e-01]\n",
      " [-1.94528367e-01 -1.94514163e-01 -1.94478653e-01 -1.94389877e-01]\n",
      " [-1.94522686e-01 -1.94477232e-01 -1.94295419e-01 -1.93568165e-01]\n",
      " [-1.94517383e-01 -1.94427385e-01 -1.93941398e-01 -1.91317065e-01]\n",
      " [-1.94529504e-01 -1.94519504e-01 -1.94497505e-01 -1.94449106e-01]\n",
      " [-1.94510565e-01 -1.94341478e-01 -1.93124055e-01 -1.84358606e-01]\n",
      " [-1.94480641e-01 -1.93674185e-01 -1.81496689e-01  2.38349881e-03]\n",
      " [-1.94475339e-01 -1.93506613e-01 -1.77522646e-01  8.62128068e-02]\n",
      " [-1.94468142e-01 -1.93255445e-01 -1.70941833e-01  2.39628628e-01]\n",
      " [-1.94400719e-01 -1.89574176e-01 -1.48533039e-02  6.31004226e+00]\n",
      " [-1.94387462e-01 -1.88567951e-01  4.24666151e-02  9.21453891e+00]\n",
      " [-1.94467763e-01 -1.93241469e-01 -1.70555021e-01  2.49144252e-01]\n",
      " [-1.94449582e-01 -1.92481488e-01 -1.46624905e-01  9.21833476e-01]\n",
      " [-1.94491626e-01 -1.93974063e-01 -1.87659800e-01 -1.10625792e-01]\n",
      " [-1.94516625e-01 -1.94419052e-01 -1.93872642e-01 -1.90812744e-01]\n",
      " [-1.94455263e-01 -1.92737731e-01 -1.55295536e-01  6.60944325e-01]\n",
      " [-1.94456021e-01 -1.92770609e-01 -1.56365721e-01  6.29979873e-01]\n",
      " [-1.94503747e-01 -1.94231027e-01 -1.91776544e-01 -1.69686199e-01]\n",
      " [-1.94524201e-01 -1.94488747e-01 -1.94361114e-01 -1.93901635e-01]\n",
      " [-1.94518898e-01 -1.94443142e-01 -1.94064364e-01 -1.92170473e-01]\n",
      " [-1.94429506e-01 -1.91439583e-01 -1.05927766e-01  2.33971019e+00]\n",
      " [-1.94471930e-01 -1.93391048e-01 -1.74583710e-01  1.52663970e-01]\n",
      " [-1.94495035e-01 -1.94054175e-01 -1.89072458e-01 -1.32779050e-01]\n",
      " [-1.94524958e-01 -1.94494050e-01 -1.94388962e-01 -1.94031662e-01]\n",
      " [-1.94492762e-01 -1.94001449e-01 -1.88154822e-01 -1.18579958e-01]\n",
      " [-1.94498065e-01 -1.94120234e-01 -1.90153006e-01 -1.48497109e-01]\n",
      " [-1.94497308e-01 -1.94104174e-01 -1.89897641e-01 -1.44887741e-01]\n",
      " [-1.94496929e-01 -1.94096030e-01 -1.89766322e-01 -1.43005480e-01]\n",
      " [-1.94519656e-01 -1.94450566e-01 -1.94118939e-01 -1.92527125e-01]]\n",
      "(42, 5)\n",
      "[[25.78185502 -7.7342561  -3.55083864 -5.87696801  8.40148403]]\n",
      "Mean error 4: 12.44\n",
      "\n",
      "[[-1.52819373e-01 -1.52815709e-01 -1.52792991e-01 -1.52652142e-01\n",
      "  -1.51778875e-01]\n",
      " [-1.52818998e-01 -1.52809821e-01 -1.52722635e-01 -1.51894375e-01\n",
      "  -1.44025907e-01]\n",
      " [-1.52818884e-01 -1.52807548e-01 -1.52688511e-01 -1.51438631e-01\n",
      "  -1.38314890e-01]\n",
      " [-1.52819203e-01 -1.52813339e-01 -1.52768192e-01 -1.52420557e-01\n",
      "  -1.49743765e-01]\n",
      " [-1.52819100e-01 -1.52811672e-01 -1.52747789e-01 -1.52198392e-01\n",
      "  -1.47473583e-01]\n",
      " [-1.52816202e-01 -1.52687922e-01 -1.48313571e-01  8.51793246e-04\n",
      "   5.08739072e+00]\n",
      " [-1.52818827e-01 -1.52806326e-01 -1.52668807e-01 -1.51156100e-01\n",
      "  -1.34516319e-01]\n",
      " [-1.52819293e-01 -1.52814667e-01 -1.52782742e-01 -1.52562461e-01\n",
      "  -1.51042526e-01]\n",
      " [-1.52819248e-01 -1.52814021e-01 -1.52775865e-01 -1.52497326e-01\n",
      "  -1.50463992e-01]\n",
      " [-1.52818362e-01 -1.52794164e-01 -1.52428780e-01 -1.46911477e-01\n",
      "  -6.36002050e-02]\n",
      " [-1.52816770e-01 -1.52723836e-01 -1.50019447e-01 -7.13217272e-02\n",
      "   2.21878192e+00]\n",
      " [-1.52819828e-01 -1.52819528e-01 -1.52818867e-01 -1.52817415e-01\n",
      "  -1.52814220e-01]\n",
      " [-1.52819430e-01 -1.52816385e-01 -1.52799030e-01 -1.52700107e-01\n",
      "  -1.52136243e-01]\n",
      " [-1.52819850e-01 -1.52819623e-01 -1.52819168e-01 -1.52818259e-01\n",
      "  -1.52816441e-01]\n",
      " [-1.52819794e-01 -1.52819367e-01 -1.52818302e-01 -1.52815638e-01\n",
      "  -1.52808979e-01]\n",
      " [-1.52819623e-01 -1.52818259e-01 -1.52812804e-01 -1.52790983e-01\n",
      "  -1.52703698e-01]\n",
      " [-1.52819464e-01 -1.52816764e-01 -1.52802182e-01 -1.52723439e-01\n",
      "  -1.52298228e-01]\n",
      " [-1.52819828e-01 -1.52819528e-01 -1.52818867e-01 -1.52817415e-01\n",
      "  -1.52814220e-01]\n",
      " [-1.52819259e-01 -1.52814186e-01 -1.52777657e-01 -1.52514651e-01\n",
      "  -1.50621006e-01]\n",
      " [-1.52818362e-01 -1.52794164e-01 -1.52428780e-01 -1.46911477e-01\n",
      "  -6.36002050e-02]\n",
      " [-1.52818202e-01 -1.52789136e-01 -1.52309539e-01 -1.44396189e-01\n",
      "  -1.38259079e-02]\n",
      " [-1.52817986e-01 -1.52781600e-01 -1.52112082e-01 -1.39792965e-01\n",
      "   8.68787874e-02]\n",
      " [-1.52815963e-01 -1.52671144e-01 -1.47428665e-01  4.23490607e-02\n",
      "   6.91230273e+00]\n",
      " [-1.52815566e-01 -1.52640952e-01 -1.45708788e-01  1.29498131e-01\n",
      "   1.10552128e+01]\n",
      " [-1.52817975e-01 -1.52781180e-01 -1.52100476e-01 -1.39507450e-01\n",
      "   9.34635289e-02]\n",
      " [-1.52817430e-01 -1.52758377e-01 -1.51382456e-01 -1.19323492e-01\n",
      "   6.27650378e-01]\n",
      " [-1.52818691e-01 -1.52803162e-01 -1.52613703e-01 -1.50302307e-01\n",
      "  -1.22103274e-01]\n",
      " [-1.52819441e-01 -1.52816514e-01 -1.52800119e-01 -1.52708307e-01\n",
      "  -1.52194160e-01]\n",
      " [-1.52817600e-01 -1.52766066e-01 -1.51642617e-01 -1.27151439e-01\n",
      "   4.06756246e-01]\n",
      " [-1.52817623e-01 -1.52767052e-01 -1.51674728e-01 -1.28080524e-01\n",
      "   3.81554290e-01]\n",
      " [-1.52819055e-01 -1.52810872e-01 -1.52737225e-01 -1.52074407e-01\n",
      "  -1.46109044e-01]\n",
      " [-1.52819669e-01 -1.52818605e-01 -1.52814775e-01 -1.52800989e-01\n",
      "  -1.52751357e-01]\n",
      " [-1.52819509e-01 -1.52817236e-01 -1.52805871e-01 -1.52749045e-01\n",
      "  -1.52464915e-01]\n",
      " [-1.52816827e-01 -1.52727115e-01 -1.50161343e-01 -7.67802725e-02\n",
      "   2.02191835e+00]\n",
      " [-1.52818100e-01 -1.52785668e-01 -1.52221357e-01 -1.42402329e-01\n",
      "   2.84487409e-02]\n",
      " [-1.52818793e-01 -1.52805565e-01 -1.52656090e-01 -1.50967013e-01\n",
      "  -1.31880444e-01]\n",
      " [-1.52819691e-01 -1.52818764e-01 -1.52815611e-01 -1.52804890e-01\n",
      "  -1.52768439e-01]\n",
      " [-1.52818725e-01 -1.52803983e-01 -1.52628556e-01 -1.50540971e-01\n",
      "  -1.25698705e-01]\n",
      " [-1.52818884e-01 -1.52807548e-01 -1.52688511e-01 -1.51438631e-01\n",
      "  -1.38314890e-01]\n",
      " [-1.52818862e-01 -1.52807066e-01 -1.52680849e-01 -1.51330333e-01\n",
      "  -1.36879805e-01]\n",
      " [-1.52818850e-01 -1.52806821e-01 -1.52676909e-01 -1.51273856e-01\n",
      "  -1.36120879e-01]\n",
      " [-1.52819532e-01 -1.52817459e-01 -1.52807509e-01 -1.52759746e-01\n",
      "  -1.52530488e-01]]\n",
      "(42, 6)\n"
     ]
    },
    {
     "name": "stdout",
     "output_type": "stream",
     "text": [
      "[[26.48117828 -5.99480808 -4.59104702 -3.7438975  -3.38948369  7.73461257]]\n",
      "Mean error 5: 11.94\n",
      "\n"
     ]
    }
   ],
   "source": [
    "for i in range(1, 5 + 1):\n",
    "    def preprocess(x):\n",
    "        # Calcularem totes les potències fins a i, i les ajuntarem totes en la dimensió 1\n",
    "        x = np.concatenate([x ** j for j in range(1, i + 1)], axis = 1)\n",
    "        \n",
    "        # Normalitzeu les dades! Sense no entrenarem bé (proveu-ho).\n",
    "        x = normalize(x)\n",
    "        \n",
    "        return x\n",
    "    \n",
    "    X_fire = df['X'].values[:, np.newaxis]\n",
    "    X_fire = preprocess(X_fire)\n",
    "    print(X_fire)\n",
    "    X_fire = add_bias(X_fire)\n",
    "    Y_fire = df['Y'].values\n",
    "    \n",
    "    print(X_fire.shape)\n",
    "    \n",
    "    # Parametres per defecte del model\n",
    "    w0 = np.random.normal(size=(1, X_fire.shape[1]))\n",
    "\n",
    "    # Optimització del model\n",
    "    wf_fire = gradient_descend(lambda w: model(w, X_fire, Y_fire), \n",
    "                               w0, 0.001, \n",
    "                               max_iter=20000, print_iters=1000) # ~ @5s\n",
    "    print(wf_fire)\n",
    "    \n",
    "    y_fire_pred = linear_regression(X_fire, wf_fire)\n",
    "    error = np.mean(np.abs(Y_fire - y_fire_pred))\n",
    "    print(f'Mean error {i}: {error:.2f}\\n')"
   ]
  },
  {
   "cell_type": "markdown",
   "metadata": {},
   "source": [
    "Hem transformat un mètode simplement lineal en un polinomi, només afegint noves columnes amb transformacions de les dades.\n",
    "\n",
    "D'això se'n diu fer **feature engineering**: fem modificacions \"intel·ligents\" sobre les columnes del dataset per permetre'ns obtenir models més potents. \n",
    "\n",
    "Aquí ens hem limitat a fer potències de x, però podriem fer exponencials, logaritmes, talls binaris (x > 25 -> 1, x <= 25 -> 0), etc.\n",
    "\n",
    "Ara, torneu a implementar el mètode preprocess, fent que la matriu resultant tingui:\n",
    "\n",
    "* x (sense cap modificació)\n",
    "* $e^x$\n",
    "* $\\log x$ (això ho podem fer perquè en aquest dataset, x > 0 sempre)\n",
    "* $x > \\overline{x}$, on $\\overline{x}$ és la mitja de x.\n",
    "\n",
    "*No us oblideu de normalitzar!*\n",
    "\n",
    "\n",
    "**Justifica el resultat obtingut en aquest cas.**\n",
    "\n",
    "<hr />\n",
    "\n",
    "* RECORDA JUSTIFICAR LA RESPOSTA\n",
    "\n",
    "<hr />"
   ]
  },
  {
   "cell_type": "code",
   "execution_count": 138,
   "metadata": {},
   "outputs": [],
   "source": [
    "def x_function(x):\n",
    "    return x\n",
    "def ex_function(x):\n",
    "    return np.exp(x)\n",
    "def log_function(x):\n",
    "    return np.log(x)\n",
    "def mean_function(x):\n",
    "    return x > x.mean()"
   ]
  },
  {
   "cell_type": "code",
   "execution_count": 139,
   "metadata": {},
   "outputs": [
    {
     "name": "stdout",
     "output_type": "stream",
     "text": [
      "(42, 2)\n",
      "[[33.59931538 12.52016753]]\n",
      "Mean error 5: 12.94\n",
      "\n",
      "(42, 2)\n",
      "[[33.65291313 17.75353938]]\n",
      "Mean error 5: 10.44\n",
      "\n",
      "(42, 2)\n",
      "[[33.5849508 11.656898 ]]\n",
      "Mean error 5: 11.80\n",
      "\n",
      "(42, 2)\n",
      "[[33.4970855   4.55856484]]\n",
      "Mean error 5: 14.33\n",
      "\n"
     ]
    }
   ],
   "source": [
    "\n",
    "type_function = [x_function,ex_function,log_function,mean_function]\n",
    "for f in type_function:\n",
    "    def preprocess(x,f):\n",
    "        x = f(x)\n",
    "        x = normalize(x)\n",
    "        return x\n",
    "\n",
    "    X_fire = df['X'].values[:, np.newaxis]\n",
    "    X_fire = preprocess(X_fire,f)\n",
    "    X_fire = add_bias(X_fire)\n",
    "    Y_fire = df['Y'].values\n",
    "\n",
    "    print(X_fire.shape)\n",
    "\n",
    "    # Parametres per defecte del model\n",
    "    w0 = np.random.normal(size=(1, X_fire.shape[1]))\n",
    "\n",
    "    # Optimització del model\n",
    "    wf_fire = gradient_descend(lambda w: model(w, X_fire, Y_fire), \n",
    "                               w0, 0.001, \n",
    "                               max_iter=20000, print_iters=1000) # ~ @5s\n",
    "    print(wf_fire)\n",
    "\n",
    "    y_fire_pred = linear_regression(X_fire, wf_fire)\n",
    "    error = np.mean(np.abs(Y_fire - y_fire_pred))\n",
    "    print(f'Mean error {i}: {error:.2f}')\n",
    "    \n",
    "    print()"
   ]
  },
  {
   "cell_type": "code",
   "execution_count": null,
   "metadata": {},
   "outputs": [],
   "source": []
  },
  {
   "cell_type": "markdown",
   "metadata": {},
   "source": [
    "## Dades multidimensionals sobre les dades\n",
    "\n",
    "En l'apartat anterior tenim un sol valor de $x$ pel qual volíem obtenir un valor de $y$, però en la gran majoria de casos no serà així.\n",
    "\n",
    "En aquest apartat volem trobar una regressió lineal tal que $dim(X) = 6$, i per tant necessitem un total de 7 paràmetres ($dim(w) = 7$)"
   ]
  },
  {
   "cell_type": "code",
   "execution_count": 140,
   "metadata": {},
   "outputs": [
    {
     "data": {
      "text/html": [
       "<div>\n",
       "<style scoped>\n",
       "    .dataframe tbody tr th:only-of-type {\n",
       "        vertical-align: middle;\n",
       "    }\n",
       "\n",
       "    .dataframe tbody tr th {\n",
       "        vertical-align: top;\n",
       "    }\n",
       "\n",
       "    .dataframe thead th {\n",
       "        text-align: right;\n",
       "    }\n",
       "</style>\n",
       "<table border=\"1\" class=\"dataframe\">\n",
       "  <thead>\n",
       "    <tr style=\"text-align: right;\">\n",
       "      <th></th>\n",
       "      <th>Total population (in thousands)</th>\n",
       "      <th>% Change in population</th>\n",
       "      <th>% Change in children</th>\n",
       "      <th>% Free school lunch</th>\n",
       "      <th>% change in household income</th>\n",
       "      <th>Crime rate</th>\n",
       "      <th>% change in crime rate</th>\n",
       "    </tr>\n",
       "  </thead>\n",
       "  <tbody>\n",
       "    <tr>\n",
       "      <th>0</th>\n",
       "      <td>6.9</td>\n",
       "      <td>1.8</td>\n",
       "      <td>30.2</td>\n",
       "      <td>58.3</td>\n",
       "      <td>27.3</td>\n",
       "      <td>84.9</td>\n",
       "      <td>-14.2</td>\n",
       "    </tr>\n",
       "    <tr>\n",
       "      <th>1</th>\n",
       "      <td>8.4</td>\n",
       "      <td>28.5</td>\n",
       "      <td>38.8</td>\n",
       "      <td>87.5</td>\n",
       "      <td>39.8</td>\n",
       "      <td>172.6</td>\n",
       "      <td>-34.1</td>\n",
       "    </tr>\n",
       "    <tr>\n",
       "      <th>2</th>\n",
       "      <td>5.7</td>\n",
       "      <td>7.8</td>\n",
       "      <td>31.7</td>\n",
       "      <td>83.5</td>\n",
       "      <td>26.0</td>\n",
       "      <td>154.2</td>\n",
       "      <td>-15.8</td>\n",
       "    </tr>\n",
       "    <tr>\n",
       "      <th>3</th>\n",
       "      <td>7.4</td>\n",
       "      <td>2.3</td>\n",
       "      <td>24.2</td>\n",
       "      <td>14.2</td>\n",
       "      <td>29.4</td>\n",
       "      <td>35.2</td>\n",
       "      <td>-13.9</td>\n",
       "    </tr>\n",
       "    <tr>\n",
       "      <th>4</th>\n",
       "      <td>8.5</td>\n",
       "      <td>-0.7</td>\n",
       "      <td>28.1</td>\n",
       "      <td>46.7</td>\n",
       "      <td>26.6</td>\n",
       "      <td>69.2</td>\n",
       "      <td>-13.9</td>\n",
       "    </tr>\n",
       "  </tbody>\n",
       "</table>\n",
       "</div>"
      ],
      "text/plain": [
       "   Total population (in thousands)  % Change in population  \\\n",
       "0                              6.9                     1.8   \n",
       "1                              8.4                    28.5   \n",
       "2                              5.7                     7.8   \n",
       "3                              7.4                     2.3   \n",
       "4                              8.5                    -0.7   \n",
       "\n",
       "   % Change in children  % Free school lunch  % change in household income  \\\n",
       "0                  30.2                 58.3                          27.3   \n",
       "1                  38.8                 87.5                          39.8   \n",
       "2                  31.7                 83.5                          26.0   \n",
       "3                  24.2                 14.2                          29.4   \n",
       "4                  28.1                 46.7                          26.6   \n",
       "\n",
       "   Crime rate  % change in crime rate  \n",
       "0        84.9                   -14.2  \n",
       "1       172.6                   -34.1  \n",
       "2       154.2                   -15.8  \n",
       "3        35.2                   -13.9  \n",
       "4        69.2                   -13.9  "
      ]
     },
     "metadata": {},
     "output_type": "display_data"
    }
   ],
   "source": [
    "# Lectura de les dades\n",
    "dg = pd.read_csv('data/mlr10.csv', index_col=0)\n",
    "Y_pop = dg.values[:, 0]\n",
    "X_pop = dg.values[:, 1:]\n",
    "X_pop = add_bias(X_pop)\n",
    "display(dg.head())"
   ]
  },
  {
   "cell_type": "code",
   "execution_count": 141,
   "metadata": {},
   "outputs": [
    {
     "name": "stdout",
     "output_type": "stream",
     "text": [
      "[[-0.00172545 -0.00640565  0.21768182  0.14676036  0.22003285  0.48332316\n",
      "  -0.12338787]]\n"
     ]
    }
   ],
   "source": [
    "# Parametres per defecte del model\n",
    "w0 = np.random.normal(size=(1, X_pop.shape[1]))\n",
    "\n",
    "# Optimització del model\n",
    "wf_population = gradient_descend(lambda w: model(w, X_pop, Y_pop), w0, 0.001, max_iter=100000, print_iters=1000) # ~ @20s\n",
    "print(wf_population)"
   ]
  },
  {
   "cell_type": "code",
   "execution_count": 142,
   "metadata": {},
   "outputs": [],
   "source": [
    "# Utilitzant els paràmetres apresos, obtenim la predicció per a cada punt\n",
    "y_pop_pred = linear_regression(X_pop, wf_population)"
   ]
  },
  {
   "cell_type": "code",
   "execution_count": 143,
   "metadata": {},
   "outputs": [
    {
     "name": "stdout",
     "output_type": "stream",
     "text": [
      "Mean error: 66.53\n"
     ]
    },
    {
     "data": {
      "image/png": "[encoded data removed]",
      "text/plain": [
       "<Figure size 1440x216 with 1 Axes>"
      ]
     },
     "metadata": {
      "needs_background": "light"
     },
     "output_type": "display_data"
    }
   ],
   "source": [
    "# Visualització de les dades originals i les prediccions\n",
    "plt.figure(figsize=(20, 3))\n",
    "plt.scatter(range(Y_pop.shape[0]), Y_pop, color='green', label = 'y')\n",
    "plt.scatter(range(Y_pop.shape[0]), y_pop_pred, color='red', label = 'y_pred')\n",
    "plt.xlabel('Samples')\n",
    "plt.ylabel('Total population')\n",
    "plt.legend()\n",
    "\n",
    "for x in range(X_pop.shape[0]):\n",
    "    plt.plot((x, x), (0, 20), '-.', color='gray', alpha=0.2)\n",
    "\n",
    "print('Mean error: {:.2f}'.format(np.mean(np.abs(Y_pop - y_pop_pred))))"
   ]
  },
  {
   "cell_type": "code",
   "execution_count": null,
   "metadata": {},
   "outputs": [],
   "source": []
  },
  {
   "cell_type": "markdown",
   "metadata": {},
   "source": [
    "**Feu feature engineering** vosaltres mateixos i intenteu aconseguir que la vostra loss sigui **inferior a 0.5**.\n",
    "\n",
    "Podeu canviar els valors d'entrenament (canviar el nombre d'epochs, o el learning rate lr), <br />\n",
    "tot i que els valors establerts (```n_epochs=10000, lr=1e-3```) ja us poden donar el resultat esperat.\n",
    "\n",
    "Idees:\n",
    "\n",
    "* Feu servir les potències de cada columna de x.\n",
    "* Penseu si ajuda o no normalitzar abans de fer cap modificació.\n",
    "* Proveu a afegir algunes funcions diferents (log, exp, binarització...).\n",
    "* Combinacions.\n",
    "\n",
    "\n",
    "**Combinacions**:\n",
    "\n",
    "Tenim 6 columnes d'input. Les tres primeres millores utilitzen transformacions que només aprofiten cada columna per separat ($X_1^3$, $X_2^3$, etc.)\n",
    "\n",
    "Però què passa si \"barregem\" columnes, fent que el model pugui aprofitar les interaccions entre elles?\n",
    "\n",
    "Per exemple, podriem afegir les columnes $X_1 \\cdot X_2, X_1 \\cdot X_3, ..., X_5 \\cdot X_6$.\n",
    "\n",
    "Això serien les combinacions de 2 elements. I de 6 elements?\n",
    "\n",
    "$X_1 \\cdot X_2 \\cdot X_3 \\cdot X_4 \\cdot X_5 \\cdot X_6$.\n",
    "\n",
    "**Veieu si ajuda, i com, aquest afegit. Comenteu els resultats obtinguts.**\n",
    "\n",
    "<hr />\n",
    "\n",
    "* RECORDA JUSTIFICAR LA RESPOSTA\n",
    "\n",
    "<hr />\n"
   ]
  },
  {
   "cell_type": "code",
   "execution_count": 144,
   "metadata": {},
   "outputs": [],
   "source": [
    "from itertools import combinations"
   ]
  },
  {
   "cell_type": "code",
   "execution_count": 145,
   "metadata": {},
   "outputs": [
    {
     "name": "stdout",
     "output_type": "stream",
     "text": [
      "(44, 70)\n",
      "(1, 70)\n",
      "Mean error: 2.36\n"
     ]
    }
   ],
   "source": [
    "def multiplicador(x):\n",
    "    b = x[0]\n",
    "    for j in range(1,len(x)):\n",
    "        b = b * x[j]\n",
    "    return b\n",
    "\n",
    "def preprocess(x):\n",
    "    llista = x.T\n",
    "    for i in range(1,len(llista)+1):\n",
    "        comb = list(combinations(llista, i))\n",
    "        for combination in comb:\n",
    "            producte = multiplicador(combination)\n",
    "            producte = normalize(producte)\n",
    "            x = np.c_[x,producte]\n",
    "    x = normalize(x)\n",
    "    return x\n",
    "\n",
    "\n",
    "X_pop = dg.values[:, 1:]\n",
    "X_pop = preprocess(X_pop)\n",
    "X_pop = add_bias(X_pop)\n",
    "Y_pop = dg.values[:, 0]\n",
    "\n",
    "print(X_pop.shape)\n",
    "\n",
    "# Parametres per defecte del model\n",
    "w0 = np.random.normal(size=(1, X_pop.shape[1]))\n",
    "\n",
    "# Optimització del model\n",
    "wf_pop = gradient_descend(lambda w: model(w, X_pop, Y_pop), \n",
    "                           w0, 0.001, \n",
    "                           max_iter=20000, print_iters=1000) # ~ @5s\n",
    "print(wf_pop.shape)\n",
    "\n",
    "y_pop_pred = linear_regression(X_pop, wf_pop)\n",
    "error = np.mean(np.abs(Y_pop - y_pop_pred))\n",
    "print(f'Mean error: {error:.2f}')"
   ]
  },
  {
   "cell_type": "code",
   "execution_count": null,
   "metadata": {},
   "outputs": [],
   "source": []
  },
  {
   "cell_type": "markdown",
   "metadata": {},
   "source": [
    "## Airbnb: dades reals (a baixa escala)\n",
    "\n",
    "**Airbnb Dataset**\n",
    "\n",
    "Les dades amb les que treballarem en aquesta pràctica són dades reals recopilades per *Airbnb*. \n",
    "Aquestes analitzen la informació disponible sobre els llistats d’Airbnb d’una ciutat, proporcionant filtres i mètriques clau perquè pugueu veure com Airbnb s’utilitza per competir amb el mercat d’habitatges residencials.\n",
    "\n",
    "Amb aquestes dades podrieu fer preguntes fonamentals sobre Airbnb a qualsevol barri o a tota la ciutat. Preguntes com:\n",
    "\n",
    "- \"Quants fitxes hi ha al meu barri i on són?\"\n",
    "- \"Quantes cases i apartaments es lloguen amb freqüència a turistes i no a residents a llarg termini?\"\n",
    "- \"Quant costen els hostes des del lloguer als turistes (compareu-ho amb els lloguers a llarg termini)?\"\n",
    "- \"Quins amfitrions tenen una empresa amb diversos llistats i on?\"\n",
    "\n",
    "Les dades inclou dades com:\n",
    "- Quantitat de nits que es lloga una vivenda a l'any.\n",
    "- Estades mínimes.\n",
    "- Quantes habitacions es lloguen en un edifici.\n",
    "- Nombre d’ocupats permesos en un lloguer.\n",
    "\n",
    "En el nostre cas, **volem predir el preu de la vivenda utilitzant les dades numèriques.**"
   ]
  },
  {
   "cell_type": "code",
   "execution_count": 146,
   "metadata": {},
   "outputs": [],
   "source": [
    "df_airbnb = pd.read_csv('data/clean_scraping.csv', index_col = 'Unnamed: 0')"
   ]
  },
  {
   "cell_type": "code",
   "execution_count": 147,
   "metadata": {},
   "outputs": [
    {
     "data": {
      "text/html": [
       "<div>\n",
       "<style scoped>\n",
       "    .dataframe tbody tr th:only-of-type {\n",
       "        vertical-align: middle;\n",
       "    }\n",
       "\n",
       "    .dataframe tbody tr th {\n",
       "        vertical-align: top;\n",
       "    }\n",
       "\n",
       "    .dataframe thead th {\n",
       "        text-align: right;\n",
       "    }\n",
       "</style>\n",
       "<table border=\"1\" class=\"dataframe\">\n",
       "  <thead>\n",
       "    <tr style=\"text-align: right;\">\n",
       "      <th></th>\n",
       "      <th>id</th>\n",
       "      <th>name</th>\n",
       "      <th>host_id</th>\n",
       "      <th>host_name</th>\n",
       "      <th>neighbourhood_group</th>\n",
       "      <th>neighbourhood</th>\n",
       "      <th>latitude</th>\n",
       "      <th>longitude</th>\n",
       "      <th>room_type</th>\n",
       "      <th>price</th>\n",
       "      <th>minimum_nights</th>\n",
       "      <th>number_of_reviews</th>\n",
       "      <th>last_review</th>\n",
       "      <th>reviews_per_month</th>\n",
       "      <th>calculated_host_listings_count</th>\n",
       "      <th>availability_365</th>\n",
       "    </tr>\n",
       "  </thead>\n",
       "  <tbody>\n",
       "    <tr>\n",
       "      <th>0</th>\n",
       "      <td>18666</td>\n",
       "      <td>Flat with Sunny Terrace</td>\n",
       "      <td>71615</td>\n",
       "      <td>Mireia And Maria</td>\n",
       "      <td>Sant Martí</td>\n",
       "      <td>el Camp de l'Arpa del Clot</td>\n",
       "      <td>41.408886</td>\n",
       "      <td>2.185545</td>\n",
       "      <td>Entire home/apt</td>\n",
       "      <td>130</td>\n",
       "      <td>3</td>\n",
       "      <td>1</td>\n",
       "      <td>2015-10-10</td>\n",
       "      <td>0.03</td>\n",
       "      <td>29</td>\n",
       "      <td>61</td>\n",
       "    </tr>\n",
       "    <tr>\n",
       "      <th>1</th>\n",
       "      <td>18674</td>\n",
       "      <td>Huge flat for 8 people close to Sagrada Familia</td>\n",
       "      <td>71615</td>\n",
       "      <td>Mireia And Maria</td>\n",
       "      <td>Eixample</td>\n",
       "      <td>la Sagrada Família</td>\n",
       "      <td>41.404197</td>\n",
       "      <td>2.173058</td>\n",
       "      <td>Entire home/apt</td>\n",
       "      <td>110</td>\n",
       "      <td>1</td>\n",
       "      <td>4</td>\n",
       "      <td>2016-06-20</td>\n",
       "      <td>0.07</td>\n",
       "      <td>29</td>\n",
       "      <td>148</td>\n",
       "    </tr>\n",
       "    <tr>\n",
       "      <th>2</th>\n",
       "      <td>19157</td>\n",
       "      <td>Great Place in Sagrada Familia, Bcn</td>\n",
       "      <td>73099</td>\n",
       "      <td>Urania</td>\n",
       "      <td>Eixample</td>\n",
       "      <td>la Sagrada Família</td>\n",
       "      <td>41.407929</td>\n",
       "      <td>2.174540</td>\n",
       "      <td>Private room</td>\n",
       "      <td>30</td>\n",
       "      <td>2</td>\n",
       "      <td>160</td>\n",
       "      <td>2018-05-18</td>\n",
       "      <td>1.68</td>\n",
       "      <td>2</td>\n",
       "      <td>69</td>\n",
       "    </tr>\n",
       "    <tr>\n",
       "      <th>3</th>\n",
       "      <td>20345</td>\n",
       "      <td>2 Double rooms for 4 persons, WI-FI</td>\n",
       "      <td>76809</td>\n",
       "      <td>Mila</td>\n",
       "      <td>Nou Barris</td>\n",
       "      <td>Vilapicina i la Torre Llobeta</td>\n",
       "      <td>41.429497</td>\n",
       "      <td>2.181558</td>\n",
       "      <td>Private room</td>\n",
       "      <td>25</td>\n",
       "      <td>2</td>\n",
       "      <td>71</td>\n",
       "      <td>2018-05-03</td>\n",
       "      <td>0.73</td>\n",
       "      <td>1</td>\n",
       "      <td>335</td>\n",
       "    </tr>\n",
       "    <tr>\n",
       "      <th>4</th>\n",
       "      <td>21974</td>\n",
       "      <td>Comf. double room/private bathroom</td>\n",
       "      <td>73163</td>\n",
       "      <td>Andres</td>\n",
       "      <td>Ciutat Vella</td>\n",
       "      <td>el Barri Gòtic</td>\n",
       "      <td>41.380768</td>\n",
       "      <td>2.175510</td>\n",
       "      <td>Private room</td>\n",
       "      <td>60</td>\n",
       "      <td>3</td>\n",
       "      <td>2</td>\n",
       "      <td>2017-11-06</td>\n",
       "      <td>0.15</td>\n",
       "      <td>2</td>\n",
       "      <td>0</td>\n",
       "    </tr>\n",
       "  </tbody>\n",
       "</table>\n",
       "</div>"
      ],
      "text/plain": [
       "      id                                             name  host_id  \\\n",
       "0  18666                          Flat with Sunny Terrace    71615   \n",
       "1  18674  Huge flat for 8 people close to Sagrada Familia    71615   \n",
       "2  19157              Great Place in Sagrada Familia, Bcn    73099   \n",
       "3  20345              2 Double rooms for 4 persons, WI-FI    76809   \n",
       "4  21974               Comf. double room/private bathroom    73163   \n",
       "\n",
       "          host_name neighbourhood_group                  neighbourhood  \\\n",
       "0  Mireia And Maria          Sant Martí     el Camp de l'Arpa del Clot   \n",
       "1  Mireia And Maria            Eixample             la Sagrada Família   \n",
       "2            Urania            Eixample             la Sagrada Família   \n",
       "3              Mila          Nou Barris  Vilapicina i la Torre Llobeta   \n",
       "4            Andres        Ciutat Vella                 el Barri Gòtic   \n",
       "\n",
       "    latitude  longitude        room_type  price  minimum_nights  \\\n",
       "0  41.408886   2.185545  Entire home/apt    130               3   \n",
       "1  41.404197   2.173058  Entire home/apt    110               1   \n",
       "2  41.407929   2.174540     Private room     30               2   \n",
       "3  41.429497   2.181558     Private room     25               2   \n",
       "4  41.380768   2.175510     Private room     60               3   \n",
       "\n",
       "   number_of_reviews last_review  reviews_per_month  \\\n",
       "0                  1  2015-10-10               0.03   \n",
       "1                  4  2016-06-20               0.07   \n",
       "2                160  2018-05-18               1.68   \n",
       "3                 71  2018-05-03               0.73   \n",
       "4                  2  2017-11-06               0.15   \n",
       "\n",
       "   calculated_host_listings_count  availability_365  \n",
       "0                              29                61  \n",
       "1                              29               148  \n",
       "2                               2                69  \n",
       "3                               1               335  \n",
       "4                               2                 0  "
      ]
     },
     "metadata": {},
     "output_type": "display_data"
    }
   ],
   "source": [
    "display(df_airbnb.head())"
   ]
  },
  {
   "cell_type": "code",
   "execution_count": 148,
   "metadata": {},
   "outputs": [
    {
     "data": {
      "text/plain": [
       "(23626, 16)"
      ]
     },
     "execution_count": 148,
     "metadata": {},
     "output_type": "execute_result"
    }
   ],
   "source": [
    "df_airbnb.shape"
   ]
  },
  {
   "cell_type": "code",
   "execution_count": 149,
   "metadata": {},
   "outputs": [
    {
     "data": {
      "text/plain": [
       "Index(['id', 'name', 'host_id', 'host_name', 'neighbourhood_group',\n",
       "       'neighbourhood', 'latitude', 'longitude', 'room_type', 'price',\n",
       "       'minimum_nights', 'number_of_reviews', 'last_review',\n",
       "       'reviews_per_month', 'calculated_host_listings_count',\n",
       "       'availability_365'],\n",
       "      dtype='object')"
      ]
     },
     "execution_count": 149,
     "metadata": {},
     "output_type": "execute_result"
    }
   ],
   "source": [
    "df_airbnb.columns"
   ]
  },
  {
   "cell_type": "markdown",
   "metadata": {},
   "source": [
    "A la variable *y_true* guardarem la variable que volem predir amb el nostre model lineal."
   ]
  },
  {
   "cell_type": "code",
   "execution_count": 150,
   "metadata": {},
   "outputs": [],
   "source": [
    "y_true = df_airbnb.price"
   ]
  },
  {
   "cell_type": "markdown",
   "metadata": {},
   "source": [
    "Definim ara quina és la informació que utilitzarem per fer la predicció.\n",
    "\n",
    "Com hem vist abans, algunes variables no són numèriques, per tant cal fer una conversió de la informació."
   ]
  },
  {
   "cell_type": "code",
   "execution_count": 151,
   "metadata": {},
   "outputs": [],
   "source": [
    "X = df_airbnb[['neighbourhood_group', 'neighbourhood', 'latitude', 'longitude', 'room_type', 'minimum_nights', 'number_of_reviews',\n",
    "       'reviews_per_month', 'calculated_host_listings_count', 'availability_365']]"
   ]
  },
  {
   "cell_type": "code",
   "execution_count": 152,
   "metadata": {},
   "outputs": [],
   "source": [
    "cleanup_columns = { 'neighbourhood_group': { name: idx for idx, name in enumerate(X.neighbourhood_group.unique())},\n",
    "                    'neighbourhood': { name: idx for idx, name in enumerate(X.neighbourhood.unique())},\n",
    "                    'room_type': { name: idx for idx, name in enumerate(X.room_type.unique())},\n",
    "                  }"
   ]
  },
  {
   "cell_type": "code",
   "execution_count": 153,
   "metadata": {},
   "outputs": [],
   "source": [
    "X = X.replace(cleanup_columns).values"
   ]
  },
  {
   "cell_type": "markdown",
   "metadata": {},
   "source": [
    "No ens oblidem de normalitzar les dades abans de passar-les a LinearRegression!"
   ]
  },
  {
   "cell_type": "code",
   "execution_count": 154,
   "metadata": {},
   "outputs": [],
   "source": [
    "X = (X - X.mean(0)) / X.std(0)"
   ]
  },
  {
   "cell_type": "markdown",
   "metadata": {},
   "source": [
    "Un cop netejades les dades, separarem un conjunt de les dades. "
   ]
  },
  {
   "cell_type": "markdown",
   "metadata": {},
   "source": [
    "### Partició de dades\n",
    "\n",
    "En l'aprenentatge automàtic, una tasca habitual és l'estudi i la construcció d'algorismes que poden aprendre i fer prediccions sobre dades. Aquests algoritmes funcionen fent prediccions o decisions basades en dades, mitjançant la creació d'un model matemàtic a partir de dades d'entrada.\n",
    "\n",
    "Les dades que s’utilitzen per construir el model final normalment provenen de múltiples conjunts de dades. En particular, dos conjunts de dades s’utilitzen habitualment en diferents etapes de la creació del model: dades d'entrenament (train) i de prova (test).\n",
    "\n",
    "El model s’adapta inicialment a un conjunt de dades d’entrenament, que és un conjunt d’exemples que s’utilitzen per ajustar els paràmetres (per exemple, pesos del model de regressió linal) del model. \n",
    "El model es forma en el **conjunt de dades d’entrenament** que sovint consisteix en parells d’un vector d’entrada (o escalar) i el vector de sortida corresponent (o escalar), que es denomina habitualment com a objectiu (o etiqueta). El model actual s'executa amb el conjunt de dades d'entrenament i produeix un resultat, que es compara després amb l'objectiu, per a cada vector d'entrada del conjunt de dades d'entrenament. A partir del resultat de la comparació i de l'algorisme d'aprenentatge específic que s'utilitza, s'ajusten els paràmetres del model. L'adaptació del model pot incloure selecció de variables i estimació de paràmetres.\n",
    "\n",
    "El **conjunt de dades de prova** és un conjunt de dades utilitzat per proporcionar una avaluació imparcial d’un model. Si les dades de prova no s’han utilitzat mai durant l'entrenament, el resultats representa el comportament esperat del model.\n",
    "\n",
    "A continuació heu d'implementar la funció *split* que crea aquesta partició de dades."
   ]
  },
  {
   "cell_type": "code",
   "execution_count": 155,
   "metadata": {},
   "outputs": [],
   "source": [
    "def split(X, Y, train_percent, random_seed=None):\n",
    "    \"\"\"\n",
    "    Divideix el conjunt de dades en dos subconjunts aleatoris diferents, sense\n",
    "    intersecció.\n",
    "    La divisió es fa conjuntament en X i Y, és a dir, donat una dada x de X,\n",
    "    la seva corresponent y en Y es troba en el mateix conjunt\n",
    "    X = [[1, 2, 3], [2, 3, 1], ..., [1, 4, 5]]\n",
    "    Y = [1, 2, ..., 5]\n",
    "    \n",
    "    Train: X = [[1, 2, 3], [1, 4, 5]]; Y = [1, 5]\n",
    "    Test:  X = [[2, 3, 1]]; Y = [2]\n",
    "    \n",
    "    :param X: Dades del model\n",
    "    :param Y: Corresponents valors a predir\n",
    "    :param train_percent: Percentatge entre 0 i 1, indicant el nombre\n",
    "        d'elements que contindrà el conjunt de train\n",
    "    :param random_seed: En cas de que sigui necessari (no és obligatori fer-ho servir), \n",
    "        per fixar el comporament de random\n",
    "    :return: Una llista/tupla que contingui, en aquest ordre, \n",
    "        * Conjunt train X [NDadesTrain, NFeatures]\n",
    "        * Conjunt test X [NDadesTest, NFeatures]\n",
    "        * Conjunt train Y [NDadesTrain]\n",
    "        * Conjunt test Y [NDadesTest]\n",
    "    \"\"\"\n",
    "    # AQUÍ EL TEU CODI\n",
    "    num = int(train_percent*len(X))\n",
    "    index = [i for i in range(len(Y))]\n",
    "    shuffleIndex = np.array(index) \n",
    "    np.random.shuffle(shuffleIndex)\n",
    "    index = list(shuffleIndex)\n",
    "    trainX = X[index[:num]]\n",
    "\n",
    "    testX = X[index[num:]]\n",
    "    \n",
    "    trainY = Y[index[:num]]\n",
    "    testY = Y[index[num:]]\n",
    "\n",
    "    return (trainX, testX, trainY, testY)"
   ]
  },
  {
   "cell_type": "markdown",
   "metadata": {},
   "source": [
    "Abans de generar els conjunts d'entrenament i prova cal generar els vectors que representen cada entrada de les dades."
   ]
  },
  {
   "cell_type": "code",
   "execution_count": 156,
   "metadata": {},
   "outputs": [],
   "source": [
    "# Valors amb els que predirem el preu de la vivenda\n",
    "X = add_bias(X)\n",
    "\n",
    "# Valors reals de la vivenda\n",
    "Y = df_airbnb['price'].values\n",
    "\n",
    "# Partim en train i test\n",
    "X_train, X_test, Y_train, Y_test = split(X, Y, train_percent=0.80)"
   ]
  },
  {
   "cell_type": "code",
   "execution_count": 157,
   "metadata": {},
   "outputs": [],
   "source": [
    "# Parametres per defecte del model\n",
    "w0 = np.random.normal(size=(1, X.shape[1]))\n",
    "\n",
    "# Optimització del model sobre train\n",
    "wf = gradient_descend(lambda w: model(w, X_train, Y_train), w0, 0.01, max_iter=5000, print_iters=100) # ~ @2min\n",
    "\n",
    "# Realitzem la predicció sobre test\n",
    "y_pred = linear_regression(X_test, wf)\n",
    "y_pred = np.maximum(np.min(Y), y_pred)"
   ]
  },
  {
   "cell_type": "code",
   "execution_count": null,
   "metadata": {},
   "outputs": [],
   "source": []
  },
  {
   "cell_type": "code",
   "execution_count": 158,
   "metadata": {},
   "outputs": [
    {
     "name": "stdout",
     "output_type": "stream",
     "text": [
      "Mean error: 56.41\n"
     ]
    },
    {
     "data": {
      "image/png": "[encoded data removed]",
      "text/plain": [
       "<Figure size 1440x216 with 1 Axes>"
      ]
     },
     "metadata": {
      "needs_background": "light"
     },
     "output_type": "display_data"
    }
   ],
   "source": [
    "# Mostrem únicament 100 dades en el gràfic\n",
    "size = 100\n",
    "sample = np.random.choice(X_test.shape[0], size=size, replace=False)\n",
    "\n",
    "# Mínima i màxima Y a mostrar en el gràfic\n",
    "miny = np.minimum(y_pred[sample].min(), Y_test[sample].min()) - 10\n",
    "maxy = np.maximum(y_pred[sample].max(), Y_test[sample].max()) + 1e3\n",
    "\n",
    "# Visualització de les dades originals i les prediccions\n",
    "plt.figure(figsize=(20, 3))\n",
    "plt.scatter(range(size), Y_test[sample], color='green', label = 'price')\n",
    "plt.scatter(range(size), y_pred[sample], color='red', label = 'pred_price')\n",
    "plt.xlabel('100 random samples')\n",
    "plt.ylabel('Total population (log scale)')\n",
    "plt.yscale('symlog')\n",
    "plt.ylim([miny, maxy])\n",
    "plt.grid(axis='y', which='minor', alpha=0.2)\n",
    "plt.grid(axis='y', which='major', alpha=0.3)\n",
    "plt.legend()\n",
    "\n",
    "for x in range(size):\n",
    "    plt.plot((x, x), (miny, maxy), '-.', color='gray', alpha=0.2)\n",
    "\n",
    "print('Mean error: {:.2f}'.format(np.mean(np.abs(Y_test - y_pred))))"
   ]
  },
  {
   "cell_type": "markdown",
   "metadata": {},
   "source": [
    "## Impacte de les dimensions del vector de característiques sobre una regressió lineal\n",
    "\n",
    "**Explorem com l'ús de més o menys informació impacta sobre el model.**\n",
    "\n",
    "**És possible obtenir un millor model amb menys dades?**\n",
    "\n",
    "<hr />\n",
    "\n",
    "* RECORDA JUSTIFICAR LA RESPOSTA\n",
    "\n",
    "<hr />"
   ]
  },
  {
   "cell_type": "markdown",
   "metadata": {},
   "source": [
    ">> A continuació farem tests amb altres dades més simples per veure de forma més directe l'impacte que té les dimensions del vector de característiques sobre la regressió lineal, on la variable ordre simularà la dimensió del vector de característiques, **on Xi representa un feature**:"
   ]
  },
  {
   "cell_type": "code",
   "execution_count": 159,
   "metadata": {},
   "outputs": [
    {
     "data": {
      "image/png": "[encoded data removed]",
      "text/plain": [
       "<Figure size 432x288 with 1 Axes>"
      ]
     },
     "metadata": {
      "needs_background": "light"
     },
     "output_type": "display_data"
    }
   ],
   "source": [
    "#x_train = np.array([[6],[8],[10],[14],[18]])\n",
    "#y_train = np.array([[7],[9],[13],[17.5],[18]])\n",
    "x_train = np.array([6,8,10,14,18])\n",
    "y_train = np.array([7,9,13,17.5,18])\n",
    "\n",
    "order = 1\n",
    "\n",
    "x = np.linspace(0,20,20)\n",
    "f = np.polyfit(x_train,y_train,order)\n",
    "p = np.poly1d(f)\n",
    "\n",
    "plt.xlabel('Diametre de pizza')\n",
    "plt.ylabel('Preu del pizza')\n",
    "plt.title('Regressió')\n",
    "plt.plot(x_train,y_train,'ro',x,p(x),'-')\n",
    "plt.show()"
   ]
  },
  {
   "cell_type": "markdown",
   "metadata": {},
   "source": [
    ">> Suposem que el vector x_train conté les dades dels diferetns diàmtres de pizzes, i y_train el preu correpsonent segons el diàmetre del pizza. I amb el model intentarem predir el preu de pizza.  \n",
    "Amb ordre = 1, obtenim la gràfica següent: podem veure que el model és massa senzill de forma que no s'ajusta molt bé a les dades, és a dir, es produeix un underfitting."
   ]
  },
  {
   "cell_type": "code",
   "execution_count": 160,
   "metadata": {},
   "outputs": [
    {
     "data": {
      "image/png": "[encoded data removed]",
      "text/plain": [
       "<Figure size 432x288 with 1 Axes>"
      ]
     },
     "metadata": {
      "needs_background": "light"
     },
     "output_type": "display_data"
    }
   ],
   "source": [
    "order = 2\n",
    "\n",
    "x = np.linspace(0,20,20)\n",
    "f = np.polyfit(x_train,y_train,order)\n",
    "p = np.poly1d(f)\n",
    "\n",
    "plt.xlabel('Diametre de pizza')\n",
    "plt.ylabel('Preu del pizza')\n",
    "plt.title('Regressió')\n",
    "plt.plot(x_train,y_train,'ro',x,p(x),'-')\n",
    "plt.show()"
   ]
  },
  {
   "cell_type": "markdown",
   "metadata": {},
   "source": [
    ">> Amb un ordre = 2, s'aproxima força bé (per les dades que disposem)."
   ]
  },
  {
   "cell_type": "code",
   "execution_count": 161,
   "metadata": {},
   "outputs": [
    {
     "name": "stderr",
     "output_type": "stream",
     "text": [
      "C:\\Users\\witek\\AppData\\Local\\Temp/ipykernel_6820/1842381493.py:4: RankWarning: Polyfit may be poorly conditioned\n",
      "  f = np.polyfit(x_train,y_train,order)\n"
     ]
    },
    {
     "data": {
      "image/png": "[encoded data removed]",
      "text/plain": [
       "<Figure size 432x288 with 1 Axes>"
      ]
     },
     "metadata": {
      "needs_background": "light"
     },
     "output_type": "display_data"
    }
   ],
   "source": [
    "order = 8\n",
    "\n",
    "x = np.linspace(0,20,20)\n",
    "f = np.polyfit(x_train,y_train,order)\n",
    "p = np.poly1d(f)\n",
    "\n",
    "plt.xlabel('Diametre de pizza')\n",
    "plt.ylabel('Preu del pizza')\n",
    "plt.title('Regressió')\n",
    "plt.plot(x_train,y_train,'ro',x,p(x),'-')\n",
    "plt.show()"
   ]
  },
  {
   "cell_type": "markdown",
   "metadata": {},
   "source": [
    ">> Amb ordre = 8, es pot veure clarament que es produeix el fenòmen d'overfitting. Podem veure que el model s'aproxima molt bé a les dades del conjunt que hem definit, però alhora veiem que per altres dades que no estan al nostre conjunt, com per exemple el 0, o 20, ens donen valors que no tenen sentit, és a dir, ens donen males aproximacions."
   ]
  },
  {
   "cell_type": "markdown",
   "metadata": {},
   "source": [
    ">> Per tant, podem dir que no sempre podem obtindre un millor model a mesura que anem augmentant la dimensió del vector de característiques, així la seva complexitat. Perquè ens pot produir l'efecte d'overfitting i perdem la capacitat de predir i fer bones aproximacions. En general, tenint en compte la capacitat de generalització del model, seleccionarem un model amb una complexitat moderada, és a dir amb una dimensió moderada."
   ]
  }
 ],
 "metadata": {
  "kernelspec": {
   "display_name": "Python 3 (ipykernel)",
   "language": "python",
   "name": "python3"
  },
  "language_info": {
   "codemirror_mode": {
    "name": "ipython",
    "version": 3
   },
   "file_extension": ".py",
   "mimetype": "text/x-python",
   "name": "python",
   "nbconvert_exporter": "python",
   "pygments_lexer": "ipython3",
   "version": "3.8.11"
  }
 },
 "nbformat": 4,
 "nbformat_minor": 4
}
