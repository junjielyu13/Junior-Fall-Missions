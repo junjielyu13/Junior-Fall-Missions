{
 "cells": [
  {
   "cell_type": "markdown",
   "metadata": {},
   "source": [
    "# **NOMS I COGNOMS:**  Manuel Liu Wang, Leying, Wang, Junjie Li\n",
    "\n",
    "## **GRUP DE LABORATORI:** A"
   ]
  },
  {
   "cell_type": "markdown",
   "metadata": {},
   "source": [
    "# Optimització - Linear regression"
   ]
  },
  {
   "cell_type": "markdown",
   "metadata": {},
   "source": [
    "En estadística, la **regressió lineal** és un enfocament lineal per modelar la relació entre una resposta escalar (o variable dependent) i una o més variables explicatives (o variables independents).\n",
    "\n",
    "En regressió lineal, les relacions es modelen mitjançant funcions lineals on els paràmetres del model s’estimen a partir de les dades. \n",
    "Aquests models s'anomenen models lineals. "
   ]
  },
  {
   "cell_type": "markdown",
   "metadata": {},
   "source": [
    "Suposem que treballem amb un conjunt de dades $ \\{y_{i}, x_{i_1}, \\ldots, x_{i_m} \\}_{i = 1}^{n}$ de $n$ unitats. \n",
    "\n",
    "Un **model de regressió lineal** assumeix que la relació entre la variable dependent $y$ i el vector $p$ dels regressors $x$ és lineal. \n",
    "Així, el model pren la forma:\n",
    "$${\\displaystyle y_{i}=\\beta _{0}+\\beta _{1}x_{i_1}+\\cdots +\\beta _{p}x_{i_p},\\qquad i=1,\\ldots ,n,}$$"
   ]
  },
  {
   "cell_type": "raw",
   "metadata": {},
   "source": [
    "#!pip install --user -U autograd\n",
    "!pip install autograd"
   ]
  },
  {
   "cell_type": "code",
   "execution_count": 1,
   "metadata": {},
   "outputs": [
    {
     "name": "stdout",
     "output_type": "stream",
     "text": [
      "Requirement already satisfied: autograd in c:\\users\\junjie_li\\anaconda3\\lib\\site-packages (1.5)\n",
      "Requirement already satisfied: future>=0.15.2 in c:\\users\\junjie_li\\anaconda3\\lib\\site-packages (from autograd) (0.18.2)\n",
      "Requirement already satisfied: numpy>=1.12 in c:\\users\\junjie_li\\anaconda3\\lib\\site-packages (from autograd) (1.21.5)\n"
     ]
    }
   ],
   "source": [
    "!pip install autograd"
   ]
  },
  {
   "cell_type": "code",
   "execution_count": 2,
   "metadata": {},
   "outputs": [],
   "source": [
    "import autograd"
   ]
  },
  {
   "cell_type": "code",
   "execution_count": 3,
   "metadata": {},
   "outputs": [],
   "source": [
    "from plot_utils import *\n",
    "\n",
    "import autograd.numpy as np\n",
    "from autograd import elementwise_grad as grad, value_and_grad\n",
    "import matplotlib.pyplot as plt\n",
    "from tqdm.notebook import tqdm\n",
    "import pandas as pd\n",
    "import random\n",
    "\n",
    "from IPython.display import display\n",
    "\n",
    "%matplotlib inline"
   ]
  },
  {
   "cell_type": "markdown",
   "metadata": {},
   "source": [
    "No es permet l'ús de cap llibreria o funció que no estigui ja importat, sigui aquí o més abaix en el notebook."
   ]
  },
  {
   "cell_type": "markdown",
   "metadata": {},
   "source": [
    "## AutoGrad\n",
    "\n",
    "En la part anterior, donada una funció havíem de definir també la funció que retorna el seu gradient.\n",
    "\n",
    "En aquesta pràctica, però, veurem que mitjançant l'ús de la llibreria **AutoGrad**, això no és necessari.\n",
    "\n",
    "Consideren les següents funcions:"
   ]
  },
  {
   "cell_type": "code",
   "execution_count": 4,
   "metadata": {},
   "outputs": [],
   "source": [
    "def f1(x):\n",
    "    return x**2\n",
    "\n",
    "def f2(x):\n",
    "    x, y = x[0], x[1]\n",
    "    return x**2 + y**2\n",
    "\n",
    "def f3(x):\n",
    "    x, y, z = x[0], x[1], x[2]\n",
    "    return (100 * (y - x**2)**2 + (1 - x)**2) + (100 * (z - y**2)**2 + (1 - y)**2)"
   ]
  },
  {
   "cell_type": "markdown",
   "metadata": {},
   "source": [
    "Donada la funció `f1`, podem fàcilment derivar el seu gradient, que és $2x$.\n",
    "\n",
    "Definim-lo manualment:"
   ]
  },
  {
   "cell_type": "code",
   "execution_count": 5,
   "metadata": {},
   "outputs": [],
   "source": [
    "def grad_f1_manual(x):\n",
    "    return 2*x"
   ]
  },
  {
   "cell_type": "markdown",
   "metadata": {},
   "source": [
    "Ara, obtinguem la funció gradient a partir d'autograd:"
   ]
  },
  {
   "cell_type": "code",
   "execution_count": 6,
   "metadata": {},
   "outputs": [],
   "source": [
    "grad_f1 = grad(f1)"
   ]
  },
  {
   "cell_type": "markdown",
   "metadata": {},
   "source": [
    "Podem comprovar que **les dues donen el mateix valor de gradient evaluat en un punt $x$**."
   ]
  },
  {
   "cell_type": "code",
   "execution_count": 7,
   "metadata": {},
   "outputs": [
    {
     "name": "stdout",
     "output_type": "stream",
     "text": [
      "Calcul manual gradient: df1'(x0) = 2046.0\n",
      "Autograd: df1'(x0) = 2046.0\n"
     ]
    }
   ],
   "source": [
    "x0 = np.asarray([1023.0])\n",
    "print('Calcul manual gradient: df1\\'(x0) = {}'.format(grad_f1_manual(x0)[0]))\n",
    "print('Autograd: df1\\'(x0) = {}'.format(grad_f1(x0)[0]))\n",
    "\n",
    "assert np.allclose(grad_f1_manual(x0), grad_f1(x0)) "
   ]
  },
  {
   "cell_type": "markdown",
   "metadata": {},
   "source": [
    "També podem utilitzar `value_and_grad` per obtenir directament amb la **imatge de la funció i el seu gradient en un punt $x$**:"
   ]
  },
  {
   "cell_type": "code",
   "execution_count": 8,
   "metadata": {},
   "outputs": [
    {
     "name": "stdout",
     "output_type": "stream",
     "text": [
      "(array([1046529.]), array([2046.]))\n"
     ]
    }
   ],
   "source": [
    "val_grad_f1 = value_and_grad(f1)\n",
    "print(val_grad_f1(x0))\n",
    "\n",
    "value, gradient = val_grad_f1(x0)\n",
    "assert np.allclose(value, f1(x0))\n",
    "assert np.allclose(gradient, grad_f1(x0))"
   ]
  },
  {
   "cell_type": "markdown",
   "metadata": {},
   "source": [
    "Inclús podem aplicar `grad` sobre un altre `grad` per obtenir la 2a derivada (o Hessià en multiples dimensions)."
   ]
  },
  {
   "cell_type": "code",
   "execution_count": 9,
   "metadata": {},
   "outputs": [],
   "source": [
    "grad_f1 = grad(f1) # df(x) = 2 * x\n",
    "grad2_f1 = grad(grad_f1) # d2f(x) = 2"
   ]
  },
  {
   "cell_type": "code",
   "execution_count": 10,
   "metadata": {},
   "outputs": [
    {
     "data": {
      "text/plain": [
       "<matplotlib.legend.Legend at 0x215bf634f40>"
      ]
     },
     "execution_count": 10,
     "metadata": {},
     "output_type": "execute_result"
    },
    {
     "data": {
      "image/png": "[encoded data removed]",
      "text/plain": [
       "<Figure size 432x288 with 1 Axes>"
      ]
     },
     "metadata": {
      "needs_background": "light"
     },
     "output_type": "display_data"
    }
   ],
   "source": [
    "x = np.linspace(-5, 5, 100)\n",
    "plt.plot(x, f1(x), label = 'f(x)')\n",
    "plt.plot(x, grad_f1(x), color='green', label = 'df(x)')\n",
    "plt.plot(x, grad2_f1(x), color='orange', label = 'd2f(x)')\n",
    "plt.legend()"
   ]
  },
  {
   "cell_type": "markdown",
   "metadata": {},
   "source": [
    "## Descens del gradient"
   ]
  },
  {
   "cell_type": "markdown",
   "metadata": {},
   "source": [
    "**El primer pas serà implementar la mateixa funció `gradient_descend` que havieu fet en la part anterior, però ara mitjançant l'ús de la llibreria `autograd` i fent-la multidimensional.**\n",
    "\n",
    "Aquesta funció hauria d'executar sense problemes, i donar el mínim, per les tres funcions `f1`, `f2` i `f3` definides més adalt, de 1, 2 i 3 dimensions respectivament. Però, també haurà de funcionar per les següents parts de la pràctica, amb 100 o més dimensions."
   ]
  },
  {
   "cell_type": "code",
   "execution_count": 11,
   "metadata": {},
   "outputs": [],
   "source": [
    "def human_format(itr):\n",
    "    index = 0\n",
    "    while abs(itr) >= 1000:\n",
    "        index += 1\n",
    "        itr /= 1000.0\n",
    "    return '%.2f%s' % (itr, ['', 'K', 'M', 'G', 'T', 'P'][index])\n",
    "def gradient_descend(f, x0, alpha, eps=1e-6, max_iter=1000, print_iters=1000):\n",
    "    \"\"\"\n",
    "    Aquesta funció implementa l'algorisme de descens pel gradient, és a dir,\n",
    "    donat un punt inicial, la funció de la que calculem el gradient i el pas, \n",
    "    intenta trobar el mínim de la funció seguint el gradient en direcció oposada.\n",
    "    \n",
    "    Pel criteri d'aturada, considerarem si ||x^{k+1} - x^k|| < eps, és a dir\n",
    "    si la norma de la diferència és més petita que eps.\n",
    "    \n",
    "    Cada print_iters cal mostrar el resultat actual en la següent forma:\n",
    "        \"{}/{:.2f}\".format(human_format(itr), float(valor_de_f_en_x))\n",
    "    \n",
    "    :param f: Funció a minimitzar\n",
    "    :param x0: Punt inicial\n",
    "    :param alpha: Pas de cada iteració\n",
    "    :param eps: Moviment mínim realitzat abans de parar\n",
    "    :param max_epochs: Iteracions màximes a realitzar\n",
    "    :param print_iters: Numero d'iteracions per printar resultats\n",
    "    :return: La funció retornarà el punt on es troba el mínim\n",
    "    \"\"\"\n",
    "\n",
    "    # AQUÍ EL TEU CODI\n",
    "    i = 0\n",
    "    val_grad_f = value_and_grad(f)\n",
    "    while i < max_iter:\n",
    "        grad_f = val_grad_f(x0)\n",
    "        if np.linalg.norm(alpha * grad_f[1]) > eps:\n",
    "            x0 = x0 - alpha * grad_f[1]\n",
    "            i += 1\n",
    "        else:\n",
    "            break\n",
    "        if (i%print_iters)==0:\n",
    "            print(\"{}/{:.2f}\".format(human_format(i), float(grad_f[0])))\n",
    "    return x0"
   ]
  },
  {
   "cell_type": "markdown",
   "metadata": {},
   "source": [
    "Busquem el mínim de cadascuna de les funcions:"
   ]
  },
  {
   "cell_type": "code",
   "execution_count": 12,
   "metadata": {},
   "outputs": [
    {
     "name": "stdout",
     "output_type": "stream",
     "text": [
      "f1([4.98237376e-05]) = [2.48240483e-09]\n"
     ]
    }
   ],
   "source": [
    "x0 = np.array([4.0])\n",
    "xm = gradient_descend(f1, x0, 0.01, 1e-6, 10000) # ~ @1s\n",
    "print(f'f1({xm}) = {f1(xm)}')"
   ]
  },
  {
   "cell_type": "code",
   "execution_count": 13,
   "metadata": {},
   "outputs": [
    {
     "name": "stdout",
     "output_type": "stream",
     "text": [
      "f2([3.06804779e-05 3.91176093e-05]) = 2.4714790816465446e-09\n"
     ]
    }
   ],
   "source": [
    "x0 = np.array([4.0, 5.1])\n",
    "xm = gradient_descend(f2, x0, 0.01, 1e-6, 10000) # ~ @2s\n",
    "print(f'f2({xm}) = {f2(xm)}')"
   ]
  },
  {
   "cell_type": "code",
   "execution_count": 14,
   "metadata": {},
   "outputs": [
    {
     "name": "stdout",
     "output_type": "stream",
     "text": [
      "1.00K/1.41\n",
      "2.00K/1.38\n",
      "3.00K/1.35\n",
      "4.00K/1.31\n",
      "5.00K/1.28\n",
      "6.00K/1.25\n",
      "7.00K/1.22\n",
      "8.00K/1.19\n",
      "9.00K/1.16\n",
      "10.00K/1.13\n",
      "11.00K/1.10\n",
      "12.00K/1.07\n",
      "13.00K/1.04\n",
      "14.00K/1.01\n",
      "15.00K/0.98\n",
      "16.00K/0.95\n",
      "17.00K/0.93\n",
      "18.00K/0.90\n",
      "19.00K/0.87\n",
      "20.00K/0.85\n",
      "21.00K/0.82\n",
      "22.00K/0.80\n",
      "23.00K/0.77\n",
      "24.00K/0.75\n",
      "25.00K/0.72\n",
      "26.00K/0.70\n",
      "27.00K/0.68\n",
      "28.00K/0.65\n",
      "29.00K/0.63\n",
      "30.00K/0.61\n",
      "31.00K/0.59\n",
      "32.00K/0.57\n",
      "33.00K/0.55\n",
      "34.00K/0.53\n",
      "35.00K/0.51\n",
      "36.00K/0.49\n",
      "37.00K/0.47\n",
      "38.00K/0.45\n",
      "39.00K/0.43\n",
      "40.00K/0.42\n",
      "41.00K/0.40\n",
      "42.00K/0.38\n",
      "43.00K/0.37\n",
      "44.00K/0.35\n",
      "45.00K/0.34\n",
      "46.00K/0.32\n",
      "47.00K/0.31\n",
      "48.00K/0.29\n",
      "49.00K/0.28\n",
      "50.00K/0.27\n",
      "f3([1.21262636 1.47124292 2.1662293 ]) = 0.26762081745762245\n"
     ]
    }
   ],
   "source": [
    "x0 = np.array([4.0, 5.1, 4.4])\n",
    "xm = gradient_descend(f3, x0, 0.0001, 1e-6, 50000) # ~ @35s\n",
    "print(f'f3({xm}) = {f3(xm)}')"
   ]
  },
  {
   "cell_type": "markdown",
   "metadata": {},
   "source": [
    "## Linear regression\n",
    "\n",
    "Cas simple: **Donat un conjunt de punts (X, Y) 2D, podem trobar la recta que minimitza la distància entre aquesta i tots els punts?**\n",
    "\n",
    "Recordatori: \n",
    "\n",
    "Per tal de definir una recta necesitem dos punts $(x_0, y_0)$ i $(x_1, y_1)$. A partir d'aquests dos punts podem definir la recta com:\n",
    "\n",
    "$$y={\\frac {y_{1}-y_{0}}{x_{1}-x_{0}}} (x-x_{0}) +y_{0} = m \\cdot x + n$$"
   ]
  },
  {
   "cell_type": "code",
   "execution_count": 15,
   "metadata": {},
   "outputs": [
    {
     "data": {
      "text/html": [
       "<div>\n",
       "<style scoped>\n",
       "    .dataframe tbody tr th:only-of-type {\n",
       "        vertical-align: middle;\n",
       "    }\n",
       "\n",
       "    .dataframe tbody tr th {\n",
       "        vertical-align: top;\n",
       "    }\n",
       "\n",
       "    .dataframe thead th {\n",
       "        text-align: right;\n",
       "    }\n",
       "</style>\n",
       "<table border=\"1\" class=\"dataframe\">\n",
       "  <thead>\n",
       "    <tr style=\"text-align: right;\">\n",
       "      <th></th>\n",
       "      <th>X</th>\n",
       "      <th>Y</th>\n",
       "    </tr>\n",
       "  </thead>\n",
       "  <tbody>\n",
       "    <tr>\n",
       "      <th>0</th>\n",
       "      <td>6.2</td>\n",
       "      <td>29</td>\n",
       "    </tr>\n",
       "    <tr>\n",
       "      <th>1</th>\n",
       "      <td>9.5</td>\n",
       "      <td>44</td>\n",
       "    </tr>\n",
       "    <tr>\n",
       "      <th>2</th>\n",
       "      <td>10.5</td>\n",
       "      <td>36</td>\n",
       "    </tr>\n",
       "    <tr>\n",
       "      <th>3</th>\n",
       "      <td>7.7</td>\n",
       "      <td>37</td>\n",
       "    </tr>\n",
       "    <tr>\n",
       "      <th>4</th>\n",
       "      <td>8.6</td>\n",
       "      <td>53</td>\n",
       "    </tr>\n",
       "  </tbody>\n",
       "</table>\n",
       "</div>"
      ],
      "text/plain": [
       "      X   Y\n",
       "0   6.2  29\n",
       "1   9.5  44\n",
       "2  10.5  36\n",
       "3   7.7  37\n",
       "4   8.6  53"
      ]
     },
     "metadata": {},
     "output_type": "display_data"
    },
    {
     "data": {
      "image/png": "[encoded data removed]",
      "text/plain": [
       "<Figure size 720x720 with 1 Axes>"
      ]
     },
     "metadata": {
      "needs_background": "light"
     },
     "output_type": "display_data"
    }
   ],
   "source": [
    "# Lectura de les dades\n",
    "df = pd.read_csv('data/slr05.csv', index_col=0)\n",
    "display(df.head())\n",
    "\n",
    "# Visualització de les dades\n",
    "plt.figure(figsize = (10, 10))\n",
    "plt.scatter(df['X'], df['Y'])\n",
    "plt.xlabel('Fires per 1000 housing units')\n",
    "plt.ylabel('Thefts per 1000 population')\n",
    "plt.title('Fire and Theft in Chicago')\n",
    "\n",
    "# Possibles linies\n",
    "# Parametres plt.plot: (x0, x1), (y0, y1)\n",
    "plt.plot((0, 40), (0, 140), color='#ff0000')\n",
    "plt.plot((0, 40), (0, 120), color='#ff0000')\n",
    "plt.plot((0, 40), (10, 110), color='#ff0000')\n",
    "plt.plot((0, 40), (20, 70), color='#ff0000')\n",
    "\n",
    "plt.show()"
   ]
  },
  {
   "cell_type": "markdown",
   "metadata": {},
   "source": [
    "Per ara, donat que estem a 2D, podem visualitzar l'error, és a dir la distància respecte aquesta línia. Però tot i així és impossible que poguem visualitzar, d'entre les infinites línies possibles, la que s'ajusta millor a les dades.\n",
    "\n",
    "**Necessitem un algorisme que la trobi automàticament,** però primer visualitzem l'error de cadascuna de les anteriors rectes:"
   ]
  },
  {
   "cell_type": "code",
   "execution_count": 16,
   "metadata": {},
   "outputs": [
    {
     "data": {
      "image/png": "[encoded data removed]",
      "text/plain": [
       "<Figure size 432x288 with 1 Axes>"
      ]
     },
     "metadata": {
      "needs_background": "light"
     },
     "output_type": "display_data"
    },
    {
     "data": {
      "image/png": "[encoded data removed]",
      "text/plain": [
       "<Figure size 432x288 with 1 Axes>"
      ]
     },
     "metadata": {
      "needs_background": "light"
     },
     "output_type": "display_data"
    },
    {
     "data": {
      "image/png": "[encoded data removed]",
      "text/plain": [
       "<Figure size 432x288 with 1 Axes>"
      ]
     },
     "metadata": {
      "needs_background": "light"
     },
     "output_type": "display_data"
    },
    {
     "data": {
      "image/png": "[encoded data removed]",
      "text/plain": [
       "<Figure size 432x288 with 1 Axes>"
      ]
     },
     "metadata": {
      "needs_background": "light"
     },
     "output_type": "display_data"
    }
   ],
   "source": [
    "for x1, y1, y0 in ((40, 140, 0), (40, 120, 0), (40, 110, 10), (40, 70, 20)):\n",
    "    \n",
    "    plt.figure()\n",
    "    # Visualització de les dades\n",
    "    plt.scatter(df['X'], df['Y'])\n",
    "    plt.xlabel('Fires per 1000 housing units')\n",
    "    plt.ylabel('Thefts per 1000 population')\n",
    "    plt.title(f'Fire and Theft in Chicago, y = {y0} + x * {(y1 - y0) / x1:.2f}')\n",
    "\n",
    "    # Visualització de la recta\n",
    "    plt.plot((0, x1), (y0, y1), color='#ff0000')\n",
    "\n",
    "    # Definció de la recta\n",
    "    f = lambda x: (y1 - y0) / x1 * x + y0\n",
    "\n",
    "    # Visualització de l'error per cada punt\n",
    "    for _, (x, y) in df.iterrows():\n",
    "        y_pred = f(x)\n",
    "        plt.plot((x, x), (y, y_pred), color='b', alpha=0.2)"
   ]
  },
  {
   "cell_type": "markdown",
   "metadata": {},
   "source": [
    "**Com definim un model que automàticament trobi aquesta línia?**\n",
    "\n",
    "Primer de tot, assumim que nosaltres tenim unes dades de les quals dispossem els valors de $x$ i els corresponents valors de $y$. Per exemple, les dades anteriors.\n",
    "\n",
    "1. Necessitem definir matemàticament una recta\n",
    "$$ r: \\hat{y} = m \\cdot x + n $$\n",
    "On $x$ és un punt que volem evaluar, $\\hat{y}$ és la imatge obtinguda en el punt $x$, i $m$, $n$ són els paràmetres que defineixen la recta. Idealment, voldríem trobar aquelles $m$, $n$ que, per tot punt $x$ tinguéssim una $\\hat{y}$ tal que $\\hat{y}=y$.\n",
    "\n",
    "2. Hem de mesurar l'error que estem cometent cada cop que provem una $m$, $n$ diferents (al que anomenarem *loss* del model). Per exemple, podríem definir l'error com a la distància entre el punt $y$ que hauria de ser i el $\\hat{y}$ que ens dona el model:\n",
    "$$\\mathbb{L} = \\sqrt{(y - \\hat{y})^2}$$\n",
    "\n",
    "3. Ara el que volem fer és trobar els valors de $m$, $n$ tal que $\\mathbb{L}=0$. Si parem atenció a la funció definida per $\\mathbb{L}$, veurem que efectivament $0$ és el mínim d'aquesta. Per tant, tot el que hem de fer és minimitzar la funció definida per\n",
    "$$\\mathbb{L} = \\sqrt{(y - (m \\cdot x + n))^2}$$\n",
    "\n",
    "Per simplificar una mica el problema, unirem les variables que volem optimitzar $m,n$ en una de sola: $w$. Per fer-ho, expandirem la fòrmula anterior a:\n",
    "$$\\tilde{x} = (1, x), w = (n, m)$$\n",
    "\n",
    "$$\\mathbb{L} = \\sqrt{(y - \\tilde{x} \\cdot w)^2}$$\n",
    "\n",
    "On $\\tilde{x}$ és un vector format per un $1$ i a continuació el valor de $x$ original. De forma que $\\tilde{x} \\cdot w = (1, x) \\cdot (n, m) = n + x\\cdot m = m\\cdot x + n$ (producte escalar)."
   ]
  },
  {
   "cell_type": "code",
   "execution_count": 17,
   "metadata": {},
   "outputs": [],
   "source": [
    "def add_bias(X):\n",
    "    \"\"\"\n",
    "    Funció que donada el vector x crea el vector x', afegint una columna d'1's al davant.\n",
    "    Per exemple, si X és\n",
    "        [\n",
    "            [1, 2, 5, 1, 5, 7],\n",
    "            [9, 4, 2, 4, 6, 1],\n",
    "            ...\n",
    "            [5, 3, 1, 4, 5, 7]\n",
    "        ]\n",
    "    El retorn de la funció serà la matriu\n",
    "        [\n",
    "            [1, 1, 2, 5, 1, 5, 7],\n",
    "            [1, 9, 4, 2, 4, 6, 1],\n",
    "            ...\n",
    "            [1, 5, 3, 1, 4, 5, 7]\n",
    "        ]\n",
    "    \n",
    "    *Sense bucles*\n",
    "    \n",
    "    :param X: Matriu on cada fila és una dada i cada columna una característica\n",
    "    :return: Mateixa matriu amb una columna de 1s davant\n",
    "    \"\"\"\n",
    "    # AQUÍ EL TEU CODI\n",
    "    X = np.insert(X,0,1,axis=1)\n",
    "    return X\n",
    "\n",
    "def linear_regression(x, w):\n",
    "    \"\"\"\n",
    "    Donat un punt i els parameters del model prediu el valor, implementant el càlcul de\n",
    "    la regressió linial:\n",
    "            y' = w0 * x0 + w1 * x1 + ... + xp * wp\n",
    "            \n",
    "    *Sense bucles*\n",
    "    \n",
    "    :param x: Matriu de dades i features, on la primera columna son 1s, té per shape [NDades, NFeatures]\n",
    "    :param w: Matriu de paràmetres, té per shape [1, NFeatures]\n",
    "    :return: Vector de tamany [NDades] amb la predicció y' per a cada punt\n",
    "    \"\"\"\n",
    "    # AQUÍ EL TEU CODI\n",
    "    return np.sum(x*w,axis=1)\n",
    "    \n",
    "def loss(y_true, y_pred):\n",
    "    \"\"\"\n",
    "    Funció que calcula la diferència entre la solució real i la predita mitjançant\n",
    "    distància euclidea\n",
    "        ||y_true - y_pred||\n",
    "        \n",
    "    :param y_true: Valor real de la Y\n",
    "    :param y_pred: Valor predit y' per a cada corresponent y\n",
    "    :return: Error de la predicció\n",
    "    \"\"\"\n",
    "    # AQUÍ EL TEU CODI\n",
    "    return np.linalg.norm(y_true - y_pred)\n",
    "    \n",
    "def model(w, x, y):\n",
    "    \"\"\"\n",
    "    Funció que genera el model que volem optimizar, calculant l'error d'una\n",
    "    predicció amb els pàrametres i valors passats\n",
    "    \n",
    "    :param w: Paràmetres del model\n",
    "    :param x: Dades del model\n",
    "    :param y: Valors a predir\n",
    "    :return: Error (loss) de les preddiccions\n",
    "    \"\"\"\n",
    "    # AQUÍ EL TEU CODI\n",
    "    return loss(y,linear_regression(x,w))"
   ]
  },
  {
   "cell_type": "markdown",
   "metadata": {},
   "source": [
    "Generem les dades que utilitzarem per entrenar el model (*X_fire*) i les seves etiquetes (*Y_fire*)."
   ]
  },
  {
   "cell_type": "code",
   "execution_count": 18,
   "metadata": {},
   "outputs": [],
   "source": [
    "X_fire = df['X'].values[:, np.newaxis]\n",
    "X_fire = add_bias(X_fire)\n",
    "\n",
    "Y_fire = df['Y'].values"
   ]
  },
  {
   "cell_type": "markdown",
   "metadata": {},
   "source": [
    "Per optimizar el model, necesitem initcialitzar els seus pesos amb valors random."
   ]
  },
  {
   "cell_type": "code",
   "execution_count": 19,
   "metadata": {},
   "outputs": [
    {
     "name": "stdout",
     "output_type": "stream",
     "text": [
      "1.00K/139.43\n",
      "2.00K/136.36\n",
      "3.00K/133.80\n",
      "4.00K/131.69\n",
      "5.00K/129.96\n",
      "6.00K/128.56\n",
      "7.00K/127.43\n",
      "8.00K/126.52\n",
      "9.00K/125.80\n",
      "10.00K/125.23\n",
      "11.00K/124.77\n",
      "12.00K/124.41\n",
      "13.00K/124.13\n",
      "14.00K/123.91\n",
      "15.00K/123.74\n",
      "16.00K/123.60\n",
      "17.00K/123.49\n",
      "18.00K/123.41\n",
      "19.00K/123.34\n",
      "20.00K/123.29\n",
      "[[15.26017706  1.40084892]]\n"
     ]
    }
   ],
   "source": [
    "# Parametres per defecte del model\n",
    "w0 = np.random.normal(size=(1, X_fire.shape[1]))\n",
    "\n",
    "# Optimització del model\n",
    "wf_fire = gradient_descend(lambda w: model(w, X_fire, Y_fire), \n",
    "                           w0, 0.001, \n",
    "                           max_iter=20000, print_iters=1000) # ~ @5s\n",
    "print(wf_fire)"
   ]
  },
  {
   "cell_type": "code",
   "execution_count": 20,
   "metadata": {},
   "outputs": [
    {
     "data": {
      "text/plain": [
       "(1, 2)"
      ]
     },
     "execution_count": 20,
     "metadata": {},
     "output_type": "execute_result"
    }
   ],
   "source": [
    "wf_fire.shape"
   ]
  },
  {
   "cell_type": "markdown",
   "metadata": {},
   "source": [
    "Visualització de la recta obtinguda amb el model i els errors de les seves prediccions."
   ]
  },
  {
   "cell_type": "code",
   "execution_count": 21,
   "metadata": {
    "tags": []
   },
   "outputs": [
    {
     "name": "stdout",
     "output_type": "stream",
     "text": [
      "Mean error: 13.03\n"
     ]
    },
    {
     "name": "stderr",
     "output_type": "stream",
     "text": [
      "c:\\Users\\JUNJIE_LI\\anaconda3\\lib\\site-packages\\numpy\\core\\shape_base.py:65: VisibleDeprecationWarning: Creating an ndarray from ragged nested sequences (which is a list-or-tuple of lists-or-tuples-or ndarrays with different lengths or shapes) is deprecated. If you meant to do this, you must specify 'dtype=object' when creating the ndarray.\n",
      "  ary = asanyarray(ary)\n"
     ]
    },
    {
     "data": {
      "image/png": "[encoded data removed]",
      "text/plain": [
       "<Figure size 432x288 with 1 Axes>"
      ]
     },
     "metadata": {
      "needs_background": "light"
     },
     "output_type": "display_data"
    }
   ],
   "source": [
    "plt.figure()\n",
    "# Visualització de les dades\n",
    "plt.scatter(df['X'], df['Y'])\n",
    "plt.xlabel('fires per 1000 housing units')\n",
    "plt.ylabel('thefts per 1000 population')\n",
    "plt.title('Fire and Theft in Chicago')\n",
    "\n",
    "# Visualització de la recta\n",
    "# Parametres plt.plot: (x0, x1), (y0, y1)\n",
    "plt.plot((0, 40), (wf_fire[0, 0], linear_regression((1, 40), wf_fire)), color='#ff0000')\n",
    "\n",
    "# Visualització de l'error a cada punt\n",
    "for _, (x, y) in df.iterrows():\n",
    "    y_pred = linear_regression((1, x), wf_fire)\n",
    "    plt.plot((x, x), (y, y_pred), color='b', alpha=0.2)\n",
    "\n",
    "y_fire_pred = linear_regression(X_fire, wf_fire)\n",
    "print('Mean error: {:.2f}'.format(np.mean(np.abs(Y_fire - y_fire_pred))))"
   ]
  },
  {
   "cell_type": "markdown",
   "metadata": {},
   "source": [
    "## Linear regression amb polinomis\n",
    "\n",
    "Imagineu que la nostra variable $x$ ara l'elevèssim a més potències:\n",
    "$x, x^2, x^3, ...$\n",
    "\n",
    "La fòrmula de linear regression quedaria:\n",
    "\n",
    "$$ r: \\hat{y} = m_1 \\cdot x + m_2 \\cdot x^2 + m_3 \\cdot x^3 + ... + n $$\n",
    "\n",
    "Fixeu-vos que llavors estem aprenent un polinomi per modelar la \"recta\" de predicció.\n",
    "\n",
    "Com un polinomi de grau $k$ inclou tots els possibles polinomis de grau $k-1$, els resultats només poden millorar. Provem-ho:"
   ]
  },
  {
   "cell_type": "code",
   "execution_count": 22,
   "metadata": {},
   "outputs": [],
   "source": [
    "# Definim una funció per normalitzar per columnes (Obtenim una distribució Normal)\n",
    "normalize = lambda x: (x - np.mean(x)) / np.std(x)"
   ]
  },
  {
   "cell_type": "code",
   "execution_count": 23,
   "metadata": {},
   "outputs": [
    {
     "name": "stdout",
     "output_type": "stream",
     "text": [
      "(42, 2)\n",
      "1.00K/235.45\n",
      "2.00K/206.57\n",
      "3.00K/181.60\n",
      "4.00K/161.42\n",
      "5.00K/146.49\n",
      "6.00K/136.49\n",
      "7.00K/130.40\n",
      "8.00K/126.95\n",
      "9.00K/125.09\n",
      "10.00K/124.12\n",
      "11.00K/123.62\n",
      "12.00K/123.37\n",
      "13.00K/123.24\n",
      "14.00K/123.17\n",
      "15.00K/123.14\n",
      "16.00K/123.12\n",
      "17.00K/123.11\n",
      "18.00K/123.11\n",
      "19.00K/123.11\n",
      "20.00K/123.10\n",
      "[[33.58990052 12.52029131]]\n",
      "Mean error 1: 12.94\n",
      "\n",
      "(42, 3)\n",
      "1.00K/216.30\n",
      "2.00K/173.64\n",
      "3.00K/146.12\n",
      "4.00K/131.54\n",
      "5.00K/124.69\n",
      "6.00K/121.53\n",
      "7.00K/120.04\n",
      "8.00K/119.30\n",
      "9.00K/118.94\n",
      "10.00K/118.75\n",
      "11.00K/118.66\n",
      "12.00K/118.61\n",
      "13.00K/118.59\n",
      "14.00K/118.58\n",
      "15.00K/118.57\n",
      "16.00K/118.57\n",
      "17.00K/118.56\n",
      "18.00K/118.56\n",
      "19.00K/118.56\n",
      "20.00K/118.56\n",
      "[[ 24.38910193 -11.25860355  10.83933829]]\n",
      "Mean error 2: 13.28\n",
      "\n",
      "(42, 4)\n",
      "1.00K/198.66\n",
      "2.00K/158.60\n",
      "3.00K/137.02\n",
      "4.00K/125.58\n",
      "5.00K/119.41\n",
      "6.00K/116.15\n",
      "7.00K/114.50\n",
      "8.00K/113.68\n",
      "9.00K/113.28\n",
      "10.00K/113.08\n",
      "11.00K/112.99\n",
      "12.00K/112.94\n",
      "13.00K/112.92\n",
      "14.00K/112.91\n",
      "15.00K/112.90\n",
      "16.00K/112.90\n",
      "17.00K/112.90\n",
      "18.00K/112.90\n",
      "19.00K/112.90\n",
      "20.00K/112.90\n",
      "[[25.39340813 -8.39853243 -5.09291905  9.22499652]]\n",
      "Mean error 3: 12.89\n",
      "\n",
      "(42, 5)\n",
      "1.00K/189.69\n",
      "2.00K/150.27\n",
      "3.00K/130.83\n",
      "4.00K/119.79\n",
      "5.00K/113.59\n",
      "6.00K/110.36\n",
      "7.00K/108.77\n",
      "8.00K/108.02\n",
      "9.00K/107.67\n",
      "10.00K/107.50\n",
      "11.00K/107.43\n",
      "12.00K/107.39\n",
      "13.00K/107.38\n",
      "14.00K/107.37\n",
      "15.00K/107.37\n",
      "16.00K/107.36\n",
      "17.00K/107.36\n",
      "18.00K/107.36\n",
      "19.00K/107.36\n",
      "20.00K/107.36\n",
      "[[26.26896228 -4.0800573  -3.79315406 -6.8437794   8.42707726]]\n",
      "Mean error 4: 12.44\n",
      "\n",
      "(42, 6)\n",
      "1.00K/186.59\n",
      "2.00K/151.66\n",
      "3.00K/131.33\n",
      "4.00K/118.16\n",
      "5.00K/110.42\n",
      "6.00K/106.37\n",
      "7.00K/104.41\n",
      "8.00K/103.51\n",
      "9.00K/103.10\n",
      "10.00K/102.92\n",
      "11.00K/102.84\n",
      "12.00K/102.80\n",
      "13.00K/102.78\n",
      "14.00K/102.78\n",
      "15.00K/102.77\n",
      "16.00K/102.77\n",
      "17.00K/102.77\n",
      "18.00K/102.77\n",
      "19.00K/102.77\n",
      "20.00K/102.77\n",
      "[[26.59527346 -5.32050961 -3.96476756 -4.03034958 -3.67945567  7.74227344]]\n",
      "Mean error 5: 11.94\n",
      "\n"
     ]
    }
   ],
   "source": [
    "for i in range(1, 5 + 1):\n",
    "    def preprocess(x):\n",
    "        # Calcularem totes les potències fins a i, i les ajuntarem totes en la dimensió 1\n",
    "        x = np.concatenate([\n",
    "            x ** j\n",
    "            for j in range(1, i + 1)\n",
    "        ], axis = 1)\n",
    "        \n",
    "        # Normalitzeu les dades! Sense no entrenarem bé (proveu-ho).\n",
    "        x = normalize(x)\n",
    "        return x\n",
    "    \n",
    "    X_fire = df['X'].values[:, np.newaxis]\n",
    "    X_fire = preprocess(X_fire)\n",
    "    X_fire = add_bias(X_fire)\n",
    "    Y_fire = df['Y'].values\n",
    "    \n",
    "    print(X_fire.shape)\n",
    "    \n",
    "    # Parametres per defecte del model\n",
    "    w0 = np.random.normal(size=(1, X_fire.shape[1]))\n",
    "\n",
    "    # Optimització del model\n",
    "    wf_fire = gradient_descend(lambda w: model(w, X_fire, Y_fire), \n",
    "                               w0, 0.001, \n",
    "                               max_iter=20000, print_iters=1000) # ~ @5s\n",
    "    print(wf_fire)\n",
    "    \n",
    "    y_fire_pred = linear_regression(X_fire, wf_fire)\n",
    "    error = np.mean(np.abs(Y_fire - y_fire_pred))\n",
    "    print(f'Mean error {i}: {error:.2f}\\n')"
   ]
  },
  {
   "cell_type": "markdown",
   "metadata": {},
   "source": [
    "Hem transformat un mètode simplement lineal en un polinomi, només afegint noves columnes amb transformacions de les dades.\n",
    "\n",
    "D'això se'n diu fer **feature engineering**: fem modificacions \"intel·ligents\" sobre les columnes del dataset per permetre'ns obtenir models més potents. \n",
    "\n",
    "Aquí ens hem limitat a fer potències de x, però podriem fer exponencials, logaritmes, talls binaris (x > 25 -> 1, x <= 25 -> 0), etc.\n",
    "\n",
    "Ara, torneu a implementar el mètode preprocess, fent que la matriu resultant tingui:\n",
    "\n",
    "* x (sense cap modificació)\n",
    "* $e^x$\n",
    "* $\\log x$ (això ho podem fer perquè en aquest dataset, x > 0 sempre)\n",
    "* $x > \\overline{x}$, on $\\overline{x}$ és la mitja de x.\n",
    "\n",
    "*No us oblideu de normalitzar!*\n",
    "\n",
    "\n",
    "**Justifica el resultat obtingut en aquest cas.**\n",
    "\n",
    "<hr />\n",
    "\n",
    "* RECORDA JUSTIFICAR LA RESPOSTA\n",
    "\n",
    "<hr />"
   ]
  },
  {
   "cell_type": "code",
   "execution_count": 24,
   "metadata": {},
   "outputs": [
    {
     "name": "stdout",
     "output_type": "stream",
     "text": [
      "(42, 2)\n",
      "1.00K/237.13\n",
      "2.00K/212.58\n",
      "3.00K/192.13\n",
      "4.00K/176.16\n",
      "5.00K/164.54\n",
      "6.00K/156.68\n",
      "7.00K/151.68\n",
      "8.00K/148.65\n",
      "9.00K/146.87\n",
      "10.00K/145.85\n",
      "11.00K/145.26\n",
      "12.00K/144.94\n",
      "13.00K/144.75\n",
      "14.00K/144.65\n",
      "15.00K/144.59\n",
      "16.00K/144.56\n",
      "17.00K/144.54\n",
      "18.00K/144.53\n",
      "19.00K/144.52\n",
      "20.00K/144.52\n",
      "[[33.50177264  4.55575253]]\n",
      "Mean error 5: 14.33\n"
     ]
    }
   ],
   "source": [
    "def preprocess(x):\n",
    "    \n",
    "    # AQUÍ EL TEU CODI\n",
    "    x = np.concatenate([x], axis = 1)\n",
    "    x = np.concatenate([np.exp(x)], axis = 1)\n",
    "    x = np.concatenate([np.log(x)], axis = 1)\n",
    "    x = np.concatenate([x>x.mean()], axis = 1)\n",
    "    x = normalize(x)\n",
    "    return x\n",
    "\n",
    "X_fire = df['X'].values[:, np.newaxis]\n",
    "X_fire = preprocess(X_fire)\n",
    "X_fire = add_bias(X_fire)\n",
    "Y_fire = df['Y'].values\n",
    "\n",
    "print(X_fire.shape)\n",
    "\n",
    "# Parametres per defecte del model\n",
    "w0 = np.random.normal(size=(1, X_fire.shape[1]))\n",
    "\n",
    "# Optimització del model\n",
    "wf_fire = gradient_descend(lambda w: model(w, X_fire, Y_fire), \n",
    "                           w0, 0.001, \n",
    "                           max_iter=20000, print_iters=1000) # ~ @5s\n",
    "print(wf_fire)\n",
    "\n",
    "y_fire_pred = linear_regression(X_fire, wf_fire)\n",
    "error = np.mean(np.abs(Y_fire - y_fire_pred))\n",
    "print(f'Mean error {i}: {error:.2f}')"
   ]
  },
  {
   "cell_type": "markdown",
   "metadata": {},
   "source": [
    "## Dades multidimensionals sobre les dades\n",
    "\n",
    "En l'apartat anterior tenim un sol valor de $x$ pel qual volíem obtenir un valor de $y$, però en la gran majoria de casos no serà així.\n",
    "\n",
    "En aquest apartat volem trobar una regressió lineal tal que $dim(X) = 6$, i per tant necessitem un total de 7 paràmetres ($dim(w) = 7$)"
   ]
  },
  {
   "cell_type": "code",
   "execution_count": 25,
   "metadata": {},
   "outputs": [
    {
     "data": {
      "text/html": [
       "<div>\n",
       "<style scoped>\n",
       "    .dataframe tbody tr th:only-of-type {\n",
       "        vertical-align: middle;\n",
       "    }\n",
       "\n",
       "    .dataframe tbody tr th {\n",
       "        vertical-align: top;\n",
       "    }\n",
       "\n",
       "    .dataframe thead th {\n",
       "        text-align: right;\n",
       "    }\n",
       "</style>\n",
       "<table border=\"1\" class=\"dataframe\">\n",
       "  <thead>\n",
       "    <tr style=\"text-align: right;\">\n",
       "      <th></th>\n",
       "      <th>Total population (in thousands)</th>\n",
       "      <th>% Change in population</th>\n",
       "      <th>% Change in children</th>\n",
       "      <th>% Free school lunch</th>\n",
       "      <th>% change in household income</th>\n",
       "      <th>Crime rate</th>\n",
       "      <th>% change in crime rate</th>\n",
       "    </tr>\n",
       "  </thead>\n",
       "  <tbody>\n",
       "    <tr>\n",
       "      <th>0</th>\n",
       "      <td>6.9</td>\n",
       "      <td>1.8</td>\n",
       "      <td>30.2</td>\n",
       "      <td>58.3</td>\n",
       "      <td>27.3</td>\n",
       "      <td>84.9</td>\n",
       "      <td>-14.2</td>\n",
       "    </tr>\n",
       "    <tr>\n",
       "      <th>1</th>\n",
       "      <td>8.4</td>\n",
       "      <td>28.5</td>\n",
       "      <td>38.8</td>\n",
       "      <td>87.5</td>\n",
       "      <td>39.8</td>\n",
       "      <td>172.6</td>\n",
       "      <td>-34.1</td>\n",
       "    </tr>\n",
       "    <tr>\n",
       "      <th>2</th>\n",
       "      <td>5.7</td>\n",
       "      <td>7.8</td>\n",
       "      <td>31.7</td>\n",
       "      <td>83.5</td>\n",
       "      <td>26.0</td>\n",
       "      <td>154.2</td>\n",
       "      <td>-15.8</td>\n",
       "    </tr>\n",
       "    <tr>\n",
       "      <th>3</th>\n",
       "      <td>7.4</td>\n",
       "      <td>2.3</td>\n",
       "      <td>24.2</td>\n",
       "      <td>14.2</td>\n",
       "      <td>29.4</td>\n",
       "      <td>35.2</td>\n",
       "      <td>-13.9</td>\n",
       "    </tr>\n",
       "    <tr>\n",
       "      <th>4</th>\n",
       "      <td>8.5</td>\n",
       "      <td>-0.7</td>\n",
       "      <td>28.1</td>\n",
       "      <td>46.7</td>\n",
       "      <td>26.6</td>\n",
       "      <td>69.2</td>\n",
       "      <td>-13.9</td>\n",
       "    </tr>\n",
       "  </tbody>\n",
       "</table>\n",
       "</div>"
      ],
      "text/plain": [
       "   Total population (in thousands)  % Change in population  \\\n",
       "0                              6.9                     1.8   \n",
       "1                              8.4                    28.5   \n",
       "2                              5.7                     7.8   \n",
       "3                              7.4                     2.3   \n",
       "4                              8.5                    -0.7   \n",
       "\n",
       "   % Change in children  % Free school lunch  % change in household income  \\\n",
       "0                  30.2                 58.3                          27.3   \n",
       "1                  38.8                 87.5                          39.8   \n",
       "2                  31.7                 83.5                          26.0   \n",
       "3                  24.2                 14.2                          29.4   \n",
       "4                  28.1                 46.7                          26.6   \n",
       "\n",
       "   Crime rate  % change in crime rate  \n",
       "0        84.9                   -14.2  \n",
       "1       172.6                   -34.1  \n",
       "2       154.2                   -15.8  \n",
       "3        35.2                   -13.9  \n",
       "4        69.2                   -13.9  "
      ]
     },
     "metadata": {},
     "output_type": "display_data"
    }
   ],
   "source": [
    "# Lectura de les dades\n",
    "dg = pd.read_csv('data/mlr10.csv', index_col=0)\n",
    "Y_pop = dg.values[:, 0]\n",
    "X_pop = dg.values[:, 1:]\n",
    "X_pop = add_bias(X_pop)\n",
    "display(dg.head())"
   ]
  },
  {
   "cell_type": "code",
   "execution_count": 26,
   "metadata": {},
   "outputs": [
    {
     "name": "stdout",
     "output_type": "stream",
     "text": [
      "1.00K/567.75\n",
      "2.00K/567.75\n",
      "3.00K/567.75\n",
      "4.00K/567.75\n",
      "5.00K/567.75\n",
      "6.00K/567.75\n",
      "7.00K/567.75\n",
      "8.00K/567.75\n",
      "9.00K/567.75\n",
      "10.00K/567.75\n",
      "11.00K/567.75\n",
      "12.00K/567.75\n",
      "13.00K/567.75\n",
      "14.00K/567.75\n",
      "15.00K/567.75\n",
      "16.00K/567.75\n",
      "17.00K/567.75\n",
      "18.00K/567.75\n",
      "19.00K/567.75\n",
      "20.00K/567.75\n",
      "21.00K/567.75\n",
      "22.00K/567.75\n",
      "23.00K/567.75\n",
      "24.00K/567.75\n",
      "25.00K/567.75\n",
      "26.00K/567.75\n",
      "27.00K/567.75\n",
      "28.00K/567.75\n",
      "29.00K/567.75\n",
      "30.00K/567.75\n",
      "31.00K/567.75\n",
      "32.00K/567.75\n",
      "33.00K/567.75\n",
      "34.00K/567.75\n",
      "35.00K/567.75\n",
      "36.00K/567.75\n",
      "37.00K/567.75\n",
      "38.00K/567.75\n",
      "39.00K/567.75\n",
      "40.00K/567.75\n",
      "41.00K/567.75\n",
      "42.00K/567.75\n",
      "43.00K/567.75\n",
      "44.00K/567.75\n",
      "45.00K/567.75\n",
      "46.00K/567.75\n",
      "47.00K/567.75\n",
      "48.00K/567.75\n",
      "49.00K/567.75\n",
      "50.00K/567.75\n",
      "51.00K/567.75\n",
      "52.00K/567.75\n",
      "53.00K/567.75\n",
      "54.00K/567.75\n",
      "55.00K/567.75\n",
      "56.00K/567.75\n",
      "57.00K/567.75\n",
      "58.00K/567.75\n",
      "59.00K/567.75\n",
      "60.00K/567.75\n",
      "61.00K/567.75\n",
      "62.00K/567.75\n",
      "63.00K/567.75\n",
      "64.00K/567.75\n",
      "65.00K/567.75\n",
      "66.00K/567.75\n",
      "67.00K/567.75\n",
      "68.00K/567.75\n",
      "69.00K/567.75\n",
      "70.00K/567.75\n",
      "71.00K/567.75\n",
      "72.00K/567.75\n",
      "73.00K/567.75\n",
      "74.00K/567.75\n",
      "75.00K/567.75\n",
      "76.00K/567.75\n",
      "77.00K/567.75\n",
      "78.00K/567.75\n",
      "79.00K/567.75\n",
      "80.00K/567.75\n",
      "81.00K/567.75\n",
      "82.00K/567.75\n",
      "83.00K/567.75\n",
      "84.00K/567.75\n",
      "85.00K/567.75\n",
      "86.00K/567.75\n",
      "87.00K/567.75\n",
      "88.00K/567.75\n",
      "89.00K/567.75\n",
      "90.00K/567.75\n",
      "91.00K/567.75\n",
      "92.00K/567.75\n",
      "93.00K/567.75\n",
      "94.00K/567.75\n",
      "95.00K/567.75\n",
      "96.00K/567.75\n",
      "97.00K/567.75\n",
      "98.00K/567.75\n",
      "99.00K/567.75\n",
      "100.00K/567.75\n",
      "[[ 1.45839147 -0.05453962  0.0592006  -0.16811981  0.04128818 -0.50804897\n",
      "  -0.02722883]]\n"
     ]
    }
   ],
   "source": [
    "# Parametres per defecte del model\n",
    "w0 = np.random.normal(size=(1, X_pop.shape[1]))\n",
    "\n",
    "# Optimització del model\n",
    "wf_population = gradient_descend(lambda w: model(w, X_pop, Y_pop), w0, 0.001, max_iter=100000, print_iters=1000) # ~ @20s\n",
    "print(wf_population)"
   ]
  },
  {
   "cell_type": "code",
   "execution_count": 27,
   "metadata": {},
   "outputs": [],
   "source": [
    "# Utilitzant els paràmetres apresos, obtenim la predicció per a cada punt\n",
    "y_pop_pred = linear_regression(X_pop, wf_population)"
   ]
  },
  {
   "cell_type": "code",
   "execution_count": 28,
   "metadata": {},
   "outputs": [
    {
     "name": "stdout",
     "output_type": "stream",
     "text": [
      "Mean error: 66.76\n"
     ]
    },
    {
     "data": {
      "image/png": "[encoded data removed]",
      "text/plain": [
       "<Figure size 1440x216 with 1 Axes>"
      ]
     },
     "metadata": {
      "needs_background": "light"
     },
     "output_type": "display_data"
    }
   ],
   "source": [
    "# Visualització de les dades originals i les prediccions\n",
    "plt.figure(figsize=(20, 3))\n",
    "plt.scatter(range(Y_pop.shape[0]), Y_pop, color='green', label = 'y')\n",
    "plt.scatter(range(Y_pop.shape[0]), y_pop_pred, color='red', label = 'y_pred')\n",
    "plt.xlabel('Samples')\n",
    "plt.ylabel('Total population')\n",
    "plt.legend()\n",
    "\n",
    "for x in range(X_pop.shape[0]):\n",
    "    plt.plot((x, x), (0, 20), '-.', color='gray', alpha=0.2)\n",
    "\n",
    "print('Mean error: {:.2f}'.format(np.mean(np.abs(Y_pop - y_pop_pred))))"
   ]
  },
  {
   "cell_type": "markdown",
   "metadata": {},
   "source": [
    "**Feu feature engineering** vosaltres mateixos i intenteu aconseguir que la vostra loss sigui **inferior a 0.5**.\n",
    "\n",
    "Podeu canviar els valors d'entrenament (canviar el nombre d'epochs, o el learning rate lr), <br />\n",
    "tot i que els valors establerts (```n_epochs=10000, lr=1e-3```) ja us poden donar el resultat esperat.\n",
    "\n",
    "Idees:\n",
    "\n",
    "* Feu servir les potències de cada columna de x.\n",
    "* Penseu si ajuda o no normalitzar abans de fer cap modificació.\n",
    "* Proveu a afegir algunes funcions diferents (log, exp, binarització...).\n",
    "* Combinacions.\n",
    "\n",
    "\n",
    "**Combinacions**:\n",
    "\n",
    "Tenim 6 columnes d'input. Les tres primeres millores utilitzen transformacions que només aprofiten cada columna per separat ($X_1^3$, $X_2^3$, etc.)\n",
    "\n",
    "Però què passa si \"barregem\" columnes, fent que el model pugui aprofitar les interaccions entre elles?\n",
    "\n",
    "Per exemple, podriem afegir les columnes $X_1 \\cdot X_2, X_1 \\cdot X_3, ..., X_5 \\cdot X_6$.\n",
    "\n",
    "Això serien les combinacions de 2 elements. I de 6 elements?\n",
    "\n",
    "$X_1 \\cdot X_2 \\cdot X_3 \\cdot X_4 \\cdot X_5 \\cdot X_6$.\n",
    "\n",
    "**Veieu si ajuda, i com, aquest afegit. Comenteu els resultats obtinguts.**\n",
    "\n",
    "<hr />\n",
    "\n",
    "* RECORDA JUSTIFICAR LA RESPOSTA\n",
    "\n",
    "<hr />\n"
   ]
  },
  {
   "cell_type": "code",
   "execution_count": 29,
   "metadata": {},
   "outputs": [],
   "source": [
    "from itertools import combinations"
   ]
  },
  {
   "cell_type": "code",
   "execution_count": 30,
   "metadata": {},
   "outputs": [
    {
     "name": "stdout",
     "output_type": "stream",
     "text": [
      "(44, 127)\n",
      "1.00K/18.42\n",
      "2.00K/13.09\n",
      "3.00K/10.57\n",
      "4.00K/8.56\n",
      "5.00K/6.82\n",
      "6.00K/5.35\n",
      "7.00K/4.17\n",
      "8.00K/3.32\n",
      "9.00K/2.74\n",
      "10.00K/2.32\n",
      "11.00K/1.99\n",
      "12.00K/1.71\n",
      "13.00K/1.49\n",
      "14.00K/1.31\n",
      "15.00K/1.16\n",
      "16.00K/1.14\n",
      "17.00K/1.14\n",
      "18.00K/1.14\n",
      "19.00K/1.14\n",
      "20.00K/1.14\n",
      "(1, 127)\n",
      "Mean error: 0.14\n"
     ]
    }
   ],
   "source": [
    "def multiplicador(x):\n",
    "    b = x[0]\n",
    "    for j in range(1,len(x)):\n",
    "        b = b * x[j]\n",
    "    return b\n",
    "\n",
    "def preprocess(x):\n",
    "    \n",
    "    # AQUÍ EL TEU CODI\n",
    "    llista = x.T\n",
    "    resultat = []\n",
    "    for i in range(1,len(llista)+1):\n",
    "        comb = list(combinations(llista, i))\n",
    "        for combination in comb:\n",
    "            producte = multiplicador(combination)\n",
    "            producte = normalize(producte)\n",
    "            producte = np.expand_dims(producte, axis=1)\n",
    "            resultat.append(producte)\n",
    "            resultat.append(np.log(np.abs(producte)))\n",
    "\n",
    "    resultat = np.concatenate(resultat, axis = 1)\n",
    "    return normalize(resultat)\n",
    "\n",
    "\n",
    "X_pop = dg.values[:, 1:]\n",
    "X_pop = preprocess(X_pop)\n",
    "X_pop = add_bias(X_pop)\n",
    "Y_pop = dg.values[:, 0]\n",
    "\n",
    "print(X_pop.shape)\n",
    "\n",
    "# Parametres per defecte del model\n",
    "w0 = np.random.normal(size=(1, X_pop.shape[1]))\n",
    "\n",
    "# Optimització del model\n",
    "wf_pop = gradient_descend(lambda w: model(w, X_pop, Y_pop), \n",
    "                           w0, 0.001, \n",
    "                           max_iter=20000, print_iters=1000) # ~ @5s\n",
    "print(wf_pop.shape)\n",
    "\n",
    "y_pop_pred = linear_regression(X_pop, wf_pop)\n",
    "error = np.mean(np.abs(Y_pop - y_pop_pred))\n",
    "print(f'Mean error: {error:.2f}')\n",
    "\n",
    "\n"
   ]
  },
  {
   "cell_type": "markdown",
   "metadata": {},
   "source": [
    "## Airbnb: dades reals (a baixa escala)\n",
    "\n",
    "**Airbnb Dataset**\n",
    "\n",
    "Les dades amb les que treballarem en aquesta pràctica són dades reals recopilades per *Airbnb*. \n",
    "Aquestes analitzen la informació disponible sobre els llistats d’Airbnb d’una ciutat, proporcionant filtres i mètriques clau perquè pugueu veure com Airbnb s’utilitza per competir amb el mercat d’habitatges residencials.\n",
    "\n",
    "Amb aquestes dades podrieu fer preguntes fonamentals sobre Airbnb a qualsevol barri o a tota la ciutat. Preguntes com:\n",
    "\n",
    "- \"Quants fitxes hi ha al meu barri i on són?\"\n",
    "- \"Quantes cases i apartaments es lloguen amb freqüència a turistes i no a residents a llarg termini?\"\n",
    "- \"Quant costen els hostes des del lloguer als turistes (compareu-ho amb els lloguers a llarg termini)?\"\n",
    "- \"Quins amfitrions tenen una empresa amb diversos llistats i on?\"\n",
    "\n",
    "Les dades inclou dades com:\n",
    "- Quantitat de nits que es lloga una vivenda a l'any.\n",
    "- Estades mínimes.\n",
    "- Quantes habitacions es lloguen en un edifici.\n",
    "- Nombre d’ocupats permesos en un lloguer.\n",
    "\n",
    "En el nostre cas, **volem predir el preu de la vivenda utilitzant les dades numèriques.**"
   ]
  },
  {
   "cell_type": "code",
   "execution_count": 31,
   "metadata": {},
   "outputs": [],
   "source": [
    "df_airbnb = pd.read_csv('data/clean_scraping.csv', index_col = 'Unnamed: 0')"
   ]
  },
  {
   "cell_type": "code",
   "execution_count": 32,
   "metadata": {},
   "outputs": [
    {
     "data": {
      "text/html": [
       "<div>\n",
       "<style scoped>\n",
       "    .dataframe tbody tr th:only-of-type {\n",
       "        vertical-align: middle;\n",
       "    }\n",
       "\n",
       "    .dataframe tbody tr th {\n",
       "        vertical-align: top;\n",
       "    }\n",
       "\n",
       "    .dataframe thead th {\n",
       "        text-align: right;\n",
       "    }\n",
       "</style>\n",
       "<table border=\"1\" class=\"dataframe\">\n",
       "  <thead>\n",
       "    <tr style=\"text-align: right;\">\n",
       "      <th></th>\n",
       "      <th>id</th>\n",
       "      <th>name</th>\n",
       "      <th>host_id</th>\n",
       "      <th>host_name</th>\n",
       "      <th>neighbourhood_group</th>\n",
       "      <th>neighbourhood</th>\n",
       "      <th>latitude</th>\n",
       "      <th>longitude</th>\n",
       "      <th>room_type</th>\n",
       "      <th>price</th>\n",
       "      <th>minimum_nights</th>\n",
       "      <th>number_of_reviews</th>\n",
       "      <th>last_review</th>\n",
       "      <th>reviews_per_month</th>\n",
       "      <th>calculated_host_listings_count</th>\n",
       "      <th>availability_365</th>\n",
       "    </tr>\n",
       "  </thead>\n",
       "  <tbody>\n",
       "    <tr>\n",
       "      <th>0</th>\n",
       "      <td>18666</td>\n",
       "      <td>Flat with Sunny Terrace</td>\n",
       "      <td>71615</td>\n",
       "      <td>Mireia And Maria</td>\n",
       "      <td>Sant Martí</td>\n",
       "      <td>el Camp de l'Arpa del Clot</td>\n",
       "      <td>41.408886</td>\n",
       "      <td>2.185545</td>\n",
       "      <td>Entire home/apt</td>\n",
       "      <td>130</td>\n",
       "      <td>3</td>\n",
       "      <td>1</td>\n",
       "      <td>2015-10-10</td>\n",
       "      <td>0.03</td>\n",
       "      <td>29</td>\n",
       "      <td>61</td>\n",
       "    </tr>\n",
       "    <tr>\n",
       "      <th>1</th>\n",
       "      <td>18674</td>\n",
       "      <td>Huge flat for 8 people close to Sagrada Familia</td>\n",
       "      <td>71615</td>\n",
       "      <td>Mireia And Maria</td>\n",
       "      <td>Eixample</td>\n",
       "      <td>la Sagrada Família</td>\n",
       "      <td>41.404197</td>\n",
       "      <td>2.173058</td>\n",
       "      <td>Entire home/apt</td>\n",
       "      <td>110</td>\n",
       "      <td>1</td>\n",
       "      <td>4</td>\n",
       "      <td>2016-06-20</td>\n",
       "      <td>0.07</td>\n",
       "      <td>29</td>\n",
       "      <td>148</td>\n",
       "    </tr>\n",
       "    <tr>\n",
       "      <th>2</th>\n",
       "      <td>19157</td>\n",
       "      <td>Great Place in Sagrada Familia, Bcn</td>\n",
       "      <td>73099</td>\n",
       "      <td>Urania</td>\n",
       "      <td>Eixample</td>\n",
       "      <td>la Sagrada Família</td>\n",
       "      <td>41.407929</td>\n",
       "      <td>2.174540</td>\n",
       "      <td>Private room</td>\n",
       "      <td>30</td>\n",
       "      <td>2</td>\n",
       "      <td>160</td>\n",
       "      <td>2018-05-18</td>\n",
       "      <td>1.68</td>\n",
       "      <td>2</td>\n",
       "      <td>69</td>\n",
       "    </tr>\n",
       "    <tr>\n",
       "      <th>3</th>\n",
       "      <td>20345</td>\n",
       "      <td>2 Double rooms for 4 persons, WI-FI</td>\n",
       "      <td>76809</td>\n",
       "      <td>Mila</td>\n",
       "      <td>Nou Barris</td>\n",
       "      <td>Vilapicina i la Torre Llobeta</td>\n",
       "      <td>41.429497</td>\n",
       "      <td>2.181558</td>\n",
       "      <td>Private room</td>\n",
       "      <td>25</td>\n",
       "      <td>2</td>\n",
       "      <td>71</td>\n",
       "      <td>2018-05-03</td>\n",
       "      <td>0.73</td>\n",
       "      <td>1</td>\n",
       "      <td>335</td>\n",
       "    </tr>\n",
       "    <tr>\n",
       "      <th>4</th>\n",
       "      <td>21974</td>\n",
       "      <td>Comf. double room/private bathroom</td>\n",
       "      <td>73163</td>\n",
       "      <td>Andres</td>\n",
       "      <td>Ciutat Vella</td>\n",
       "      <td>el Barri Gòtic</td>\n",
       "      <td>41.380768</td>\n",
       "      <td>2.175510</td>\n",
       "      <td>Private room</td>\n",
       "      <td>60</td>\n",
       "      <td>3</td>\n",
       "      <td>2</td>\n",
       "      <td>2017-11-06</td>\n",
       "      <td>0.15</td>\n",
       "      <td>2</td>\n",
       "      <td>0</td>\n",
       "    </tr>\n",
       "  </tbody>\n",
       "</table>\n",
       "</div>"
      ],
      "text/plain": [
       "      id                                             name  host_id  \\\n",
       "0  18666                          Flat with Sunny Terrace    71615   \n",
       "1  18674  Huge flat for 8 people close to Sagrada Familia    71615   \n",
       "2  19157              Great Place in Sagrada Familia, Bcn    73099   \n",
       "3  20345              2 Double rooms for 4 persons, WI-FI    76809   \n",
       "4  21974               Comf. double room/private bathroom    73163   \n",
       "\n",
       "          host_name neighbourhood_group                  neighbourhood  \\\n",
       "0  Mireia And Maria          Sant Martí     el Camp de l'Arpa del Clot   \n",
       "1  Mireia And Maria            Eixample             la Sagrada Família   \n",
       "2            Urania            Eixample             la Sagrada Família   \n",
       "3              Mila          Nou Barris  Vilapicina i la Torre Llobeta   \n",
       "4            Andres        Ciutat Vella                 el Barri Gòtic   \n",
       "\n",
       "    latitude  longitude        room_type  price  minimum_nights  \\\n",
       "0  41.408886   2.185545  Entire home/apt    130               3   \n",
       "1  41.404197   2.173058  Entire home/apt    110               1   \n",
       "2  41.407929   2.174540     Private room     30               2   \n",
       "3  41.429497   2.181558     Private room     25               2   \n",
       "4  41.380768   2.175510     Private room     60               3   \n",
       "\n",
       "   number_of_reviews last_review  reviews_per_month  \\\n",
       "0                  1  2015-10-10               0.03   \n",
       "1                  4  2016-06-20               0.07   \n",
       "2                160  2018-05-18               1.68   \n",
       "3                 71  2018-05-03               0.73   \n",
       "4                  2  2017-11-06               0.15   \n",
       "\n",
       "   calculated_host_listings_count  availability_365  \n",
       "0                              29                61  \n",
       "1                              29               148  \n",
       "2                               2                69  \n",
       "3                               1               335  \n",
       "4                               2                 0  "
      ]
     },
     "metadata": {},
     "output_type": "display_data"
    }
   ],
   "source": [
    "display(df_airbnb.head())"
   ]
  },
  {
   "cell_type": "code",
   "execution_count": 33,
   "metadata": {},
   "outputs": [
    {
     "data": {
      "text/plain": [
       "(23626, 16)"
      ]
     },
     "execution_count": 33,
     "metadata": {},
     "output_type": "execute_result"
    }
   ],
   "source": [
    "df_airbnb.shape"
   ]
  },
  {
   "cell_type": "code",
   "execution_count": 34,
   "metadata": {},
   "outputs": [
    {
     "data": {
      "text/plain": [
       "Index(['id', 'name', 'host_id', 'host_name', 'neighbourhood_group',\n",
       "       'neighbourhood', 'latitude', 'longitude', 'room_type', 'price',\n",
       "       'minimum_nights', 'number_of_reviews', 'last_review',\n",
       "       'reviews_per_month', 'calculated_host_listings_count',\n",
       "       'availability_365'],\n",
       "      dtype='object')"
      ]
     },
     "execution_count": 34,
     "metadata": {},
     "output_type": "execute_result"
    }
   ],
   "source": [
    "df_airbnb.columns"
   ]
  },
  {
   "cell_type": "markdown",
   "metadata": {},
   "source": [
    "A la variable *y_true* guardarem la variable que volem predir amb el nostre model lineal."
   ]
  },
  {
   "cell_type": "code",
   "execution_count": 35,
   "metadata": {},
   "outputs": [],
   "source": [
    "y_true = df_airbnb.price"
   ]
  },
  {
   "cell_type": "markdown",
   "metadata": {},
   "source": [
    "Definim ara quina és la informació que utilitzarem per fer la predicció.\n",
    "\n",
    "Com hem vist abans, algunes variables no són numèriques, per tant cal fer una conversió de la informació."
   ]
  },
  {
   "cell_type": "code",
   "execution_count": 36,
   "metadata": {},
   "outputs": [],
   "source": [
    "X = df_airbnb[['neighbourhood_group', 'neighbourhood', 'latitude', 'longitude', 'room_type', 'minimum_nights', 'number_of_reviews',\n",
    "       'reviews_per_month', 'calculated_host_listings_count', 'availability_365']]"
   ]
  },
  {
   "cell_type": "code",
   "execution_count": 37,
   "metadata": {},
   "outputs": [],
   "source": [
    "cleanup_columns = { 'neighbourhood_group': { name: idx for idx, name in enumerate(X.neighbourhood_group.unique())},\n",
    "                    'neighbourhood': { name: idx for idx, name in enumerate(X.neighbourhood.unique())},\n",
    "                    'room_type': { name: idx for idx, name in enumerate(X.room_type.unique())},\n",
    "                  }"
   ]
  },
  {
   "cell_type": "code",
   "execution_count": 38,
   "metadata": {},
   "outputs": [],
   "source": [
    "X = X.replace(cleanup_columns).values"
   ]
  },
  {
   "cell_type": "markdown",
   "metadata": {},
   "source": [
    "No ens oblidem de normalitzar les dades abans de passar-les a LinearRegression!"
   ]
  },
  {
   "cell_type": "code",
   "execution_count": 39,
   "metadata": {},
   "outputs": [],
   "source": [
    "X = (X - X.mean(0)) / X.std(0)"
   ]
  },
  {
   "cell_type": "markdown",
   "metadata": {},
   "source": [
    "Un cop netejades les dades, separarem un conjunt de les dades. "
   ]
  },
  {
   "cell_type": "markdown",
   "metadata": {},
   "source": [
    "### Partició de dades\n",
    "\n",
    "En l'aprenentatge automàtic, una tasca habitual és l'estudi i la construcció d'algorismes que poden aprendre i fer prediccions sobre dades. Aquests algoritmes funcionen fent prediccions o decisions basades en dades, mitjançant la creació d'un model matemàtic a partir de dades d'entrada.\n",
    "\n",
    "Les dades que s’utilitzen per construir el model final normalment provenen de múltiples conjunts de dades. En particular, dos conjunts de dades s’utilitzen habitualment en diferents etapes de la creació del model: dades d'entrenament (train) i de prova (test).\n",
    "\n",
    "El model s’adapta inicialment a un conjunt de dades d’entrenament, que és un conjunt d’exemples que s’utilitzen per ajustar els paràmetres (per exemple, pesos del model de regressió linal) del model. \n",
    "El model es forma en el **conjunt de dades d’entrenament** que sovint consisteix en parells d’un vector d’entrada (o escalar) i el vector de sortida corresponent (o escalar), que es denomina habitualment com a objectiu (o etiqueta). El model actual s'executa amb el conjunt de dades d'entrenament i produeix un resultat, que es compara després amb l'objectiu, per a cada vector d'entrada del conjunt de dades d'entrenament. A partir del resultat de la comparació i de l'algorisme d'aprenentatge específic que s'utilitza, s'ajusten els paràmetres del model. L'adaptació del model pot incloure selecció de variables i estimació de paràmetres.\n",
    "\n",
    "El **conjunt de dades de prova** és un conjunt de dades utilitzat per proporcionar una avaluació imparcial d’un model. Si les dades de prova no s’han utilitzat mai durant l'entrenament, el resultats representa el comportament esperat del model.\n",
    "\n",
    "A continuació heu d'implementar la funció *split* que crea aquesta partició de dades."
   ]
  },
  {
   "cell_type": "code",
   "execution_count": 40,
   "metadata": {},
   "outputs": [],
   "source": [
    "def split(X, Y, train_percent, random_seed=None):\n",
    "    \"\"\"\n",
    "    Divideix el conjunt de dades en dos subconjunts aleatoris diferents, sense\n",
    "    intersecció.\n",
    "    La divisió es fa conjuntament en X i Y, és a dir, donat una dada x de X,\n",
    "    la seva corresponent y en Y es troba en el mateix conjunt\n",
    "    X = [[1, 2, 3], [2, 3, 1], ..., [1, 4, 5]]\n",
    "    Y = [1, 2, ..., 5]\n",
    "    \n",
    "    Train: X = [[1, 2, 3], [1, 4, 5]]; Y = [1, 5]\n",
    "    Test:  X = [[2, 3, 1]]; Y = [2]\n",
    "    \n",
    "    :param X: Dades del model\n",
    "    :param Y: Corresponents valors a predir\n",
    "    :param train_percent: Percentatge entre 0 i 1, indicant el nombre\n",
    "        d'elements que contindrà el conjunt de train\n",
    "    :param random_seed: En cas de que sigui necessari (no és obligatori fer-ho servir), \n",
    "        per fixar el comporament de random\n",
    "    :return: Una llista/tupla que contingui, en aquest ordre, \n",
    "        * Conjunt train X [NDadesTrain, NFeatures]\n",
    "        * Conjunt test X [NDadesTest, NFeatures]\n",
    "        * Conjunt train Y [NDadesTrain]\n",
    "        * Conjunt test Y [NDadesTest]\n",
    "    \"\"\"\n",
    "    num = int(train_percent*len(X))\n",
    "    index = [i for i in range(len(Y))]\n",
    "    shuffleIndex = np.array(index) \n",
    "    np.random.shuffle(shuffleIndex)\n",
    "    index = list(shuffleIndex)\n",
    "    trainX = X[index[:num]]\n",
    "\n",
    "    testX = X[index[num:]]\n",
    "    \n",
    "    trainY = Y[index[:num]]\n",
    "    testY = Y[index[num:]]\n",
    "\n",
    "    return (trainX, testX, trainY, testY)"
   ]
  },
  {
   "cell_type": "markdown",
   "metadata": {},
   "source": [
    "Abans de generar els conjunts d'entrenament i prova cal generar els vectors que representen cada entrada de les dades."
   ]
  },
  {
   "cell_type": "code",
   "execution_count": 41,
   "metadata": {},
   "outputs": [],
   "source": [
    "# Valors amb els que predirem el preu de la vivenda\n",
    "X = add_bias(X)\n",
    "\n",
    "# Valors reals de la vivenda\n",
    "Y = df_airbnb['price'].values\n",
    "\n",
    "# Partim en train i test\n",
    "X_train, X_test, Y_train, Y_test = split(X, Y, train_percent=0.80)"
   ]
  },
  {
   "cell_type": "code",
   "execution_count": 42,
   "metadata": {},
   "outputs": [
    {
     "name": "stdout",
     "output_type": "stream",
     "text": [
      "100.00/32908.70\n",
      "200.00/32183.28\n",
      "300.00/31966.54\n",
      "400.00/31900.22\n",
      "500.00/31879.24\n",
      "600.00/31872.31\n",
      "700.00/31869.89\n",
      "800.00/31868.98\n",
      "900.00/31868.60\n",
      "1.00K/31868.43\n",
      "1.10K/31868.34\n",
      "1.20K/31868.30\n",
      "1.30K/31868.27\n",
      "1.40K/31868.26\n",
      "1.50K/31868.25\n",
      "1.60K/31868.25\n",
      "1.70K/31868.24\n",
      "1.80K/31868.24\n",
      "1.90K/31868.24\n",
      "2.00K/31868.24\n",
      "2.10K/31868.24\n",
      "2.20K/31868.24\n",
      "2.30K/31868.24\n",
      "2.40K/31868.24\n",
      "2.50K/31868.24\n",
      "2.60K/31868.24\n",
      "2.70K/31868.24\n",
      "2.80K/31868.24\n",
      "2.90K/31868.24\n",
      "3.00K/31868.24\n",
      "3.10K/31868.24\n",
      "3.20K/31868.24\n",
      "3.30K/31868.24\n",
      "3.40K/31868.24\n",
      "3.50K/31868.24\n",
      "3.60K/31868.24\n",
      "3.70K/31868.24\n",
      "3.80K/31868.24\n",
      "3.90K/31868.24\n",
      "4.00K/31868.24\n"
     ]
    }
   ],
   "source": [
    "# Parametres per defecte del model\n",
    "w0 = np.random.normal(size=(1, X.shape[1]))\n",
    "\n",
    "# Optimització del model sobre train\n",
    "wf = gradient_descend(lambda w: model(w, X_train, Y_train), w0, 0.01, max_iter=5000, print_iters=100) # ~ @2min\n",
    "\n",
    "# Realitzem la predicció sobre test\n",
    "y_pred = linear_regression(X_test, wf)\n",
    "y_pred = np.maximum(np.min(Y), y_pred)"
   ]
  },
  {
   "cell_type": "code",
   "execution_count": 43,
   "metadata": {},
   "outputs": [
    {
     "name": "stdout",
     "output_type": "stream",
     "text": [
      "Mean error: 52.13\n"
     ]
    },
    {
     "data": {
      "image/png": "[encoded data removed]",
      "text/plain": [
       "<Figure size 1440x216 with 1 Axes>"
      ]
     },
     "metadata": {
      "needs_background": "light"
     },
     "output_type": "display_data"
    }
   ],
   "source": [
    "# Mostrem únicament 100 dades en el gràfic\n",
    "size = 100\n",
    "sample = np.random.choice(X_test.shape[0], size=size, replace=False)\n",
    "\n",
    "# Mínima i màxima Y a mostrar en el gràfic\n",
    "miny = np.minimum(y_pred[sample].min(), Y_test[sample].min()) - 10\n",
    "maxy = np.maximum(y_pred[sample].max(), Y_test[sample].max()) + 1e3\n",
    "\n",
    "# Visualització de les dades originals i les prediccions\n",
    "plt.figure(figsize=(20, 3))\n",
    "plt.scatter(range(size), Y_test[sample], color='green', label = 'price')\n",
    "plt.scatter(range(size), y_pred[sample], color='red', label = 'pred_price')\n",
    "plt.xlabel('100 random samples')\n",
    "plt.ylabel('Total population (log scale)')\n",
    "plt.yscale('symlog')\n",
    "plt.ylim([miny, maxy])\n",
    "plt.grid(axis='y', which='minor', alpha=0.2)\n",
    "plt.grid(axis='y', which='major', alpha=0.3)\n",
    "plt.legend()\n",
    "\n",
    "for x in range(size):\n",
    "    plt.plot((x, x), (miny, maxy), '-.', color='gray', alpha=0.2)\n",
    "\n",
    "print('Mean error: {:.2f}'.format(np.mean(np.abs(Y_test - y_pred))))"
   ]
  },
  {
   "cell_type": "markdown",
   "metadata": {},
   "source": [
    "## Impacte de les dimensions del vector de característiques sobre una regressió lineal\n",
    "\n",
    "**Explorem com l'ús de més o menys informació impacta sobre el model.**\n",
    "\n",
    "**És possible obtenir un millor model amb menys dades?**\n",
    "\n",
    "<hr />\n",
    "\n",
    "* RECORDA JUSTIFICAR LA RESPOSTA\n",
    "\n",
    "<hr />"
   ]
  },
  {
   "cell_type": "markdown",
   "metadata": {},
   "source": [
    ">> A continuació farem tests amb altres dades més simples per veure de forma més directe l'impacte que té les dimensions del vector de característiques sobre la regressió lineal, on la variable ordre simularà la dimensió del vector de característiques, **on Xi representa un feature**:"
   ]
  },
  {
   "cell_type": "code",
   "execution_count": 44,
   "metadata": {},
   "outputs": [
    {
     "data": {
      "image/png": "[encoded data removed]",
      "text/plain": [
       "<Figure size 432x288 with 1 Axes>"
      ]
     },
     "metadata": {
      "needs_background": "light"
     },
     "output_type": "display_data"
    }
   ],
   "source": [
    "# AQUÍ EL TEU CODI\n",
    "\n",
    "#x_train = np.array([[6],[8],[10],[14],[18]])\n",
    "#y_train = np.array([[7],[9],[13],[17.5],[18]])\n",
    "x_train = np.array([6,8,10,14,18])\n",
    "y_train = np.array([7,9,13,17.5,18])\n",
    "\n",
    "order = 1\n",
    "\n",
    "x = np.linspace(0,20,20)\n",
    "f = np.polyfit(x_train,y_train,order)\n",
    "p = np.poly1d(f)\n",
    "\n",
    "plt.xlabel('Diametre de pizza')\n",
    "plt.ylabel('Preu del pizza')\n",
    "plt.title('Regressió')\n",
    "plt.plot(x_train,y_train,'ro',x,p(x),'-')\n",
    "plt.show()"
   ]
  },
  {
   "cell_type": "markdown",
   "metadata": {},
   "source": [
    ">> Suposem que el vector x_train conté les dades dels diferetns diàmtres de pizzes, i y_train el preu correpsonent segons el diàmetre del pizza. I amb el model intentarem predir el preu de pizza.  \n",
    "Amb ordre = 1, obtenim la gràfica següent: podem veure que el model és massa senzill de forma que no s'ajusta molt bé a les dades, és a dir, es produeix un underfitting."
   ]
  },
  {
   "cell_type": "code",
   "execution_count": 45,
   "metadata": {},
   "outputs": [
    {
     "data": {
      "image/png": "[encoded data removed]",
      "text/plain": [
       "<Figure size 432x288 with 1 Axes>"
      ]
     },
     "metadata": {
      "needs_background": "light"
     },
     "output_type": "display_data"
    }
   ],
   "source": [
    "order = 2\n",
    "\n",
    "x = np.linspace(0,20,20)\n",
    "f = np.polyfit(x_train,y_train,order)\n",
    "p = np.poly1d(f)\n",
    "\n",
    "plt.xlabel('Diametre de pizza')\n",
    "plt.ylabel('Preu del pizza')\n",
    "plt.title('Regressió')\n",
    "plt.plot(x_train,y_train,'ro',x,p(x),'-')\n",
    "plt.show()"
   ]
  },
  {
   "cell_type": "markdown",
   "metadata": {},
   "source": [
    ">> Amb un ordre = 2, s'aproxima força bé (per les dades que disposem)."
   ]
  },
  {
   "cell_type": "code",
   "execution_count": 46,
   "metadata": {},
   "outputs": [
    {
     "name": "stderr",
     "output_type": "stream",
     "text": [
      "C:\\Users\\JUNJIE_LI\\AppData\\Local\\Temp\\ipykernel_18436\\566682025.py:4: RankWarning: Polyfit may be poorly conditioned\n",
      "  f = np.polyfit(x_train,y_train,order)\n"
     ]
    },
    {
     "data": {
      "image/png": "[encoded data removed]",
      "text/plain": [
       "<Figure size 432x288 with 1 Axes>"
      ]
     },
     "metadata": {
      "needs_background": "light"
     },
     "output_type": "display_data"
    }
   ],
   "source": [
    "order = 8\n",
    "\n",
    "x = np.linspace(0,20,20)\n",
    "f = np.polyfit(x_train,y_train,order)\n",
    "p = np.poly1d(f)\n",
    "\n",
    "plt.xlabel('Diametre de pizza')\n",
    "plt.ylabel('Preu del pizza')\n",
    "plt.title('Regressió')\n",
    "plt.plot(x_train,y_train,'ro',x,p(x),'-')\n",
    "plt.show()"
   ]
  },
  {
   "cell_type": "markdown",
   "metadata": {},
   "source": [
    ">> Amb ordre = 8, es pot veure clarament que es produeix el fenòmen d'overfitting. Podem veure que el model s'aproxima molt bé a les dades del conjunt que hem definit, però alhora veiem que per altres dades que no estan al nostre conjunt, com per exemple el 0, o 20, ens donen valors que no tenen sentit, és a dir, ens donen males aproximacions."
   ]
  },
  {
   "cell_type": "markdown",
   "metadata": {},
   "source": [
    "\n",
    "\n",
    ">> Per tant, podem dir que no sempre podem obtindre un millor model a mesura que anem augmentant la dimensió del vector de característiques, així la seva complexitat. Perquè ens pot produir l'efecte d'overfitting i perdem la capacitat de predir i fer bones aproximacions. En general, tenint en compte la capacitat de generalització del model, seleccionarem un model amb una complexitat moderada, és a dir amb una dimensió moderada."
   ]
  }
 ],
 "metadata": {
  "kernelspec": {
   "display_name": "Python 3.9.12 ('base')",
   "language": "python",
   "name": "python3"
  },
  "language_info": {
   "codemirror_mode": {
    "name": "ipython",
    "version": 3
   },
   "file_extension": ".py",
   "mimetype": "text/x-python",
   "name": "python",
   "nbconvert_exporter": "python",
   "pygments_lexer": "ipython3",
   "version": "3.9.12"
  },
  "vscode": {
   "interpreter": {
    "hash": "90fed515b7734aabf0d0d60c56e1b4ca7689adec66ddda4b20199f9e4ac409df"
   }
  }
 },
 "nbformat": 4,
 "nbformat_minor": 4
}
