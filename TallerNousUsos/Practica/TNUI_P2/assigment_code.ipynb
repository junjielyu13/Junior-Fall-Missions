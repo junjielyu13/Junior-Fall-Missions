{
 "cells": [
  {
   "cell_type": "markdown",
   "metadata": {
    "id": "fQcQAvOO7_Hb"
   },
   "source": [
    "# Recomanador Simple"
   ]
  },
  {
   "cell_type": "markdown",
   "metadata": {
    "id": "jA23uCs6wksC"
   },
   "source": [
    "## 1. INFORMACIÓ "
   ]
  },
  {
   "cell_type": "markdown",
   "metadata": {},
   "source": [
    "### 1.1. Abans de començar...\n",
    "\n",
    "**\\+ Durant la pràctica, solament es podran fer servir les següents llibreries**:\n",
    "\n",
    "`Pandas, Numpy, Itertools`\n",
    "\n",
    "*Nota: A més de les que ja es troben presents en la 1a cel·la i funcions natives de Python*\n",
    "\n",
    "**\\+ No es poden modificar les definicions de les funcions donades, ni canviar els noms de les variables i paràmetres ja donats**\n",
    "\n",
    "Això no implica però que els hàgiu de fer servir. És a dir, que la funció tingui un paràmetre anomenat `df` no implica que l'hàgiu de fer servir, si no ho trobeu convenient.\n",
    "\n",
    "**\\+ En les funcions, s'especifica que serà i de quin tipus cada un dels paràmetres, cal respectar-ho**\n",
    "\n",
    "Per exemple (ho posarà en el pydoc de la funció), `df` sempre serà indicatiu del `Pandas.DataFrame` de les dades. Durant la correcció, els paràmetres (i específicament `df`) no contindran les mateixes dades que en aquest notebook, si bé si seran del mateix tipus! Per tant, no us refieu de què tinguin, per exemple, el mateix nombre de files."
   ]
  },
  {
   "cell_type": "markdown",
   "metadata": {
    "id": "9rsNZQEvueYW"
   },
   "source": [
    "### 1.2. Consum general"
   ]
  },
  {
   "cell_type": "markdown",
   "metadata": {
    "id": "Ve8NdxrB7_Hc"
   },
   "source": [
    "La base de dades [movielens-1M](http://www.grouplens.org/node/73) conté 1,000,209 puntuacions de 3.900 pel·licules fetes l'any 2000 per 6.040 usuaris anònims del recomanador online [MovieLens](http://www.movielens.org/). "
   ]
  },
  {
   "cell_type": "markdown",
   "metadata": {
    "id": "P6urN1BW7_Hd"
   },
   "source": [
    "El consum total de tots els usuaris s'hi pot trobar al document \"ratings.dat\" el format següent:\n",
    "\n",
    "    UserID::MovieID::Rating::Timestamp\n",
    "\n",
    "- **UserIDs** usuaris amb id's entre 1 i 6040 \n",
    "- **MovieIDs** pelis amb id's entre 1 i 3952\n",
    "- **Ratings** són les puntuacions en una escala de 5 estrelles.\n",
    "- **Timestamp** representat en segons\n",
    "\n",
    "> Cada usuari té com a mínim 20 interaccions consumides."
   ]
  },
  {
   "cell_type": "markdown",
   "metadata": {
    "id": "AnjjZz6Sr_de"
   },
   "source": [
    "### 1.3. Usuaris\n"
   ]
  },
  {
   "cell_type": "markdown",
   "metadata": {
    "id": "NczG1-ixuu-D"
   },
   "source": [
    "\n",
    "Al fitxer \"users.dat\" hi trobem la informació referent a cadascun dels usuaris en el següent format:\n",
    "\n",
    "        UserID::Gender::Age::Occupation::Zip-code\n",
    "\n",
    "- **Gender** ve donat per \"M\" per home i \"F\" per dona.\n",
    "- **Age** està representada de la següent forma:\n",
    "\n",
    "\t*  1:  \"Under 18\"\n",
    "\t* 18:  \"18-24\"\n",
    "\t* 25:  \"25-34\"\n",
    "\t* 35:  \"35-44\"\n",
    "\t* 45:  \"45-49\"\n",
    "\t* 50:  \"50-55\"\n",
    "\t* 56:  \"56+\"\n",
    "\n",
    "- **Occupation** es tria entre les següents opcions:\n",
    "\n",
    "\t*  0:  \"other\" or not specified\n",
    "\t*  1:  \"academic/educator\"\n",
    "\t*  2:  \"artist\"\n",
    "\t*  3:  \"clerical/admin\"\n",
    "\t*  4:  \"college/grad student\"\n",
    "\t*  5:  \"customer service\"\n",
    "\t*  6:  \"doctor/health care\"\n",
    "\t*  7:  \"executive/managerial\"\n",
    "\t*  8:  \"farmer\"\n",
    "\t*  9:  \"homemaker\"\n",
    "\t* 10:  \"K-12 student\"\n",
    "\t* 11:  \"lawyer\"\n",
    "\t* 12:  \"programmer\"\n",
    "\t* 13:  \"retired\"\n",
    "\t* 14:  \"sales/marketing\"\n",
    "\t* 15:  \"scientist\"\n",
    "\t* 16:  \"self-employed\"\n",
    "\t* 17:  \"technician/engineer\"\n",
    "\t* 18:  \"tradesman/craftsman\"\n",
    "\t* 19:  \"unemployed\"\n",
    "\t* 20:  \"writer\"\n",
    "\n",
    "> Els usuaris han donat la informació voluntariament. Així doncs, alguns usuaris poden no tenir informació.\n"
   ]
  },
  {
   "cell_type": "markdown",
   "metadata": {
    "id": "7Usgj7Vgupkw"
   },
   "source": [
    "### 1.4. Películes\n"
   ]
  },
  {
   "cell_type": "markdown",
   "metadata": {
    "id": "W9l--Lg7up4i"
   },
   "source": [
    "\n",
    "Al fitxer \"movies.dat\" hi trobem la informació referent a cadascuna de les películes en el següent format:\n",
    "\n",
    "        MovieID::Title::Genres\n",
    "\n",
    "- **Titles** són identics als titols de la base de dades IMDB, incloent l'any de llançament.\n",
    "- **Genres** de les películes estan separats i seleccionats d'entre els següents:\n",
    "\n",
    "\t* Action\n",
    "\t* Adventure\n",
    "\t* Animation\n",
    "\t* Children's\n",
    "\t* Comedy\n",
    "\t* Crime\n",
    "\t* Documentary\n",
    "\t* Drama\n",
    "\t* Fantasy\n",
    "\t* Film-Noir\n",
    "\t* Horror\n",
    "\t* Musical\n",
    "\t* Mystery\n",
    "\t* Romance\n",
    "\t* Sci-Fi\n",
    "\t* Thriller\n",
    "\t* War\n",
    "\t* Western\n",
    "\n",
    "> Algunes películes poden tenir el ID malament degut a duplicats accidentals.\n",
    ">\n",
    "> Les películes s'han entrat manualment, així que altres inconsistencies poden existir. "
   ]
  },
  {
   "cell_type": "markdown",
   "metadata": {
    "id": "Ga800aP7uyT2"
   },
   "source": [
    "## 2. COMENCEM: explorem les dades!!"
   ]
  },
  {
   "cell_type": "markdown",
   "metadata": {
    "id": "TCfsud8VvBqJ"
   },
   "source": [
    "### 2.1. Descarregar i llegir dades"
   ]
  },
  {
   "cell_type": "markdown",
   "metadata": {
    "id": "8wj0kd3A7_He"
   },
   "source": [
    "+ Baixa't els fitxers que composen la base de dades i els còpies al teu directori de treball. "
   ]
  },
  {
   "cell_type": "markdown",
   "metadata": {
    "id": "SN_zOl7G7_He"
   },
   "source": [
    "+ Llegeix les tres taules de la base de dades en tres DataFrames de pandas amb aquest codi:"
   ]
  },
  {
   "cell_type": "code",
   "execution_count": 11,
   "metadata": {
    "colab": {
     "base_uri": "https://localhost:8080/"
    },
    "id": "DdKD0BRs8DgU",
    "outputId": "e4fb921e-5c57-4277-e61c-b8254e9265c3"
   },
   "outputs": [
    {
     "name": "stderr",
     "output_type": "stream",
     "text": [
      "'wget' �����ڲ����ⲿ���Ҳ���ǿ����еĳ���\n",
      "���������ļ���\n",
      "'unzip' �����ڲ����ⲿ���Ҳ���ǿ����еĳ���\n",
      "���������ļ���\n"
     ]
    }
   ],
   "source": [
    "!wget https://files.grouplens.org/datasets/movielens/ml-1m.zip\n",
    "!unzip ml-1m.zip"
   ]
  },
  {
   "cell_type": "code",
   "execution_count": 12,
   "metadata": {
    "collapsed": false,
    "id": "UnM-iE1a7_He",
    "jupyter": {
     "outputs_hidden": false
    }
   },
   "outputs": [],
   "source": [
    "import pandas as pd\n",
    "unames = ['user_id', 'gender', 'age', 'occupation', 'zip']\n",
    "users = pd.read_table('ml-1m/users.dat', sep='::', header=None, names=unames, engine='python')\n",
    "rnames = ['user_id', 'movie_id', 'rating', 'timestamp']\n",
    "ratings = pd.read_table('ml-1m/ratings.dat', sep='::', header=None, names=rnames, engine='python')\n",
    "mnames = ['movie_id', 'title', 'genres']\n",
    "movies = pd.read_table('ml-1m/movies.dat', sep='::', header=None, names=mnames, engine='python', encoding='latin-1')\n"
   ]
  },
  {
   "cell_type": "markdown",
   "metadata": {
    "id": "UgE08I4i7_Hf"
   },
   "source": [
    "### 2.2. Inspecció de les taules"
   ]
  },
  {
   "cell_type": "code",
   "execution_count": 13,
   "metadata": {
    "colab": {
     "base_uri": "https://localhost:8080/",
     "height": 363
    },
    "collapsed": false,
    "id": "YeiRpOEm7_Hf",
    "jupyter": {
     "outputs_hidden": false
    },
    "outputId": "7f3239d1-2d90-40fd-d2c7-6a26fbf9be73"
   },
   "outputs": [
    {
     "data": {
      "text/html": [
       "<div>\n",
       "<style scoped>\n",
       "    .dataframe tbody tr th:only-of-type {\n",
       "        vertical-align: middle;\n",
       "    }\n",
       "\n",
       "    .dataframe tbody tr th {\n",
       "        vertical-align: top;\n",
       "    }\n",
       "\n",
       "    .dataframe thead th {\n",
       "        text-align: right;\n",
       "    }\n",
       "</style>\n",
       "<table border=\"1\" class=\"dataframe\">\n",
       "  <thead>\n",
       "    <tr style=\"text-align: right;\">\n",
       "      <th></th>\n",
       "      <th>user_id</th>\n",
       "      <th>gender</th>\n",
       "      <th>age</th>\n",
       "      <th>occupation</th>\n",
       "      <th>zip</th>\n",
       "    </tr>\n",
       "  </thead>\n",
       "  <tbody>\n",
       "    <tr>\n",
       "      <th>0</th>\n",
       "      <td>1</td>\n",
       "      <td>F</td>\n",
       "      <td>1</td>\n",
       "      <td>10</td>\n",
       "      <td>48067</td>\n",
       "    </tr>\n",
       "    <tr>\n",
       "      <th>1</th>\n",
       "      <td>2</td>\n",
       "      <td>M</td>\n",
       "      <td>56</td>\n",
       "      <td>16</td>\n",
       "      <td>70072</td>\n",
       "    </tr>\n",
       "    <tr>\n",
       "      <th>2</th>\n",
       "      <td>3</td>\n",
       "      <td>M</td>\n",
       "      <td>25</td>\n",
       "      <td>15</td>\n",
       "      <td>55117</td>\n",
       "    </tr>\n",
       "    <tr>\n",
       "      <th>3</th>\n",
       "      <td>4</td>\n",
       "      <td>M</td>\n",
       "      <td>45</td>\n",
       "      <td>7</td>\n",
       "      <td>02460</td>\n",
       "    </tr>\n",
       "    <tr>\n",
       "      <th>4</th>\n",
       "      <td>5</td>\n",
       "      <td>M</td>\n",
       "      <td>25</td>\n",
       "      <td>20</td>\n",
       "      <td>55455</td>\n",
       "    </tr>\n",
       "    <tr>\n",
       "      <th>5</th>\n",
       "      <td>6</td>\n",
       "      <td>F</td>\n",
       "      <td>50</td>\n",
       "      <td>9</td>\n",
       "      <td>55117</td>\n",
       "    </tr>\n",
       "    <tr>\n",
       "      <th>6</th>\n",
       "      <td>7</td>\n",
       "      <td>M</td>\n",
       "      <td>35</td>\n",
       "      <td>1</td>\n",
       "      <td>06810</td>\n",
       "    </tr>\n",
       "    <tr>\n",
       "      <th>7</th>\n",
       "      <td>8</td>\n",
       "      <td>M</td>\n",
       "      <td>25</td>\n",
       "      <td>12</td>\n",
       "      <td>11413</td>\n",
       "    </tr>\n",
       "    <tr>\n",
       "      <th>8</th>\n",
       "      <td>9</td>\n",
       "      <td>M</td>\n",
       "      <td>25</td>\n",
       "      <td>17</td>\n",
       "      <td>61614</td>\n",
       "    </tr>\n",
       "    <tr>\n",
       "      <th>9</th>\n",
       "      <td>10</td>\n",
       "      <td>F</td>\n",
       "      <td>35</td>\n",
       "      <td>1</td>\n",
       "      <td>95370</td>\n",
       "    </tr>\n",
       "  </tbody>\n",
       "</table>\n",
       "</div>"
      ],
      "text/plain": [
       "   user_id gender  age  occupation    zip\n",
       "0        1      F    1          10  48067\n",
       "1        2      M   56          16  70072\n",
       "2        3      M   25          15  55117\n",
       "3        4      M   45           7  02460\n",
       "4        5      M   25          20  55455\n",
       "5        6      F   50           9  55117\n",
       "6        7      M   35           1  06810\n",
       "7        8      M   25          12  11413\n",
       "8        9      M   25          17  61614\n",
       "9       10      F   35           1  95370"
      ]
     },
     "execution_count": 13,
     "metadata": {},
     "output_type": "execute_result"
    }
   ],
   "source": [
    "users[:10]"
   ]
  },
  {
   "cell_type": "code",
   "execution_count": 14,
   "metadata": {
    "colab": {
     "base_uri": "https://localhost:8080/",
     "height": 363
    },
    "collapsed": false,
    "id": "EBfcmBPv7_Hg",
    "jupyter": {
     "outputs_hidden": false
    },
    "outputId": "6564e017-5020-4d0d-ae35-756f0839acd8"
   },
   "outputs": [
    {
     "data": {
      "text/html": [
       "<div>\n",
       "<style scoped>\n",
       "    .dataframe tbody tr th:only-of-type {\n",
       "        vertical-align: middle;\n",
       "    }\n",
       "\n",
       "    .dataframe tbody tr th {\n",
       "        vertical-align: top;\n",
       "    }\n",
       "\n",
       "    .dataframe thead th {\n",
       "        text-align: right;\n",
       "    }\n",
       "</style>\n",
       "<table border=\"1\" class=\"dataframe\">\n",
       "  <thead>\n",
       "    <tr style=\"text-align: right;\">\n",
       "      <th></th>\n",
       "      <th>user_id</th>\n",
       "      <th>gender</th>\n",
       "      <th>age</th>\n",
       "      <th>occupation</th>\n",
       "      <th>zip</th>\n",
       "    </tr>\n",
       "  </thead>\n",
       "  <tbody>\n",
       "    <tr>\n",
       "      <th>6030</th>\n",
       "      <td>6031</td>\n",
       "      <td>F</td>\n",
       "      <td>18</td>\n",
       "      <td>0</td>\n",
       "      <td>45123</td>\n",
       "    </tr>\n",
       "    <tr>\n",
       "      <th>6031</th>\n",
       "      <td>6032</td>\n",
       "      <td>M</td>\n",
       "      <td>45</td>\n",
       "      <td>7</td>\n",
       "      <td>55108</td>\n",
       "    </tr>\n",
       "    <tr>\n",
       "      <th>6032</th>\n",
       "      <td>6033</td>\n",
       "      <td>M</td>\n",
       "      <td>50</td>\n",
       "      <td>13</td>\n",
       "      <td>78232</td>\n",
       "    </tr>\n",
       "    <tr>\n",
       "      <th>6033</th>\n",
       "      <td>6034</td>\n",
       "      <td>M</td>\n",
       "      <td>25</td>\n",
       "      <td>14</td>\n",
       "      <td>94117</td>\n",
       "    </tr>\n",
       "    <tr>\n",
       "      <th>6034</th>\n",
       "      <td>6035</td>\n",
       "      <td>F</td>\n",
       "      <td>25</td>\n",
       "      <td>1</td>\n",
       "      <td>78734</td>\n",
       "    </tr>\n",
       "    <tr>\n",
       "      <th>6035</th>\n",
       "      <td>6036</td>\n",
       "      <td>F</td>\n",
       "      <td>25</td>\n",
       "      <td>15</td>\n",
       "      <td>32603</td>\n",
       "    </tr>\n",
       "    <tr>\n",
       "      <th>6036</th>\n",
       "      <td>6037</td>\n",
       "      <td>F</td>\n",
       "      <td>45</td>\n",
       "      <td>1</td>\n",
       "      <td>76006</td>\n",
       "    </tr>\n",
       "    <tr>\n",
       "      <th>6037</th>\n",
       "      <td>6038</td>\n",
       "      <td>F</td>\n",
       "      <td>56</td>\n",
       "      <td>1</td>\n",
       "      <td>14706</td>\n",
       "    </tr>\n",
       "    <tr>\n",
       "      <th>6038</th>\n",
       "      <td>6039</td>\n",
       "      <td>F</td>\n",
       "      <td>45</td>\n",
       "      <td>0</td>\n",
       "      <td>01060</td>\n",
       "    </tr>\n",
       "    <tr>\n",
       "      <th>6039</th>\n",
       "      <td>6040</td>\n",
       "      <td>M</td>\n",
       "      <td>25</td>\n",
       "      <td>6</td>\n",
       "      <td>11106</td>\n",
       "    </tr>\n",
       "  </tbody>\n",
       "</table>\n",
       "</div>"
      ],
      "text/plain": [
       "      user_id gender  age  occupation    zip\n",
       "6030     6031      F   18           0  45123\n",
       "6031     6032      M   45           7  55108\n",
       "6032     6033      M   50          13  78232\n",
       "6033     6034      M   25          14  94117\n",
       "6034     6035      F   25           1  78734\n",
       "6035     6036      F   25          15  32603\n",
       "6036     6037      F   45           1  76006\n",
       "6037     6038      F   56           1  14706\n",
       "6038     6039      F   45           0  01060\n",
       "6039     6040      M   25           6  11106"
      ]
     },
     "execution_count": 14,
     "metadata": {},
     "output_type": "execute_result"
    }
   ],
   "source": [
    "users[-10:]"
   ]
  },
  {
   "cell_type": "code",
   "execution_count": null,
   "metadata": {
    "colab": {
     "base_uri": "https://localhost:8080/",
     "height": 363
    },
    "collapsed": false,
    "id": "ClIF_jSR7_Hg",
    "jupyter": {
     "outputs_hidden": false
    },
    "outputId": "30d73ea9-5cd0-4182-cc2f-0d3fea02844f"
   },
   "outputs": [],
   "source": [
    "ratings[-10:]"
   ]
  },
  {
   "cell_type": "code",
   "execution_count": null,
   "metadata": {
    "colab": {
     "base_uri": "https://localhost:8080/",
     "height": 363
    },
    "collapsed": false,
    "id": "_0rLOKXd7_Hg",
    "jupyter": {
     "outputs_hidden": false
    },
    "outputId": "531d0ea5-86b0-4365-be8c-a676139b9d83"
   },
   "outputs": [],
   "source": [
    "ratings[:10]"
   ]
  },
  {
   "cell_type": "code",
   "execution_count": null,
   "metadata": {
    "colab": {
     "base_uri": "https://localhost:8080/",
     "height": 206
    },
    "collapsed": false,
    "id": "MGJCDjya7_Hg",
    "jupyter": {
     "outputs_hidden": false
    },
    "outputId": "07a26450-2f9f-4951-e2f9-f07a1d425eda"
   },
   "outputs": [],
   "source": [
    "ratings.sort_values('movie_id')[:5]\n"
   ]
  },
  {
   "cell_type": "code",
   "execution_count": null,
   "metadata": {
    "colab": {
     "base_uri": "https://localhost:8080/",
     "height": 206
    },
    "collapsed": false,
    "id": "u_9RNoEA7_Hh",
    "jupyter": {
     "outputs_hidden": false
    },
    "outputId": "c9440353-8b55-4886-d076-279cdba3bd7e"
   },
   "outputs": [],
   "source": [
    "movies[:5]"
   ]
  },
  {
   "cell_type": "code",
   "execution_count": null,
   "metadata": {
    "colab": {
     "base_uri": "https://localhost:8080/",
     "height": 206
    },
    "collapsed": false,
    "id": "vEXHJDc17_Hh",
    "jupyter": {
     "outputs_hidden": false
    },
    "outputId": "d687d49e-df07-4ad9-c2ec-8ac4b87e1c0d"
   },
   "outputs": [],
   "source": [
    "ratings[:5]"
   ]
  },
  {
   "cell_type": "markdown",
   "metadata": {
    "id": "gni6mASQ7_Hh"
   },
   "source": [
    "### **Exemple:** Fent càlculs sobre DataFrames."
   ]
  },
  {
   "cell_type": "markdown",
   "metadata": {
    "id": "eb_fcvVc7_Hh"
   },
   "source": [
    "Suposa que volem calcular les **puntuacions mitjanes d'una pel·licula per sexe o edat**. "
   ]
  },
  {
   "cell_type": "markdown",
   "metadata": {
    "id": "QXS6U-auvXKQ"
   },
   "source": [
    "\n",
    "El primer pas a obtenir una única estructura que contingui tota la informació. Per fer-ho podem usar la funció ``merge`` de pandas. Aquesta funció infereix automàticament quines columnes ha d'usar per fer el ``merge`` basant-se en els noms que fan intersecció:"
   ]
  },
  {
   "cell_type": "code",
   "execution_count": null,
   "metadata": {
    "colab": {
     "base_uri": "https://localhost:8080/",
     "height": 424
    },
    "collapsed": false,
    "id": "ZgrFQBF67_Hh",
    "jupyter": {
     "outputs_hidden": false
    },
    "outputId": "489c28d5-bc48-4fe3-b90f-62d7e8ae6976"
   },
   "outputs": [],
   "source": [
    "data = pd.merge(pd.merge(ratings, users), movies)\n",
    "\n",
    "# Visualitzem la taula ordenada per identificar d'usuari\n",
    "data.sort_values(by='user_id')[:10]"
   ]
  },
  {
   "cell_type": "markdown",
   "metadata": {
    "id": "_ZUmLfmb7_Hh"
   },
   "source": [
    "La funció ``iloc`` ens permet obtenir un subconjunt de files i/o columnes:"
   ]
  },
  {
   "cell_type": "code",
   "execution_count": null,
   "metadata": {
    "colab": {
     "base_uri": "https://localhost:8080/",
     "height": 112
    },
    "collapsed": false,
    "id": "KD1bJDTl7_Hi",
    "jupyter": {
     "outputs_hidden": false
    },
    "outputId": "fd968406-056b-4379-b392-260a59625734"
   },
   "outputs": [],
   "source": [
    "data.iloc[3:5]"
   ]
  },
  {
   "cell_type": "markdown",
   "metadata": {
    "id": "zAUedYqE7_Hi"
   },
   "source": [
    "Els índexs Boolans ens permeten seleccionar una part de la taula que compleix una condició."
   ]
  },
  {
   "cell_type": "code",
   "execution_count": null,
   "metadata": {
    "colab": {
     "base_uri": "https://localhost:8080/"
    },
    "collapsed": false,
    "id": "QY4xV2xo7_Hi",
    "jupyter": {
     "outputs_hidden": false
    },
    "outputId": "4feb10e7-4644-43e1-bed2-4e662f5bab5b"
   },
   "outputs": [],
   "source": [
    "# comptem quin tant per cent de ratings estan fets per una dona\n",
    "print(data[data['gender']=='F']['rating'].count()/float(data['rating'].count()), '%')"
   ]
  },
  {
   "cell_type": "markdown",
   "metadata": {
    "id": "C1F4nsNa7_Hi"
   },
   "source": [
    "Per obtenir les **puntuacions mitjanes de cada pel·licula agrupada per edat** podem usar el mètode ``pivot_table`` que és una forma de \"canviar\" la forma de la taula especificant quin valor agregat (mitjançant una funció predefinida) hi volem en funció dels valors de dues columnes:"
   ]
  },
  {
   "cell_type": "code",
   "execution_count": null,
   "metadata": {
    "colab": {
     "base_uri": "https://localhost:8080/",
     "height": 394
    },
    "collapsed": false,
    "id": "0ggg8fUI7_Hi",
    "jupyter": {
     "outputs_hidden": false
    },
    "outputId": "001f655c-45d9-4bc8-d088-d5fbeb13e445"
   },
   "outputs": [],
   "source": [
    "mean_ratings = data.pivot_table(values= 'rating', index='title', columns='age', aggfunc='mean')\n",
    "mean_ratings[:10]"
   ]
  },
  {
   "cell_type": "markdown",
   "metadata": {
    "id": "zULR8Fzw7_Hj"
   },
   "source": [
    "Per obtenir les **puntuacions mitjanes de cada pel·licula agrupada per sexe**:"
   ]
  },
  {
   "cell_type": "code",
   "execution_count": null,
   "metadata": {
    "colab": {
     "base_uri": "https://localhost:8080/",
     "height": 394
    },
    "collapsed": false,
    "id": "WZw7KdtW7_Hj",
    "jupyter": {
     "outputs_hidden": false
    },
    "outputId": "3f937288-cf9a-4e77-8cb4-f34d44f90dd2"
   },
   "outputs": [],
   "source": [
    "mean_ratings = data.pivot_table('rating', index='title',columns='gender', aggfunc='mean')\n",
    "mean_ratings[:10]"
   ]
  },
  {
   "cell_type": "markdown",
   "metadata": {
    "id": "TpQNQ7la7_Hj"
   },
   "source": [
    "Si volgéssim fer càlculs només sobre les pel·licules que han rebut **al menys** 250 puntuacions, primer hem de construir una taula amb el nombre d'avaluacions de cada títol. Per fer-ho, agruparem les dades per títol (amb el mètode ``groupby``) i usarem ``size()`` el nombre.\n",
    "\n",
    "El mètode ``groupby`` implenta un o més d'aquests processos:\n",
    "\n",
    "+ Dividir les dades segons algun criteri.\n",
    "+ Aplicar una funció a cada grup.\n",
    "+ Combinar els resultats en una estructura de dades."
   ]
  },
  {
   "cell_type": "code",
   "execution_count": null,
   "metadata": {
    "colab": {
     "base_uri": "https://localhost:8080/"
    },
    "collapsed": false,
    "id": "tJ_W5m7L7_Hj",
    "jupyter": {
     "outputs_hidden": false
    },
    "outputId": "d0d950b6-ae50-4639-f012-6daab517d4dd"
   },
   "outputs": [],
   "source": [
    "ratings_by_title = data.groupby('title').size()\n",
    "print(ratings_by_title)"
   ]
  },
  {
   "cell_type": "markdown",
   "metadata": {
    "id": "AQDqWCDu7_Hj"
   },
   "source": [
    "Llavors podem crear un índex amb els títols amb més de 250 avaluacions."
   ]
  },
  {
   "cell_type": "code",
   "execution_count": null,
   "metadata": {
    "collapsed": false,
    "id": "tTqJNSSn7_Hk",
    "jupyter": {
     "outputs_hidden": false
    }
   },
   "outputs": [],
   "source": [
    "active_titles = ratings_by_title.index[ratings_by_title >= 250]\n",
    "active_titles"
   ]
  },
  {
   "cell_type": "markdown",
   "metadata": {
    "id": "rWtgNCQ67_Hk"
   },
   "source": [
    "L'índex de títols que reben al menys 250 puntuacions es pot fer servir per seleccionar les files de ``mean_ratings``: "
   ]
  },
  {
   "cell_type": "code",
   "execution_count": null,
   "metadata": {
    "colab": {
     "base_uri": "https://localhost:8080/",
     "height": 455
    },
    "collapsed": false,
    "id": "ik9QypUc7_Hk",
    "jupyter": {
     "outputs_hidden": false
    },
    "outputId": "bb8a1f11-5de1-44f4-8bcc-701751f764d8"
   },
   "outputs": [],
   "source": [
    "mean_ratings = mean_ratings.loc[active_titles]\n",
    "mean_ratings"
   ]
  },
  {
   "cell_type": "markdown",
   "metadata": {
    "id": "zpqV3wms7_Hk"
   },
   "source": [
    "Per veure els films més valorats per les dones, podem ordenar per la columna F de forma descendent:"
   ]
  },
  {
   "cell_type": "code",
   "execution_count": null,
   "metadata": {
    "colab": {
     "base_uri": "https://localhost:8080/",
     "height": 394
    },
    "collapsed": false,
    "id": "Kj7FwATG7_Hk",
    "jupyter": {
     "outputs_hidden": false
    },
    "outputId": "ef3ad940-af96-4d50-8d98-cc59637ff426"
   },
   "outputs": [],
   "source": [
    "top_female_ratings = mean_ratings.sort_values(by='F', ascending=False)\n",
    "top_female_ratings[:10]"
   ]
  },
  {
   "cell_type": "markdown",
   "metadata": {
    "id": "chZZgTE_7_Hk"
   },
   "source": [
    "Suposem ara que volem les pel·licules que estan valorades de forma més diferent entre homes i dones. Una forma d'obtenir-ho és afegir una columna a ``mean_ratings`` que contingui la diferència en mitjana i llavors ordenar:"
   ]
  },
  {
   "cell_type": "code",
   "execution_count": null,
   "metadata": {
    "collapsed": false,
    "id": "YNK0fGWA7_Hl",
    "jupyter": {
     "outputs_hidden": false
    }
   },
   "outputs": [],
   "source": [
    "mean_ratings['diff'] = mean_ratings['M'] - mean_ratings['F']"
   ]
  },
  {
   "cell_type": "markdown",
   "metadata": {
    "id": "TCJu7wsU7_Hl"
   },
   "source": [
    "Ordenant per ``diff`` ens dóna les pel·licules ben valorades per les dones que presenten més diferència entre homes i dones:"
   ]
  },
  {
   "cell_type": "code",
   "execution_count": null,
   "metadata": {
    "colab": {
     "base_uri": "https://localhost:8080/",
     "height": 551
    },
    "collapsed": false,
    "id": "Hh7BOQCm7_Hl",
    "jupyter": {
     "outputs_hidden": false
    },
    "outputId": "a84a6e79-ee5b-448a-fcb8-c181e357a1f7"
   },
   "outputs": [],
   "source": [
    "sorted_by_diff = mean_ratings.sort_values(by='diff')\n",
    "sorted_by_diff[:15]"
   ]
  },
  {
   "cell_type": "markdown",
   "metadata": {
    "id": "hS-I2mZs7_Hl"
   },
   "source": [
    "Invertint l'ordre de les files i fent un ``slicing`` de les 15 files superiors obtenim les pel·licules ben valorades pels homes que no han agradat a les dones: "
   ]
  },
  {
   "cell_type": "code",
   "execution_count": null,
   "metadata": {
    "colab": {
     "base_uri": "https://localhost:8080/",
     "height": 551
    },
    "collapsed": false,
    "id": "I3Xuc3OA7_Hl",
    "jupyter": {
     "outputs_hidden": false
    },
    "outputId": "94f7f810-d160-4ee6-fe09-5c8ba68bc213"
   },
   "outputs": [],
   "source": [
    "sorted_by_diff[::-1][:15]"
   ]
  },
  {
   "cell_type": "markdown",
   "metadata": {
    "id": "X8pwNADD7_Hm"
   },
   "source": [
    "Si volguéssim les pel·licules que han generat puntuacions més discordants, independentment del gènere, podem fer servir la variança o la desviació estàndard de les puntuacions: "
   ]
  },
  {
   "cell_type": "code",
   "execution_count": null,
   "metadata": {
    "colab": {
     "base_uri": "https://localhost:8080/"
    },
    "collapsed": false,
    "id": "wvDrSy1u7_Hm",
    "jupyter": {
     "outputs_hidden": false
    },
    "outputId": "8f4d06d2-893a-4925-f19f-2ca36ca00298"
   },
   "outputs": [],
   "source": [
    "# Standard deviation of rating grouped by title\n",
    "rating_std_by_title = data.groupby('title')['rating'].std()\n",
    "# Filter down to active_titles\n",
    "rating_std_by_title = rating_std_by_title.loc[active_titles]\n",
    "rating_std_by_title.sort_values(ascending=False)[:10]"
   ]
  },
  {
   "cell_type": "markdown",
   "metadata": {
    "id": "2mXAQiQj7_Hm"
   },
   "source": [
    "### Important: Temes de rendiment"
   ]
  },
  {
   "cell_type": "code",
   "execution_count": null,
   "metadata": {
    "colab": {
     "base_uri": "https://localhost:8080/"
    },
    "collapsed": false,
    "id": "R0erbTv97_Hm",
    "jupyter": {
     "outputs_hidden": false
    },
    "outputId": "fa7961dc-8a04-4f76-f826-7dc759078e65"
   },
   "outputs": [],
   "source": [
    "%timeit data['title'] \n",
    "%timeit data.title \n",
    "%timeit data[['title']] "
   ]
  },
  {
   "cell_type": "code",
   "execution_count": null,
   "metadata": {
    "colab": {
     "base_uri": "https://localhost:8080/"
    },
    "collapsed": false,
    "id": "mYizuyUE7_Hm",
    "jupyter": {
     "outputs_hidden": false
    },
    "outputId": "b551e8a1-01c4-4ec3-f5a1-71919aa2eaf0"
   },
   "outputs": [],
   "source": [
    "type(data[['title']])"
   ]
  },
  {
   "cell_type": "code",
   "execution_count": null,
   "metadata": {
    "colab": {
     "base_uri": "https://localhost:8080/"
    },
    "collapsed": false,
    "id": "RBdE3p9e7_Hm",
    "jupyter": {
     "outputs_hidden": false
    },
    "outputId": "8cd001fe-790b-421a-9387-e037b2fa6e43"
   },
   "outputs": [],
   "source": [
    "type(data.title)"
   ]
  },
  {
   "cell_type": "markdown",
   "metadata": {
    "id": "06D4EiZ8wgam"
   },
   "source": [
    "## 3. EXERCICIS"
   ]
  },
  {
   "cell_type": "markdown",
   "metadata": {
    "id": "ZH4QhLdU7_Hm"
   },
   "source": [
    "### 3.1. PRIMER EXERCICI \n",
    "\n",
    "Donada la taula ``data``, calcula la puntuació mitjana de cada usuari. "
   ]
  },
  {
   "cell_type": "code",
   "execution_count": 8,
   "metadata": {
    "colab": {
     "base_uri": "https://localhost:8080/"
    },
    "id": "Ny8l1qx8Sgfh",
    "outputId": "cc8d001d-8321-4bb6-dbc5-49454089e1bc"
   },
   "outputs": [
    {
     "name": "stderr",
     "output_type": "stream",
     "text": [
      "'ls' �����ڲ����ⲿ���Ҳ���ǿ����еĳ���\n",
      "���������ļ���\n"
     ]
    }
   ],
   "source": [
    "!ls"
   ]
  },
  {
   "cell_type": "code",
   "execution_count": 9,
   "metadata": {
    "id": "pojIMFQ-Sie1"
   },
   "outputs": [],
   "source": [
    "data_folder = 'ml-1m'"
   ]
  },
  {
   "cell_type": "code",
   "execution_count": 10,
   "metadata": {
    "collapsed": false,
    "id": "o8CCmNp97_Hm",
    "jupyter": {
     "outputs_hidden": false
    }
   },
   "outputs": [
    {
     "ename": "FileNotFoundError",
     "evalue": "[Errno 2] No such file or directory: 'ml-1m/users.dat'",
     "output_type": "error",
     "traceback": [
      "\u001b[1;31m---------------------------------------------------------------------------\u001b[0m",
      "\u001b[1;31mFileNotFoundError\u001b[0m                         Traceback (most recent call last)",
      "\u001b[1;32mc:\\UB\\3\\Tardo\\TallerNousUsos\\Practica\\TNUI_P2\\assigment_code.ipynb Cell 61\u001b[0m in \u001b[0;36m<cell line: 3>\u001b[1;34m()\u001b[0m\n\u001b[0;32m      <a href='vscode-notebook-cell:/c%3A/UB/3/Tardo/TallerNousUsos/Practica/TNUI_P2/assigment_code.ipynb#Y114sZmlsZQ%3D%3D?line=0'>1</a>\u001b[0m \u001b[39mimport\u001b[39;00m \u001b[39mpandas\u001b[39;00m \u001b[39mas\u001b[39;00m \u001b[39mpd\u001b[39;00m\n\u001b[0;32m      <a href='vscode-notebook-cell:/c%3A/UB/3/Tardo/TallerNousUsos/Practica/TNUI_P2/assigment_code.ipynb#Y114sZmlsZQ%3D%3D?line=1'>2</a>\u001b[0m unames \u001b[39m=\u001b[39m [\u001b[39m'\u001b[39m\u001b[39muser_id\u001b[39m\u001b[39m'\u001b[39m, \u001b[39m'\u001b[39m\u001b[39mgender\u001b[39m\u001b[39m'\u001b[39m, \u001b[39m'\u001b[39m\u001b[39mage\u001b[39m\u001b[39m'\u001b[39m, \u001b[39m'\u001b[39m\u001b[39moccupation\u001b[39m\u001b[39m'\u001b[39m, \u001b[39m'\u001b[39m\u001b[39mzip\u001b[39m\u001b[39m'\u001b[39m]\n\u001b[1;32m----> <a href='vscode-notebook-cell:/c%3A/UB/3/Tardo/TallerNousUsos/Practica/TNUI_P2/assigment_code.ipynb#Y114sZmlsZQ%3D%3D?line=2'>3</a>\u001b[0m users \u001b[39m=\u001b[39m pd\u001b[39m.\u001b[39;49mread_table(\u001b[39mf\u001b[39;49m\u001b[39m'\u001b[39;49m\u001b[39m{\u001b[39;49;00mdata_folder\u001b[39m}\u001b[39;49;00m\u001b[39m/users.dat\u001b[39;49m\u001b[39m'\u001b[39;49m, sep\u001b[39m=\u001b[39;49m\u001b[39m'\u001b[39;49m\u001b[39m::\u001b[39;49m\u001b[39m'\u001b[39;49m, header\u001b[39m=\u001b[39;49m\u001b[39mNone\u001b[39;49;00m, names\u001b[39m=\u001b[39;49munames, engine\u001b[39m=\u001b[39;49m\u001b[39m'\u001b[39;49m\u001b[39mpython\u001b[39;49m\u001b[39m'\u001b[39;49m)\n\u001b[0;32m      <a href='vscode-notebook-cell:/c%3A/UB/3/Tardo/TallerNousUsos/Practica/TNUI_P2/assigment_code.ipynb#Y114sZmlsZQ%3D%3D?line=3'>4</a>\u001b[0m rnames \u001b[39m=\u001b[39m [\u001b[39m'\u001b[39m\u001b[39muser_id\u001b[39m\u001b[39m'\u001b[39m, \u001b[39m'\u001b[39m\u001b[39mmovie_id\u001b[39m\u001b[39m'\u001b[39m, \u001b[39m'\u001b[39m\u001b[39mrating\u001b[39m\u001b[39m'\u001b[39m, \u001b[39m'\u001b[39m\u001b[39mtimestamp\u001b[39m\u001b[39m'\u001b[39m]\n\u001b[0;32m      <a href='vscode-notebook-cell:/c%3A/UB/3/Tardo/TallerNousUsos/Practica/TNUI_P2/assigment_code.ipynb#Y114sZmlsZQ%3D%3D?line=4'>5</a>\u001b[0m ratings \u001b[39m=\u001b[39m pd\u001b[39m.\u001b[39mread_table(\u001b[39mf\u001b[39m\u001b[39m'\u001b[39m\u001b[39m{\u001b[39;00mdata_folder\u001b[39m}\u001b[39;00m\u001b[39m/ratings.dat\u001b[39m\u001b[39m'\u001b[39m, sep\u001b[39m=\u001b[39m\u001b[39m'\u001b[39m\u001b[39m::\u001b[39m\u001b[39m'\u001b[39m, header\u001b[39m=\u001b[39m\u001b[39mNone\u001b[39;00m, names\u001b[39m=\u001b[39mrnames, engine\u001b[39m=\u001b[39m\u001b[39m'\u001b[39m\u001b[39mpython\u001b[39m\u001b[39m'\u001b[39m)\n",
      "File \u001b[1;32mc:\\Users\\JUNJIE_LI\\anaconda3\\lib\\site-packages\\pandas\\util\\_decorators.py:311\u001b[0m, in \u001b[0;36mdeprecate_nonkeyword_arguments.<locals>.decorate.<locals>.wrapper\u001b[1;34m(*args, **kwargs)\u001b[0m\n\u001b[0;32m    305\u001b[0m \u001b[39mif\u001b[39;00m \u001b[39mlen\u001b[39m(args) \u001b[39m>\u001b[39m num_allow_args:\n\u001b[0;32m    306\u001b[0m     warnings\u001b[39m.\u001b[39mwarn(\n\u001b[0;32m    307\u001b[0m         msg\u001b[39m.\u001b[39mformat(arguments\u001b[39m=\u001b[39marguments),\n\u001b[0;32m    308\u001b[0m         \u001b[39mFutureWarning\u001b[39;00m,\n\u001b[0;32m    309\u001b[0m         stacklevel\u001b[39m=\u001b[39mstacklevel,\n\u001b[0;32m    310\u001b[0m     )\n\u001b[1;32m--> 311\u001b[0m \u001b[39mreturn\u001b[39;00m func(\u001b[39m*\u001b[39margs, \u001b[39m*\u001b[39m\u001b[39m*\u001b[39mkwargs)\n",
      "File \u001b[1;32mc:\\Users\\JUNJIE_LI\\anaconda3\\lib\\site-packages\\pandas\\io\\parsers\\readers.py:779\u001b[0m, in \u001b[0;36mread_table\u001b[1;34m(filepath_or_buffer, sep, delimiter, header, names, index_col, usecols, squeeze, prefix, mangle_dupe_cols, dtype, engine, converters, true_values, false_values, skipinitialspace, skiprows, skipfooter, nrows, na_values, keep_default_na, na_filter, verbose, skip_blank_lines, parse_dates, infer_datetime_format, keep_date_col, date_parser, dayfirst, cache_dates, iterator, chunksize, compression, thousands, decimal, lineterminator, quotechar, quoting, doublequote, escapechar, comment, encoding, encoding_errors, dialect, error_bad_lines, warn_bad_lines, on_bad_lines, delim_whitespace, low_memory, memory_map, float_precision, storage_options)\u001b[0m\n\u001b[0;32m    764\u001b[0m kwds_defaults \u001b[39m=\u001b[39m _refine_defaults_read(\n\u001b[0;32m    765\u001b[0m     dialect,\n\u001b[0;32m    766\u001b[0m     delimiter,\n\u001b[1;32m   (...)\u001b[0m\n\u001b[0;32m    775\u001b[0m     defaults\u001b[39m=\u001b[39m{\u001b[39m\"\u001b[39m\u001b[39mdelimiter\u001b[39m\u001b[39m\"\u001b[39m: \u001b[39m\"\u001b[39m\u001b[39m\\t\u001b[39;00m\u001b[39m\"\u001b[39m},\n\u001b[0;32m    776\u001b[0m )\n\u001b[0;32m    777\u001b[0m kwds\u001b[39m.\u001b[39mupdate(kwds_defaults)\n\u001b[1;32m--> 779\u001b[0m \u001b[39mreturn\u001b[39;00m _read(filepath_or_buffer, kwds)\n",
      "File \u001b[1;32mc:\\Users\\JUNJIE_LI\\anaconda3\\lib\\site-packages\\pandas\\io\\parsers\\readers.py:575\u001b[0m, in \u001b[0;36m_read\u001b[1;34m(filepath_or_buffer, kwds)\u001b[0m\n\u001b[0;32m    572\u001b[0m _validate_names(kwds\u001b[39m.\u001b[39mget(\u001b[39m\"\u001b[39m\u001b[39mnames\u001b[39m\u001b[39m\"\u001b[39m, \u001b[39mNone\u001b[39;00m))\n\u001b[0;32m    574\u001b[0m \u001b[39m# Create the parser.\u001b[39;00m\n\u001b[1;32m--> 575\u001b[0m parser \u001b[39m=\u001b[39m TextFileReader(filepath_or_buffer, \u001b[39m*\u001b[39m\u001b[39m*\u001b[39mkwds)\n\u001b[0;32m    577\u001b[0m \u001b[39mif\u001b[39;00m chunksize \u001b[39mor\u001b[39;00m iterator:\n\u001b[0;32m    578\u001b[0m     \u001b[39mreturn\u001b[39;00m parser\n",
      "File \u001b[1;32mc:\\Users\\JUNJIE_LI\\anaconda3\\lib\\site-packages\\pandas\\io\\parsers\\readers.py:933\u001b[0m, in \u001b[0;36mTextFileReader.__init__\u001b[1;34m(self, f, engine, **kwds)\u001b[0m\n\u001b[0;32m    930\u001b[0m     \u001b[39mself\u001b[39m\u001b[39m.\u001b[39moptions[\u001b[39m\"\u001b[39m\u001b[39mhas_index_names\u001b[39m\u001b[39m\"\u001b[39m] \u001b[39m=\u001b[39m kwds[\u001b[39m\"\u001b[39m\u001b[39mhas_index_names\u001b[39m\u001b[39m\"\u001b[39m]\n\u001b[0;32m    932\u001b[0m \u001b[39mself\u001b[39m\u001b[39m.\u001b[39mhandles: IOHandles \u001b[39m|\u001b[39m \u001b[39mNone\u001b[39;00m \u001b[39m=\u001b[39m \u001b[39mNone\u001b[39;00m\n\u001b[1;32m--> 933\u001b[0m \u001b[39mself\u001b[39m\u001b[39m.\u001b[39m_engine \u001b[39m=\u001b[39m \u001b[39mself\u001b[39;49m\u001b[39m.\u001b[39;49m_make_engine(f, \u001b[39mself\u001b[39;49m\u001b[39m.\u001b[39;49mengine)\n",
      "File \u001b[1;32mc:\\Users\\JUNJIE_LI\\anaconda3\\lib\\site-packages\\pandas\\io\\parsers\\readers.py:1217\u001b[0m, in \u001b[0;36mTextFileReader._make_engine\u001b[1;34m(self, f, engine)\u001b[0m\n\u001b[0;32m   1213\u001b[0m     mode \u001b[39m=\u001b[39m \u001b[39m\"\u001b[39m\u001b[39mrb\u001b[39m\u001b[39m\"\u001b[39m\n\u001b[0;32m   1214\u001b[0m \u001b[39m# error: No overload variant of \"get_handle\" matches argument types\u001b[39;00m\n\u001b[0;32m   1215\u001b[0m \u001b[39m# \"Union[str, PathLike[str], ReadCsvBuffer[bytes], ReadCsvBuffer[str]]\"\u001b[39;00m\n\u001b[0;32m   1216\u001b[0m \u001b[39m# , \"str\", \"bool\", \"Any\", \"Any\", \"Any\", \"Any\", \"Any\"\u001b[39;00m\n\u001b[1;32m-> 1217\u001b[0m \u001b[39mself\u001b[39m\u001b[39m.\u001b[39mhandles \u001b[39m=\u001b[39m get_handle(  \u001b[39m# type: ignore[call-overload]\u001b[39;49;00m\n\u001b[0;32m   1218\u001b[0m     f,\n\u001b[0;32m   1219\u001b[0m     mode,\n\u001b[0;32m   1220\u001b[0m     encoding\u001b[39m=\u001b[39;49m\u001b[39mself\u001b[39;49m\u001b[39m.\u001b[39;49moptions\u001b[39m.\u001b[39;49mget(\u001b[39m\"\u001b[39;49m\u001b[39mencoding\u001b[39;49m\u001b[39m\"\u001b[39;49m, \u001b[39mNone\u001b[39;49;00m),\n\u001b[0;32m   1221\u001b[0m     compression\u001b[39m=\u001b[39;49m\u001b[39mself\u001b[39;49m\u001b[39m.\u001b[39;49moptions\u001b[39m.\u001b[39;49mget(\u001b[39m\"\u001b[39;49m\u001b[39mcompression\u001b[39;49m\u001b[39m\"\u001b[39;49m, \u001b[39mNone\u001b[39;49;00m),\n\u001b[0;32m   1222\u001b[0m     memory_map\u001b[39m=\u001b[39;49m\u001b[39mself\u001b[39;49m\u001b[39m.\u001b[39;49moptions\u001b[39m.\u001b[39;49mget(\u001b[39m\"\u001b[39;49m\u001b[39mmemory_map\u001b[39;49m\u001b[39m\"\u001b[39;49m, \u001b[39mFalse\u001b[39;49;00m),\n\u001b[0;32m   1223\u001b[0m     is_text\u001b[39m=\u001b[39;49mis_text,\n\u001b[0;32m   1224\u001b[0m     errors\u001b[39m=\u001b[39;49m\u001b[39mself\u001b[39;49m\u001b[39m.\u001b[39;49moptions\u001b[39m.\u001b[39;49mget(\u001b[39m\"\u001b[39;49m\u001b[39mencoding_errors\u001b[39;49m\u001b[39m\"\u001b[39;49m, \u001b[39m\"\u001b[39;49m\u001b[39mstrict\u001b[39;49m\u001b[39m\"\u001b[39;49m),\n\u001b[0;32m   1225\u001b[0m     storage_options\u001b[39m=\u001b[39;49m\u001b[39mself\u001b[39;49m\u001b[39m.\u001b[39;49moptions\u001b[39m.\u001b[39;49mget(\u001b[39m\"\u001b[39;49m\u001b[39mstorage_options\u001b[39;49m\u001b[39m\"\u001b[39;49m, \u001b[39mNone\u001b[39;49;00m),\n\u001b[0;32m   1226\u001b[0m )\n\u001b[0;32m   1227\u001b[0m \u001b[39massert\u001b[39;00m \u001b[39mself\u001b[39m\u001b[39m.\u001b[39mhandles \u001b[39mis\u001b[39;00m \u001b[39mnot\u001b[39;00m \u001b[39mNone\u001b[39;00m\n\u001b[0;32m   1228\u001b[0m f \u001b[39m=\u001b[39m \u001b[39mself\u001b[39m\u001b[39m.\u001b[39mhandles\u001b[39m.\u001b[39mhandle\n",
      "File \u001b[1;32mc:\\Users\\JUNJIE_LI\\anaconda3\\lib\\site-packages\\pandas\\io\\common.py:789\u001b[0m, in \u001b[0;36mget_handle\u001b[1;34m(path_or_buf, mode, encoding, compression, memory_map, is_text, errors, storage_options)\u001b[0m\n\u001b[0;32m    784\u001b[0m \u001b[39melif\u001b[39;00m \u001b[39misinstance\u001b[39m(handle, \u001b[39mstr\u001b[39m):\n\u001b[0;32m    785\u001b[0m     \u001b[39m# Check whether the filename is to be opened in binary mode.\u001b[39;00m\n\u001b[0;32m    786\u001b[0m     \u001b[39m# Binary mode does not support 'encoding' and 'newline'.\u001b[39;00m\n\u001b[0;32m    787\u001b[0m     \u001b[39mif\u001b[39;00m ioargs\u001b[39m.\u001b[39mencoding \u001b[39mand\u001b[39;00m \u001b[39m\"\u001b[39m\u001b[39mb\u001b[39m\u001b[39m\"\u001b[39m \u001b[39mnot\u001b[39;00m \u001b[39min\u001b[39;00m ioargs\u001b[39m.\u001b[39mmode:\n\u001b[0;32m    788\u001b[0m         \u001b[39m# Encoding\u001b[39;00m\n\u001b[1;32m--> 789\u001b[0m         handle \u001b[39m=\u001b[39m \u001b[39mopen\u001b[39;49m(\n\u001b[0;32m    790\u001b[0m             handle,\n\u001b[0;32m    791\u001b[0m             ioargs\u001b[39m.\u001b[39;49mmode,\n\u001b[0;32m    792\u001b[0m             encoding\u001b[39m=\u001b[39;49mioargs\u001b[39m.\u001b[39;49mencoding,\n\u001b[0;32m    793\u001b[0m             errors\u001b[39m=\u001b[39;49merrors,\n\u001b[0;32m    794\u001b[0m             newline\u001b[39m=\u001b[39;49m\u001b[39m\"\u001b[39;49m\u001b[39m\"\u001b[39;49m,\n\u001b[0;32m    795\u001b[0m         )\n\u001b[0;32m    796\u001b[0m     \u001b[39melse\u001b[39;00m:\n\u001b[0;32m    797\u001b[0m         \u001b[39m# Binary mode\u001b[39;00m\n\u001b[0;32m    798\u001b[0m         handle \u001b[39m=\u001b[39m \u001b[39mopen\u001b[39m(handle, ioargs\u001b[39m.\u001b[39mmode)\n",
      "\u001b[1;31mFileNotFoundError\u001b[0m: [Errno 2] No such file or directory: 'ml-1m/users.dat'"
     ]
    }
   ],
   "source": [
    "import pandas as pd\n",
    "unames = ['user_id', 'gender', 'age', 'occupation', 'zip']\n",
    "users = pd.read_table(f'{data_folder}/users.dat', sep='::', header=None, names=unames, engine='python')\n",
    "rnames = ['user_id', 'movie_id', 'rating', 'timestamp']\n",
    "ratings = pd.read_table(f'{data_folder}/ratings.dat', sep='::', header=None, names=rnames, engine='python')\n",
    "mnames = ['movie_id', 'title', 'genres']\n",
    "movies = pd.read_table(f'{data_folder}/movies.dat', sep='::', header=None, names=mnames, engine='python',encoding='latin-1')\n",
    "\n",
    "data = pd.merge(pd.merge(ratings, users), movies)\n",
    "\n",
    "# la vostra solució aquí"
   ]
  },
  {
   "cell_type": "markdown",
   "metadata": {
    "id": "bz8OgaPz7_Hn"
   },
   "source": [
    "+ Quina és la pel·lícula més ben puntuada (en mitja) pels usuaris? (Guarda aquest valor en una variable ``string``). "
   ]
  },
  {
   "cell_type": "code",
   "execution_count": null,
   "metadata": {
    "collapsed": false,
    "id": "9rYx6aBz7_Hn",
    "jupyter": {
     "outputs_hidden": false
    }
   },
   "outputs": [],
   "source": [
    "# la vostra solució aquí"
   ]
  },
  {
   "cell_type": "markdown",
   "metadata": {
    "id": "CUtdHgwk7_Hn"
   },
   "source": [
    "### 3.2. SEGON EXERCICI\n",
    "\n",
    "Defineix una funció anomenada ``top_movie`` que donat un usuari ens retorni quina és la pel·lícula millor puntuada.<br> \n"
   ]
  },
  {
   "cell_type": "code",
   "execution_count": null,
   "metadata": {
    "colab": {
     "base_uri": "https://localhost:8080/"
    },
    "collapsed": false,
    "id": "V_wE7gmB7_Hn",
    "jupyter": {
     "outputs_hidden": false
    },
    "outputId": "86cc55f8-a57e-49ed-ad8f-46049ea1a3d6"
   },
   "outputs": [],
   "source": [
    "# la vostra solució aquí\n",
    "def top_movie(dataFrame,usr):\n",
    "    return 0\n",
    "\n",
    "print(top_movie(data,1))"
   ]
  },
  {
   "cell_type": "markdown",
   "metadata": {},
   "source": [
    "### 3.3. TERCER EXERCICI"
   ]
  },
  {
   "cell_type": "markdown",
   "metadata": {},
   "source": [
    "Construeix una funció que donat un dataframe et retorni el valor que cada usuari li ha donat a una peli. Això ho farem creant un dataframe on les columnes són els `movie_id`, les files `user_id` i els valors siguin el rating donat."
   ]
  },
  {
   "cell_type": "code",
   "execution_count": null,
   "metadata": {},
   "outputs": [],
   "source": [
    "def build_counts_table(df):\n",
    "    \"\"\"\n",
    "    Retorna un dataframe on les columnes són els `movie_id`, les files `user_id` i els valors\n",
    "    el nombre de vegades que un usuari ha vist una peli d'un `movie_id`\n",
    "    \n",
    "    :param df: DataFrame original \n",
    "    :return: DataFrame descrit adalt\n",
    "    \"\"\"\n",
    "    \n",
    "    # la vostra solució aquí\n",
    "    \n",
    "    return 0"
   ]
  },
  {
   "cell_type": "code",
   "execution_count": null,
   "metadata": {},
   "outputs": [],
   "source": [
    "df_counts = build_counts_table(data)\n",
    "df_counts"
   ]
  },
  {
   "cell_type": "markdown",
   "metadata": {},
   "source": [
    "També programarem una funció que donada la taula anterior i dos id's (usuari i peli), extregui el valor donat:"
   ]
  },
  {
   "cell_type": "code",
   "execution_count": null,
   "metadata": {},
   "outputs": [],
   "source": [
    "def get_count(df, user_id, movie_id):\n",
    "    \"\"\"\n",
    "    Retorna el nombre de vegades que un usuari ha comprat en un `movie_id`\n",
    "    \n",
    "    :param df: DataFrame retornat per `build_counts_table`\n",
    "    :param user_id: ID de l'usuari\n",
    "    :param movie_id: ID de la peli\n",
    "    :return: Enter amb el nombre de vegades que ha comprat\n",
    "    \"\"\"\n",
    "    \n",
    "    # la vostra solució aquí\n",
    "    \n",
    "    return 0\n",
    "\n",
    "get_count(df_counts, 0, 0)"
   ]
  },
  {
   "cell_type": "markdown",
   "metadata": {},
   "source": [
    "### 3.4. QUART EXERCICI"
   ]
  },
  {
   "cell_type": "code",
   "execution_count": null,
   "metadata": {},
   "outputs": [],
   "source": [
    "data.nunique()"
   ]
  },
  {
   "cell_type": "markdown",
   "metadata": {},
   "source": [
    "Si observem el nombre total d'usuaris unics i de pelicules úniques, podem observar que els id's dels usuaris van de 1 a 6040. Normalment hauriem d'intentar que comencessin al nombre 0, anant de 0 a 6039. \n",
    "\n",
    "**Què passa amb els indexos de les pelis??**"
   ]
  },
  {
   "cell_type": "markdown",
   "metadata": {},
   "source": [
    "> ANSWER"
   ]
  },
  {
   "cell_type": "markdown",
   "metadata": {},
   "source": [
    "Usant la funció **pd.Categorical(*).codes**, re-indexa els id's dels usuaris i de les pelis perquè vagin de 0 a 6039 i de 0 a 3705 respectivament:"
   ]
  },
  {
   "cell_type": "code",
   "execution_count": null,
   "metadata": {},
   "outputs": [],
   "source": [
    "# la vostra solució aquí"
   ]
  },
  {
   "cell_type": "markdown",
   "metadata": {},
   "source": [
    "Per comprovar que tot sigui correcte i guardar correctament la taula **df_counts**, torna a calcular-la:"
   ]
  },
  {
   "cell_type": "code",
   "execution_count": null,
   "metadata": {},
   "outputs": [],
   "source": [
    "df_counts = build_counts_table(data)\n",
    "df_counts"
   ]
  },
  {
   "cell_type": "markdown",
   "metadata": {
    "id": "kl4ZuaQF7_Ho"
   },
   "source": [
    "### 3.5. CINQUÉ EXERCICI\n",
    "\n"
   ]
  },
  {
   "cell_type": "markdown",
   "metadata": {},
   "source": [
    "Construeix una funció <b>distEuclid(x,y)</b> que implementi la distància Euclidiana entre dos vectors usant funcions de pandas. Escriu la funció que calculin la semblança entre dos usuaris segons aquesta estructura:\n",
    "\n",
    "``def SimEuclid (DataFrame, User1, User2)``\n",
    "    Calcular els **embeddings** de cada usuari, C1 i C2, amb les puntuacions dels ítems comuns que han puntuat el dos usuaris.\n",
    "    Si no hi ha puntuacions en comú, retornar 0. Retornar ``1/(1+distEuclid(C1, C2))``\n",
    "\n",
    "\\\n",
    "Avalueu amb la funció ``%timeit`` quant triguen aquests càlculs per un parell d'usuaris.   \n",
    "\n",
    "> *Nota: Alguns d'aquests exercicis tenen temps de càlcul de l'ordre de minuts sobre tota la base de dades. Per desenvolupar els algorismes és recomanable treballar amb una versió reduïda de la base de dades.* \n",
    "\n",
    "> *Nota: **embedding** fa referencia a un vector de N dimensions que té com a funció representar (en aquest cas) els gustos dels usuaris. També es pot fer un embedding d'items i aleshores representarien el contingut d'aquest o caracteristiques semblants.*"
   ]
  },
  {
   "cell_type": "markdown",
   "metadata": {},
   "source": [
    "---\n",
    "#### Mesurament de similituds (petita teoria)\n",
    "\n",
    "El primer pas per poder recomanar és definir una funció de similitud entre vectors. Siguin $x, y$ vectors, implementa la seva distància euclidiana:\n",
    "\n",
    "* Distància euclidea (inversa): https://en.wikipedia.org/wiki/Euclidean_distance\n",
    "\n",
    "$$sim(x, y) = \\frac{1}{1 + \\sqrt{\\sum_i(x_i-y_i)^2}}\\in [0, 1]$$\n",
    "\n",
    "---\n",
    "\n",
    "Per implementar qualsevol d'aquestes únicament es permet l'ús de:\n",
    "\n",
    "* `np.sum`\n",
    "* `np.sqrt`\n",
    "* `np.power`\n",
    "* `np.dot`\n",
    "* `np.linalg.norm`\n",
    "* `np.mean`\n",
    "\n",
    "I s'ha de fer **sense bucles**.\n"
   ]
  },
  {
   "cell_type": "code",
   "execution_count": null,
   "metadata": {
    "collapsed": false,
    "id": "Kn42z3Of7_Ho",
    "jupyter": {
     "outputs_hidden": false
    }
   },
   "outputs": [],
   "source": [
    "import math\n",
    "import numpy as np\n",
    "import pandas as pd\n",
    "\n",
    "def distEuclid(x, y):\n",
    "    \"\"\"\n",
    "    Retorna la distancia euclidiana de dos vectors n-dimensionals.\n",
    "    \n",
    "    :param x: Primer vector\n",
    "    :param y: Segon vector\n",
    "    :return : Escalar (float) corresponent a la distancia euclidiana\n",
    "    \"\"\"\n",
    "    \n",
    "    # la vostra solució aquí\n",
    "    \n",
    "    return 0\n",
    "\n",
    "def SimEuclid(DataFrame, User1, User2):\n",
    "    \"\"\"\n",
    "    Retorna un score que representa la similitud entre user1 i user2 basada en la distancia euclidiana\n",
    "    \n",
    "    :param DataFrame: dataframe que conté totes les dades\n",
    "    :param User1: id user1\n",
    "    :param User2: id user2\n",
    "    :return : Escalar (float) corresponent al score\n",
    "    \"\"\"\n",
    "    \n",
    "    # la vostra solució aquí\n",
    "    \n",
    "    return 0"
   ]
  },
  {
   "cell_type": "code",
   "execution_count": null,
   "metadata": {
    "colab": {
     "base_uri": "https://localhost:8080/"
    },
    "collapsed": false,
    "id": "JSAH4saX7_Ho",
    "jupyter": {
     "outputs_hidden": false
    },
    "outputId": "3bf5ea3f-4ee5-4298-d429-378543828c71"
   },
   "outputs": [],
   "source": [
    "# Execute functions\n",
    "print(SimEuclid(data, 1, 5))"
   ]
  },
  {
   "cell_type": "markdown",
   "metadata": {
    "id": "fmX_9c0t7_Hp"
   },
   "source": [
    "### 3.6. SISÉ EXERCICI\n",
    "\n",
    "Desenvolupa un sistema de recomanació col·laboratiu **basat en usuaris**. \n",
    "\n",
    "La funció principal, ``getRecommendationsUser``, ha de tenir com a entrada una taula de puntuacions, un ``user_id``, el tipus de mesura de semblança (Euclidiana) que volem usar, el nombre `m` d'usuaris semblants que volem per fer la recomanació i el nombre ``n`` de recomanacions que volem. Com a sortida ha de donar la llista de les ``n`` millors pel·lícules que li podriem recomanar segons la seva semblança amb altres usuaris.\n",
    "\n",
    "> *Nota 1: S'ha d'evitar comparar ``user_id`` a ell mateix.*\n",
    "\n",
    "> *Nota 2: Recordeu que en Python podem passar funcions com a paràmetres d'una funció.*"
   ]
  },
  {
   "cell_type": "code",
   "execution_count": null,
   "metadata": {
    "colab": {
     "base_uri": "https://localhost:8080/"
    },
    "collapsed": false,
    "id": "yjlqSVG77_Hp",
    "jupyter": {
     "outputs_hidden": false
    },
    "outputId": "7de3d403-b6d0-4427-a3eb-34838cad7480"
   },
   "outputs": [],
   "source": [
    "# getRecommendationsUser(data, 2, 50, 10, SimEuclid)"
   ]
  },
  {
   "cell_type": "markdown",
   "metadata": {},
   "source": [
    "#### - SECCIÓ 1: \n",
    "\n",
    "Computa la score de similitud del usuari desitjat (userID) respecte tots els altres i retorna una llista dels **m** usuaris més propers, que seran els que usarem per fer la recomanació. Normalitzeu els scores de sortida."
   ]
  },
  {
   "cell_type": "code",
   "execution_count": null,
   "metadata": {},
   "outputs": [],
   "source": [
    "def find_similar_users(DataFrame, userID, m, simfunction):\n",
    "    \"\"\"\n",
    "    Retorna un diccionari de usuaris similars amb les scores corresponents.\n",
    "    \n",
    "    :param DataFrame: dataframe que conté totes les dades\n",
    "    :param userID: usuari respecte al qual fem la recomanació\n",
    "    :param m: nombre d'usuaris que volem per fer la recomanació\n",
    "    :param similarity: mesura de similitud\n",
    "    :return : diccionary\n",
    "    \"\"\"\n",
    "    \n",
    "    # la vostra solució aquí\n",
    "    \n",
    "    return []"
   ]
  },
  {
   "cell_type": "code",
   "execution_count": null,
   "metadata": {},
   "outputs": [],
   "source": [
    "import datetime\n",
    "t = datetime.datetime.now()\n",
    "sim_dict = find_similar_users(data, 2, 10, SimEuclid)\n",
    "t = datetime.datetime.now()-t\n",
    "print(str(t))"
   ]
  },
  {
   "cell_type": "code",
   "execution_count": null,
   "metadata": {},
   "outputs": [],
   "source": [
    "sim_dict"
   ]
  },
  {
   "cell_type": "markdown",
   "metadata": {},
   "source": [
    "**CREIEU QUE ES OPTIM EL TEMPS QUE HA TARDAT PER UN USUARI?** RAONA LA RESPOSTA."
   ]
  },
  {
   "cell_type": "markdown",
   "metadata": {},
   "source": [
    "> ANSWER"
   ]
  },
  {
   "cell_type": "markdown",
   "metadata": {},
   "source": [
    "Per millorar el problema anteorior, construeix una matriu de mida UXU on cada posició *i,j* indica la distància entre l'element *i* i el *j*. Així doncs, si estàs fent un recomanador basat en usuaris, `matriu[2, 3]` contindrà la similitud entre l'usuari 2 i el 3."
   ]
  },
  {
   "cell_type": "code",
   "execution_count": null,
   "metadata": {},
   "outputs": [],
   "source": [
    "def similarity_matrix(similarity_function, df_counts):\n",
    "    \"\"\"\n",
    "    Retorna una matriu de mida M x M on cada posició \n",
    "    indica la similitud entre usuaris (resp. ítems).\n",
    "    \n",
    "    :param similarity_function: Funció que calcularà la similitud \n",
    "        entre usuaris (resp. ítems)\n",
    "    :param df_counts: Dataframe que conté el nombre de vegades que \n",
    "        un usuari ha comprat en un `aisle_id`\n",
    "    :return : Matriu numpy de mida M x M amb les similituds.\n",
    "    \"\"\"\n",
    "    \n",
    "    # la vostra solució aquí\n",
    "    \n",
    "    return 0"
   ]
  },
  {
   "cell_type": "markdown",
   "metadata": {},
   "source": [
    "Per cridar aquesta funció, el primer paràmetre pot ser:\n",
    "\n",
    "* Amb la funció de la distancia euclidiana que heu programat abans pot trigar ~@1h 30min treballant directament amb valors de numpy, ~@20h a partir de pandas pur.\n",
    "* Opcionalment (no és obligatori fer-ho) podeu programar una funció que treballi específicament amb matrius (i no vectors). Si ho feu, cal gestionar-ho quan es rep `None`.  (@5s)"
   ]
  },
  {
   "cell_type": "code",
   "execution_count": null,
   "metadata": {},
   "outputs": [],
   "source": [
    "sim = similarity_matrix(SimEuclid, df_counts)"
   ]
  },
  {
   "cell_type": "code",
   "execution_count": null,
   "metadata": {},
   "outputs": [],
   "source": [
    "sim.shape"
   ]
  },
  {
   "cell_type": "markdown",
   "metadata": {},
   "source": [
    "Ara torna a re-fer la funció **find_similar_users** i mira quant triga... \n",
    "\n",
    "> Recorda que les scores han d'estar normalitzades!"
   ]
  },
  {
   "cell_type": "code",
   "execution_count": null,
   "metadata": {},
   "outputs": [],
   "source": [
    "def find_similar_users(DataFrame, sim_mx, userID, m):\n",
    "    \n",
    "    # la vostra solució aquí\n",
    "    \n",
    "    return dict(zip(users, w_scores))"
   ]
  },
  {
   "cell_type": "code",
   "execution_count": null,
   "metadata": {},
   "outputs": [],
   "source": [
    "t = datetime.datetime.now()\n",
    "sim_dict = find_similar_users(data, sim, 2, 10)\n",
    "t = datetime.datetime.now()-t\n",
    "print(str(t))"
   ]
  },
  {
   "cell_type": "markdown",
   "metadata": {},
   "source": [
    "**Hauria d'haver baixat més de 30 cops el temps anterior!!**"
   ]
  },
  {
   "cell_type": "markdown",
   "metadata": {},
   "source": [
    "#### - SECCIÓ 2: \n",
    "Computa les recomanacions per un usuari amb cadascun dels m usuaris més propers i fes una funció que retorni la **weighted average list** d'aquests per tal d'obtenir la recomanació final. Feu servir la funció anterior que usava la matriu de similituds per anar més ràpid!!\n",
    "\n",
    "\n",
    "> *Nota: la **weighted average list** es calcularà agregant els n items més puntuats de cadascun dels m users més semblants al usuari donat."
   ]
  },
  {
   "cell_type": "code",
   "execution_count": null,
   "metadata": {},
   "outputs": [],
   "source": [
    "def getRecommendationsUser(DataFrame, user, sim_mx, n, m):\n",
    "    \"\"\"\n",
    "    Retorna un dataframe de pel·licules amb els scores.\n",
    "    \n",
    "    :param DataFrame: dataframe que conté totes les dades\n",
    "    :param user: usuari al qual fem la recomanació\n",
    "    :param sim_mx: similarity_function\n",
    "    :param n: nombre de pelis a recomanar\n",
    "    :param m: nombre d'usuaris semblants a tenir en compte per les recomanacions\n",
    "    :return : pandas de pelis amb els seus scores predits\n",
    "    \"\"\"\n",
    "    \n",
    "    # la vostra solució aquí\n",
    "    \n",
    "    return []"
   ]
  },
  {
   "cell_type": "code",
   "execution_count": null,
   "metadata": {},
   "outputs": [],
   "source": [
    "\n",
    "t = datetime.datetime.now()\n",
    "user_prediction = getRecommendationsUser(data, 3, sim, 10, 50)\n",
    "t = datetime.datetime.now()-t\n",
    "print(str(t))\n"
   ]
  },
  {
   "cell_type": "code",
   "execution_count": null,
   "metadata": {},
   "outputs": [],
   "source": [
    "user_prediction"
   ]
  },
  {
   "cell_type": "markdown",
   "metadata": {},
   "source": [
    "#### - SECCIÓ 3"
   ]
  },
  {
   "cell_type": "markdown",
   "metadata": {},
   "source": [
    "Comprovem que realment l'usuari 3 no tenia recomanació per les pelis a les que estem recomanant:"
   ]
  },
  {
   "cell_type": "code",
   "execution_count": null,
   "metadata": {},
   "outputs": [],
   "source": [
    "data_user3 = data[data['user_id']==3]\n",
    "data_user3.head()"
   ]
  },
  {
   "cell_type": "code",
   "execution_count": null,
   "metadata": {},
   "outputs": [],
   "source": [
    "desired_movie_id_to_check = 0\n",
    "best_film_to_predict = user_prediction['movie_id'].iloc[desired_movie_id_to_check] "
   ]
  },
  {
   "cell_type": "code",
   "execution_count": null,
   "metadata": {},
   "outputs": [],
   "source": [
    "data_user3[data_user3['movie_id']==best_film_to_predict]"
   ]
  },
  {
   "cell_type": "markdown",
   "metadata": {},
   "source": [
    "**Com es que ara estem predint un rating per la pelicula \"best_film_to_predict\"?** Digues quin nombre és la predicció"
   ]
  },
  {
   "cell_type": "code",
   "execution_count": null,
   "metadata": {},
   "outputs": [],
   "source": [
    "# la vostra solució aquí"
   ]
  },
  {
   "cell_type": "markdown",
   "metadata": {},
   "source": [
    "### 3.7. SETÉ EXERCICI\n"
   ]
  },
  {
   "cell_type": "markdown",
   "metadata": {},
   "source": [
    "A continuació usarem la metrica Mean Absolute Error (MAE) per evaluar el nostre sistema. Aquesta mètrica ens permetrà mesurar la diferencia entre dues llistes donat un usuari: \n",
    "\n",
    "**1.** La llista amb els ratings originals d'un usuari donat\n",
    "\n",
    "**2.** La llista de les prediccions generades per aquest usuari"
   ]
  },
  {
   "cell_type": "markdown",
   "metadata": {},
   "source": [
    "#### - SECCIÓ 1: \n",
    "\n",
    "Treu el 10% dels usuaris i reserva aquests en una variable anomenada **test_set** i la resta en una variable anomenada **train_set**."
   ]
  },
  {
   "cell_type": "code",
   "execution_count": null,
   "metadata": {},
   "outputs": [],
   "source": [
    "import random\n",
    "unique_users = data['user_id'].unique()\n",
    "n_test_users = int(len(unique_users)*0.1)\n",
    "n_train_users = len(unique_users) - n_test_users\n",
    "\n",
    "test_usrs = random.sample(list(unique_users), n_test_users)"
   ]
  },
  {
   "cell_type": "code",
   "execution_count": null,
   "metadata": {},
   "outputs": [],
   "source": [
    "n_test_users,n_train_users"
   ]
  },
  {
   "cell_type": "code",
   "execution_count": null,
   "metadata": {},
   "outputs": [],
   "source": [
    "test_set = # la vostra solució aquí\n",
    "train_set = # la vostra solució aquí\n",
    "assert len(test_set) + len(train_set) == len(data)"
   ]
  },
  {
   "cell_type": "markdown",
   "metadata": {},
   "source": [
    "Què passarà si calculo la matriu de similitud amb **train_set** i després intento predir pels usuaris de **test_set**??"
   ]
  },
  {
   "cell_type": "markdown",
   "metadata": {},
   "source": [
    "#### - SECCIÓ 2:"
   ]
  },
  {
   "cell_type": "markdown",
   "metadata": {},
   "source": [
    "Selecciona aproximadament el 80% de les interaccions de cada usuari de test i junta-les al **train_set**. Ara podem evaluar el sistema?\n",
    "\n",
    "\n",
    "> Com la pràctica és molt llarga hem programat el codi per un usuari donat i vosaltres només heu de crear la funció que, per cada usuari, afagi el 80% de les intraccions i les unifiqui al dataframe de train."
   ]
  },
  {
   "cell_type": "code",
   "execution_count": null,
   "metadata": {},
   "outputs": [],
   "source": [
    "test_set.head()"
   ]
  },
  {
   "cell_type": "code",
   "execution_count": null,
   "metadata": {},
   "outputs": [],
   "source": [
    "# Agafem el 20% de les pelis que ha consumit cada usuari de test \n",
    "groupby_count = test_set.groupby('user_id')['movie_id'].count()*0.2\n",
    "groupby_count"
   ]
  },
  {
   "cell_type": "markdown",
   "metadata": {},
   "source": [
    "Seleccionem la posició 1 i aquest use_id serà el que usarem pel codi d'exemple (que després haureu de replicar)."
   ]
  },
  {
   "cell_type": "code",
   "execution_count": null,
   "metadata": {},
   "outputs": [],
   "source": [
    "groupby_count.reset_index().iloc[1]"
   ]
  },
  {
   "cell_type": "code",
   "execution_count": null,
   "metadata": {},
   "outputs": [],
   "source": [
    "n_test_samples = int(groupby_count.reset_index().iloc[1]['movie_id'])\n",
    "u = groupby_count.reset_index().iloc[1]['user_id']"
   ]
  },
  {
   "cell_type": "code",
   "execution_count": null,
   "metadata": {},
   "outputs": [],
   "source": [
    "test_set_user = test_set[test_set['user_id'] == u]\n",
    "frame_test = test_set_user.sample(n_test_samples)\n",
    "print(\"TOTAL SAMPLES OF THE USER: \" + str(len(test_set_user)))\n",
    "print(\"TOTAL SAMPLES OF THE USER IN TEST SET: \" + str(len(frame_test)))"
   ]
  },
  {
   "cell_type": "code",
   "execution_count": null,
   "metadata": {},
   "outputs": [],
   "source": [
    "len(test_set_user.index)"
   ]
  },
  {
   "cell_type": "code",
   "execution_count": null,
   "metadata": {},
   "outputs": [],
   "source": [
    "frame_train = test_set_user[~test_set_user.index.isin(frame_test.index)]\n",
    "print(\"TOTAL SAMPLES OF THE USER IN TRAIN SET: \" + str(len(frame_train)))"
   ]
  },
  {
   "cell_type": "code",
   "execution_count": null,
   "metadata": {},
   "outputs": [],
   "source": [
    "assert len(frame_train) + len(frame_test) == len(test_set_user)"
   ]
  },
  {
   "cell_type": "code",
   "execution_count": null,
   "metadata": {},
   "outputs": [],
   "source": [
    "def add_testdata(traindf, test_set):\n",
    "    \"\"\"\n",
    "    Retorna els N usuaris més similars basat en la correlació de Pearson\n",
    "    \n",
    "    :param traindf: dataframe que conté les dades de train\n",
    "    :param test_set: dataframe que conté les dades de test\n",
    "\n",
    "    :return : \n",
    "        - :param 1st: dataframe que conté les dades de train juntament amb el 80% de test seleccionat\n",
    "        - :param 2nd: dataframe que conté les dades de test que queden (20% restant)\n",
    "    \"\"\"\n",
    "    \n",
    "    # la vostra solució aquí\n",
    "    \n",
    "    return pd.concat((traindf, train_appended)), test_appended"
   ]
  },
  {
   "cell_type": "code",
   "execution_count": null,
   "metadata": {},
   "outputs": [],
   "source": [
    "train, test = add_testdata(train_set, test_set)"
   ]
  },
  {
   "cell_type": "code",
   "execution_count": null,
   "metadata": {},
   "outputs": [],
   "source": [
    "train.shape"
   ]
  },
  {
   "cell_type": "code",
   "execution_count": null,
   "metadata": {},
   "outputs": [],
   "source": [
    "test.shape"
   ]
  },
  {
   "cell_type": "markdown",
   "metadata": {},
   "source": [
    "#### -SECCIÓ 3:"
   ]
  },
  {
   "cell_type": "markdown",
   "metadata": {},
   "source": [
    "Fes una funció usant **np.abs** que serveixi per evaluar el nostre sistema. **(PISTA:)** La funció ha de mesurar la diferencia en mitjana de la llista de ratings originals amb la llista de ratings predida."
   ]
  },
  {
   "cell_type": "code",
   "execution_count": null,
   "metadata": {},
   "outputs": [],
   "source": [
    "def evaluateRecommendations(train, test, m, n, sim):\n",
    "    \"\"\"\n",
    "    Retorna l'error generat pel model\n",
    "    \n",
    "    :param DataFrame: dataframe que conté totes les dades\n",
    "    :param userID: usuari respecte al qual fem la recomanació\n",
    "    :param m: nombre d'usuaris que volem per fer la recomanació\n",
    "    :param n: nombre de pelis a retornar\n",
    "    :param sim: matriu de similitud\n",
    "    :return : Escalar (float) corresponent al MAE\n",
    "    \"\"\"\n",
    "    \n",
    "    # la vostra solució \n",
    "        \n",
    "    return 0"
   ]
  },
  {
   "cell_type": "code",
   "execution_count": null,
   "metadata": {},
   "outputs": [],
   "source": [
    "t = datetime.datetime.now()\n",
    "mae = evaluateRecommendations(train, test, 50, 10, sim)\n",
    "t = datetime.datetime.now()-t\n",
    "print(str(t))"
   ]
  },
  {
   "cell_type": "code",
   "execution_count": null,
   "metadata": {},
   "outputs": [],
   "source": [
    "mae"
   ]
  },
  {
   "cell_type": "markdown",
   "metadata": {},
   "source": [
    "### 3.8. VUITÉ (I ÚTLIM) EXERCICI\n",
    "\n",
    "\n",
    "**Que surt més a compte, fer un recomanador unic pels dos sexes o un per cada sexe?** Justifica la resposta per escrit i amb el codi necessari."
   ]
  },
  {
   "cell_type": "markdown",
   "metadata": {},
   "source": [
    "> RESPOSTA"
   ]
  },
  {
   "cell_type": "code",
   "execution_count": null,
   "metadata": {},
   "outputs": [],
   "source": [
    "# la vostra solució aquí"
   ]
  }
 ],
 "metadata": {
  "colab": {
   "collapsed_sections": [
    "jA23uCs6wksC",
    "9rsNZQEvueYW",
    "AnjjZz6Sr_de"
   ],
   "provenance": []
  },
  "kernelspec": {
   "display_name": "Python 3.9.12 ('base')",
   "language": "python",
   "name": "python3"
  },
  "language_info": {
   "codemirror_mode": {
    "name": "ipython",
    "version": 3
   },
   "file_extension": ".py",
   "mimetype": "text/x-python",
   "name": "python",
   "nbconvert_exporter": "python",
   "pygments_lexer": "ipython3",
   "version": "3.9.12"
  },
  "vscode": {
   "interpreter": {
    "hash": "90fed515b7734aabf0d0d60c56e1b4ca7689adec66ddda4b20199f9e4ac409df"
   }
  }
 },
 "nbformat": 4,
 "nbformat_minor": 4
}
