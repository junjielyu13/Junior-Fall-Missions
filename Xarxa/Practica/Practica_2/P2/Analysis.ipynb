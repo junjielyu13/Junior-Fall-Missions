{
 "cells": [
  {
   "cell_type": "markdown",
   "metadata": {},
   "source": [
    "dsa\n"
   ]
  },
  {
   "cell_type": "code",
   "execution_count": 1,
   "metadata": {},
   "outputs": [],
   "source": [
    "from scipy.optimize import curve_fit "
   ]
  }
 ],
 "metadata": {
  "kernelspec": {
   "display_name": "Python 3.9.12 ('base')",
   "language": "python",
   "name": "python3"
  },
  "language_info": {
   "codemirror_mode": {
    "name": "ipython",
    "version": 3
   },
   "file_extension": ".py",
   "mimetype": "text/x-python",
   "name": "python",
   "nbconvert_exporter": "python",
   "pygments_lexer": "ipython3",
   "version": "3.9.12"
  },
  "orig_nbformat": 4,
  "vscode": {
   "interpreter": {
    "hash": "90fed515b7734aabf0d0d60c56e1b4ca7689adec66ddda4b20199f9e4ac409df"
   }
  }
 },
 "nbformat": 4,
 "nbformat_minor": 2
}
