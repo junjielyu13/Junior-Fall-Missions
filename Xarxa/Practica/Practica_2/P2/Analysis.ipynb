{
 "cells": [
  {
   "cell_type": "markdown",
   "metadata": {},
   "source": [
    "# **NOMS I COGNOMS:** Junjie Li, Manuel Liu Wang\n",
    "\n",
    "## **GRUP DE LABORATORI:** A\n"
   ]
  },
  {
   "cell_type": "markdown",
   "metadata": {},
   "source": [
    "### Aquest script Python s'utilitza principalment per a la primera pregunta a la pràctica2: \n",
    "> ## taules de càlcul i visualització de la gràfica"
   ]
  },
  {
   "cell_type": "code",
   "execution_count": 28,
   "metadata": {},
   "outputs": [
    {
     "name": "stdout",
     "output_type": "stream",
     "text": [
      "mWatt 0.0 dBm : 0.0\n",
      "mWatt 9.880961210318493e-11 dBm : -70.05200805611548\n",
      "mWatt 2.4702403025796232e-11 dBm : -76.07260796939511\n",
      "mWatt 1.0978845789242766e-11 dBm : -79.59443315050873\n",
      "mWatt 6.175600756449058e-12 dBm : -82.09320788267473\n",
      "mWatt 3.9523844841273976e-12 dBm : -84.03140814283586\n",
      "mWatt 2.7447114473106916e-12 dBm : -85.61503306378836\n",
      "mWatt 2.0165226959833656e-12 dBm : -86.95396885640062\n"
     ]
    }
   ],
   "source": [
    "import math\n",
    "\n",
    "ESP8266 = [-33, -55, -63, -66, -79, -72, -70, -73]\n",
    "P_t_x = 1 / 1000\n",
    "G_t_x = 1\n",
    "G_r_x = 1\n",
    "_eta = 1\n",
    "_C = 299792458\n",
    "f = 2.4 \n",
    "GHzToHz = 1e9\n",
    "pi =  math.pi\n",
    "_lambda = _C / (f * GHzToHz) \n",
    "\n",
    "def mWattTodBm(mWatt):\n",
    "    return 10 * math.log(mWatt,10) + 30 if mWatt else 0.0\n",
    "\n",
    "res = dict()\n",
    "idea = []\n",
    "\n",
    "for dist in range(8):\n",
    "    Watt = P_t_x * G_t_x * G_r_x * math.pow(( _lambda / (4 * pi * dist) ), 2) *_eta if dist else 0.0\n",
    "    mWatt = Watt / 1000\n",
    "    dBm = mWattTodBm(mWatt)\n",
    "    print(f\"mWatt {mWatt} dBm : {dBm}\")\n",
    "\n",
    "    res[dist] = (ESP8266[dist], dBm)\n",
    "    idea.append(dBm)\n"
   ]
  },
  {
   "cell_type": "code",
   "execution_count": 29,
   "metadata": {},
   "outputs": [
    {
     "data": {
      "image/png": "[encoded data removed]",
      "text/plain": [
       "<Figure size 864x576 with 1 Axes>"
      ]
     },
     "metadata": {
      "needs_background": "light"
     },
     "output_type": "display_data"
    }
   ],
   "source": [
    "import pandas as pd\n",
    "import numpy as np\n",
    "import matplotlib.pyplot as plt\n",
    "from scipy.optimize import curve_fit\n",
    "\n",
    "plt.figure(figsize=(12,8))\n",
    "\n",
    "real_x = idea_x = np.arange(0, 8, 1)\n",
    "real_y = ESP8266\n",
    "plt.scatter(real_x, real_y, marker='x',label='real')\n",
    "\n",
    "idea_y = idea\n",
    "plt.scatter(idea_x, idea_y, marker='o',label='ideal')\n",
    "plt.legend(fontsize=15)\n",
    "plt.title(\"variació RSSI - distància (real vs ideal)\")\n",
    "plt.show()\n",
    "\n"
   ]
  }
 ],
 "metadata": {
  "kernelspec": {
   "display_name": "Python 3.9.12 ('base')",
   "language": "python",
   "name": "python3"
  },
  "language_info": {
   "codemirror_mode": {
    "name": "ipython",
    "version": 3
   },
   "file_extension": ".py",
   "mimetype": "text/x-python",
   "name": "python",
   "nbconvert_exporter": "python",
   "pygments_lexer": "ipython3",
   "version": "3.9.12"
  },
  "orig_nbformat": 4,
  "vscode": {
   "interpreter": {
    "hash": "90fed515b7734aabf0d0d60c56e1b4ca7689adec66ddda4b20199f9e4ac409df"
   }
  }
 },
 "nbformat": 4,
 "nbformat_minor": 2
}
