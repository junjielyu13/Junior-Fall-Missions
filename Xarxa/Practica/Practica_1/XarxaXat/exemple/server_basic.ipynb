{
 "cells": [
  {
   "cell_type": "code",
   "execution_count": 1,
   "id": "ef7c6f7b",
   "metadata": {},
   "outputs": [
    {
     "ename": "OSError",
     "evalue": "[WinError 10048] Solo se permite un uso de cada dirección de socket (protocolo/dirección de red/puerto)",
     "output_type": "error",
     "traceback": [
      "\u001b[1;31m---------------------------------------------------------------------------\u001b[0m",
      "\u001b[1;31mOSError\u001b[0m                                   Traceback (most recent call last)",
      "Cell \u001b[1;32mIn [1], line 39\u001b[0m\n\u001b[0;32m      8\u001b[0m \u001b[39m'''\u001b[39;00m\n\u001b[0;32m      9\u001b[0m \u001b[39mBIND\u001b[39;00m\n\u001b[0;32m     10\u001b[0m \u001b[39m1. The bind() method of Python's socket class assigns an IP address and a port number to a socket instance.\u001b[39;00m\n\u001b[1;32m   (...)\u001b[0m\n\u001b[0;32m     35\u001b[0m \u001b[39mhttps://pythontic.com/modules/socket/accept\u001b[39;00m\n\u001b[0;32m     36\u001b[0m \u001b[39m'''\u001b[39;00m\n\u001b[0;32m     38\u001b[0m \u001b[39mwith\u001b[39;00m socket\u001b[39m.\u001b[39msocket(socket\u001b[39m.\u001b[39mAF_INET, socket\u001b[39m.\u001b[39mSOCK_STREAM) \u001b[39mas\u001b[39;00m s:\n\u001b[1;32m---> 39\u001b[0m     s\u001b[39m.\u001b[39;49mbind((HOST, PORT))\n\u001b[0;32m     40\u001b[0m     s\u001b[39m.\u001b[39mlisten()\n\u001b[0;32m     41\u001b[0m     conn, addr \u001b[39m=\u001b[39m s\u001b[39m.\u001b[39maccept()\n",
      "\u001b[1;31mOSError\u001b[0m: [WinError 10048] Solo se permite un uso de cada dirección de socket (protocolo/dirección de red/puerto)"
     ]
    }
   ],
   "source": [
    "#!/usr/bin/env python3\n",
    "\n",
    "import socket\n",
    "\n",
    "HOST = '127.0.0.1'  # Standard loopback interface address (localhost)\n",
    "PORT = 65432        # Port to listen on (non-privileged ports are > 1023)\n",
    "\n",
    "'''\n",
    "BIND\n",
    "1. The bind() method of Python's socket class assigns an IP address and a port number to a socket instance.\n",
    "2. The bind() method is used when a socket needs to be made a server socket.\n",
    "3. As server programs listen on published ports, it is required that a port and the IP address to be assigned \n",
    "    explicitly to a server socket.\n",
    "4. For client programs, it is not required to bind the socket explicitly to a port. \n",
    "    The kernel of the operating system takes care of assigning the source IP and a temporary port number.\n",
    "5. The client socket can use the connect() method, after the socket creation is complete to contact the server socket.\n",
    "\n",
    "LISTEN\n",
    "1. Calling listen() makes a socket ready for accepting connections.\n",
    "2. The listen() method should be called before calling the accept() method on the server socket.\n",
    "3. The listen() function accepts a queue size through the parameter backlog. This denotes maximum number \n",
    "    of connections that can be queued for this socket by the operating system. Once 'backlog' number of \n",
    "    connections is in the socket's queue, the kernel will reject incoming connections to the socket.\n",
    "    \n",
    "ACCEPT\n",
    "1. The accept() method of Python's socket class, accepts an incoming connection request from a TCP client.\n",
    "2. The accept() method is called on a TCP based server socket.\n",
    "3. When connect() is called at the client side with the IP address and port number of the server, \n",
    "    the connect request is received with the  accept() call at the server side.\n",
    "4. Upon accepting a connection request from a TCP based client, the accept() method called on the \n",
    "    server socket returns a socket that is connected to the client.\n",
    "5. Data can be sent and received using the socket returned by the accept() method.\n",
    "Multithreaded servers spawn a new thread for each of the newly created socket by the accept() method\n",
    "\n",
    "https://pythontic.com/modules/socket/accept\n",
    "'''\n",
    "\n",
    "with socket.socket(socket.AF_INET, socket.SOCK_STREAM) as s:\n",
    "    s.bind((HOST, PORT))\n",
    "    s.listen()\n",
    "    conn, addr = s.accept()\n",
    "    with conn:\n",
    "        print('Connected by', addr)\n",
    "        while True:\n",
    "            data = conn.recv(1024)\n",
    "            if not data:\n",
    "                break\n",
    "            conn.sendall(data)\n",
    "            print(data)"
   ]
  },
  {
   "cell_type": "code",
   "execution_count": null,
   "id": "1f35c1ff",
   "metadata": {},
   "outputs": [],
   "source": []
  }
 ],
 "metadata": {
  "kernelspec": {
   "display_name": "Python 3.10.7 64-bit",
   "language": "python",
   "name": "python3"
  },
  "language_info": {
   "codemirror_mode": {
    "name": "ipython",
    "version": 3
   },
   "file_extension": ".py",
   "mimetype": "text/x-python",
   "name": "python",
   "nbconvert_exporter": "python",
   "pygments_lexer": "ipython3",
   "version": "3.10.7"
  },
  "vscode": {
   "interpreter": {
    "hash": "c565597e682a3ecd56ca2f3628507b813298df9842f4b1af2ebb7ab3d7b1034d"
   }
  }
 },
 "nbformat": 4,
 "nbformat_minor": 5
}
