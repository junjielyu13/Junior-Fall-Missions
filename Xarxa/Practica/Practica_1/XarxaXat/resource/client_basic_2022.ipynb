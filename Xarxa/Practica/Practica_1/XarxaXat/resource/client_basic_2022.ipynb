{
 "cells": [
  {
   "cell_type": "code",
   "execution_count": 1,
   "id": "dc3fc8eb",
   "metadata": {},
   "outputs": [
    {
     "name": "stdout",
     "output_type": "stream",
     "text": [
      "Received > tes\n",
      "Received > test\n",
      "Received > bye\n",
      "Final Reception 'bye'\n"
     ]
    }
   ],
   "source": [
    "import socket\n",
    "\n",
    "HOST = '127.0.0.1'  # The server's hostname or IP address\n",
    "PORT = 65432        # The port used by the server\n",
    "\n",
    "'''\n",
    "CONNECT\n",
    "1. The connect() method of Python’s socket module, connects a TCP\n",
    "    (Transmission Control Protocol) based client socket to a TCP based server socket.\n",
    "2. The connect() function initiates a 3-way handshake with the server socket and establishes \n",
    "    the connection.\n",
    "3. The IP address of a server socket is passed as the parameter to the connect() method.\n",
    "4. Before passing an IP address to the connect() method it is important to make sure, \n",
    "    it is of the right type - an IPv4 address or IPv6 address.\n",
    "5. The type of IP address to be used with a socket is specified during the creation of \n",
    "    a socket while calling the socket() function through the parameter family. For an IPv4 address socket.AF_INET to be used and for IPv6 address socket.AF_INET6.\n",
    "6. The connect() function makes the accept() to be called on the server socket it is \n",
    "    connecting to.\n",
    "7. Once a connection is established to the remote socket the send(), sendall() methods \n",
    "    can be used for sending data to the server. In the similar way the recv() function \n",
    "    can be used for receiving data from the server socket.\n",
    "8. The recv()  function wait for a message to arrive in the socket unless the socket is \n",
    "    non-blocking mode and read up to the specified buffer size.\n",
    "'''\n",
    "\n",
    "with socket.socket(socket.AF_INET, socket.SOCK_STREAM) as s:\n",
    "    s.connect((HOST, PORT))\n",
    "    test = True\n",
    "    while test == True:\n",
    "        data = input(\"Data to send > \")\n",
    "        if data == \"bye\":\n",
    "            test = False\n",
    "        databyte = str.encode(data)\n",
    "        s.sendall(databyte)\n",
    " \n",
    "        print(\"Received >\", data)\n",
    "\n",
    "print('Final Reception', repr(data))\n"
   ]
  },
  {
   "cell_type": "code",
   "execution_count": null,
   "id": "32cfe27b",
   "metadata": {},
   "outputs": [],
   "source": []
  },
  {
   "cell_type": "code",
   "execution_count": null,
   "id": "9f331bd0",
   "metadata": {},
   "outputs": [],
   "source": []
  }
 ],
 "metadata": {
  "kernelspec": {
   "display_name": "Python 3.10.7 64-bit",
   "language": "python",
   "name": "python3"
  },
  "language_info": {
   "codemirror_mode": {
    "name": "ipython",
    "version": 3
   },
   "file_extension": ".py",
   "mimetype": "text/x-python",
   "name": "python",
   "nbconvert_exporter": "python",
   "pygments_lexer": "ipython3",
   "version": "3.10.7"
  },
  "vscode": {
   "interpreter": {
    "hash": "c565597e682a3ecd56ca2f3628507b813298df9842f4b1af2ebb7ab3d7b1034d"
   }
  }
 },
 "nbformat": 4,
 "nbformat_minor": 5
}
